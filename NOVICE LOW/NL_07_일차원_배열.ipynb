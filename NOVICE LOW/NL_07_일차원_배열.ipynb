{
  "nbformat": 4,
  "nbformat_minor": 0,
  "metadata": {
    "colab": {
      "provenance": []
    },
    "kernelspec": {
      "name": "python3",
      "display_name": "Python 3"
    },
    "language_info": {
      "name": "python"
    }
  },
  "cells": [
    {
      "cell_type": "markdown",
      "source": [
        "# 한 줄에 여러 개 입력"
      ],
      "metadata": {
        "id": "1sh-AB6PNvni"
      }
    },
    {
      "cell_type": "markdown",
      "source": [
        "원소 10개의 합\n",
        "- https://inha.codetree.ai/missions/4/problems/sum-of-10-elements/description"
      ],
      "metadata": {
        "id": "8IEUMFpjNyM7"
      }
    },
    {
      "cell_type": "code",
      "execution_count": null,
      "metadata": {
        "id": "eTfZBOZ7NXui"
      },
      "outputs": [],
      "source": [
        "num_list = list(input().split())\n",
        "sum = 0\n",
        "for i in range(len(num_list)):\n",
        "    sum += int(num_list[i])\n",
        "print(sum)"
      ]
    },
    {
      "cell_type": "markdown",
      "source": [
        "배열 채우고 출력하기\n",
        "- https://inha.codetree.ai/missions/4/problems/filling-array-and-print/description"
      ],
      "metadata": {
        "id": "k0QXJF4_OaJL"
      }
    },
    {
      "cell_type": "code",
      "source": [
        "str_list = list(input().split())\n",
        "for i in range(len(str_list) - 1, -1, -1):\n",
        "    print(str_list[i], end = '')"
      ],
      "metadata": {
        "id": "WFdlnahuOc2N"
      },
      "execution_count": null,
      "outputs": []
    },
    {
      "cell_type": "markdown",
      "source": [
        "특정 숫자 도달하기\n",
        "- https://inha.codetree.ai/missions/4/problems/reaching-specific-number/description"
      ],
      "metadata": {
        "id": "dyvKqptJO8tr"
      }
    },
    {
      "cell_type": "code",
      "source": [
        "num_list = list(input().split())\n",
        "sum = 0\n",
        "cnt = 0\n",
        "for i in range(len(num_list)):\n",
        "    if(int(num_list[i]) >= 250):\n",
        "        break\n",
        "    sum += int(num_list[i])\n",
        "    cnt += 1\n",
        "\n",
        "print(f'{sum} {sum / cnt:.1f}')"
      ],
      "metadata": {
        "id": "jyI8qMHPO9v7"
      },
      "execution_count": null,
      "outputs": []
    },
    {
      "cell_type": "markdown",
      "source": [
        "학점 계산기\n",
        "- https://inha.codetree.ai/missions/4/problems/credit-calculator/description"
      ],
      "metadata": {
        "id": "11nlcMhtRlCt"
      }
    },
    {
      "cell_type": "code",
      "source": [
        "n = int(input())\n",
        "num_list = list(input().split())\n",
        "sum = 0\n",
        "for i in range(n):\n",
        "    sum += float(num_list[i])\n",
        "avg = sum / n\n",
        "print(f'{avg:.1f}')\n",
        "if(avg >= 4.0):\n",
        "    print('Perfect')\n",
        "elif(avg >= 3.0):\n",
        "    print('Good')\n",
        "else:\n",
        "    print('Poor')"
      ],
      "metadata": {
        "id": "vV9G0srURnhu"
      },
      "execution_count": null,
      "outputs": []
    },
    {
      "cell_type": "markdown",
      "source": [
        "평균점수 구하기\n",
        "- https://inha.codetree.ai/missions/4/problems/print-average/description"
      ],
      "metadata": {
        "id": "KhbE7DCESQGi"
      }
    },
    {
      "cell_type": "code",
      "source": [
        "num_list = list(input().split())\n",
        "# list(map(float, input().split()))도 가능\n",
        "sum = 0\n",
        "for i in range(len(num_list)):\n",
        "    sum += float(num_list[i])\n",
        "print(f'{sum / len(num_list):.1f}')"
      ],
      "metadata": {
        "id": "HuFHsWk8SREu"
      },
      "execution_count": null,
      "outputs": []
    },
    {
      "cell_type": "markdown",
      "source": [
        "배열 채우기\n",
        "- https://inha.codetree.ai/missions/4/problems/filling-array/description"
      ],
      "metadata": {
        "id": "Y14EN4MtSkUm"
      }
    },
    {
      "cell_type": "code",
      "source": [
        "num_list = list(map(int, input().split()))\n",
        "cnt = -1\n",
        "for i in range(len(num_list)):\n",
        "    if(num_list[i] == 0):\n",
        "        cnt = i\n",
        "        break\n",
        "if(cnt != -1):\n",
        "    for j in range(cnt - 1, -1, -1):\n",
        "        print(num_list[j], end = ' ')\n",
        "else:\n",
        "    for k in range(len(num_list) - 1, -1, -1):\n",
        "        print(num_list[k], end = ' ')"
      ],
      "metadata": {
        "id": "7nFEa0PsS60d"
      },
      "execution_count": null,
      "outputs": []
    },
    {
      "cell_type": "markdown",
      "source": [
        "10개 입력받기\n",
        "- https://inha.codetree.ai/missions/4/problems/receive-10-inputs/description"
      ],
      "metadata": {
        "id": "5kCuZ-7UUJcM"
      }
    },
    {
      "cell_type": "code",
      "source": [
        "num_list = list(map(int, input().split()))\n",
        "cnt = -1\n",
        "for i in range(len(num_list)):\n",
        "    if(num_list[i] == 0):\n",
        "        cnt = i\n",
        "        break\n",
        "sum = 0\n",
        "if(cnt != -1):\n",
        "    for j in range(cnt - 1, -1, -1):\n",
        "        sum += num_list[j]\n",
        "    print(f'{sum} {sum / cnt:.1f}')\n",
        "else:\n",
        "    for k in range(len(num_list) - 1, -1, -1):\n",
        "        sum += num_list[k]\n",
        "    print(f'{sum} {sum / 10:.1f}')"
      ],
      "metadata": {
        "id": "t5FBKvFDUKZh"
      },
      "execution_count": null,
      "outputs": []
    },
    {
      "cell_type": "markdown",
      "source": [
        "배열의 특정 위치 찾기 4\n",
        "- https://inha.codetree.ai/missions/4/problems/find-specific-location-of-array-4/description"
      ],
      "metadata": {
        "id": "QRug85Z_U0uX"
      }
    },
    {
      "cell_type": "code",
      "source": [
        "num_list = list(map(int, input().split()))\n",
        "sum, cnt = 0, 0\n",
        "for i in range(len(num_list)):\n",
        "    if(num_list[i] == 0):\n",
        "        break\n",
        "    else:\n",
        "        if(num_list[i] % 2 == 0):\n",
        "            sum += num_list[i]\n",
        "            cnt += 1\n",
        "print(cnt, sum)"
      ],
      "metadata": {
        "id": "ALUq-h6lU1yv"
      },
      "execution_count": null,
      "outputs": []
    },
    {
      "cell_type": "markdown",
      "source": [
        "시험 통과 여부 확인하기 2\n",
        "- https://inha.codetree.ai/missions/4/problems/verify-test-passed-2/description"
      ],
      "metadata": {
        "id": "BTsYFDudVacG"
      }
    },
    {
      "cell_type": "code",
      "source": [
        "n = int(input())\n",
        "cnt = 0\n",
        "for i in range(n):\n",
        "    num_list = list(map(int, input().split()))\n",
        "    if(sum(num_list) // 4 >= 60):\n",
        "        cnt += 1\n",
        "        print('pass')\n",
        "    else:\n",
        "        print('fail')\n",
        "print(cnt)"
      ],
      "metadata": {
        "id": "-Ds8juxWVd1h"
      },
      "execution_count": null,
      "outputs": []
    },
    {
      "cell_type": "markdown",
      "source": [
        "짝수들을 거꾸로 출력\n",
        "- https://inha.codetree.ai/missions/4/problems/print-even-numbers-upside-down/description"
      ],
      "metadata": {
        "id": "0A6F1DvXV9CZ"
      }
    },
    {
      "cell_type": "code",
      "source": [
        "n = int(input())\n",
        "num_list = list(map(int, input().split()))\n",
        "for i in range(n-1, -1, -1):\n",
        "    if(num_list[i] % 2 == 0):\n",
        "        print(num_list[i], end = ' ')"
      ],
      "metadata": {
        "id": "kOOdTxpIV_tf"
      },
      "execution_count": null,
      "outputs": []
    },
    {
      "cell_type": "markdown",
      "source": [
        "# 인덱스 참조"
      ],
      "metadata": {
        "id": "tts62priFbif"
      }
    },
    {
      "cell_type": "markdown",
      "source": [
        "특정 위치의 숫자\n",
        "- https://inha.codetree.ai/missions/4/problems/numbers-in-specific-location/description"
      ],
      "metadata": {
        "id": "WtB5MTEFFddB"
      }
    },
    {
      "cell_type": "code",
      "source": [
        "num_list = list(map(int, input().split()))\n",
        "print(num_list[2] + num_list[4] + num_list[9])"
      ],
      "metadata": {
        "id": "sa6uT_2AFfX4"
      },
      "execution_count": null,
      "outputs": []
    },
    {
      "cell_type": "markdown",
      "source": [
        "배열의 특정 위치 찾기\n",
        "- https://inha.codetree.ai/missions/4/problems/find-specific-location-fo-array/description"
      ],
      "metadata": {
        "id": "WPdyX1NXGIre"
      }
    },
    {
      "cell_type": "code",
      "source": [
        "num_list = list(map(int, input().split()))\n",
        "sum1 = 0\n",
        "sum2, cnt = 0, 0\n",
        "for i in range(len(num_list)):\n",
        "    if(i % 2 == 1):\n",
        "        sum1 += num_list[i]\n",
        "    if(i % 3 == 2):\n",
        "        sum2 += num_list[i]\n",
        "        cnt += 1\n",
        "print(f'{sum1} {sum2 / cnt:.1f}')"
      ],
      "metadata": {
        "id": "IRLzrEYcGMIJ"
      },
      "execution_count": null,
      "outputs": []
    },
    {
      "cell_type": "markdown",
      "source": [
        "배열의 특정 위치 찾기 3\n",
        "- https://inha.codetree.ai/missions/4/problems/find-specific-location-fo-array-3/description"
      ],
      "metadata": {
        "id": "TZ7NWMUfG4XG"
      }
    },
    {
      "cell_type": "code",
      "source": [
        "num_list = list(map(int, input().split()))\n",
        "cnt = 0\n",
        "for i in range(len(num_list)):\n",
        "    if(num_list[i] == 0):\n",
        "        cnt = i\n",
        "        break\n",
        "sum = 0\n",
        "for j in range(cnt-1, cnt-4, -1):\n",
        "    sum += num_list[j]\n",
        "print(sum)"
      ],
      "metadata": {
        "id": "X2kF0ehnHGT4"
      },
      "execution_count": null,
      "outputs": []
    },
    {
      "cell_type": "markdown",
      "source": [
        "특정 위치의 문자 2\n",
        "- https://inha.codetree.ai/missions/4/problems/char-in-specific-location-2/description"
      ],
      "metadata": {
        "id": "RLOQWTL8Ho6u"
      }
    },
    {
      "cell_type": "code",
      "source": [
        "str_list = list(input().split())\n",
        "print(str_list[1], str_list[4], str_list[7])"
      ],
      "metadata": {
        "id": "_6NrlN1zHsMx"
      },
      "execution_count": null,
      "outputs": []
    },
    {
      "cell_type": "markdown",
      "source": [
        "배열의 특정 위치 찾기 2\n",
        "- https://inha.codetree.ai/missions/4/problems/find-specific-location-fo-array-2/description"
      ],
      "metadata": {
        "id": "KK5jCgbfH4Cu"
      }
    },
    {
      "cell_type": "code",
      "source": [
        "num_list = list(map(int, input().split()))\n",
        "sum1, sum2 = 0, 0\n",
        "for i in range(len(num_list)):\n",
        "    if(i % 2 == 0):\n",
        "        sum1 += num_list[i]\n",
        "    else:\n",
        "        sum2 += num_list[i]\n",
        "if(sum1 >= sum2):\n",
        "    print(sum1 - sum2)\n",
        "else:\n",
        "    print(sum2 - sum1)"
      ],
      "metadata": {
        "id": "Yj3VmtjOH6YH"
      },
      "execution_count": null,
      "outputs": []
    },
    {
      "cell_type": "markdown",
      "source": [
        "출력결과 4\n",
        "- https://inha.codetree.ai/missions/4/problems/reading-k201523/description"
      ],
      "metadata": {
        "id": "T75yVl5qIeKW"
      }
    },
    {
      "cell_type": "code",
      "source": [
        "_list = [1, 1, 1, 1, 1, 1, 1, 1, 1, 1]\n",
        "_list[0] = _list[4] = _list[5] = 0\n",
        "cnt = 0\n",
        "\n",
        "for i in range(1, 10):\n",
        "    if _list[i] == _list[i - 1]:\n",
        "        cnt += 1\n",
        "    else:\n",
        "        cnt -= 1\n",
        "\n",
        "print(cnt)\n",
        "# 출력\n",
        "# 3"
      ],
      "metadata": {
        "id": "3j2QaFaGIfqI"
      },
      "execution_count": null,
      "outputs": []
    },
    {
      "cell_type": "markdown",
      "source": [
        "출력결과 5\n",
        "- https://inha.codetree.ai/missions/4/problems/reading-k201524/description"
      ],
      "metadata": {
        "id": "zRKvFR3rIl_A"
      }
    },
    {
      "cell_type": "code",
      "source": [
        "arr = [0, 9, 8, 4, 0, 0, 1, 2, 0, 1]\n",
        "\n",
        "for i in range(9):\n",
        "    arr[i + 1] += arr[i]\n",
        "\n",
        "print(arr[7] - arr[2])\n",
        "# 출력\n",
        "# 7"
      ],
      "metadata": {
        "id": "PNZAwjhLInMQ"
      },
      "execution_count": null,
      "outputs": []
    },
    {
      "cell_type": "markdown",
      "source": [
        "출력결과 7\n",
        "- https://inha.codetree.ai/missions/4/problems/reading-k201527/description"
      ],
      "metadata": {
        "id": "O1tkSrGSIsYh"
      }
    },
    {
      "cell_type": "code",
      "source": [
        "_list = [-12, 25, -36, 23, -1]\n",
        "result = 0\n",
        "\n",
        "for i in range(4):\n",
        "    if i % 2 == 0:\n",
        "        result += _list[i]\n",
        "    else:\n",
        "        result = _list[i] - result\n",
        "\n",
        "print(result * _list[4])\n",
        "# 출력\n",
        "# -22"
      ],
      "metadata": {
        "id": "-zW3lL8JItqw"
      },
      "execution_count": null,
      "outputs": []
    },
    {
      "cell_type": "markdown",
      "source": [
        "출력결과 12\n",
        "- https://inha.codetree.ai/missions/4/problems/reading-k201532/description"
      ],
      "metadata": {
        "id": "zoa7K2PmIy2N"
      }
    },
    {
      "cell_type": "code",
      "source": [
        "_list = [5, -2, 0, 3, 5]\n",
        "\n",
        "for i in range(1, 4):\n",
        "    print((_list[i] * 2 + _list[i - 1] + _list[i + 1]) // 4, end = ' ')\n",
        "# 출력\n",
        "# 0 0 2"
      ],
      "metadata": {
        "id": "hwq7MvhyI0G3"
      },
      "execution_count": null,
      "outputs": []
    },
    {
      "cell_type": "markdown",
      "source": [
        "출력결과 21\n",
        "- https://inha.codetree.ai/missions/4/problems/reading-k201545/description"
      ],
      "metadata": {
        "id": "w0Rm4_QdI60u"
      }
    },
    {
      "cell_type": "code",
      "source": [
        "A = [0, 3, 0, 2, 3, 0]\n",
        "B = [1, 2, 1]\n",
        "\n",
        "for i in range(1, 5):\n",
        "    tmp = 0\n",
        "    for j in range(3):\n",
        "        tmp += A[i + j - 1] * B[j]\n",
        "    print(tmp, end='')\n",
        "# 출력\n",
        "# 6578"
      ],
      "metadata": {
        "id": "jTsphyE-I9j3"
      },
      "execution_count": null,
      "outputs": []
    },
    {
      "cell_type": "markdown",
      "source": [
        "배열에서 원소의 특징\n",
        "- https://inha.codetree.ai/missions/4/problems/characteristics-of-elements-in-an-array/description"
      ],
      "metadata": {
        "id": "KWML9ug0JS4I"
      }
    },
    {
      "cell_type": "code",
      "source": [
        "num_list = list(map(int, input().split()))\n",
        "cnt = 0\n",
        "for i in range(len(num_list)):\n",
        "    if(num_list[i] % 3 == 0):\n",
        "        cnt = i\n",
        "        break\n",
        "print(num_list[cnt - 1])"
      ],
      "metadata": {
        "id": "gyeY0F6hJT6P"
      },
      "execution_count": null,
      "outputs": []
    },
    {
      "cell_type": "markdown",
      "source": [
        "# 배열 만들기"
      ],
      "metadata": {
        "id": "howsjJhRJv9_"
      }
    },
    {
      "cell_type": "markdown",
      "source": [
        "제곱하여 출력하기\n",
        "- https://inha.codetree.ai/missions/4/problems/print-square-of-elements/description"
      ],
      "metadata": {
        "id": "e5uM6ARCJzq_"
      }
    },
    {
      "cell_type": "code",
      "source": [
        "n = int(input())\n",
        "num_list = list(map(int, input().split()))\n",
        "for i in range(n):\n",
        "    print(pow(num_list[i], 2), end = ' ')"
      ],
      "metadata": {
        "id": "UquwRGwgJ1i_"
      },
      "execution_count": null,
      "outputs": []
    },
    {
      "cell_type": "markdown",
      "source": [
        "일의 자리 배열\n",
        "- https://inha.codetree.ai/missions/4/problems/array-with-units/description"
      ],
      "metadata": {
        "id": "RDNPXfVSKuqr"
      }
    },
    {
      "cell_type": "code",
      "source": [
        "num1, num2 = map(int, input().split())\n",
        "print(num1, num2, end = ' ')\n",
        "for i in range(8):\n",
        "    num = (num1 + num2) % 10\n",
        "    print(num, end = ' ')\n",
        "    num1 = num2\n",
        "    num2 = num"
      ],
      "metadata": {
        "id": "s4hBvpxzKzzH"
      },
      "execution_count": null,
      "outputs": []
    },
    {
      "cell_type": "markdown",
      "source": [
        "짝수인 것만 출력하기\n",
        "- https://inha.codetree.ai/missions/4/problems/print-even-number/description"
      ],
      "metadata": {
        "id": "ess8gV1_OMLt"
      }
    },
    {
      "cell_type": "code",
      "source": [
        "n = int(input())\n",
        "num_list = list(map(int, input().split()))\n",
        "for i in range(n):\n",
        "    if(num_list[i] % 2 == 0):\n",
        "        print(num_list[i], end = ' ')"
      ],
      "metadata": {
        "id": "_HEkv-7rONv9"
      },
      "execution_count": null,
      "outputs": []
    },
    {
      "cell_type": "markdown",
      "source": [
        "숫자들의 배수\n",
        "- https://inha.codetree.ai/missions/4/problems/multiple-of-numbers/description"
      ],
      "metadata": {
        "id": "ykwaFvbDOnw6"
      }
    },
    {
      "cell_type": "code",
      "source": [
        "n = int(input())\n",
        "cnt = 0\n",
        "cnt2 = 1\n",
        "while(cnt != 2):\n",
        "    print(n * cnt2, end = ' ')\n",
        "    if((n * cnt2) % 5 == 0):\n",
        "        cnt += 1\n",
        "    cnt2 += 1"
      ],
      "metadata": {
        "id": "hUFs9eH9OpB3"
      },
      "execution_count": null,
      "outputs": []
    },
    {
      "cell_type": "markdown",
      "source": [
        "특정 조건에 맞게 출력하기\n",
        "- https://inha.codetree.ai/missions/4/problems/print-in-specific-conditions/description"
      ],
      "metadata": {
        "id": "4EHhLo2xPCiO"
      }
    },
    {
      "cell_type": "code",
      "source": [
        "num_list = list(map(int, input().split()))\n",
        "cnt = 0\n",
        "for i in range(len(num_list)):\n",
        "    if(num_list[i] == 0):\n",
        "        cnt = i\n",
        "        break\n",
        "for j in range(cnt):\n",
        "    if(num_list[j] % 2 == 0):\n",
        "        print(num_list[j] // 2, end = ' ')\n",
        "    else:\n",
        "        print(num_list[j] + 3, end = ' ')"
      ],
      "metadata": {
        "id": "zHdd0QIaPFTy"
      },
      "execution_count": null,
      "outputs": []
    },
    {
      "cell_type": "markdown",
      "source": [
        "100 도달하기\n",
        "- https://inha.codetree.ai/missions/4/problems/reach-100/description"
      ],
      "metadata": {
        "id": "VTyBr0gdQJMn"
      }
    },
    {
      "cell_type": "code",
      "source": [
        "n = int(input())\n",
        "num1, num2 = 1, n\n",
        "print(num1, num2, end = ' ')\n",
        "\n",
        "while(True):\n",
        "    num = num1 + num2\n",
        "    print(num, end = ' ')\n",
        "    num1 = num2\n",
        "    num2 = num\n",
        "    if(num >= 100):\n",
        "        break"
      ],
      "metadata": {
        "id": "wKuzUdh7QNRo"
      },
      "execution_count": null,
      "outputs": []
    },
    {
      "cell_type": "markdown",
      "source": [
        "전항의 두 배\n",
        "- https://inha.codetree.ai/missions/4/problems/twice-the-previous/description"
      ],
      "metadata": {
        "id": "-cMSynL4RlAO"
      }
    },
    {
      "cell_type": "code",
      "source": [
        "a1, a2 = map(int, input().split())\n",
        "print(a1, a2, end = ' ')\n",
        "for i in range(8):\n",
        "    num = a2 + 2 * a1\n",
        "    print(num, end = ' ')\n",
        "    a1 = a2\n",
        "    a2 = num"
      ],
      "metadata": {
        "id": "4Q3QGBXZRmkE"
      },
      "execution_count": null,
      "outputs": []
    },
    {
      "cell_type": "markdown",
      "source": [
        "# Count 배열"
      ],
      "metadata": {
        "id": "0trQ-s4dgB4F"
      }
    },
    {
      "cell_type": "markdown",
      "source": [
        "1-9 개수 세기\n",
        "- https://inha.codetree.ai/missions/4/problems/count-one-to-nine/description"
      ],
      "metadata": {
        "id": "FUHPS6JwgEHr"
      }
    },
    {
      "cell_type": "code",
      "source": [
        "n = int(input())\n",
        "cnt_list = [0] * 11\n",
        "num_list = list(map(int, input().split()))\n",
        "for i in range(n):\n",
        "    cnt_list[num_list[i]] += 1\n",
        "\n",
        "for k in range(1, len(cnt_list) - 1):\n",
        "    print(cnt_list[k])"
      ],
      "metadata": {
        "id": "AO0qeaXwgGTj"
      },
      "execution_count": null,
      "outputs": []
    },
    {
      "cell_type": "markdown",
      "source": [
        "주사위 놀이\n",
        "- https://inha.codetree.ai/missions/4/problems/play-with-dice/description"
      ],
      "metadata": {
        "id": "MLnSKAcHhMjY"
      }
    },
    {
      "cell_type": "code",
      "source": [
        "num_list = list(map(int, input().split()))\n",
        "cnt_list = [0] * 7\n",
        "for i in range(10):\n",
        "    cnt_list[num_list[i]] += 1\n",
        "for k in range(1, 7):\n",
        "    print(f'{k} - {cnt_list[k]}')"
      ],
      "metadata": {
        "id": "g5E-0vWmhN0E"
      },
      "execution_count": null,
      "outputs": []
    },
    {
      "cell_type": "markdown",
      "source": [
        "십의 자리 숫자\n",
        "- https://inha.codetree.ai/missions/4/problems/number-of-tens-digit/description"
      ],
      "metadata": {
        "id": "Ha3DkUsfhutN"
      }
    },
    {
      "cell_type": "code",
      "source": [
        "num_list = list(map(int, input().split()))\n",
        "cnt_list = [0] * 10\n",
        "cnt = 0\n",
        "for i in range(len(num_list)):\n",
        "    if(num_list[i] == 0):\n",
        "        cnt = i\n",
        "        break\n",
        "\n",
        "for j in range(cnt):\n",
        "    if(num_list[j] >= 10):\n",
        "        num = num_list[j] // 10\n",
        "        cnt_list[num] += 1\n",
        "\n",
        "for k in range(1, 10):\n",
        "    print(f'{k} - {cnt_list[k]}')"
      ],
      "metadata": {
        "id": "UzvVhxCfhxNq"
      },
      "execution_count": null,
      "outputs": []
    },
    {
      "cell_type": "markdown",
      "source": [
        "점수대 파악하기\n",
        "- https://inha.codetree.ai/missions/4/problems/find-out-the-score-range/description"
      ],
      "metadata": {
        "id": "0kFCfPE8ihbr"
      }
    },
    {
      "cell_type": "code",
      "source": [
        "num_list = list(map(int, input().split()))\n",
        "cnt_list = [0] * 11\n",
        "cnt = 0\n",
        "\n",
        "for i in range(len(num_list)):\n",
        "    if(num_list[i] == 0):\n",
        "        cnt = i\n",
        "        break\n",
        "\n",
        "for j in range(cnt):\n",
        "    if(num_list[j] >= 10):\n",
        "        num = num_list[j] // 10\n",
        "        cnt_list[num] += 1\n",
        "\n",
        "for k in range(10, 0, -1):\n",
        "    print(f'{k * 10} - {cnt_list[k]}')"
      ],
      "metadata": {
        "id": "I73HOpLBjTTE"
      },
      "execution_count": null,
      "outputs": []
    },
    {
      "cell_type": "markdown",
      "source": [
        "코로나 메뉴얼2\n",
        "- https://inha.codetree.ai/missions/4/problems/covid-manual2/description"
      ],
      "metadata": {
        "id": "DwvN2tB0kulq"
      }
    },
    {
      "cell_type": "code",
      "source": [
        "check_list = [0] * 4\n",
        "for i in range(3):\n",
        "    a, b = input().split()\n",
        "    b = int(b)\n",
        "    if(a == 'Y' and b >= 37):\n",
        "        check_list[0] += 1\n",
        "    elif(a == 'N' and b >= 37):\n",
        "        check_list[1] += 1\n",
        "    elif(a == 'Y' and b < 37):\n",
        "        check_list[2] += 1\n",
        "    elif(a == 'N' and b < 37):\n",
        "        check_list[3] += 1\n",
        "for j in range(4):\n",
        "    if(j != 3):\n",
        "        print(check_list[j], end = ' ')\n",
        "    else:\n",
        "        if(check_list[0] >= 2):\n",
        "            print(check_list[j], 'E')\n",
        "        else:\n",
        "            print(check_list[j])"
      ],
      "metadata": {
        "id": "Eby3apKRkxc5"
      },
      "execution_count": null,
      "outputs": []
    },
    {
      "cell_type": "markdown",
      "source": [
        "나눗셈의 나머지\n",
        "- https://inha.codetree.ai/missions/4/problems/remainder-of-division/description"
      ],
      "metadata": {
        "id": "NEnbdJ8dmMVB"
      }
    },
    {
      "cell_type": "code",
      "source": [
        "a, b = map(int, input().split())\n",
        "cnt_list = [0] * 10\n",
        "\n",
        "while(a > 1):\n",
        "    num1 = a // b\n",
        "    num2 = a % b\n",
        "    cnt_list[num2] += 1\n",
        "    a = num1\n",
        "\n",
        "sum = 0\n",
        "for i in range(10):\n",
        "    sum += pow(cnt_list[i], 2)\n",
        "\n",
        "print(sum)"
      ],
      "metadata": {
        "id": "T36GGMeemNjz"
      },
      "execution_count": null,
      "outputs": []
    },
    {
      "cell_type": "markdown",
      "source": [
        "# 탐색"
      ],
      "metadata": {
        "id": "HilfT-L0QUZY"
      }
    },
    {
      "cell_type": "markdown",
      "source": [
        "특정 위치의 문자\n",
        "- https://inha.codetree.ai/missions/4/problems/char-in-specific-location/description"
      ],
      "metadata": {
        "id": "-2wPOV5MQVYI"
      }
    },
    {
      "cell_type": "code",
      "source": [
        "str_list = ['L', 'E', 'B', 'R', 'O', 'S']\n",
        "s = input()\n",
        "if(s in str_list):\n",
        "    print(str_list.index(s)) # 인덱스를 찾는 함수 index, find\n",
        "else:\n",
        "    print('None')"
      ],
      "metadata": {
        "id": "SoZCJJ6JQblJ"
      },
      "execution_count": null,
      "outputs": []
    },
    {
      "cell_type": "markdown",
      "source": [
        "개수 세기\n",
        "- https://inha.codetree.ai/missions/4/problems/count-numbers/description"
      ],
      "metadata": {
        "id": "6-9ivv7oQ4mS"
      }
    },
    {
      "cell_type": "code",
      "source": [
        "n, m = map(int, input().split())\n",
        "num_list = list(map(int, input().split()))\n",
        "cnt = 0\n",
        "\n",
        "for i in range(n):\n",
        "    if(m == num_list[i]):\n",
        "        cnt += 1\n",
        "\n",
        "print(cnt)"
      ],
      "metadata": {
        "id": "EWXVrBmHRHvm"
      },
      "execution_count": null,
      "outputs": []
    },
    {
      "cell_type": "markdown",
      "source": [
        "배열 놀이\n",
        "- https://inha.codetree.ai/missions/4/problems/play-with-array/description"
      ],
      "metadata": {
        "id": "kQLTon8KSLuB"
      }
    },
    {
      "cell_type": "code",
      "source": [
        "n, q = map(int, input().split())\n",
        "num_list = list(map(int, input().split()))\n",
        "\n",
        "for i in range(q):\n",
        "    question_list = list(input().split())\n",
        "\n",
        "    if(question_list[0] == '1'):\n",
        "        a = int(question_list[1])\n",
        "        print(num_list[a - 1])\n",
        "\n",
        "    elif(question_list[0] == '2'):\n",
        "        a = int(question_list[1])\n",
        "        cnt = 0\n",
        "        for j in range(len(num_list)):\n",
        "            if(num_list[j] == a):\n",
        "                cnt = j + 1\n",
        "                break\n",
        "        print(cnt)\n",
        "\n",
        "    elif(question_list[0] == '3'):\n",
        "        a, b = int(question_list[1]), int(question_list[2])\n",
        "        for k in range(a - 1, b):\n",
        "            print(num_list[k], end = ' ')\n",
        "        print()"
      ],
      "metadata": {
        "id": "QmAVROzVUrkP"
      },
      "execution_count": null,
      "outputs": []
    },
    {
      "cell_type": "markdown",
      "source": [
        "연속부분수열일까\n",
        "- https://inha.codetree.ai/missions/4/problems/contiguous-array-or-not/description"
      ],
      "metadata": {
        "id": "h7gzzmdWUvDH"
      }
    },
    {
      "cell_type": "code",
      "source": [
        "n1, n2 = map(int, input().split())\n",
        "n1_list = list(map(int, input().split()))\n",
        "n2_list = list(map(int, input().split()))\n",
        "check_num = 0\n",
        "for i in range(n1):\n",
        "    if(check_num == 1):\n",
        "        break\n",
        "\n",
        "    if((n1 - i) == n2 and n1_list[i] != n2_list[0]): # n1의 남은 수열 크기가 n2 수열 크기와 같을 때\n",
        "        break # 값이 다르면 연속부분수열일 수 없으므로 더 이상 비교할 필요가 없다\n",
        "\n",
        "    if(n1_list[i] == n2_list[0]): # 처음 수열 값이 같은 경우\n",
        "        for j in range(1, n2):\n",
        "            if(n1_list[i + j] != n2_list[j]): # 이후 수열 값이 다른 경우\n",
        "                break\n",
        "            if(j == (n2 - 1) and n1_list[i + j] == n2_list[j]): # 수열 B가 수열 A의 연속부분수열인 경우\n",
        "                check_num = 1\n",
        "\n",
        "if(check_num == 1):\n",
        "    print('Yes')\n",
        "else:\n",
        "    print('No')"
      ],
      "metadata": {
        "id": "BzcwIEKjUwKe"
      },
      "execution_count": null,
      "outputs": []
    },
    {
      "cell_type": "markdown",
      "source": [
        "2가 3번째로 등장하는 위치\n",
        "- https://inha.codetree.ai/missions/4/problems/where-2-appears-3rd/description"
      ],
      "metadata": {
        "id": "69PIYAEqbGn8"
      }
    },
    {
      "cell_type": "code",
      "source": [
        "n = int(input())\n",
        "idx = 0\n",
        "cnt = 0\n",
        "num_list = list(map(int, input().split()))\n",
        "for i in range(n):\n",
        "    if(cnt == 2 and num_list[i] == 2):\n",
        "        cnt += 1\n",
        "        idx = i + 1\n",
        "        break\n",
        "    elif(num_list[i] == 2):\n",
        "        cnt += 1\n",
        "print(idx)"
      ],
      "metadata": {
        "id": "bqWROHT5Xu-W"
      },
      "execution_count": null,
      "outputs": []
    },
    {
      "cell_type": "markdown",
      "source": [
        "# Min/Max"
      ],
      "metadata": {
        "id": "sDmRzS_zblo9"
      }
    },
    {
      "cell_type": "markdown",
      "source": [
        "가장 큰 수 고르기\n",
        "- https://inha.codetree.ai/missions/4/problems/picking-biggest-number/description"
      ],
      "metadata": {
        "id": "Zn7r7DWvbnL2"
      }
    },
    {
      "cell_type": "code",
      "source": [
        "num_list = list(map(int, input().split()))\n",
        "print(max(num_list)) # 최댓값 함수는 max\n",
        "\n",
        "#max = num_list[0]\n",
        "#for i in range(1, 10):\n",
        "#    if(max < num_list[i]):\n",
        "#        max = num_list[i]\n",
        "#print(max)"
      ],
      "metadata": {
        "id": "I56SpXc4bo5A"
      },
      "execution_count": null,
      "outputs": []
    },
    {
      "cell_type": "markdown",
      "source": [
        "n개의 숫자 중 최소\n",
        "- https://inha.codetree.ai/missions/4/problems/min-of-n-num/description"
      ],
      "metadata": {
        "id": "EtSBPx_ncMtk"
      }
    },
    {
      "cell_type": "code",
      "source": [
        "n = int(input())\n",
        "num_list = list(map(int, input().split()))\n",
        "num = min(num_list)\n",
        "cnt = num_list.count(num) # 리스트의 해당 값(num)이 몇 개 있는지 세주는 함수\n",
        "print(num, cnt)"
      ],
      "metadata": {
        "id": "Pi4YkRfPctot"
      },
      "execution_count": null,
      "outputs": []
    },
    {
      "cell_type": "markdown",
      "source": [
        "출력결과 2\n",
        "- https://inha.codetree.ai/missions/4/problems/reading-k201520/description"
      ],
      "metadata": {
        "id": "0t_ZeGBMct81"
      }
    },
    {
      "cell_type": "code",
      "source": [
        "_list = [1, 8, 9, 10, 10, 2, 6]\n",
        "result = _list[0]\n",
        "\n",
        "for i in _list:\n",
        "    if i > result:\n",
        "        result = i\n",
        "\n",
        "print(result)\n",
        "# 출력\n",
        "# 10"
      ],
      "metadata": {
        "id": "x70wsmFpcxcU"
      },
      "execution_count": null,
      "outputs": []
    }
  ]
}