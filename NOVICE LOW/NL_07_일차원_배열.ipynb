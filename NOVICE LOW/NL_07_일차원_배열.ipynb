{
  "nbformat": 4,
  "nbformat_minor": 0,
  "metadata": {
    "colab": {
      "provenance": []
    },
    "kernelspec": {
      "name": "python3",
      "display_name": "Python 3"
    },
    "language_info": {
      "name": "python"
    }
  },
  "cells": [
    {
      "cell_type": "markdown",
      "source": [
        "# 한 줄에 여러 개 입력"
      ],
      "metadata": {
        "id": "1sh-AB6PNvni"
      }
    },
    {
      "cell_type": "markdown",
      "source": [
        "원소 10개의 합\n",
        "- https://inha.codetree.ai/missions/4/problems/sum-of-10-elements/description"
      ],
      "metadata": {
        "id": "8IEUMFpjNyM7"
      }
    },
    {
      "cell_type": "code",
      "execution_count": null,
      "metadata": {
        "id": "eTfZBOZ7NXui"
      },
      "outputs": [],
      "source": [
        "num_list = list(input().split())\n",
        "sum = 0\n",
        "for i in range(len(num_list)):\n",
        "    sum += int(num_list[i])\n",
        "print(sum)"
      ]
    },
    {
      "cell_type": "markdown",
      "source": [
        "배열 채우고 출력하기\n",
        "- https://inha.codetree.ai/missions/4/problems/filling-array-and-print/description"
      ],
      "metadata": {
        "id": "k0QXJF4_OaJL"
      }
    },
    {
      "cell_type": "code",
      "source": [
        "str_list = list(input().split())\n",
        "for i in range(len(str_list) - 1, -1, -1):\n",
        "    print(str_list[i], end = '')"
      ],
      "metadata": {
        "id": "WFdlnahuOc2N"
      },
      "execution_count": null,
      "outputs": []
    },
    {
      "cell_type": "markdown",
      "source": [
        "특정 숫자 도달하기\n",
        "- https://inha.codetree.ai/missions/4/problems/reaching-specific-number/description"
      ],
      "metadata": {
        "id": "dyvKqptJO8tr"
      }
    },
    {
      "cell_type": "code",
      "source": [
        "num_list = list(input().split())\n",
        "sum = 0\n",
        "cnt = 0\n",
        "for i in range(len(num_list)):\n",
        "    if(int(num_list[i]) >= 250):\n",
        "        break\n",
        "    sum += int(num_list[i])\n",
        "    cnt += 1\n",
        "\n",
        "print(f'{sum} {sum / cnt:.1f}')"
      ],
      "metadata": {
        "id": "jyI8qMHPO9v7"
      },
      "execution_count": null,
      "outputs": []
    },
    {
      "cell_type": "markdown",
      "source": [
        "학점 계산기\n",
        "- https://inha.codetree.ai/missions/4/problems/credit-calculator/description"
      ],
      "metadata": {
        "id": "11nlcMhtRlCt"
      }
    },
    {
      "cell_type": "code",
      "source": [
        "n = int(input())\n",
        "num_list = list(input().split())\n",
        "sum = 0\n",
        "for i in range(n):\n",
        "    sum += float(num_list[i])\n",
        "avg = sum / n\n",
        "print(f'{avg:.1f}')\n",
        "if(avg >= 4.0):\n",
        "    print('Perfect')\n",
        "elif(avg >= 3.0):\n",
        "    print('Good')\n",
        "else:\n",
        "    print('Poor')"
      ],
      "metadata": {
        "id": "vV9G0srURnhu"
      },
      "execution_count": null,
      "outputs": []
    },
    {
      "cell_type": "markdown",
      "source": [
        "평균점수 구하기\n",
        "- https://inha.codetree.ai/missions/4/problems/print-average/description"
      ],
      "metadata": {
        "id": "KhbE7DCESQGi"
      }
    },
    {
      "cell_type": "code",
      "source": [
        "num_list = list(input().split())\n",
        "# list(map(float, input().split()))도 가능\n",
        "sum = 0\n",
        "for i in range(len(num_list)):\n",
        "    sum += float(num_list[i])\n",
        "print(f'{sum / len(num_list):.1f}')"
      ],
      "metadata": {
        "id": "HuFHsWk8SREu"
      },
      "execution_count": null,
      "outputs": []
    },
    {
      "cell_type": "markdown",
      "source": [
        "배열 채우기\n",
        "- https://inha.codetree.ai/missions/4/problems/filling-array/description"
      ],
      "metadata": {
        "id": "Y14EN4MtSkUm"
      }
    },
    {
      "cell_type": "code",
      "source": [
        "num_list = list(map(int, input().split()))\n",
        "cnt = -1\n",
        "for i in range(len(num_list)):\n",
        "    if(num_list[i] == 0):\n",
        "        cnt = i\n",
        "        break\n",
        "if(cnt != -1):\n",
        "    for j in range(cnt - 1, -1, -1):\n",
        "        print(num_list[j], end = ' ')\n",
        "else:\n",
        "    for k in range(len(num_list) - 1, -1, -1):\n",
        "        print(num_list[k], end = ' ')"
      ],
      "metadata": {
        "id": "7nFEa0PsS60d"
      },
      "execution_count": null,
      "outputs": []
    },
    {
      "cell_type": "markdown",
      "source": [
        "10개 입력받기\n",
        "- https://inha.codetree.ai/missions/4/problems/receive-10-inputs/description"
      ],
      "metadata": {
        "id": "5kCuZ-7UUJcM"
      }
    },
    {
      "cell_type": "code",
      "source": [
        "num_list = list(map(int, input().split()))\n",
        "cnt = -1\n",
        "for i in range(len(num_list)):\n",
        "    if(num_list[i] == 0):\n",
        "        cnt = i\n",
        "        break\n",
        "sum = 0\n",
        "if(cnt != -1):\n",
        "    for j in range(cnt - 1, -1, -1):\n",
        "        sum += num_list[j]\n",
        "    print(f'{sum} {sum / cnt:.1f}')\n",
        "else:\n",
        "    for k in range(len(num_list) - 1, -1, -1):\n",
        "        sum += num_list[k]\n",
        "    print(f'{sum} {sum / 10:.1f}')"
      ],
      "metadata": {
        "id": "t5FBKvFDUKZh"
      },
      "execution_count": null,
      "outputs": []
    },
    {
      "cell_type": "markdown",
      "source": [
        "배열의 특정 위치 찾기 4\n",
        "- https://inha.codetree.ai/missions/4/problems/find-specific-location-of-array-4/description"
      ],
      "metadata": {
        "id": "QRug85Z_U0uX"
      }
    },
    {
      "cell_type": "code",
      "source": [
        "num_list = list(map(int, input().split()))\n",
        "sum, cnt = 0, 0\n",
        "for i in range(len(num_list)):\n",
        "    if(num_list[i] == 0):\n",
        "        break\n",
        "    else:\n",
        "        if(num_list[i] % 2 == 0):\n",
        "            sum += num_list[i]\n",
        "            cnt += 1\n",
        "print(cnt, sum)"
      ],
      "metadata": {
        "id": "ALUq-h6lU1yv"
      },
      "execution_count": null,
      "outputs": []
    },
    {
      "cell_type": "markdown",
      "source": [
        "시험 통과 여부 확인하기 2\n",
        "- https://inha.codetree.ai/missions/4/problems/verify-test-passed-2/description"
      ],
      "metadata": {
        "id": "BTsYFDudVacG"
      }
    },
    {
      "cell_type": "code",
      "source": [
        "n = int(input())\n",
        "cnt = 0\n",
        "for i in range(n):\n",
        "    num_list = list(map(int, input().split()))\n",
        "    if(sum(num_list) // 4 >= 60):\n",
        "        cnt += 1\n",
        "        print('pass')\n",
        "    else:\n",
        "        print('fail')\n",
        "print(cnt)"
      ],
      "metadata": {
        "id": "-Ds8juxWVd1h"
      },
      "execution_count": null,
      "outputs": []
    },
    {
      "cell_type": "markdown",
      "source": [
        "짝수들을 거꾸로 출력\n",
        "- https://inha.codetree.ai/missions/4/problems/print-even-numbers-upside-down/description"
      ],
      "metadata": {
        "id": "0A6F1DvXV9CZ"
      }
    },
    {
      "cell_type": "code",
      "source": [
        "n = int(input())\n",
        "num_list = list(map(int, input().split()))\n",
        "for i in range(n-1, -1, -1):\n",
        "    if(num_list[i] % 2 == 0):\n",
        "        print(num_list[i], end = ' ')"
      ],
      "metadata": {
        "id": "kOOdTxpIV_tf"
      },
      "execution_count": null,
      "outputs": []
    }
  ]
}