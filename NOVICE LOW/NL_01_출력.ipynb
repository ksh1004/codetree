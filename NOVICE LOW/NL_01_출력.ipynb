{
  "nbformat": 4,
  "nbformat_minor": 0,
  "metadata": {
    "colab": {
      "provenance": []
    },
    "kernelspec": {
      "name": "python3",
      "display_name": "Python 3"
    },
    "language_info": {
      "name": "python"
    }
  },
  "cells": [
    {
      "cell_type": "markdown",
      "source": [
        "# 기본 출력"
      ],
      "metadata": {
        "id": "Sa6zmFJBE7Q5"
      }
    },
    {
      "cell_type": "markdown",
      "source": [
        "단어 출력\n",
        "- 출력은 print 함수\n",
        "- https://www.codetree.ai/missions/4/problems/print-word/description"
      ],
      "metadata": {
        "id": "v9OADsIDFDbt"
      }
    },
    {
      "cell_type": "code",
      "execution_count": null,
      "metadata": {
        "id": "N3byXiVpEpYy"
      },
      "outputs": [],
      "source": [
        "print('Hello')"
      ]
    },
    {
      "cell_type": "markdown",
      "source": [
        "문장 출력\n",
        "- \" \" 또는 ' ' 사용\n",
        "- https://www.codetree.ai/missions/4/problems/print-sentence/introduction"
      ],
      "metadata": {
        "id": "fYuZDQRbFSmJ"
      }
    },
    {
      "cell_type": "code",
      "source": [
        "print(\"Hello World!\")"
      ],
      "metadata": {
        "id": "LhaMaXPUFlog"
      },
      "execution_count": null,
      "outputs": []
    },
    {
      "cell_type": "markdown",
      "source": [
        "따옴표 출력\n",
        "- https://www.codetree.ai/missions/4/problems/print-quote/description"
      ],
      "metadata": {
        "id": "I2n6xtNpFs61"
      }
    },
    {
      "cell_type": "code",
      "source": [
        "print('He says \"It\\'s a really simple sentence\".')"
      ],
      "metadata": {
        "id": "oz1FPs4zF2Hj"
      },
      "execution_count": null,
      "outputs": []
    },
    {
      "cell_type": "markdown",
      "source": [
        "2줄 출력\n",
        "- https://www.codetree.ai/missions/4/problems/print-two-lines/description"
      ],
      "metadata": {
        "id": "wvDjpvZXF4V1"
      }
    },
    {
      "cell_type": "code",
      "source": [
        "print('Hello\\nWorld')"
      ],
      "metadata": {
        "id": "LA6MkKXRF3zI"
      },
      "execution_count": null,
      "outputs": []
    },
    {
      "cell_type": "markdown",
      "source": [
        "숫자 출력\n",
        "- https://www.codetree.ai/missions/4/problems/print-one-number/description"
      ],
      "metadata": {
        "id": "rw12VXz8F9ie"
      }
    },
    {
      "cell_type": "code",
      "source": [
        "print(3)"
      ],
      "metadata": {
        "id": "GRHOOMvoGCex"
      },
      "execution_count": null,
      "outputs": []
    },
    {
      "cell_type": "markdown",
      "source": [
        "숫자 2개 출력\n",
        "- https://www.codetree.ai/missions/4/problems/print-two-numbers/description"
      ],
      "metadata": {
        "id": "apQvAB8fGDqC"
      }
    },
    {
      "cell_type": "code",
      "source": [
        "print(3, 5)"
      ],
      "metadata": {
        "id": "fFpIbuoNGG97"
      },
      "execution_count": null,
      "outputs": []
    },
    {
      "cell_type": "markdown",
      "source": [
        "한줄 출력\n",
        "- https://www.codetree.ai/missions/4/problems/print-one-line/description"
      ],
      "metadata": {
        "id": "27cCIBF2GKWK"
      }
    },
    {
      "cell_type": "code",
      "source": [
        "print(\"Let's go LeebrosCode!\")"
      ],
      "metadata": {
        "id": "DQU8nnfbGXcy"
      },
      "execution_count": null,
      "outputs": []
    },
    {
      "cell_type": "markdown",
      "source": [
        "두줄 출력\n",
        "- https://www.codetree.ai/missions/4/problems/print-two-sentences-introduce/description"
      ],
      "metadata": {
        "id": "XPtxbrLQGRdK"
      }
    },
    {
      "cell_type": "code",
      "source": [
        "print('Hello students!\\nWelcome to LeebrosCode!')"
      ],
      "metadata": {
        "id": "OuvWFdGxGVJC"
      },
      "execution_count": null,
      "outputs": []
    },
    {
      "cell_type": "markdown",
      "source": [
        "다양하게 출력\n",
        "- https://www.codetree.ai/missions/4/problems/print-in-variety/description"
      ],
      "metadata": {
        "id": "NZs4umCTGbbo"
      }
    },
    {
      "cell_type": "code",
      "source": [
        "print('Total days in Year')\n",
        "print('365')\n",
        "print(\"Circumference rate\")\n",
        "print(\"3.1415926535\")"
      ],
      "metadata": {
        "id": "5cwCyrw3GeHQ"
      },
      "execution_count": null,
      "outputs": []
    },
    {
      "cell_type": "markdown",
      "source": [
        "# 변수와 자료형"
      ],
      "metadata": {
        "id": "wv615f97GjeN"
      }
    },
    {
      "cell_type": "markdown",
      "source": [
        "정수 선언하고 뺄셈\n",
        "- https://www.codetree.ai/missions/4/problems/define-numbers-and-substract/description"
      ],
      "metadata": {
        "id": "uODi6dkxGo91"
      }
    },
    {
      "cell_type": "code",
      "source": [
        "a = 97\n",
        "b = 13\n",
        "print(a, \"-\", b, \"=\", a-b)"
      ],
      "metadata": {
        "id": "8jp4clNWHLNz"
      },
      "execution_count": null,
      "outputs": []
    },
    {
      "cell_type": "markdown",
      "source": [
        "변수 선언하기\n",
        "- https://www.codetree.ai/missions/4/problems/declaring-variables/description"
      ],
      "metadata": {
        "id": "6qu9fN91HsWk"
      }
    },
    {
      "cell_type": "code",
      "source": [
        "a = 3\n",
        "b = 'C'\n",
        "print(a)\n",
        "print(b)"
      ],
      "metadata": {
        "id": "xINwsM-0HsBE"
      },
      "execution_count": null,
      "outputs": []
    },
    {
      "cell_type": "markdown",
      "source": [
        "정수 선언하고 곱 출력\n",
        "- https://www.codetree.ai/missions/4/problems/Declare-an-integer-and-print-the-multiplication/description"
      ],
      "metadata": {
        "id": "mM54wnNRH8hh"
      }
    },
    {
      "cell_type": "code",
      "source": [
        "a = 26\n",
        "b = 5\n",
        "print(a, \"*\", b, '=', a * b)"
      ],
      "metadata": {
        "id": "iyS3a00RIASC"
      },
      "execution_count": null,
      "outputs": []
    },
    {
      "cell_type": "markdown",
      "source": [
        "# 출력 형식"
      ],
      "metadata": {
        "id": "QvELOmVOLFMP"
      }
    },
    {
      "cell_type": "markdown",
      "source": [
        "세 정수형 변수 선언\n",
        "- https://www.codetree.ai/missions/4/problems/declaration-of-three-natural-numbers/description"
      ],
      "metadata": {
        "id": "SFLWH65mLPJ6"
      }
    },
    {
      "cell_type": "code",
      "source": [
        "a, b, c = 7, 23, 30\n",
        "print(a, '+', b, '=', c)"
      ],
      "metadata": {
        "id": "pXY1ev9oLIMc"
      },
      "execution_count": null,
      "outputs": []
    },
    {
      "cell_type": "markdown",
      "source": [
        "변수 출력하기\n",
        "- https://www.codetree.ai/missions/4/problems/outputing-variables/explanation"
      ],
      "metadata": {
        "id": "2es26MwyLunf"
      }
    },
    {
      "cell_type": "code",
      "source": [
        "a = 3\n",
        "b = 'C'\n",
        "print(a, '...', b, sep = '')\n",
        "# 해설 답안\n",
        "a = 3\n",
        "b = 'C'\n",
        "print(f\"{a}...{b}\")"
      ],
      "metadata": {
        "id": "PzRjC-lMMAUG"
      },
      "execution_count": null,
      "outputs": []
    },
    {
      "cell_type": "markdown",
      "source": [
        "변수 출력하기 2\n",
        "- https://www.codetree.ai/missions/4/problems/outputing-variables-2/description"
      ],
      "metadata": {
        "id": "xCasPN_5MiQ1"
      }
    },
    {
      "cell_type": "code",
      "source": [
        "a = 3\n",
        "b = 'C'\n",
        "print(f'{b}!.....!{a}')"
      ],
      "metadata": {
        "id": "8CBX9AG5MLQL"
      },
      "execution_count": null,
      "outputs": []
    },
    {
      "cell_type": "markdown",
      "source": [
        "변수 출력하기 3\n",
        "- https://www.codetree.ai/missions/4/problems/outputing-variables-3/description"
      ],
      "metadata": {
        "id": "aMYsY4OyMmtQ"
      }
    },
    {
      "cell_type": "code",
      "source": [
        "a = 1\n",
        "b = 2\n",
        "c = 'C'\n",
        "print(f'{a}->{b}->{c}')"
      ],
      "metadata": {
        "id": "u07AeB_5M6as"
      },
      "execution_count": null,
      "outputs": []
    }
  ]
}