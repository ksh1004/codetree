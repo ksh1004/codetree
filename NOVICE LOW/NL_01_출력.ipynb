{
  "nbformat": 4,
  "nbformat_minor": 0,
  "metadata": {
    "colab": {
      "provenance": [],
      "collapsed_sections": [
        "Sa6zmFJBE7Q5",
        "wv615f97GjeN",
        "QvELOmVOLFMP"
      ]
    },
    "kernelspec": {
      "name": "python3",
      "display_name": "Python 3"
    },
    "language_info": {
      "name": "python"
    }
  },
  "cells": [
    {
      "cell_type": "markdown",
      "source": [
        "# 기본 출력"
      ],
      "metadata": {
        "id": "Sa6zmFJBE7Q5"
      }
    },
    {
      "cell_type": "markdown",
      "source": [
        "단어 출력\n",
        "- 출력은 print 함수\n",
        "- https://www.codetree.ai/missions/4/problems/print-word/description"
      ],
      "metadata": {
        "id": "v9OADsIDFDbt"
      }
    },
    {
      "cell_type": "code",
      "execution_count": null,
      "metadata": {
        "id": "N3byXiVpEpYy"
      },
      "outputs": [],
      "source": [
        "print('Hello')"
      ]
    },
    {
      "cell_type": "markdown",
      "source": [
        "문장 출력\n",
        "- \" \" 또는 ' ' 사용\n",
        "- https://www.codetree.ai/missions/4/problems/print-sentence/introduction"
      ],
      "metadata": {
        "id": "fYuZDQRbFSmJ"
      }
    },
    {
      "cell_type": "code",
      "source": [
        "print(\"Hello World!\")"
      ],
      "metadata": {
        "id": "LhaMaXPUFlog"
      },
      "execution_count": null,
      "outputs": []
    },
    {
      "cell_type": "markdown",
      "source": [
        "따옴표 출력\n",
        "- https://www.codetree.ai/missions/4/problems/print-quote/description"
      ],
      "metadata": {
        "id": "I2n6xtNpFs61"
      }
    },
    {
      "cell_type": "code",
      "source": [
        "print('He says \"It\\'s a really simple sentence\".')"
      ],
      "metadata": {
        "id": "oz1FPs4zF2Hj"
      },
      "execution_count": null,
      "outputs": []
    },
    {
      "cell_type": "markdown",
      "source": [
        "2줄 출력\n",
        "- https://www.codetree.ai/missions/4/problems/print-two-lines/description"
      ],
      "metadata": {
        "id": "wvDjpvZXF4V1"
      }
    },
    {
      "cell_type": "code",
      "source": [
        "print('Hello\\nWorld')"
      ],
      "metadata": {
        "id": "LA6MkKXRF3zI"
      },
      "execution_count": null,
      "outputs": []
    },
    {
      "cell_type": "markdown",
      "source": [
        "숫자 출력\n",
        "- https://www.codetree.ai/missions/4/problems/print-one-number/description"
      ],
      "metadata": {
        "id": "rw12VXz8F9ie"
      }
    },
    {
      "cell_type": "code",
      "source": [
        "print(3)"
      ],
      "metadata": {
        "id": "GRHOOMvoGCex"
      },
      "execution_count": null,
      "outputs": []
    },
    {
      "cell_type": "markdown",
      "source": [
        "숫자 2개 출력\n",
        "- https://www.codetree.ai/missions/4/problems/print-two-numbers/description"
      ],
      "metadata": {
        "id": "apQvAB8fGDqC"
      }
    },
    {
      "cell_type": "code",
      "source": [
        "print(3, 5)"
      ],
      "metadata": {
        "id": "fFpIbuoNGG97"
      },
      "execution_count": null,
      "outputs": []
    },
    {
      "cell_type": "markdown",
      "source": [
        "한줄 출력\n",
        "- https://www.codetree.ai/missions/4/problems/print-one-line/description"
      ],
      "metadata": {
        "id": "27cCIBF2GKWK"
      }
    },
    {
      "cell_type": "code",
      "source": [
        "print(\"Let's go LeebrosCode!\")"
      ],
      "metadata": {
        "id": "DQU8nnfbGXcy"
      },
      "execution_count": null,
      "outputs": []
    },
    {
      "cell_type": "markdown",
      "source": [
        "두줄 출력\n",
        "- https://www.codetree.ai/missions/4/problems/print-two-sentences-introduce/description"
      ],
      "metadata": {
        "id": "XPtxbrLQGRdK"
      }
    },
    {
      "cell_type": "code",
      "source": [
        "print('Hello students!\\nWelcome to LeebrosCode!')"
      ],
      "metadata": {
        "id": "OuvWFdGxGVJC"
      },
      "execution_count": null,
      "outputs": []
    },
    {
      "cell_type": "markdown",
      "source": [
        "다양하게 출력\n",
        "- https://www.codetree.ai/missions/4/problems/print-in-variety/description"
      ],
      "metadata": {
        "id": "NZs4umCTGbbo"
      }
    },
    {
      "cell_type": "code",
      "source": [
        "print('Total days in Year')\n",
        "print('365')\n",
        "print(\"Circumference rate\")\n",
        "print(\"3.1415926535\")"
      ],
      "metadata": {
        "id": "5cwCyrw3GeHQ"
      },
      "execution_count": null,
      "outputs": []
    },
    {
      "cell_type": "markdown",
      "source": [
        "# 변수와 자료형"
      ],
      "metadata": {
        "id": "wv615f97GjeN"
      }
    },
    {
      "cell_type": "markdown",
      "source": [
        "정수 선언하고 뺄셈\n",
        "- https://www.codetree.ai/missions/4/problems/define-numbers-and-substract/description"
      ],
      "metadata": {
        "id": "uODi6dkxGo91"
      }
    },
    {
      "cell_type": "code",
      "source": [
        "a = 97\n",
        "b = 13\n",
        "print(a, \"-\", b, \"=\", a-b)"
      ],
      "metadata": {
        "id": "8jp4clNWHLNz"
      },
      "execution_count": null,
      "outputs": []
    },
    {
      "cell_type": "markdown",
      "source": [
        "변수 선언하기\n",
        "- https://www.codetree.ai/missions/4/problems/declaring-variables/description"
      ],
      "metadata": {
        "id": "6qu9fN91HsWk"
      }
    },
    {
      "cell_type": "code",
      "source": [
        "a = 3\n",
        "b = 'C'\n",
        "print(a)\n",
        "print(b)"
      ],
      "metadata": {
        "id": "xINwsM-0HsBE"
      },
      "execution_count": null,
      "outputs": []
    },
    {
      "cell_type": "markdown",
      "source": [
        "정수 선언하고 곱 출력\n",
        "- https://www.codetree.ai/missions/4/problems/Declare-an-integer-and-print-the-multiplication/description"
      ],
      "metadata": {
        "id": "mM54wnNRH8hh"
      }
    },
    {
      "cell_type": "code",
      "source": [
        "a = 26\n",
        "b = 5\n",
        "print(a, \"*\", b, '=', a * b)"
      ],
      "metadata": {
        "id": "iyS3a00RIASC"
      },
      "execution_count": null,
      "outputs": []
    },
    {
      "cell_type": "markdown",
      "source": [
        "# 출력 형식"
      ],
      "metadata": {
        "id": "QvELOmVOLFMP"
      }
    },
    {
      "cell_type": "markdown",
      "source": [
        "세 정수형 변수 선언\n",
        "- https://www.codetree.ai/missions/4/problems/declaration-of-three-natural-numbers/description"
      ],
      "metadata": {
        "id": "SFLWH65mLPJ6"
      }
    },
    {
      "cell_type": "code",
      "source": [
        "a, b, c = 7, 23, 30\n",
        "print(a, '+', b, '=', c)"
      ],
      "metadata": {
        "id": "pXY1ev9oLIMc"
      },
      "execution_count": null,
      "outputs": []
    },
    {
      "cell_type": "markdown",
      "source": [
        "변수 출력하기\n",
        "- https://www.codetree.ai/missions/4/problems/outputing-variables/explanation"
      ],
      "metadata": {
        "id": "2es26MwyLunf"
      }
    },
    {
      "cell_type": "code",
      "source": [
        "a = 3\n",
        "b = 'C'\n",
        "print(a, '...', b, sep = '')\n",
        "# 해설 답안\n",
        "a = 3\n",
        "b = 'C'\n",
        "print(f\"{a}...{b}\")"
      ],
      "metadata": {
        "id": "PzRjC-lMMAUG"
      },
      "execution_count": null,
      "outputs": []
    },
    {
      "cell_type": "markdown",
      "source": [
        "변수 출력하기 2\n",
        "- https://www.codetree.ai/missions/4/problems/outputing-variables-2/description"
      ],
      "metadata": {
        "id": "xCasPN_5MiQ1"
      }
    },
    {
      "cell_type": "code",
      "source": [
        "a = 3\n",
        "b = 'C'\n",
        "print(f'{b}!.....!{a}')"
      ],
      "metadata": {
        "id": "8CBX9AG5MLQL"
      },
      "execution_count": null,
      "outputs": []
    },
    {
      "cell_type": "markdown",
      "source": [
        "변수 출력하기 3\n",
        "- https://www.codetree.ai/missions/4/problems/outputing-variables-3/description"
      ],
      "metadata": {
        "id": "aMYsY4OyMmtQ"
      }
    },
    {
      "cell_type": "code",
      "source": [
        "a = 1\n",
        "b = 2\n",
        "c = 'C'\n",
        "print(f'{a}->{b}->{c}')"
      ],
      "metadata": {
        "id": "u07AeB_5M6as"
      },
      "execution_count": null,
      "outputs": []
    },
    {
      "cell_type": "markdown",
      "source": [
        "# 소수점 맞춰 출력"
      ],
      "metadata": {
        "id": "CjL4gFwP8-h9"
      }
    },
    {
      "cell_type": "markdown",
      "source": [
        "달에서 무게 구하기\n",
        "- https://inha.codetree.ai/missions/4/problems/weight-on-the-moon/description"
      ],
      "metadata": {
        "id": "u6hG3Mda9dpB"
      }
    },
    {
      "cell_type": "code",
      "source": [
        "weight = 13\n",
        "gravity = 0.165\n",
        "print(f'{weight} * {gravity:.6f} = {weight * gravity:.6f}')"
      ],
      "metadata": {
        "id": "et0RK4i29Bif"
      },
      "execution_count": null,
      "outputs": []
    },
    {
      "cell_type": "markdown",
      "source": [
        "소수점 반올림하기\n",
        "- https://inha.codetree.ai/missions/4/problems/rounding-decimal-points/description"
      ],
      "metadata": {
        "id": "iABrUtMx9gUQ"
      }
    },
    {
      "cell_type": "code",
      "source": [
        "a = 25.352\n",
        "print(f'{a:.1f}')"
      ],
      "metadata": {
        "id": "tBxNMKD191Fz"
      },
      "execution_count": null,
      "outputs": []
    },
    {
      "cell_type": "markdown",
      "source": [
        "길이 단위 변환하기\n",
        "- https://inha.codetree.ai/missions/4/problems/change-length-unit/description"
      ],
      "metadata": {
        "id": "tslLeTRq92KW"
      }
    },
    {
      "cell_type": "code",
      "source": [
        "ft = 30.48\n",
        "mi = 160934\n",
        "a = 9.2\n",
        "b = 1.3\n",
        "print(f'{a}ft = {ft * a:.1f}cm')\n",
        "print(f'{b}mi = {mi * b:.1f}cm')"
      ],
      "metadata": {
        "id": "P1V7EJOh-USh"
      },
      "execution_count": null,
      "outputs": []
    },
    {
      "cell_type": "markdown",
      "source": [
        "출력결과 42\n",
        "- https://inha.codetree.ai/missions/4/problems/reading-k201715/description"
      ],
      "metadata": {
        "id": "fqaR_b0I-bpo"
      }
    },
    {
      "cell_type": "code",
      "source": [
        "a = 2.8437\n",
        "print(f\"{a:.2f}\")\n",
        "# 출력은 2.84가 될 것이다."
      ],
      "metadata": {
        "id": "mtDrTtOJ-epQ"
      },
      "execution_count": null,
      "outputs": []
    },
    {
      "cell_type": "markdown",
      "source": [
        "두 실수의 곱\n",
        "- https://inha.codetree.ai/missions/4/problems/the-product-of-two-real-numbers/description"
      ],
      "metadata": {
        "id": "WPm0D-fD-mJX"
      }
    },
    {
      "cell_type": "code",
      "source": [
        "a = 5.26\n",
        "b = 8.27\n",
        "print(f'{a*b:.3f}')"
      ],
      "metadata": {
        "id": "mvIYy9TK-l40"
      },
      "execution_count": null,
      "outputs": []
    },
    {
      "cell_type": "markdown",
      "source": [
        "# 변수 값 변경"
      ],
      "metadata": {
        "id": "xw75qvc2-3jE"
      }
    },
    {
      "cell_type": "markdown",
      "source": [
        "변수 값 교체하기\n",
        "- https://inha.codetree.ai/missions/4/problems/replacing-variable-values/description"
      ],
      "metadata": {
        "id": "4z64V550--Hx"
      }
    },
    {
      "cell_type": "code",
      "source": [
        "a = 3\n",
        "a = 6\n",
        "print(a)"
      ],
      "metadata": {
        "id": "HpF3M6_P-4Zr"
      },
      "execution_count": null,
      "outputs": []
    },
    {
      "cell_type": "markdown",
      "source": [
        "변수 값 교체하기 4\n",
        "- https://inha.codetree.ai/missions/4/problems/replacing-variable-values-4/description"
      ],
      "metadata": {
        "id": "UtTDZYGN_B7a"
      }
    },
    {
      "cell_type": "code",
      "source": [
        "a = 7\n",
        "a = 4\n",
        "print(a)"
      ],
      "metadata": {
        "id": "IlClgN1q_Ju3"
      },
      "execution_count": null,
      "outputs": []
    },
    {
      "cell_type": "markdown",
      "source": [
        "문자 변경하기\n",
        "- https://inha.codetree.ai/missions/4/problems/change-charater/description"
      ],
      "metadata": {
        "id": "4jXodBzm_Q9g"
      }
    },
    {
      "cell_type": "code",
      "source": [
        "a = 'c'\n",
        "a = 'T'\n",
        "print(a)"
      ],
      "metadata": {
        "id": "Qd_FaPRv_ViH"
      },
      "execution_count": null,
      "outputs": []
    },
    {
      "cell_type": "markdown",
      "source": [
        "# 다른 변수로부터 값 변경"
      ],
      "metadata": {
        "id": "_iTPEHEM_Zgp"
      }
    },
    {
      "cell_type": "markdown",
      "source": [
        "변수 값 교체하기 2\n",
        "- https://inha.codetree.ai/missions/4/problems/replacing-variable-values-2/description"
      ],
      "metadata": {
        "id": "6DfkHGeF_aUH"
      }
    },
    {
      "cell_type": "code",
      "source": [
        "a = 5\n",
        "b = 3\n",
        "a = b\n",
        "print(a)\n",
        "print(b)"
      ],
      "metadata": {
        "id": "D9Q9B_6O_dyj"
      },
      "execution_count": null,
      "outputs": []
    },
    {
      "cell_type": "markdown",
      "source": [
        "변수 값 교체하기 5\n",
        "- https://inha.codetree.ai/missions/4/problems/replacing-variable-values-5/description"
      ],
      "metadata": {
        "id": "Ar-3L7Qy_krj"
      }
    },
    {
      "cell_type": "code",
      "source": [
        "a = 2\n",
        "b = 6\n",
        "a = b\n",
        "print(a)\n",
        "print(b)"
      ],
      "metadata": {
        "id": "ipvT8cVu_oP1"
      },
      "execution_count": null,
      "outputs": []
    },
    {
      "cell_type": "markdown",
      "source": [
        "정수 복사\n",
        "- https://inha.codetree.ai/missions/4/problems/copy-integer/description"
      ],
      "metadata": {
        "id": "K9bXJgIf_vvj"
      }
    },
    {
      "cell_type": "code",
      "source": [
        "a = 3\n",
        "b = 4\n",
        "b = a\n",
        "print(a, b)\n",
        "print(a * b)"
      ],
      "metadata": {
        "id": "ZOdT3tYS_8r6"
      },
      "execution_count": null,
      "outputs": []
    },
    {
      "cell_type": "markdown",
      "source": [
        "# 두 변수 값을 교환"
      ],
      "metadata": {
        "id": "kajilIN1AN0_"
      }
    },
    {
      "cell_type": "markdown",
      "source": [
        "변수 값 교체하기 3\n",
        "- https://inha.codetree.ai/missions/4/problems/replacing-variable-values-3/description"
      ],
      "metadata": {
        "id": "Fd-B4MaQAQa3"
      }
    },
    {
      "cell_type": "code",
      "source": [
        "a = 3\n",
        "b = 5\n",
        "a, b = b, a\n",
        "print(a)\n",
        "print(b)"
      ],
      "metadata": {
        "id": "M_spveCeAO1c"
      },
      "execution_count": null,
      "outputs": []
    },
    {
      "cell_type": "markdown",
      "source": [
        "변수 값 교체하기 6\n",
        "- https://inha.codetree.ai/missions/4/problems/replacing-variable-values-6/description"
      ],
      "metadata": {
        "id": "XNwjjvSKAZN3"
      }
    },
    {
      "cell_type": "code",
      "source": [
        "a = 2\n",
        "b = 5\n",
        "a, b = b, a\n",
        "print(a)\n",
        "print(b)"
      ],
      "metadata": {
        "id": "C6kv9UliAkHr"
      },
      "execution_count": null,
      "outputs": []
    },
    {
      "cell_type": "markdown",
      "source": [
        "데이터 교환\n",
        "- https://inha.codetree.ai/missions/4/problems/exchange-data/description"
      ],
      "metadata": {
        "id": "vRbMICO9ArRh"
      }
    },
    {
      "cell_type": "code",
      "source": [
        "a, b, c = 5, 6, 7\n",
        "b, c, a = a, b, c\n",
        "print(a)\n",
        "print(b)\n",
        "print(c)"
      ],
      "metadata": {
        "id": "-823ECpnAuaS"
      },
      "execution_count": null,
      "outputs": []
    },
    {
      "cell_type": "markdown",
      "source": [
        "# 변수값 동시에 복사"
      ],
      "metadata": {
        "id": "XlmmEdrKA-CG"
      }
    },
    {
      "cell_type": "markdown",
      "source": [
        "변수 값 복사하기\n",
        "- https://inha.codetree.ai/missions/4/problems/copying-variable-values/description"
      ],
      "metadata": {
        "id": "Hz_u6HiPA05H"
      }
    },
    {
      "cell_type": "code",
      "source": [
        "a, b, c = 1, 2, 3\n",
        "a, b = c, c\n",
        "print(a, b, c)"
      ],
      "metadata": {
        "id": "MUVI8_BGBBS-"
      },
      "execution_count": null,
      "outputs": []
    },
    {
      "cell_type": "markdown",
      "source": [
        "변수 값 복사하기 2\n",
        "- https://inha.codetree.ai/missions/4/problems/copying-variable-values-2/description"
      ],
      "metadata": {
        "id": "zhQjlQctBKFN"
      }
    },
    {
      "cell_type": "code",
      "source": [
        "a, b, c = 5, 6, 7\n",
        "a, b = c, c\n",
        "print(a, b, c)"
      ],
      "metadata": {
        "id": "gnVvPCFUBTiM"
      },
      "execution_count": null,
      "outputs": []
    },
    {
      "cell_type": "markdown",
      "source": [
        "합을 복사하기\n",
        "- https://inha.codetree.ai/missions/4/problems/copy-the-sum/description"
      ],
      "metadata": {
        "id": "Kt4nwUcHBT8N"
      }
    },
    {
      "cell_type": "code",
      "source": [
        "a, b, c = 1, 2, 3\n",
        "sum = a + b + c\n",
        "a, b, c = sum, sum, sum\n",
        "print(a, b, c)"
      ],
      "metadata": {
        "id": "0VyK-KcqBXWr"
      },
      "execution_count": null,
      "outputs": []
    }
  ]
}