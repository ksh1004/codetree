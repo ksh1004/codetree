{
  "nbformat": 4,
  "nbformat_minor": 0,
  "metadata": {
    "colab": {
      "provenance": []
    },
    "kernelspec": {
      "name": "python3",
      "display_name": "Python 3"
    },
    "language_info": {
      "name": "python"
    }
  },
  "cells": [
    {
      "cell_type": "markdown",
      "source": [
        "# 공백없는 문자열 입력받아 출력하기"
      ],
      "metadata": {
        "id": "KnpU2w4Nk5uv"
      }
    },
    {
      "cell_type": "markdown",
      "source": [
        "문자열 두번 출력하기\n",
        "- https://inha.codetree.ai/missions/4/problems/print-string-twice/description"
      ],
      "metadata": {
        "id": "cosu-JIHk91E"
      }
    },
    {
      "cell_type": "code",
      "execution_count": null,
      "metadata": {
        "id": "jOfj20pYk0gW"
      },
      "outputs": [],
      "source": [
        "str_val = input()\n",
        "print(str_val)\n",
        "print(str_val)"
      ]
    },
    {
      "cell_type": "markdown",
      "source": [
        "문자열의 길이 출력하기\n",
        "- https://inha.codetree.ai/missions/4/problems/print-string's-range/description"
      ],
      "metadata": {
        "id": "SAymz3ImlHdK"
      }
    },
    {
      "cell_type": "code",
      "source": [
        "str1 = input()\n",
        "str2 = input()\n",
        "print(len(str1) + len(str2))"
      ],
      "metadata": {
        "id": "Mp2ITRI_lKYh"
      },
      "execution_count": null,
      "outputs": []
    },
    {
      "cell_type": "markdown",
      "source": [
        "더 긴 문자열\n",
        "- https://inha.codetree.ai/missions/4/problems/longer-string/description"
      ],
      "metadata": {
        "id": "m7-QDvNvlU-g"
      }
    },
    {
      "cell_type": "code",
      "source": [
        "str1, str2 = input().split()\n",
        "if(len(str1) > len(str2)):\n",
        "    print(str1, len(str1))\n",
        "elif(len(str2) > len(str1)):\n",
        "    print(str2, len(str2))\n",
        "else:\n",
        "    print('same')"
      ],
      "metadata": {
        "id": "ttR0KeRNlWBm"
      },
      "execution_count": null,
      "outputs": []
    },
    {
      "cell_type": "markdown",
      "source": [
        "출력결과 6\n",
        "- https://inha.codetree.ai/missions/4/problems/reading-k201525/description"
      ],
      "metadata": {
        "id": "mrTg3qCalos8"
      }
    },
    {
      "cell_type": "code",
      "source": [
        "print(len(\"LEEBROS\"), len(\"LEEBROS\\n\"))\n",
        "# 출력결과\n",
        "# 7 8"
      ],
      "metadata": {
        "id": "XfOiFlu6lrVe"
      },
      "execution_count": null,
      "outputs": []
    },
    {
      "cell_type": "markdown",
      "source": [
        "출력결과 74\n",
        "- https://inha.codetree.ai/missions/4/problems/reading-k201829/description"
      ],
      "metadata": {
        "id": "yaJkAH7Vl058"
      }
    },
    {
      "cell_type": "code",
      "source": [
        "str1 = \"abcde\"\n",
        "str2 = ['a', 'b', 'c', 'd', 'e', 'f', 'g']\n",
        "len1 = len(str1) - 2\n",
        "len2 = len(str2) - 3\n",
        "print(str1[len2], str2[len1])\n",
        "# 출력결과\n",
        "# e d"
      ],
      "metadata": {
        "id": "EkjcBU6sl2J8"
      },
      "execution_count": null,
      "outputs": []
    },
    {
      "cell_type": "markdown",
      "source": [
        "가장 짧은 문자열\n",
        "- https://inha.codetree.ai/missions/4/problems/shortest-string/description"
      ],
      "metadata": {
        "id": "7G0AZWdGmB7g"
      }
    },
    {
      "cell_type": "code",
      "source": [
        "str1 = input()\n",
        "str2 = input()\n",
        "str3 = input()\n",
        "len_list = [len(str1), len(str2), len(str3)]\n",
        "print(max(len_list) - min(len_list))"
      ],
      "metadata": {
        "id": "UY2pQUCOmEZA"
      },
      "execution_count": null,
      "outputs": []
    },
    {
      "cell_type": "markdown",
      "source": [
        "# 공백이 포함된 문자열 입력받아 출력하기"
      ],
      "metadata": {
        "id": "X2PBMlUmmUzB"
      }
    },
    {
      "cell_type": "markdown",
      "source": [
        "문자열 범위 출력하기\n",
        "- https://inha.codetree.ai/missions/4/problems/print-string-in-range/description"
      ],
      "metadata": {
        "id": "zHSfs3W6mXUv"
      }
    },
    {
      "cell_type": "code",
      "source": [
        "str_val = input()\n",
        "print(str_val[2:10])"
      ],
      "metadata": {
        "id": "UZvs2h3vmZvQ"
      },
      "execution_count": null,
      "outputs": []
    },
    {
      "cell_type": "markdown",
      "source": [
        "문자 개수 세기\n",
        "- https://inha.codetree.ai/missions/4/problems/count-char/description"
      ],
      "metadata": {
        "id": "R8KtaoqZmkTG"
      }
    },
    {
      "cell_type": "code",
      "source": [
        "str_val = input()\n",
        "s = input()\n",
        "print(str_val.count(s))"
      ],
      "metadata": {
        "id": "gLUYRD_JmmWj"
      },
      "execution_count": null,
      "outputs": []
    },
    {
      "cell_type": "markdown",
      "source": [
        "공백을 기준으로 출력\n",
        "- https://inha.codetree.ai/missions/4/problems/output-based-on-space/description"
      ],
      "metadata": {
        "id": "QrMQdF-Hm3oT"
      }
    },
    {
      "cell_type": "code",
      "source": [
        "str1 = input()\n",
        "str2 = input()\n",
        "str1 = str1.replace(' ', '') # 공백 제거\n",
        "str2 = str2.replace(' ', '') # 공백 제거\n",
        "print(str1 + str2)"
      ],
      "metadata": {
        "id": "HKtv9nw5m6GC"
      },
      "execution_count": null,
      "outputs": []
    },
    {
      "cell_type": "markdown",
      "source": [
        "# 문자열 리스트 관리"
      ],
      "metadata": {
        "id": "ssSMSVcmnQWm"
      }
    },
    {
      "cell_type": "markdown",
      "source": [
        "문자열의 특정 위치 찾기 2\n",
        "- https://inha.codetree.ai/missions/4/problems/find-specific-location-in-spring-2/description"
      ],
      "metadata": {
        "id": "HDprXSXpnUqG"
      }
    },
    {
      "cell_type": "code",
      "source": [
        "str_list = ['apple', 'banana', 'grape', 'blueberry', 'orange']\n",
        "str_val = input()\n",
        "cnt = 0\n",
        "for i in str_list:\n",
        "    if(i[2] == str_val or i[3] == str_val):\n",
        "        print(i)\n",
        "        cnt += 1\n",
        "print(cnt)"
      ],
      "metadata": {
        "id": "QGzjp3-wnWj3"
      },
      "execution_count": null,
      "outputs": []
    },
    {
      "cell_type": "markdown",
      "source": [
        "문자열 역순으로 출력하기\n",
        "- https://inha.codetree.ai/missions/4/problems/print-string-in-reverse/description"
      ],
      "metadata": {
        "id": "9vi7gKRSn0sD"
      }
    },
    {
      "cell_type": "code",
      "source": [
        "str_list = []\n",
        "for i in range(4):\n",
        "    s = input()\n",
        "    str_list.append(s)\n",
        "\n",
        "for i in range(3, -1, -1):\n",
        "    print(str_list[i])"
      ],
      "metadata": {
        "id": "X2CWNJjkn34J"
      },
      "execution_count": null,
      "outputs": []
    },
    {
      "cell_type": "markdown",
      "source": [
        "문자열의 총 길이 구하기\n",
        "- https://inha.codetree.ai/missions/4/problems/find-the-length-of-the-string/description"
      ],
      "metadata": {
        "id": "F7eY0oA8oUJW"
      }
    },
    {
      "cell_type": "code",
      "source": [
        "str_val = input()\n",
        "str_val = str_val.replace(' ', '') # 공백 제거\n",
        "print(len(str_val))"
      ],
      "metadata": {
        "id": "4nHwqcqzoXCN"
      },
      "execution_count": null,
      "outputs": []
    },
    {
      "cell_type": "markdown",
      "source": [
        "문자열 길이의 합\n",
        "- https://inha.codetree.ai/missions/4/problems/sum-length-of-string/description"
      ],
      "metadata": {
        "id": "oDxSjujyoncK"
      }
    },
    {
      "cell_type": "code",
      "source": [
        "n = int(input())\n",
        "cnt = 0\n",
        "a_cnt = 0\n",
        "for i in range(n):\n",
        "    s = input()\n",
        "    cnt += len(s)\n",
        "    if(s[0] == 'a'):\n",
        "        a_cnt += 1\n",
        "print(cnt, a_cnt)"
      ],
      "metadata": {
        "id": "Hm4SPuUWosSK"
      },
      "execution_count": null,
      "outputs": []
    },
    {
      "cell_type": "markdown",
      "source": [
        "단어로 구분하기\n",
        "- https://inha.codetree.ai/missions/4/problems/separate-words-with-words/description"
      ],
      "metadata": {
        "id": "xry0JJ-GpQt7"
      }
    },
    {
      "cell_type": "code",
      "source": [
        "str_val = list(input().split())\n",
        "for i in str_val:\n",
        "    print(i)"
      ],
      "metadata": {
        "id": "kSroSE0ApTUr"
      },
      "execution_count": null,
      "outputs": []
    },
    {
      "cell_type": "markdown",
      "source": [
        "단어로 구분하기 2\n",
        "- https://inha.codetree.ai/missions/4/problems/separate-words-with-words-2/description"
      ],
      "metadata": {
        "id": "lXJMNurQpfvV"
      }
    },
    {
      "cell_type": "code",
      "source": [
        "str_val = list(input().split())\n",
        "for i in range(len(str_val)):\n",
        "    if(i % 2 == 0):\n",
        "        print(str_val[i])"
      ],
      "metadata": {
        "id": "r4s241GFph2O"
      },
      "execution_count": null,
      "outputs": []
    },
    {
      "cell_type": "markdown",
      "source": [
        "단어로 구분하기 3\n",
        "- https://inha.codetree.ai/missions/4/problems/separate-words-with-words-3/description"
      ],
      "metadata": {
        "id": "87OyoeQgpuwh"
      }
    },
    {
      "cell_type": "code",
      "source": [
        "str_val = list(input().split())\n",
        "for i in range(len(str_val) - 1, -1, -1):\n",
        "    print(str_val[i])"
      ],
      "metadata": {
        "id": "in8Gidq6pxFg"
      },
      "execution_count": null,
      "outputs": []
    },
    {
      "cell_type": "markdown",
      "source": [
        "특정 문자로 끝나는 문자열\n",
        "- https://inha.codetree.ai/missions/4/problems/string-ending-with-specific-character/description"
      ],
      "metadata": {
        "id": "S0bpVCR_qEQW"
      }
    },
    {
      "cell_type": "code",
      "source": [
        "str_val = []\n",
        "for i in range(10):\n",
        "    s = input()\n",
        "    str_val.append(s)\n",
        "\n",
        "s = input()\n",
        "cnt = 0\n",
        "for i in range(10):\n",
        "    s_val = str_val[i]\n",
        "    if(s_val[-1] == s):\n",
        "        print(s_val)\n",
        "        cnt += 1\n",
        "if(cnt == 0):\n",
        "    print('None')"
      ],
      "metadata": {
        "id": "loH8X0uHqEEn"
      },
      "execution_count": null,
      "outputs": []
    },
    {
      "cell_type": "markdown",
      "source": [
        "특정 문자로 시작하는 문자열\n",
        "- https://inha.codetree.ai/missions/4/problems/strings-that-start-with-a-specific-character/description"
      ],
      "metadata": {
        "id": "bCsI80AZq4WW"
      }
    },
    {
      "cell_type": "code",
      "source": [
        "n = int(input())\n",
        "str_val = []\n",
        "for i in range(n):\n",
        "    s = input()\n",
        "    str_val.append(s)\n",
        "s_val = input()\n",
        "cnt, sum_val = 0, 0\n",
        "for i in range(n):\n",
        "    if(str_val[i][0] == s_val):\n",
        "        cnt += 1\n",
        "        sum_val += len(str_val[i])\n",
        "print(f'{cnt} {sum_val/cnt:.2f}')"
      ],
      "metadata": {
        "id": "i0X92CAWq5ht"
      },
      "execution_count": null,
      "outputs": []
    }
  ]
}