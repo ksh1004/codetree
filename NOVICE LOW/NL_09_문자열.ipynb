{
  "nbformat": 4,
  "nbformat_minor": 0,
  "metadata": {
    "colab": {
      "provenance": []
    },
    "kernelspec": {
      "name": "python3",
      "display_name": "Python 3"
    },
    "language_info": {
      "name": "python"
    }
  },
  "cells": [
    {
      "cell_type": "markdown",
      "source": [
        "# 공백없는 문자열 입력받아 출력하기"
      ],
      "metadata": {
        "id": "KnpU2w4Nk5uv"
      }
    },
    {
      "cell_type": "markdown",
      "source": [
        "문자열 두번 출력하기\n",
        "- https://inha.codetree.ai/missions/4/problems/print-string-twice/description"
      ],
      "metadata": {
        "id": "cosu-JIHk91E"
      }
    },
    {
      "cell_type": "code",
      "execution_count": null,
      "metadata": {
        "id": "jOfj20pYk0gW"
      },
      "outputs": [],
      "source": [
        "str_val = input()\n",
        "print(str_val)\n",
        "print(str_val)"
      ]
    },
    {
      "cell_type": "markdown",
      "source": [
        "문자열의 길이 출력하기\n",
        "- https://inha.codetree.ai/missions/4/problems/print-string's-range/description"
      ],
      "metadata": {
        "id": "SAymz3ImlHdK"
      }
    },
    {
      "cell_type": "code",
      "source": [
        "str1 = input()\n",
        "str2 = input()\n",
        "print(len(str1) + len(str2))"
      ],
      "metadata": {
        "id": "Mp2ITRI_lKYh"
      },
      "execution_count": null,
      "outputs": []
    },
    {
      "cell_type": "markdown",
      "source": [
        "더 긴 문자열\n",
        "- https://inha.codetree.ai/missions/4/problems/longer-string/description"
      ],
      "metadata": {
        "id": "m7-QDvNvlU-g"
      }
    },
    {
      "cell_type": "code",
      "source": [
        "str1, str2 = input().split()\n",
        "if(len(str1) > len(str2)):\n",
        "    print(str1, len(str1))\n",
        "elif(len(str2) > len(str1)):\n",
        "    print(str2, len(str2))\n",
        "else:\n",
        "    print('same')"
      ],
      "metadata": {
        "id": "ttR0KeRNlWBm"
      },
      "execution_count": null,
      "outputs": []
    },
    {
      "cell_type": "markdown",
      "source": [
        "출력결과 6\n",
        "- https://inha.codetree.ai/missions/4/problems/reading-k201525/description"
      ],
      "metadata": {
        "id": "mrTg3qCalos8"
      }
    },
    {
      "cell_type": "code",
      "source": [
        "print(len(\"LEEBROS\"), len(\"LEEBROS\\n\"))\n",
        "# 출력결과\n",
        "# 7 8"
      ],
      "metadata": {
        "id": "XfOiFlu6lrVe"
      },
      "execution_count": null,
      "outputs": []
    },
    {
      "cell_type": "markdown",
      "source": [
        "출력결과 74\n",
        "- https://inha.codetree.ai/missions/4/problems/reading-k201829/description"
      ],
      "metadata": {
        "id": "yaJkAH7Vl058"
      }
    },
    {
      "cell_type": "code",
      "source": [
        "str1 = \"abcde\"\n",
        "str2 = ['a', 'b', 'c', 'd', 'e', 'f', 'g']\n",
        "len1 = len(str1) - 2\n",
        "len2 = len(str2) - 3\n",
        "print(str1[len2], str2[len1])\n",
        "# 출력결과\n",
        "# e d"
      ],
      "metadata": {
        "id": "EkjcBU6sl2J8"
      },
      "execution_count": null,
      "outputs": []
    },
    {
      "cell_type": "markdown",
      "source": [
        "가장 짧은 문자열\n",
        "- https://inha.codetree.ai/missions/4/problems/shortest-string/description"
      ],
      "metadata": {
        "id": "7G0AZWdGmB7g"
      }
    },
    {
      "cell_type": "code",
      "source": [
        "str1 = input()\n",
        "str2 = input()\n",
        "str3 = input()\n",
        "len_list = [len(str1), len(str2), len(str3)]\n",
        "print(max(len_list) - min(len_list))"
      ],
      "metadata": {
        "id": "UY2pQUCOmEZA"
      },
      "execution_count": null,
      "outputs": []
    },
    {
      "cell_type": "markdown",
      "source": [
        "# 공백이 포함된 문자열 입력받아 출력하기"
      ],
      "metadata": {
        "id": "X2PBMlUmmUzB"
      }
    },
    {
      "cell_type": "markdown",
      "source": [
        "문자열 범위 출력하기\n",
        "- https://inha.codetree.ai/missions/4/problems/print-string-in-range/description"
      ],
      "metadata": {
        "id": "zHSfs3W6mXUv"
      }
    },
    {
      "cell_type": "code",
      "source": [
        "str_val = input()\n",
        "print(str_val[2:10])"
      ],
      "metadata": {
        "id": "UZvs2h3vmZvQ"
      },
      "execution_count": null,
      "outputs": []
    },
    {
      "cell_type": "markdown",
      "source": [
        "문자 개수 세기\n",
        "- https://inha.codetree.ai/missions/4/problems/count-char/description"
      ],
      "metadata": {
        "id": "R8KtaoqZmkTG"
      }
    },
    {
      "cell_type": "code",
      "source": [
        "str_val = input()\n",
        "s = input()\n",
        "print(str_val.count(s))"
      ],
      "metadata": {
        "id": "gLUYRD_JmmWj"
      },
      "execution_count": null,
      "outputs": []
    },
    {
      "cell_type": "markdown",
      "source": [
        "공백을 기준으로 출력\n",
        "- https://inha.codetree.ai/missions/4/problems/output-based-on-space/description"
      ],
      "metadata": {
        "id": "QrMQdF-Hm3oT"
      }
    },
    {
      "cell_type": "code",
      "source": [
        "str1 = input()\n",
        "str2 = input()\n",
        "str1 = str1.replace(' ', '') # 공백 제거\n",
        "str2 = str2.replace(' ', '') # 공백 제거\n",
        "print(str1 + str2)"
      ],
      "metadata": {
        "id": "HKtv9nw5m6GC"
      },
      "execution_count": null,
      "outputs": []
    },
    {
      "cell_type": "markdown",
      "source": [
        "# 문자열 리스트 관리"
      ],
      "metadata": {
        "id": "ssSMSVcmnQWm"
      }
    },
    {
      "cell_type": "markdown",
      "source": [
        "문자열의 특정 위치 찾기 2\n",
        "- https://inha.codetree.ai/missions/4/problems/find-specific-location-in-spring-2/description"
      ],
      "metadata": {
        "id": "HDprXSXpnUqG"
      }
    },
    {
      "cell_type": "code",
      "source": [
        "str_list = ['apple', 'banana', 'grape', 'blueberry', 'orange']\n",
        "str_val = input()\n",
        "cnt = 0\n",
        "for i in str_list:\n",
        "    if(i[2] == str_val or i[3] == str_val):\n",
        "        print(i)\n",
        "        cnt += 1\n",
        "print(cnt)"
      ],
      "metadata": {
        "id": "QGzjp3-wnWj3"
      },
      "execution_count": null,
      "outputs": []
    },
    {
      "cell_type": "markdown",
      "source": [
        "문자열 역순으로 출력하기\n",
        "- https://inha.codetree.ai/missions/4/problems/print-string-in-reverse/description"
      ],
      "metadata": {
        "id": "9vi7gKRSn0sD"
      }
    },
    {
      "cell_type": "code",
      "source": [
        "str_list = []\n",
        "for i in range(4):\n",
        "    s = input()\n",
        "    str_list.append(s)\n",
        "\n",
        "for i in range(3, -1, -1):\n",
        "    print(str_list[i])"
      ],
      "metadata": {
        "id": "X2CWNJjkn34J"
      },
      "execution_count": null,
      "outputs": []
    },
    {
      "cell_type": "markdown",
      "source": [
        "문자열의 총 길이 구하기\n",
        "- https://inha.codetree.ai/missions/4/problems/find-the-length-of-the-string/description"
      ],
      "metadata": {
        "id": "F7eY0oA8oUJW"
      }
    },
    {
      "cell_type": "code",
      "source": [
        "str_val = input()\n",
        "str_val = str_val.replace(' ', '') # 공백 제거\n",
        "print(len(str_val))"
      ],
      "metadata": {
        "id": "4nHwqcqzoXCN"
      },
      "execution_count": null,
      "outputs": []
    },
    {
      "cell_type": "markdown",
      "source": [
        "문자열 길이의 합\n",
        "- https://inha.codetree.ai/missions/4/problems/sum-length-of-string/description"
      ],
      "metadata": {
        "id": "oDxSjujyoncK"
      }
    },
    {
      "cell_type": "code",
      "source": [
        "n = int(input())\n",
        "cnt = 0\n",
        "a_cnt = 0\n",
        "for i in range(n):\n",
        "    s = input()\n",
        "    cnt += len(s)\n",
        "    if(s[0] == 'a'):\n",
        "        a_cnt += 1\n",
        "print(cnt, a_cnt)"
      ],
      "metadata": {
        "id": "Hm4SPuUWosSK"
      },
      "execution_count": null,
      "outputs": []
    },
    {
      "cell_type": "markdown",
      "source": [
        "단어로 구분하기\n",
        "- https://inha.codetree.ai/missions/4/problems/separate-words-with-words/description"
      ],
      "metadata": {
        "id": "xry0JJ-GpQt7"
      }
    },
    {
      "cell_type": "code",
      "source": [
        "str_val = list(input().split())\n",
        "for i in str_val:\n",
        "    print(i)"
      ],
      "metadata": {
        "id": "kSroSE0ApTUr"
      },
      "execution_count": null,
      "outputs": []
    },
    {
      "cell_type": "markdown",
      "source": [
        "단어로 구분하기 2\n",
        "- https://inha.codetree.ai/missions/4/problems/separate-words-with-words-2/description"
      ],
      "metadata": {
        "id": "lXJMNurQpfvV"
      }
    },
    {
      "cell_type": "code",
      "source": [
        "str_val = list(input().split())\n",
        "for i in range(len(str_val)):\n",
        "    if(i % 2 == 0):\n",
        "        print(str_val[i])"
      ],
      "metadata": {
        "id": "r4s241GFph2O"
      },
      "execution_count": null,
      "outputs": []
    },
    {
      "cell_type": "markdown",
      "source": [
        "단어로 구분하기 3\n",
        "- https://inha.codetree.ai/missions/4/problems/separate-words-with-words-3/description"
      ],
      "metadata": {
        "id": "87OyoeQgpuwh"
      }
    },
    {
      "cell_type": "code",
      "source": [
        "str_val = list(input().split())\n",
        "for i in range(len(str_val) - 1, -1, -1):\n",
        "    print(str_val[i])"
      ],
      "metadata": {
        "id": "in8Gidq6pxFg"
      },
      "execution_count": null,
      "outputs": []
    },
    {
      "cell_type": "markdown",
      "source": [
        "특정 문자로 끝나는 문자열\n",
        "- https://inha.codetree.ai/missions/4/problems/string-ending-with-specific-character/description"
      ],
      "metadata": {
        "id": "S0bpVCR_qEQW"
      }
    },
    {
      "cell_type": "code",
      "source": [
        "str_val = []\n",
        "for i in range(10):\n",
        "    s = input()\n",
        "    str_val.append(s)\n",
        "\n",
        "s = input()\n",
        "cnt = 0\n",
        "for i in range(10):\n",
        "    s_val = str_val[i]\n",
        "    if(s_val[-1] == s):\n",
        "        print(s_val)\n",
        "        cnt += 1\n",
        "if(cnt == 0):\n",
        "    print('None')"
      ],
      "metadata": {
        "id": "loH8X0uHqEEn"
      },
      "execution_count": null,
      "outputs": []
    },
    {
      "cell_type": "markdown",
      "source": [
        "특정 문자로 시작하는 문자열\n",
        "- https://inha.codetree.ai/missions/4/problems/strings-that-start-with-a-specific-character/description"
      ],
      "metadata": {
        "id": "bCsI80AZq4WW"
      }
    },
    {
      "cell_type": "code",
      "source": [
        "n = int(input())\n",
        "str_val = []\n",
        "for i in range(n):\n",
        "    s = input()\n",
        "    str_val.append(s)\n",
        "s_val = input()\n",
        "cnt, sum_val = 0, 0\n",
        "for i in range(n):\n",
        "    if(str_val[i][0] == s_val):\n",
        "        cnt += 1\n",
        "        sum_val += len(str_val[i])\n",
        "print(f'{cnt} {sum_val/cnt:.2f}')"
      ],
      "metadata": {
        "id": "i0X92CAWq5ht"
      },
      "execution_count": null,
      "outputs": []
    },
    {
      "cell_type": "markdown",
      "source": [
        "# 문자열 순회하기"
      ],
      "metadata": {
        "id": "_c-Bn-61QcaP"
      }
    },
    {
      "cell_type": "markdown",
      "source": [
        "문자열에서 문자 출력\n",
        "- https://inha.codetree.ai/missions/4/problems/print-chars-from-word/description"
      ],
      "metadata": {
        "id": "lfzdMSnSQeWg"
      }
    },
    {
      "cell_type": "code",
      "source": [
        "s = input()\n",
        "for i in range(len(s)):\n",
        "    print(s[i])"
      ],
      "metadata": {
        "id": "cBO2HFDTQgM-"
      },
      "execution_count": null,
      "outputs": []
    },
    {
      "cell_type": "markdown",
      "source": [
        "문자열 범위 출력하기 2\n",
        "- https://inha.codetree.ai/missions/4/problems/print-string-in-range-2/description"
      ],
      "metadata": {
        "id": "A8QNUpadQsXc"
      }
    },
    {
      "cell_type": "code",
      "source": [
        "s = input()\n",
        "n = int(input())\n",
        "if(len(s) < n): # 주어진 정수가 문자열의 길이보다 크다면\n",
        "    for i in range(len(s) - 1, -1, -1): # 뒤에서부터 모두 출력\n",
        "        print(s[i], end = '')\n",
        "else:\n",
        "    for i in range(len(s) - 1, len(s) - n - 1, -1):\n",
        "        print(s[i], end = '')"
      ],
      "metadata": {
        "id": "kJB-JtmqQux0"
      },
      "execution_count": null,
      "outputs": []
    },
    {
      "cell_type": "markdown",
      "source": [
        "출력결과 47\n",
        "- https://inha.codetree.ai/missions/4/problems/reading-k201723/description"
      ],
      "metadata": {
        "id": "x7b5RLANR3L8"
      }
    },
    {
      "cell_type": "code",
      "source": [
        "s = \"congratulation\"\n",
        "for i in range(len(s)):\n",
        "    if s[i] == 'a' or s[i] == 'e' or s[i] == 'i':\n",
        "        continue\n",
        "    if s[i] == 'o' or s[i] == 'u':\n",
        "        continue\n",
        "    print(s[i], end=\"\")\n",
        "# 출력결과\n",
        "# cngrtltn"
      ],
      "metadata": {
        "id": "oguY8Li-R4JK"
      },
      "execution_count": null,
      "outputs": []
    },
    {
      "cell_type": "markdown",
      "source": [
        "Run Length 인코딩\n",
        "- https://inha.codetree.ai/missions/4/problems/run-length-encoding/description"
      ],
      "metadata": {
        "id": "0YX_mYnJSD6x"
      }
    },
    {
      "cell_type": "code",
      "source": [
        "A = input()\n",
        "str_list = []\n",
        "num_list = []\n",
        "cnt = 1 # 문자 나온 횟수를 저장하는 변수 (문자열의 첫 번째 문자의 첫 횟수 저장)\n",
        "s = A[0] # 문자 비교를 위한 변수 (초기값은 문자열의 첫 번째 문자)\n",
        "# Run-Length Encoding\n",
        "if(len(A) == 1):\n",
        "    str_list.append(s)\n",
        "    num_list.append(cnt)\n",
        "for i in range(1, len(A)):\n",
        "    if(A[i] == s): # 현재 문자가 이전의 문자와 같은 경우\n",
        "        cnt += 1 # 문자 나온 횟수 1 증가\n",
        "        if(i == len(A) - 1): # 만약 문자열의 마지막 문자를 비교한 것이라면\n",
        "            num_list.append(cnt) # 문자가 나온 횟수 값을 저장\n",
        "            str_list.append(s) # 해당 문자 저장\n",
        "    else: # 현재 문자가 이전의 문자와 다른 경우\n",
        "        num_list.append(cnt) # 횟수 저장\n",
        "        str_list.append(s) # 해당 문자 저장\n",
        "        cnt = 1 # 횟수 초기화 및 새로운 문자 등장 횟수 1 증가\n",
        "        s = A[i] # 새로운 문자로 변수 교체\n",
        "        if(i == len(A) - 1): # 만약 문자열의 마지막 문자를 비교한 것이라면\n",
        "            num_list.append(cnt) # 문자가 나온 횟수 값을 저장\n",
        "            str_list.append(s) # 해당 문자 저장\n",
        "str_val = '' # Run-Length Encoding을 진행하고 난 후 문자열을 저장\n",
        "for i in range(len(str_list)):\n",
        "    str_val += str_list[i]\n",
        "    str_val += str(num_list[i])\n",
        "# 출력\n",
        "print(len(str_val))\n",
        "print(str_val)"
      ],
      "metadata": {
        "id": "jnfOzpDySFIQ"
      },
      "execution_count": null,
      "outputs": []
    },
    {
      "cell_type": "markdown",
      "source": [
        "짝수 번째만 거꾸로 출력\n",
        "- https://inha.codetree.ai/missions/4/problems/print-only-even-numbers-backwards/description"
      ],
      "metadata": {
        "id": "xjNuRSYiXIPK"
      }
    },
    {
      "cell_type": "code",
      "source": [
        "str_val = input()\n",
        "if(len(str_val) % 2 == 0): # 문자열 길이가 짝수라면\n",
        "    for i in range(len(str_val) - 1, -1, -2):\n",
        "        print(str_val[i], end = '')\n",
        "else: # 문자열 길이가 홀수라면\n",
        "    for i in range(len(str_val) - 2, -1, -2):\n",
        "        print(str_val[i], end = '')"
      ],
      "metadata": {
        "id": "FzG_7WmDYHx4"
      },
      "execution_count": null,
      "outputs": []
    },
    {
      "cell_type": "markdown",
      "source": [
        "# 문자열 Concat"
      ],
      "metadata": {
        "id": "iX6fZ7VQH2TT"
      }
    },
    {
      "cell_type": "markdown",
      "source": [
        "문자열 추가하기\n",
        "- https://inha.codetree.ai/missions/4/problems/add-spring/description"
      ],
      "metadata": {
        "id": "EhQBNz7RH53B"
      }
    },
    {
      "cell_type": "code",
      "source": [
        "str_val = input()\n",
        "print(str_val + 'Hello', sep = '')"
      ],
      "metadata": {
        "id": "NxImBzrbH7ow"
      },
      "execution_count": null,
      "outputs": []
    },
    {
      "cell_type": "markdown",
      "source": [
        "문자열 전부 붙이기\n",
        "- https://inha.codetree.ai/missions/4/problems/paste-all-string/description"
      ],
      "metadata": {
        "id": "d9c5q6QbIDEO"
      }
    },
    {
      "cell_type": "code",
      "source": [
        "n = int(input())\n",
        "str_val = ''\n",
        "\n",
        "for i in range(n):\n",
        "    s = input()\n",
        "    str_val += s\n",
        "\n",
        "print(str_val)"
      ],
      "metadata": {
        "id": "P9CYKLLSIGUg"
      },
      "execution_count": null,
      "outputs": []
    },
    {
      "cell_type": "markdown",
      "source": [
        "문자열 나누기\n",
        "- https://inha.codetree.ai/missions/4/problems/divide-string/description"
      ],
      "metadata": {
        "id": "1dKLtVG5IUQV"
      }
    },
    {
      "cell_type": "code",
      "source": [
        "n = int(input())\n",
        "str_list = list(input().split())\n",
        "str_val = ''\n",
        "\n",
        "for i in range(len(str_list)):\n",
        "    str_val += str_list[i]\n",
        "\n",
        "for i in range(0, len(str_val), 5):\n",
        "    if(len(str_val) - 5 < 5):\n",
        "        print(str_val[i:])\n",
        "    else:\n",
        "        print(str_val[i:i+5])"
      ],
      "metadata": {
        "id": "EKgyQoMrIgm3"
      },
      "execution_count": null,
      "outputs": []
    },
    {
      "cell_type": "markdown",
      "source": [
        "두 문자열을 이어붙였을 때\n",
        "- https://inha.codetree.ai/missions/4/problems/when-two-strings-are-concatenated/description"
      ],
      "metadata": {
        "id": "1qHuomsUJvEQ"
      }
    },
    {
      "cell_type": "code",
      "source": [
        "A = input()\n",
        "B = input()\n",
        "A_B = A + B\n",
        "B_A = B + A\n",
        "if(A_B == B_A):\n",
        "    print('true')\n",
        "else:\n",
        "    print('false')"
      ],
      "metadata": {
        "id": "tnlbDoUeJxJ1"
      },
      "execution_count": null,
      "outputs": []
    },
    {
      "cell_type": "markdown",
      "source": [
        "# 문자열 찾기"
      ],
      "metadata": {
        "id": "A0cfYvS1J-eA"
      }
    },
    {
      "cell_type": "markdown",
      "source": [
        "특정 문자의 유무\n",
        "- https://inha.codetree.ai/missions/4/problems/specific-character-presence/description"
      ],
      "metadata": {
        "id": "EUX6_84PKBZ-"
      }
    },
    {
      "cell_type": "code",
      "source": [
        "str_val = input()\n",
        "if('ee' in str_val):\n",
        "    print('Yes', end = ' ')\n",
        "else:\n",
        "    print('No', end = ' ')\n",
        "if('ab' in str_val):\n",
        "    print('Yes')\n",
        "else:\n",
        "    print('No')"
      ],
      "metadata": {
        "id": "0e4Rc8n6KDEd"
      },
      "execution_count": null,
      "outputs": []
    },
    {
      "cell_type": "markdown",
      "source": [
        "문자열의 특정 위치 찾기\n",
        "- https://inha.codetree.ai/missions/4/problems/find-specific-location-in-spring/description"
      ],
      "metadata": {
        "id": "5BjndqusKYOs"
      }
    },
    {
      "cell_type": "code",
      "source": [
        "str_val, s = input().split()\n",
        "num = str_val.find(s) # 문자의 문자열 위치 찾는 함수는 find (문자열에 문자가 없는 경우 -1 반환)\n",
        "if(num == -1):\n",
        "    print('No')\n",
        "else:\n",
        "    print(num)"
      ],
      "metadata": {
        "id": "h-_XIwTnKavk"
      },
      "execution_count": null,
      "outputs": []
    },
    {
      "cell_type": "markdown",
      "source": [
        "특정 문자의 등장 횟수\n",
        "- https://inha.codetree.ai/missions/4/problems/number-appearances-of-a-particular-character/description"
      ],
      "metadata": {
        "id": "YJfVgZlpLIMn"
      }
    },
    {
      "cell_type": "code",
      "source": [
        "str_list = input()\n",
        "ee_count = 0\n",
        "eb_count = 0\n",
        "cnt = 0\n",
        "for i in range(len(str_list)):\n",
        "    if(cnt == 0):\n",
        "        if(str_list[i] == 'e'): # e가 처음으로 나오는 경우\n",
        "            cnt += 1 # cnt 횟수 1 증가\n",
        "    else:\n",
        "        if(str_list[i] == 'e'): # ee가 나오는 경우\n",
        "            ee_count += 1 # ee_count에 1 증가, cnt는 초기화하지 않고 그대로(eee같은 문자열이 있을 수 있으므로)\n",
        "        elif(str_list[i] == 'b'): # eb가 나오는 경우\n",
        "            eb_count += 1 # eb_count에 1증가\n",
        "            cnt = 0 # cnt 초기화\n",
        "        else: # 다른 문자가 나오는 경우\n",
        "            cnt = 0 # cnt 초기화\n",
        "print(ee_count, eb_count)"
      ],
      "metadata": {
        "id": "s1T6IPx5LJac"
      },
      "execution_count": null,
      "outputs": []
    },
    {
      "cell_type": "markdown",
      "source": [
        "부분문자열 위치 구하기\n",
        "- https://inha.codetree.ai/missions/4/problems/find-location-of-substring/description"
      ],
      "metadata": {
        "id": "cJ4ApV7fNLlR"
      }
    },
    {
      "cell_type": "code",
      "source": [
        "input_str = input()\n",
        "purpose_str = input()\n",
        "idx = 0 # 시작 인덱스 값을 저장하는 변수\n",
        "cnt = 0 # 입력 문자열과 비교하기 위한 인덱스 변수\n",
        "for i in range(len(input_str)):\n",
        "    if(input_str[i] != purpose_str[cnt]): # 비교했을 때 다른 경우\n",
        "        cnt = 0 # 초기화\n",
        "        idx = -1 # 초기화\n",
        "        if(input_str[i] == purpose_str[cnt]): # 그러나 목적 문자열의 처음과 해당 입력 문자열과 같은 경우\n",
        "            cnt += 1\n",
        "            idx = i\n",
        "    else: # 비교했을 때 같은 경우\n",
        "        if(cnt == 0): # 목적 문자열의 처음과 같은 경우\n",
        "            cnt += 1\n",
        "            idx = i # 시작 인덱스 설정\n",
        "        else: # 목적 문자열의 중간과 같은 경우\n",
        "            cnt += 1\n",
        "            if(cnt == len(purpose_str)): # 마지막까지 같은 경우\n",
        "                break # 종료\n",
        "# 출력\n",
        "if(idx != -1 and (cnt == len(purpose_str))): # 인덱스 값이 있고, 처음부터 끝까지 문자열이 같다면\n",
        "    print(idx) # 시작 인덱스 출력\n",
        "else:\n",
        "    print(-1)"
      ],
      "metadata": {
        "id": "fKj6fwLxNMuT"
      },
      "execution_count": null,
      "outputs": []
    },
    {
      "cell_type": "markdown",
      "source": [
        "부분 문자열의 개수\n",
        "- https://inha.codetree.ai/missions/4/problems/number-of-substrings/description"
      ],
      "metadata": {
        "id": "zOi1T2bVSPT-"
      }
    },
    {
      "cell_type": "code",
      "source": [
        "A = input()\n",
        "B = input() # 문자열 길이는 2로 고정\n",
        "part_count = 0 # 부분 문자열로 등장하는 횟수\n",
        "cnt = 0\n",
        "for i in range(len(A)):\n",
        "    if(cnt == 0):\n",
        "        if(A[i] == B[0]): # B의 첫 번째 문자가 처음으로 나오는 경우\n",
        "            cnt += 1 # cnt 횟수 1 증가\n",
        "    else:\n",
        "        if(A[i] == B[1]): # 문자열 B가 A의 부분 문자열로 존재하는 경우\n",
        "            part_count += 1\n",
        "            if(A[i] == B[0]): # 다시 문자열 B의 첫 번째 문자가 해당 A의 값과 같은 경우\n",
        "            # ex. A: aaaa, B: aa 가 주어지는 경우\n",
        "                continue\n",
        "            else: # 문자열 B의 첫 번째 문자가 해당 A의 값과 다른 경우\n",
        "                cnt = 0 # 초기화\n",
        "        else: # 문자열 B가 A의 부분 문자열로 존재하지 않는 경우\n",
        "            cnt = 0 # 초기화\n",
        "            if(A[i] == B[0]): # 문자열 B의 첫 번째 문자가 해당 A의 값과 같은 경우\n",
        "                cnt = 1\n",
        "\n",
        "print(part_count)"
      ],
      "metadata": {
        "id": "UZyxLMV1SPuJ"
      },
      "execution_count": null,
      "outputs": []
    },
    {
      "cell_type": "markdown",
      "source": [
        "# 문자 수정"
      ],
      "metadata": {
        "id": "3HqrBgAuSgdk"
      }
    },
    {
      "cell_type": "markdown",
      "source": [
        "a로 채워넣기\n",
        "- https://inha.codetree.ai/missions/4/problems/filling-with-a/introduction"
      ],
      "metadata": {
        "id": "LhXnls1VScEE"
      }
    },
    {
      "cell_type": "code",
      "source": [
        "str_val = input()\n",
        "str_val = str_val[:1] + 'a' + str_val[2:len(str_val) - 2] + 'a' + str_val[len(str_val) - 1]\n",
        "print(str_val)"
      ],
      "metadata": {
        "id": "Gzv8Kt55Sd0u"
      },
      "execution_count": null,
      "outputs": []
    },
    {
      "cell_type": "markdown",
      "source": [
        "문자 교체하기\n",
        "- https://inha.codetree.ai/missions/4/problems/changing-char/description"
      ],
      "metadata": {
        "id": "scobi126QVbl"
      }
    },
    {
      "cell_type": "code",
      "source": [
        "A, B = input().split()\n",
        "str_val = A[:2] + B[2:]\n",
        "print(str_val)"
      ],
      "metadata": {
        "id": "aVkSoGmPQVq9"
      },
      "execution_count": null,
      "outputs": []
    },
    {
      "cell_type": "markdown",
      "source": [
        "첫 번째와 두 번째 교환\n",
        "- https://inha.codetree.ai/missions/4/problems/exchange-1st-and-2nd/description"
      ],
      "metadata": {
        "id": "Qbwle6eWQa68"
      }
    },
    {
      "cell_type": "code",
      "source": [
        "A = input()\n",
        "first_val = A[0]\n",
        "second_val = A[1]\n",
        "for i in range(len(A)):\n",
        "    if(A[i] == first_val):\n",
        "        print(second_val, end = '')\n",
        "    elif(A[i] == second_val):\n",
        "        print(first_val, end = '')\n",
        "    else:\n",
        "        print(A[i], end = '')"
      ],
      "metadata": {
        "id": "PFPTXZMdQcWq"
      },
      "execution_count": null,
      "outputs": []
    },
    {
      "cell_type": "markdown",
      "source": [
        "문자열 놀이\n",
        "- https://inha.codetree.ai/missions/4/problems/play-with-string/description"
      ],
      "metadata": {
        "id": "1X25OCcxRfBy"
      }
    },
    {
      "cell_type": "code",
      "source": [
        "s, q = input().split()\n",
        "q = int(q)\n",
        "for i in range(q):\n",
        "    num, a, b = input().split()\n",
        "    if(num == '1'):\n",
        "        # a번째 문자와 b번째 문자를 교환한 뒤 출력\n",
        "        a, b = int(a) - 1, int(b) - 1 # -1은 실제 문자 순서와 인덱스 순서가 1만큼 차이나므로\n",
        "        if(a < b): # a보다 b가 크면\n",
        "            s = s[:a] + s[b] + s[a+1:b] + s[a] + s[b+1:]\n",
        "        else: # b보다 a가 크면\n",
        "            s = s[:b] + s[a] + s[b+1:a] + s[b] + s[a+1:]\n",
        "        print(s)\n",
        "    elif(num == '2'):\n",
        "        # 문자 a를 전부 문자 b로 변경한 뒤 출력\n",
        "        s = s.replace(a, b)\n",
        "        print(s)"
      ],
      "metadata": {
        "id": "IF4Vr_iWRgQI"
      },
      "execution_count": null,
      "outputs": []
    },
    {
      "cell_type": "markdown",
      "source": [
        "두 번째를 첫 번째로\n",
        "- https://inha.codetree.ai/missions/4/problems/second-to-first/description"
      ],
      "metadata": {
        "id": "HfKDVc_CWA9Z"
      }
    },
    {
      "cell_type": "code",
      "source": [
        "str_val = input()\n",
        "s_one, s_two = str_val[0], str_val[1]\n",
        "str_val = str_val.replace(s_two, s_one)\n",
        "print(str_val)"
      ],
      "metadata": {
        "id": "BigCPKPFWFbB"
      },
      "execution_count": null,
      "outputs": []
    },
    {
      "cell_type": "markdown",
      "source": [
        "# 문자 삭제"
      ],
      "metadata": {
        "id": "Rg-XLLtrXbhe"
      }
    },
    {
      "cell_type": "markdown",
      "source": [
        "양옆 문자 제거하기\n",
        "- https://inha.codetree.ai/missions/4/problems/del-both-side-char/description"
      ],
      "metadata": {
        "id": "f1u-1P49XcNV"
      }
    },
    {
      "cell_type": "code",
      "source": [
        "str_val = input()\n",
        "for i in range(len(str_val)):\n",
        "    if(i == 1 or i == len(str_val) - 2):\n",
        "        continue\n",
        "    else:\n",
        "        print(str_val[i], end = '')"
      ],
      "metadata": {
        "id": "nV_Jdev_XeCt"
      },
      "execution_count": null,
      "outputs": []
    },
    {
      "cell_type": "markdown",
      "source": [
        "문자 제거하기\n",
        "- https://inha.codetree.ai/missions/4/problems/del-char/description"
      ],
      "metadata": {
        "id": "4Z3pnsmkYJVA"
      }
    },
    {
      "cell_type": "code",
      "source": [
        "str_val = input()\n",
        "while(len(str_val) != 1):\n",
        "    num = int(input())\n",
        "    if(num >= len(str_val)):\n",
        "        str_val = str_val[:len(str_val) - 1]\n",
        "        print(str_val)\n",
        "    else:\n",
        "        str_val = str_val[:num] + str_val[num + 1:]\n",
        "        print(str_val)"
      ],
      "metadata": {
        "id": "kNvJKZWuYLJo"
      },
      "execution_count": null,
      "outputs": []
    },
    {
      "cell_type": "markdown",
      "source": [
        "문자열 계속 지우기\n",
        "- https://inha.codetree.ai/missions/4/problems/keep-removing-string/description"
      ],
      "metadata": {
        "id": "QGTVMVabZlfW"
      }
    },
    {
      "cell_type": "markdown",
      "source": [
        "해결에 실패한 본인 코드"
      ],
      "metadata": {
        "id": "raz_auD1gupW"
      }
    },
    {
      "cell_type": "code",
      "source": [
        "A = input()\n",
        "B = input()\n",
        "rep = 1\n",
        "while(rep):\n",
        "    first_val = 0\n",
        "    cnt = 0\n",
        "    for i in range(len(A)):\n",
        "        if(cnt == 0): # 첫 비교가 필요한 경우\n",
        "            if(len(A[i:]) < len(B)):\n",
        "                rep = 0\n",
        "                break\n",
        "            if(A[i] == B[cnt]): # B의 첫 번째 문자와 같다면\n",
        "                first_val = i # A의 해당 인덱스 저장\n",
        "                cnt += 1\n",
        "                if(cnt == len(B)): # B의 문자열이 A의 부분 문자열이라면\n",
        "                    break # for문 탈출\n",
        "            if(i == len(A) - 1): # 만약 마지막까지 비교했는데 없다면\n",
        "                rep = 0 # 부분문자열이 없으므로 while문 반복을 끝낸다.\n",
        "        else: # 2번째 비교부터\n",
        "            if(A[i] == B[cnt]): # B의 cnt번째 문자가 A의 i번째 문자와 같다면\n",
        "                cnt += 1\n",
        "                if(cnt == len(B)): # # B의 문자열이 A의 부분 문자열이라면\n",
        "                    break # for문 탈출\n",
        "            else: # B의 cnt번째 문자가 A의 i번째 문자와 다르다면\n",
        "                cnt = 0 # 초기화\n",
        "                first_val = 0 # 초기화\n",
        "                if(A[i] == B[cnt]): # 근데 A의 i번째 문자와 B의 cnt(첫번째)번째와 같다면\n",
        "                    cnt += 1\n",
        "                    first_val = i # A의 해당 인덱스 저장\n",
        "            if(i == len(A) and cnt < len(B)): # 만약 마지막까지 비교했는데 없다면\n",
        "                rep = 0 # 부분문자열이 없으므로 while문 반복을 끝낸다.\n",
        "    if(rep == 1): # 부분 문자열 지울 곳이 있다면\n",
        "        A = A[:first_val] + A[first_val + len(B):] # 해당 값은 지운다.\n",
        "        if(A == ''): # 문자열 A가 모두 지워진 경우\n",
        "            print(A) # 공백 출력 후\n",
        "            rep = 0 # while문 탈출\n",
        "    else: # 없다면\n",
        "        print(A) # 출력하고 종료"
      ],
      "metadata": {
        "id": "mCvjRZ5dZmxj"
      },
      "execution_count": null,
      "outputs": []
    },
    {
      "cell_type": "markdown",
      "source": [
        "예시 답안"
      ],
      "metadata": {
        "id": "92l61DYxgwl9"
      }
    },
    {
      "cell_type": "code",
      "source": [
        "# 예시 답안\n",
        "# 변수 선언 및 입력:\n",
        "A = input()\n",
        "B = input()\n",
        "\n",
        "# A에서 B를 찾는다. 찾을 수 없을 때까지 반복한다.\n",
        "while A.find(B) != -1:\n",
        "    start_val = A.find(B)\n",
        "    # start_val부터 len(B)개의 문자를 지운다.\n",
        "    A = A[:start_val] + A[start_val + len(B):]\n",
        "\n",
        "print(A)"
      ],
      "metadata": {
        "id": "RaRU221RghCh"
      },
      "execution_count": null,
      "outputs": []
    },
    {
      "cell_type": "markdown",
      "source": [
        "e 제거하기\n",
        "- https://inha.codetree.ai/missions/4/problems/e-to-remove/description"
      ],
      "metadata": {
        "id": "MyZK-3LdhCVW"
      }
    },
    {
      "cell_type": "code",
      "source": [
        "s = input()\n",
        "\n",
        "start_val = s.find('e')\n",
        "s = s[:start_val] + s[start_val + 1:]\n",
        "\n",
        "print(s)"
      ],
      "metadata": {
        "id": "jc6UslkzhDQY"
      },
      "execution_count": null,
      "outputs": []
    },
    {
      "cell_type": "markdown",
      "source": [
        "# 문자열 밀기"
      ],
      "metadata": {
        "id": "8p3XpLoJ9OHO"
      }
    },
    {
      "cell_type": "markdown",
      "source": [
        "문자열 밀기\n",
        "- https://inha.codetree.ai/missions/4/problems/push-char/description"
      ],
      "metadata": {
        "id": "P5AXkrZk9P09"
      }
    },
    {
      "cell_type": "code",
      "source": [
        "s = input()\n",
        "s = s[1:] + s[0]\n",
        "print(s)"
      ],
      "metadata": {
        "id": "DQdSC2V-9SZI"
      },
      "execution_count": null,
      "outputs": []
    },
    {
      "cell_type": "markdown",
      "source": [
        "문자열 돌리기\n",
        "- https://inha.codetree.ai/missions/4/problems/SPin-SPring/description"
      ],
      "metadata": {
        "id": "xKzYhA_v9bxn"
      }
    },
    {
      "cell_type": "code",
      "source": [
        "s = input()\n",
        "L = len(s)\n",
        "print(s)\n",
        "for i in range(L):\n",
        "    s = s[-1] + s[:-1]\n",
        "    print(s)"
      ],
      "metadata": {
        "id": "klo9M-Gx9eNt"
      },
      "execution_count": null,
      "outputs": []
    },
    {
      "cell_type": "markdown",
      "source": [
        "문자열 한 칸씩 밀어내며 뒤집기\n",
        "- https://inha.codetree.ai/missions/4/problems/shift-reverse-string/description"
      ],
      "metadata": {
        "id": "esZQODle93BG"
      }
    },
    {
      "cell_type": "code",
      "source": [
        "s, q = input().split()\n",
        "q = int(q)\n",
        "for i in range(q):\n",
        "    num = int(input())\n",
        "    if(num == 1):\n",
        "        s = s[1:] + s[0]\n",
        "        print(s)\n",
        "    elif(num == 2):\n",
        "        s = s[-1] + s[:-1]\n",
        "        print(s)\n",
        "    else:\n",
        "        temp = ''\n",
        "        for i in range(len(s) - 1, -1, -1):\n",
        "            temp += s[i]\n",
        "        s = temp\n",
        "        print(s)\n",
        "        # 또 다른 풀이 1\n",
        "        # 문자열을 좌우로 뒤집고 문자열을 출력\n",
        "\t\t#s = s[::-1]\n",
        "\t\t#print(s)"
      ],
      "metadata": {
        "id": "nKVNbApB95B_"
      },
      "execution_count": null,
      "outputs": []
    },
    {
      "cell_type": "markdown",
      "source": [
        "규칙에 따라 밀기\n",
        "- https://inha.codetree.ai/missions/4/problems/push-by-the-rules/description"
      ],
      "metadata": {
        "id": "W5IJQ0xT_feV"
      }
    },
    {
      "cell_type": "code",
      "source": [
        "A = input()\n",
        "order_list = input()\n",
        "for i in range(len(order_list)):\n",
        "    if(order_list[i] == 'L'):\n",
        "        A = A[1:] + A[0]\n",
        "    else:\n",
        "        A = A[-1] + A[:-1]\n",
        "print(A)"
      ],
      "metadata": {
        "id": "PUtv0W6g_h1l"
      },
      "execution_count": null,
      "outputs": []
    },
    {
      "cell_type": "markdown",
      "source": [
        "# 아스키 코드"
      ],
      "metadata": {
        "id": "AAVnlFPO_7r1"
      }
    },
    {
      "cell_type": "markdown",
      "source": [
        "아스키코드의 합과 차\n",
        "- https://inha.codetree.ai/missions/4/problems/sum-and-subtract-in-ASCII/description"
      ],
      "metadata": {
        "id": "XR14B3uD_-Qw"
      }
    },
    {
      "cell_type": "code",
      "source": [
        "s1, s2 = input().split()\n",
        "s1, s2 = ord(s1), ord(s2)\n",
        "if(s1 >= s2):\n",
        "    print(s1 + s2, s1 - s2)\n",
        "else:\n",
        "    print(s1 + s2, s2 - s1)"
      ],
      "metadata": {
        "id": "vc7yXM6qAAMX"
      },
      "execution_count": null,
      "outputs": []
    },
    {
      "cell_type": "markdown",
      "source": [
        "아스키코드표 맞추기\n",
        "- https://inha.codetree.ai/missions/4/problems/chart-of-ASCII/description"
      ],
      "metadata": {
        "id": "CpBre79lAMcd"
      }
    },
    {
      "cell_type": "code",
      "source": [
        "num_list = list(map(int, input().split()))\n",
        "for i in num_list:\n",
        "    print(chr(i), end = ' ') # 아스키코드 값을 문자로 바꾸는 함수는 chr() 함수"
      ],
      "metadata": {
        "id": "92IP5s3EAPmf"
      },
      "execution_count": null,
      "outputs": []
    },
    {
      "cell_type": "markdown",
      "source": [
        "아스키코드 변환\n",
        "- https://inha.codetree.ai/missions/4/problems/convert-to-ascii/description"
      ],
      "metadata": {
        "id": "2KkmyI-WAd4Q"
      }
    },
    {
      "cell_type": "code",
      "source": [
        "a, b = input().split()\n",
        "b = int(b)\n",
        "print(ord(a), chr(b))"
      ],
      "metadata": {
        "id": "8TU9tqeHAgU-"
      },
      "execution_count": null,
      "outputs": []
    },
    {
      "cell_type": "markdown",
      "source": [
        "그 다음 알파벳\n",
        "- https://inha.codetree.ai/missions/4/problems/next-alphabet/description"
      ],
      "metadata": {
        "id": "pc1YLbG_AqSG"
      }
    },
    {
      "cell_type": "code",
      "source": [
        "s = input()\n",
        "if(s == 'z'):\n",
        "    print('a')\n",
        "else:\n",
        "    print(chr(ord(s) + 1))"
      ],
      "metadata": {
        "id": "KWgn29Z-CJSP"
      },
      "execution_count": null,
      "outputs": []
    },
    {
      "cell_type": "markdown",
      "source": [
        "출력결과 76\n",
        "- https://inha.codetree.ai/missions/4/problems/reading-k201831/description"
      ],
      "metadata": {
        "id": "Rk7l1513CNB3"
      }
    },
    {
      "cell_type": "code",
      "source": [
        "str1 = \"Lucky Boy\"\n",
        "score = 0\n",
        "for c in str1:\n",
        "    if c >= 'A' and c <= 'Z':\n",
        "        score += ord(c) - ord('A') + 1\n",
        "\n",
        "print(score)\n",
        "# 출력결과\n",
        "# 14"
      ],
      "metadata": {
        "id": "N5LOc6RsCOaF"
      },
      "execution_count": null,
      "outputs": []
    },
    {
      "cell_type": "markdown",
      "source": [
        "그 전 알파벳\n",
        "- https://inha.codetree.ai/missions/4/problems/before-the-alphabet/description"
      ],
      "metadata": {
        "id": "zdJXo-PMCV1O"
      }
    },
    {
      "cell_type": "code",
      "source": [
        "s = input()\n",
        "if(s == 'a'):\n",
        "    print('z')\n",
        "else:\n",
        "    print(chr(ord(s) - 1))"
      ],
      "metadata": {
        "id": "ggx3CgIcCYgN"
      },
      "execution_count": null,
      "outputs": []
    },
    {
      "cell_type": "markdown",
      "source": [
        "# 대소문자 변환"
      ],
      "metadata": {
        "id": "_E9QsrQ8ChJL"
      }
    },
    {
      "cell_type": "markdown",
      "source": [
        "대문자로 출력하기\n",
        "- https://inha.codetree.ai/missions/4/problems/print-in-capital/description"
      ],
      "metadata": {
        "id": "MmU-GYjECj_v"
      }
    },
    {
      "cell_type": "code",
      "source": [
        "s = input()\n",
        "# print(ord('a'), ord('z'), ord('A'), ord('Z')) # 97 122 65 90\n",
        "for i in range(len(s)):\n",
        "    if(ord(s[i]) >= 65 and ord(s[i]) <= 90): # 대문자인 경우\n",
        "        print(s[i], end = '')\n",
        "    elif(ord(s[i]) >= 97 and ord(s[i]) <= 122): # 소문자인 경우\n",
        "        print(s[i].upper(), end = '')\n",
        "    else: # 알파벳이 아니면\n",
        "        pass # 출력 안하고 패스"
      ],
      "metadata": {
        "id": "Pq2870qVCmEg"
      },
      "execution_count": null,
      "outputs": []
    },
    {
      "cell_type": "markdown",
      "source": [
        "소문자와 숫자\n",
        "- https://inha.codetree.ai/missions/4/problems/letter-and-number/description"
      ],
      "metadata": {
        "id": "6EThR-wqDquA"
      }
    },
    {
      "cell_type": "code",
      "source": [
        "s = input()\n",
        "#print(ord('0'), ord('9')) # 48 57\n",
        "for i in range(len(s)):\n",
        "    if(ord(s[i]) >= 65 and ord(s[i]) <= 90): # 대문자인 경우\n",
        "        print(s[i].lower(), end = '')\n",
        "    elif(ord(s[i]) >= 97 and ord(s[i]) <= 122): # 소문자인 경우\n",
        "        print(s[i], end = '')\n",
        "    elif(ord(s[i]) >= 48 and ord(s[i]) <= 57): # 숫자인 경우\n",
        "        print(s[i], end = '')\n",
        "    else: # 알파벳이 아니면\n",
        "        pass # 출력 안하고 패스"
      ],
      "metadata": {
        "id": "hH0z7EVIEZN4"
      },
      "execution_count": null,
      "outputs": []
    },
    {
      "cell_type": "markdown",
      "source": [
        "정수만 더하기\n",
        "- https://inha.codetree.ai/missions/4/problems/add-only-integers/description"
      ],
      "metadata": {
        "id": "PKtneaEEEd6J"
      }
    },
    {
      "cell_type": "code",
      "source": [
        "A = input()\n",
        "sum_val = 0\n",
        "for i in range(len(A)):\n",
        "    if(ord(A[i]) >= 48 and ord(A[i]) <= 57):\n",
        "        sum_val += int(A[i])\n",
        "print(sum_val)"
      ],
      "metadata": {
        "id": "7HPG44ASEgwu"
      },
      "execution_count": null,
      "outputs": []
    },
    {
      "cell_type": "markdown",
      "source": [
        "대문자 소문자 바꾸기\n",
        "- https://inha.codetree.ai/missions/4/problems/change-uppercase-and-lowercase/description"
      ],
      "metadata": {
        "id": "nU1gLdrcFQ75"
      }
    },
    {
      "cell_type": "code",
      "source": [
        "s = input()\n",
        "for i in range(len(s)):\n",
        "    if(ord(s[i]) >= 65 and ord(s[i]) <= 90): # 대문자인 경우\n",
        "        print(s[i].lower(), end = '')\n",
        "    elif(ord(s[i]) >= 97 and ord(s[i]) <= 122): # 소문자인 경우\n",
        "        print(s[i].upper(), end = '')"
      ],
      "metadata": {
        "id": "1sK1mTuHFSEI"
      },
      "execution_count": null,
      "outputs": []
    },
    {
      "cell_type": "markdown",
      "source": [
        "# 문자열을 정수로 변환하기"
      ],
      "metadata": {
        "id": "uw4dMDOl3CX2"
      }
    },
    {
      "cell_type": "markdown",
      "source": [
        "붙여서 합하기\n",
        "- https://inha.codetree.ai/missions/4/problems/add-and-add/description"
      ],
      "metadata": {
        "id": "NMf9CmRF3Gpt"
      }
    },
    {
      "cell_type": "code",
      "source": [
        "A, B = input().split()\n",
        "num1, num2 = int(A + B), int(B + A)\n",
        "print(num1 + num2)"
      ],
      "metadata": {
        "id": "MnyT-vkC3JJz"
      },
      "execution_count": null,
      "outputs": []
    },
    {
      "cell_type": "markdown",
      "source": [
        "정수만 추출하기\n",
        "- https://inha.codetree.ai/missions/4/problems/extract-only-integers/description"
      ],
      "metadata": {
        "id": "j2zCFXiE3ew6"
      }
    },
    {
      "cell_type": "code",
      "source": [
        "A, B = input().split()\n",
        "num1, num2 = '0', '0'\n",
        "\n",
        "for i in range(len(A)):\n",
        "    if(ord(A[i]) >= 48 and ord(A[i]) <= 57):\n",
        "        num1 += A[i]\n",
        "    else:\n",
        "        break\n",
        "for i in range(len(B)):\n",
        "    if(ord(B[i]) >= 48 and ord(B[i]) <= 57):\n",
        "        num2 += B[i]\n",
        "    else:\n",
        "        break\n",
        "\n",
        "num1, num2 = int(num1), int(num2)\n",
        "print(num1 + num2)"
      ],
      "metadata": {
        "id": "qs_oGeOh3hyj"
      },
      "execution_count": null,
      "outputs": []
    },
    {
      "cell_type": "markdown",
      "source": [
        "알파벳 지우기\n",
        "- https://inha.codetree.ai/missions/4/problems/remove-alphabet/description"
      ],
      "metadata": {
        "id": "Pcx0ZLKQ4nxy"
      }
    },
    {
      "cell_type": "code",
      "source": [
        "A = input()\n",
        "B = input()\n",
        "num1, num2 = '0', '0'\n",
        "\n",
        "for i in range(len(A)):\n",
        "    if(ord(A[i]) >= 48 and ord(A[i]) <= 57):\n",
        "        num1 += A[i]\n",
        "    else:\n",
        "        pass\n",
        "for i in range(len(B)):\n",
        "    if(ord(B[i]) >= 48 and ord(B[i]) <= 57):\n",
        "        num2 += B[i]\n",
        "    else:\n",
        "        pass\n",
        "\n",
        "num1, num2 = int(num1), int(num2)\n",
        "print(num1 + num2)"
      ],
      "metadata": {
        "id": "1s-BAe304tTd"
      },
      "execution_count": null,
      "outputs": []
    },
    {
      "cell_type": "markdown",
      "source": [
        "# 정수를 문자열로 변환하기"
      ],
      "metadata": {
        "id": "uvjoqIBR5o61"
      }
    },
    {
      "cell_type": "markdown",
      "source": [
        "두 수의 합과 1\n",
        "- https://inha.codetree.ai/missions/4/problems/two-nums-sum-and-1/description"
      ],
      "metadata": {
        "id": "NfnLFP9C5sa8"
      }
    },
    {
      "cell_type": "code",
      "source": [
        "num1, num2 = map(int, input().split())\n",
        "num = num1 + num2\n",
        "num = str(num)\n",
        "cnt = 0\n",
        "for i in range(len(num)):\n",
        "    if(num[i] == '1'):\n",
        "        cnt += 1\n",
        "print(cnt)"
      ],
      "metadata": {
        "id": "L2IdxAGF5uqY"
      },
      "execution_count": null,
      "outputs": []
    },
    {
      "cell_type": "markdown",
      "source": [
        "각 자리 숫자들의 합\n",
        "- https://inha.codetree.ai/missions/4/problems/sum-of-each-digit/description"
      ],
      "metadata": {
        "id": "GjXp-xGr6jyK"
      }
    },
    {
      "cell_type": "code",
      "source": [
        "n = input()\n",
        "num = 0\n",
        "for i in range(len(n)):\n",
        "    num += int(n[i])\n",
        "print(num)"
      ],
      "metadata": {
        "id": "lbJ640au6mFa"
      },
      "execution_count": null,
      "outputs": []
    },
    {
      "cell_type": "markdown",
      "source": [
        "합을 옆으로 밀어 출력\n",
        "- https://inha.codetree.ai/missions/4/problems/push-the-sum-sideways-to-output/description"
      ],
      "metadata": {
        "id": "p34QjWrg6yCJ"
      }
    },
    {
      "cell_type": "code",
      "source": [
        "n = int(input())\n",
        "sum_val = 0\n",
        "for i in range(n):\n",
        "    num = int(input())\n",
        "    sum_val += num\n",
        "sum_val = str(sum_val)\n",
        "print(sum_val[1:] + sum_val[0])"
      ],
      "metadata": {
        "id": "Wr5colAu7jEw"
      },
      "execution_count": null,
      "outputs": []
    },
    {
      "cell_type": "markdown",
      "source": [
        "# 문자열 비교"
      ],
      "metadata": {
        "id": "V0LaPvga7joG"
      }
    },
    {
      "cell_type": "markdown",
      "source": [
        "문자열 비교\n",
        "- https://inha.codetree.ai/missions/4/problems/num-of-correct-string/description"
      ],
      "metadata": {
        "id": "ZiBpIOOk7oom"
      }
    },
    {
      "cell_type": "code",
      "source": [
        "n, A = input().split()\n",
        "n = int(n)\n",
        "cnt = 0\n",
        "for i in range(n):\n",
        "    s = input()\n",
        "    if(A == s):\n",
        "        cnt += 1\n",
        "print(cnt)"
      ],
      "metadata": {
        "id": "aYOfoc4U7rzl"
      },
      "execution_count": null,
      "outputs": []
    },
    {
      "cell_type": "markdown",
      "source": [
        "문자열 거꾸로 출력하기\n",
        "- https://inha.codetree.ai/missions/4/problems/print-string-backward/description"
      ],
      "metadata": {
        "id": "UqCWLAyf8KLp"
      }
    },
    {
      "cell_type": "code",
      "source": [
        "while(True):\n",
        "    s = input()\n",
        "    if(s == 'END'):\n",
        "        break\n",
        "    else:\n",
        "        for i in range(len(s) - 1, -1, -1):\n",
        "            print(s[i], end = '')\n",
        "        print()"
      ],
      "metadata": {
        "id": "kJtr2dCC8Nwc"
      },
      "execution_count": null,
      "outputs": []
    },
    {
      "cell_type": "markdown",
      "source": [
        "문자열의 개수\n",
        "- https://inha.codetree.ai/missions/4/problems/number-of-spring/description"
      ],
      "metadata": {
        "id": "NRtfKQmu8q6d"
      }
    },
    {
      "cell_type": "code",
      "source": [
        "num = 0\n",
        "str_list = []\n",
        "\n",
        "while(True):\n",
        "    s = input()\n",
        "    if(s == '0'):\n",
        "        break\n",
        "    else:\n",
        "        str_list.append(s)\n",
        "        num += 1\n",
        "\n",
        "print(num)\n",
        "for i in range(len(str_list)):\n",
        "    if(i % 2 == 0):\n",
        "        print(str_list[i])"
      ],
      "metadata": {
        "id": "lnolZOnF8uxj"
      },
      "execution_count": null,
      "outputs": []
    },
    {
      "cell_type": "markdown",
      "source": [
        "미는 횟수\n",
        "- https://inha.codetree.ai/missions/4/problems/number-of-pushes/description"
      ],
      "metadata": {
        "id": "qxObe2Ko9oVC"
      }
    },
    {
      "cell_type": "code",
      "source": [
        "A = input()\n",
        "B = input()\n",
        "n = len(A)\n",
        "cnt = 0\n",
        "for i in range(n):\n",
        "    A = A[-1] + A[:-1]\n",
        "    cnt += 1\n",
        "    if(A == B):\n",
        "        print(cnt)\n",
        "        break\n",
        "    if(i == n - 1):\n",
        "      print(-1)"
      ],
      "metadata": {
        "id": "e8lYNOAI9rmH"
      },
      "execution_count": null,
      "outputs": []
    }
  ]
}