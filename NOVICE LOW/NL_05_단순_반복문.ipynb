{
  "nbformat": 4,
  "nbformat_minor": 0,
  "metadata": {
    "colab": {
      "provenance": []
    },
    "kernelspec": {
      "name": "python3",
      "display_name": "Python 3"
    },
    "language_info": {
      "name": "python"
    }
  },
  "cells": [
    {
      "cell_type": "markdown",
      "source": [
        "# for문 a → b 1씩 증가"
      ],
      "metadata": {
        "id": "EAPhs0bT9IhH"
      }
    },
    {
      "cell_type": "markdown",
      "source": [
        "차례로 출력\n",
        "- https://inha.codetree.ai/missions/4/problems/print-in-order/description"
      ],
      "metadata": {
        "id": "TO4MvBOy9Viq"
      }
    },
    {
      "cell_type": "code",
      "execution_count": null,
      "metadata": {
        "id": "ak-3AWRQ9D1p"
      },
      "outputs": [],
      "source": [
        "for i in range(5, 18):\n",
        "    print(i, end = ' ')"
      ]
    },
    {
      "cell_type": "markdown",
      "source": [
        "입력받는 수 부터 100까지 출력\n",
        "- https://inha.codetree.ai/missions/4/problems/print-number-from-given-num-to-100/description"
      ],
      "metadata": {
        "id": "lGQeegXD9j7c"
      }
    },
    {
      "cell_type": "code",
      "source": [
        "n = int(input())\n",
        "for i in range(n, 101):\n",
        "    print(i, end = ' ')"
      ],
      "metadata": {
        "id": "x4cSbRkd9mk0"
      },
      "execution_count": null,
      "outputs": []
    },
    {
      "cell_type": "markdown",
      "source": [
        "출력결과 1\n",
        "- https://inha.codetree.ai/missions/4/problems/reading-k201517/description"
      ],
      "metadata": {
        "id": "v2UiCVZh9tp1"
      }
    },
    {
      "cell_type": "code",
      "source": [
        "q = 0; s = 1; t = 1\n",
        "for i in range(4):\n",
        "    q = s + t\n",
        "    t = s\n",
        "    s = q\n",
        "print(q)\n",
        "# 출력\n",
        "# 8"
      ],
      "metadata": {
        "id": "fddlqERs9xUt"
      },
      "execution_count": null,
      "outputs": []
    },
    {
      "cell_type": "markdown",
      "source": [
        "출력결과 8\n",
        "- https://inha.codetree.ai/missions/4/problems/reading-k201528/description"
      ],
      "metadata": {
        "id": "PvJXKPa09-Y4"
      }
    },
    {
      "cell_type": "code",
      "source": [
        "a = 60\n",
        "b = 0\n",
        "\n",
        "for i in range(1, a + 1):\n",
        "    if a % i == 0:\n",
        "        b += 1\n",
        "\n",
        "print(b)\n",
        "# 출력\n",
        "# 12"
      ],
      "metadata": {
        "id": "PWXrAkpy-AfQ"
      },
      "execution_count": null,
      "outputs": []
    },
    {
      "cell_type": "markdown",
      "source": [
        "출력결과 10\n",
        "- https://inha.codetree.ai/missions/4/problems/reading-k201530/description"
      ],
      "metadata": {
        "id": "QMaxKy79-IM-"
      }
    },
    {
      "cell_type": "code",
      "source": [
        "N = 128\n",
        "result = 0\n",
        "\n",
        "for i in range(1, N):\n",
        "    if N % i == 0:\n",
        "        result += i\n",
        "# 출력\n",
        "# 127"
      ],
      "metadata": {
        "id": "gmARSqIJ-Kzo"
      },
      "execution_count": null,
      "outputs": []
    },
    {
      "cell_type": "markdown",
      "source": [
        "1부터 n까지 출력\n",
        "- https://inha.codetree.ai/missions/4/problems/print-from-1-to-n/description"
      ],
      "metadata": {
        "id": "CHprOLEP-RJW"
      }
    },
    {
      "cell_type": "code",
      "source": [
        "n = int(input())\n",
        "for i in range(1, n + 1):\n",
        "    print(i, end = ' ')"
      ],
      "metadata": {
        "id": "Gct_CEXD-UHU"
      },
      "execution_count": null,
      "outputs": []
    },
    {
      "cell_type": "markdown",
      "source": [
        "# for문 a → b 2씩 증가"
      ],
      "metadata": {
        "id": "z0HqLfrn-aoO"
      }
    },
    {
      "cell_type": "markdown",
      "source": [
        "증가시키며 출력하기\n",
        "- https://inha.codetree.ai/missions/4/problems/increase-and-print/description"
      ],
      "metadata": {
        "id": "EaP_q_c0-dt8"
      }
    },
    {
      "cell_type": "code",
      "source": [
        "for i in range(5, 18, 2):\n",
        "    print(i, end = ' ')"
      ],
      "metadata": {
        "id": "1GKbDW2N-daU"
      },
      "execution_count": null,
      "outputs": []
    },
    {
      "cell_type": "markdown",
      "source": [
        "정수 입력받아 배수 출력\n",
        "- https://inha.codetree.ai/missions/4/problems/print-multiple-of-input/description"
      ],
      "metadata": {
        "id": "but9Mv2i-kNR"
      }
    },
    {
      "cell_type": "code",
      "source": [
        "n = int(input())\n",
        "for i in range(1, 6):\n",
        "    print(n * i, end = ' ')"
      ],
      "metadata": {
        "id": "W5s57Fre-mdS"
      },
      "execution_count": null,
      "outputs": []
    },
    {
      "cell_type": "code",
      "source": [
        "# 예시 답안\n",
        "# 변수 선언, 입력\n",
        "n = int(input())\n",
        "\n",
        "# 출력\n",
        "for i in range(n, 6 * n, n):\n",
        "\tprint(i, end=\" \")"
      ],
      "metadata": {
        "id": "jByy2sDE-3jJ"
      },
      "execution_count": null,
      "outputs": []
    },
    {
      "cell_type": "markdown",
      "source": [
        "홀수만 출력\n",
        "- https://inha.codetree.ai/missions/4/problems/output-only-odd/description"
      ],
      "metadata": {
        "id": "xDsmQlrg-yjY"
      }
    },
    {
      "cell_type": "code",
      "source": [
        "a, b = map(int, input().split())\n",
        "for i in range(a, b+1, 2):\n",
        "    print(i, end = ' ')"
      ],
      "metadata": {
        "id": "ZkHmzg4E-8mZ"
      },
      "execution_count": null,
      "outputs": []
    },
    {
      "cell_type": "markdown",
      "source": [
        "# for문 b → a 1씩 감소"
      ],
      "metadata": {
        "id": "RomuayxN_IMf"
      }
    },
    {
      "cell_type": "markdown",
      "source": [
        "감소시키며 출력하기\n",
        "- https://inha.codetree.ai/missions/4/problems/decrease-and-print/description"
      ],
      "metadata": {
        "id": "7PQupcSm_K10"
      }
    },
    {
      "cell_type": "code",
      "source": [
        "for i in range(17, 4, -1):\n",
        "    print(i, end = ' ')"
      ],
      "metadata": {
        "id": "MpuoR7lW_M2_"
      },
      "execution_count": null,
      "outputs": []
    },
    {
      "cell_type": "markdown",
      "source": [
        "특정 숫자 도달하기 2\n",
        "- https://inha.codetree.ai/missions/4/problems/reaching-specific-number-2/description"
      ],
      "metadata": {
        "id": "PAkCYfM8_TiJ"
      }
    },
    {
      "cell_type": "code",
      "source": [
        "n = int(input())\n",
        "for i in range(n, 0, -1):\n",
        "    print(i, end = ' ')"
      ],
      "metadata": {
        "id": "yGk3NrhN_Wvp"
      },
      "execution_count": null,
      "outputs": []
    },
    {
      "cell_type": "markdown",
      "source": [
        "b부터 a까지 감소\n",
        "- https://inha.codetree.ai/missions/4/problems/dec-from-b-to-a/description"
      ],
      "metadata": {
        "id": "QQYj8_Yo_wYw"
      }
    },
    {
      "cell_type": "code",
      "source": [
        "a, b = map(int, input().split())\n",
        "for i in range(b, a-1, -1):\n",
        "    print(i, end = ' ')"
      ],
      "metadata": {
        "id": "c6c_pBnE_16N"
      },
      "execution_count": null,
      "outputs": []
    },
    {
      "cell_type": "markdown",
      "source": [
        "홀수만 출력 2\n",
        "- https://inha.codetree.ai/missions/4/problems/output-only-odd-2/description"
      ],
      "metadata": {
        "id": "mPmBjFbZ_-im"
      }
    },
    {
      "cell_type": "code",
      "source": [
        "b, a = map(int, input().split())\n",
        "for i in range(b, a-1, -2):\n",
        "    print(i, end = ' ')"
      ],
      "metadata": {
        "id": "591YWO5AABhF"
      },
      "execution_count": null,
      "outputs": []
    },
    {
      "cell_type": "markdown",
      "source": [
        "# while문 a → b 1씩 증가"
      ],
      "metadata": {
        "id": "lZAHKka6AS4r"
      }
    },
    {
      "cell_type": "markdown",
      "source": [
        "증가시키며 출력하기 2\n",
        "- https://inha.codetree.ai/missions/4/problems/increase-and-print-2/description"
      ],
      "metadata": {
        "id": "rQf2VOSOATnj"
      }
    },
    {
      "cell_type": "code",
      "source": [
        "num = 10\n",
        "while(num != 27):\n",
        "    print(num, end = ' ')\n",
        "    num += 1"
      ],
      "metadata": {
        "id": "zjjYt0txAVs6"
      },
      "execution_count": null,
      "outputs": []
    },
    {
      "cell_type": "markdown",
      "source": [
        "n까지 숫자 출력\n",
        "- https://inha.codetree.ai/missions/4/problems/print-1-to-n/description"
      ],
      "metadata": {
        "id": "PRrNpbAYAgWZ"
      }
    },
    {
      "cell_type": "code",
      "source": [
        "n = int(input())\n",
        "count = 1\n",
        "while(count != n + 1):\n",
        "    print(count, end = ' ')\n",
        "    count += 1"
      ],
      "metadata": {
        "id": "hVr_QlkSAjEe"
      },
      "execution_count": null,
      "outputs": []
    },
    {
      "cell_type": "markdown",
      "source": [
        "별 n개 출력하기\n",
        "- https://inha.codetree.ai/missions/4/problems/print-n-stars/description"
      ],
      "metadata": {
        "id": "FI8yIQsMAtOO"
      }
    },
    {
      "cell_type": "code",
      "source": [
        "n = int(input())\n",
        "while(n != 0):\n",
        "    print('*')\n",
        "    n -= 1"
      ],
      "metadata": {
        "id": "QcQ-Fr7OA0DO"
      },
      "execution_count": null,
      "outputs": []
    },
    {
      "cell_type": "markdown",
      "source": [
        "# while문 a → b 2씩 증가"
      ],
      "metadata": {
        "id": "L-s2RiueBGaV"
      }
    },
    {
      "cell_type": "markdown",
      "source": [
        "증가시키며 출력하기 3\n",
        "- https://inha.codetree.ai/missions/4/problems/increase-and-print-3/description"
      ],
      "metadata": {
        "id": "t62kwSDRBIH7"
      }
    },
    {
      "cell_type": "code",
      "source": [
        "n = 10\n",
        "while(n <= 26):\n",
        "    print(n, end = ' ')\n",
        "    n += 2"
      ],
      "metadata": {
        "id": "tfuNYD8XBKiw"
      },
      "execution_count": null,
      "outputs": []
    },
    {
      "cell_type": "markdown",
      "source": [
        "3의 배수 출력하기\n",
        "- https://inha.codetree.ai/missions/4/problems/print-multiple-of-number-three/description"
      ],
      "metadata": {
        "id": "_6908wmPBTME"
      }
    },
    {
      "cell_type": "code",
      "source": [
        "n = int(input())\n",
        "i = 3\n",
        "while(i <= n):\n",
        "    print(i, end = ' ')\n",
        "    i = i + 3"
      ],
      "metadata": {
        "id": "oDh9SBqRBVIi"
      },
      "execution_count": null,
      "outputs": []
    },
    {
      "cell_type": "markdown",
      "source": [
        "짝수만 출력\n",
        "- https://inha.codetree.ai/missions/4/problems/output-only-even/description"
      ],
      "metadata": {
        "id": "wMEwZFFsBoQh"
      }
    },
    {
      "cell_type": "code",
      "source": [
        "a, b = map(int, input().split())\n",
        "while(a <= b):\n",
        "    print(a, end = ' ')\n",
        "    a += 2"
      ],
      "metadata": {
        "id": "bzGpEJMxBr3l"
      },
      "execution_count": null,
      "outputs": []
    },
    {
      "cell_type": "markdown",
      "source": [
        "# while문 b → a 1씩 감소"
      ],
      "metadata": {
        "id": "hQIgaY_ZCMyi"
      }
    },
    {
      "cell_type": "markdown",
      "source": [
        "감소시키며 출력하기 2\n",
        "- https://inha.codetree.ai/missions/4/problems/decrease-and-print-2/description"
      ],
      "metadata": {
        "id": "iKfI5rJeCNfK"
      }
    },
    {
      "cell_type": "code",
      "source": [
        "n = 26\n",
        "while(n >= 10):\n",
        "    print(n, end = ' ')\n",
        "    n -= 1"
      ],
      "metadata": {
        "id": "gvy6JCH-CQES"
      },
      "execution_count": null,
      "outputs": []
    },
    {
      "cell_type": "markdown",
      "source": [
        "n부터 1까지 숫자 출력\n",
        "- https://inha.codetree.ai/missions/4/problems/print-n-to-1/description"
      ],
      "metadata": {
        "id": "GreItQOvCbxX"
      }
    },
    {
      "cell_type": "code",
      "source": [
        "n = int(input())\n",
        "while(n >= 1):\n",
        "    print(n, end = ' ')\n",
        "    n -= 1"
      ],
      "metadata": {
        "id": "8L52Az6zCeQW"
      },
      "execution_count": null,
      "outputs": []
    },
    {
      "cell_type": "markdown",
      "source": [
        "짝수만 출력 2\n",
        "- https://inha.codetree.ai/missions/4/problems/output-only-even-2/description"
      ],
      "metadata": {
        "id": "XdxmgkfsClA_"
      }
    },
    {
      "cell_type": "code",
      "source": [
        "b, a = map(int, input().split())\n",
        "while(a <= b):\n",
        "    print(b, end = ' ')\n",
        "    b -= 2"
      ],
      "metadata": {
        "id": "DJr-3eVYCoD2"
      },
      "execution_count": null,
      "outputs": []
    },
    {
      "cell_type": "markdown",
      "source": [
        "# n번 반복하기"
      ],
      "metadata": {
        "id": "_1lURk7xC3ue"
      }
    },
    {
      "cell_type": "markdown",
      "source": [
        "문자 출력하기\n",
        "- https://inha.codetree.ai/missions/4/problems/print-text/description"
      ],
      "metadata": {
        "id": "wIl6CZeYC4j6"
      }
    },
    {
      "cell_type": "code",
      "source": [
        "s = input()\n",
        "for i in range(8):\n",
        "    print(s, end = '')"
      ],
      "metadata": {
        "id": "NpZRvcX8C6qs"
      },
      "execution_count": null,
      "outputs": []
    },
    {
      "cell_type": "markdown",
      "source": [
        "문자열 출력하기\n",
        "- https://inha.codetree.ai/missions/4/problems/print-string/description"
      ],
      "metadata": {
        "id": "VUTmDHE5DEGJ"
      }
    },
    {
      "cell_type": "code",
      "source": [
        "n = int(input())\n",
        "for i in range(0, n):\n",
        "    print('LeebrosCode')"
      ],
      "metadata": {
        "id": "0hPVTVF3DIAm"
      },
      "execution_count": null,
      "outputs": []
    },
    {
      "cell_type": "markdown",
      "source": [
        "a/b 출력\n",
        "- https://inha.codetree.ai/missions/4/problems/a-divide-b/description"
      ],
      "metadata": {
        "id": "vpn_rZf5DTCQ"
      }
    },
    {
      "cell_type": "code",
      "source": [
        "a, b = map(int, input().split())\n",
        "print(f'{a//b}.', end = '')\n",
        "\n",
        "a %= b\n",
        "for _ in range(20):\n",
        "    a *= 10\n",
        "    print(a // b, end = \"\")\n",
        "    a %= b\n",
        "# 단순히 print(f'{a/b:.20f}')로 하면 오류가 발생한다.\n",
        "# format 함수만으로는 소수점 20번째까지의 값을 올바르게 구할 수 없다."
      ],
      "metadata": {
        "id": "xRBXGmaQDVuM"
      },
      "execution_count": null,
      "outputs": []
    },
    {
      "cell_type": "markdown",
      "source": [
        "n번 더하기\n",
        "- https://inha.codetree.ai/missions/4/problems/add-n-times/description"
      ],
      "metadata": {
        "id": "ey-am19EEcUr"
      }
    },
    {
      "cell_type": "code",
      "source": [
        "a, n = map(int, input().split())\n",
        "for i in range(n):\n",
        "    a += n\n",
        "    print(a)"
      ],
      "metadata": {
        "id": "qwr54jb_Edlc"
      },
      "execution_count": null,
      "outputs": []
    }
  ]
}