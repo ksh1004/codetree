{
  "nbformat": 4,
  "nbformat_minor": 0,
  "metadata": {
    "colab": {
      "provenance": []
    },
    "kernelspec": {
      "name": "python3",
      "display_name": "Python 3"
    },
    "language_info": {
      "name": "python"
    }
  },
  "cells": [
    {
      "cell_type": "markdown",
      "source": [
        "# for문 a → b 1씩 증가"
      ],
      "metadata": {
        "id": "EAPhs0bT9IhH"
      }
    },
    {
      "cell_type": "markdown",
      "source": [
        "차례로 출력\n",
        "- https://inha.codetree.ai/missions/4/problems/print-in-order/description"
      ],
      "metadata": {
        "id": "TO4MvBOy9Viq"
      }
    },
    {
      "cell_type": "code",
      "execution_count": null,
      "metadata": {
        "id": "ak-3AWRQ9D1p"
      },
      "outputs": [],
      "source": [
        "for i in range(5, 18):\n",
        "    print(i, end = ' ')"
      ]
    },
    {
      "cell_type": "markdown",
      "source": [
        "입력받는 수 부터 100까지 출력\n",
        "- https://inha.codetree.ai/missions/4/problems/print-number-from-given-num-to-100/description"
      ],
      "metadata": {
        "id": "lGQeegXD9j7c"
      }
    },
    {
      "cell_type": "code",
      "source": [
        "n = int(input())\n",
        "for i in range(n, 101):\n",
        "    print(i, end = ' ')"
      ],
      "metadata": {
        "id": "x4cSbRkd9mk0"
      },
      "execution_count": null,
      "outputs": []
    },
    {
      "cell_type": "markdown",
      "source": [
        "출력결과 1\n",
        "- https://inha.codetree.ai/missions/4/problems/reading-k201517/description"
      ],
      "metadata": {
        "id": "v2UiCVZh9tp1"
      }
    },
    {
      "cell_type": "code",
      "source": [
        "q = 0; s = 1; t = 1\n",
        "for i in range(4):\n",
        "    q = s + t\n",
        "    t = s\n",
        "    s = q\n",
        "print(q)\n",
        "# 출력\n",
        "# 8"
      ],
      "metadata": {
        "id": "fddlqERs9xUt"
      },
      "execution_count": null,
      "outputs": []
    },
    {
      "cell_type": "markdown",
      "source": [
        "출력결과 8\n",
        "- https://inha.codetree.ai/missions/4/problems/reading-k201528/description"
      ],
      "metadata": {
        "id": "PvJXKPa09-Y4"
      }
    },
    {
      "cell_type": "code",
      "source": [
        "a = 60\n",
        "b = 0\n",
        "\n",
        "for i in range(1, a + 1):\n",
        "    if a % i == 0:\n",
        "        b += 1\n",
        "\n",
        "print(b)\n",
        "# 출력\n",
        "# 12"
      ],
      "metadata": {
        "id": "PWXrAkpy-AfQ"
      },
      "execution_count": null,
      "outputs": []
    },
    {
      "cell_type": "markdown",
      "source": [
        "출력결과 10\n",
        "- https://inha.codetree.ai/missions/4/problems/reading-k201530/description"
      ],
      "metadata": {
        "id": "QMaxKy79-IM-"
      }
    },
    {
      "cell_type": "code",
      "source": [
        "N = 128\n",
        "result = 0\n",
        "\n",
        "for i in range(1, N):\n",
        "    if N % i == 0:\n",
        "        result += i\n",
        "# 출력\n",
        "# 127"
      ],
      "metadata": {
        "id": "gmARSqIJ-Kzo"
      },
      "execution_count": null,
      "outputs": []
    },
    {
      "cell_type": "markdown",
      "source": [
        "1부터 n까지 출력\n",
        "- https://inha.codetree.ai/missions/4/problems/print-from-1-to-n/description"
      ],
      "metadata": {
        "id": "CHprOLEP-RJW"
      }
    },
    {
      "cell_type": "code",
      "source": [
        "n = int(input())\n",
        "for i in range(1, n + 1):\n",
        "    print(i, end = ' ')"
      ],
      "metadata": {
        "id": "Gct_CEXD-UHU"
      },
      "execution_count": null,
      "outputs": []
    },
    {
      "cell_type": "markdown",
      "source": [
        "# for문 a → b 2씩 증가"
      ],
      "metadata": {
        "id": "z0HqLfrn-aoO"
      }
    },
    {
      "cell_type": "markdown",
      "source": [
        "증가시키며 출력하기\n",
        "- https://inha.codetree.ai/missions/4/problems/increase-and-print/description"
      ],
      "metadata": {
        "id": "EaP_q_c0-dt8"
      }
    },
    {
      "cell_type": "code",
      "source": [
        "for i in range(5, 18, 2):\n",
        "    print(i, end = ' ')"
      ],
      "metadata": {
        "id": "1GKbDW2N-daU"
      },
      "execution_count": null,
      "outputs": []
    },
    {
      "cell_type": "markdown",
      "source": [
        "정수 입력받아 배수 출력\n",
        "- https://inha.codetree.ai/missions/4/problems/print-multiple-of-input/description"
      ],
      "metadata": {
        "id": "but9Mv2i-kNR"
      }
    },
    {
      "cell_type": "code",
      "source": [
        "n = int(input())\n",
        "for i in range(1, 6):\n",
        "    print(n * i, end = ' ')"
      ],
      "metadata": {
        "id": "W5s57Fre-mdS"
      },
      "execution_count": null,
      "outputs": []
    },
    {
      "cell_type": "code",
      "source": [
        "# 예시 답안\n",
        "# 변수 선언, 입력\n",
        "n = int(input())\n",
        "\n",
        "# 출력\n",
        "for i in range(n, 6 * n, n):\n",
        "\tprint(i, end=\" \")"
      ],
      "metadata": {
        "id": "jByy2sDE-3jJ"
      },
      "execution_count": null,
      "outputs": []
    },
    {
      "cell_type": "markdown",
      "source": [
        "홀수만 출력\n",
        "- https://inha.codetree.ai/missions/4/problems/output-only-odd/description"
      ],
      "metadata": {
        "id": "xDsmQlrg-yjY"
      }
    },
    {
      "cell_type": "code",
      "source": [
        "a, b = map(int, input().split())\n",
        "for i in range(a, b+1, 2):\n",
        "    print(i, end = ' ')"
      ],
      "metadata": {
        "id": "ZkHmzg4E-8mZ"
      },
      "execution_count": null,
      "outputs": []
    },
    {
      "cell_type": "markdown",
      "source": [
        "# for문 b → a 1씩 감소"
      ],
      "metadata": {
        "id": "RomuayxN_IMf"
      }
    },
    {
      "cell_type": "markdown",
      "source": [
        "감소시키며 출력하기\n",
        "- https://inha.codetree.ai/missions/4/problems/decrease-and-print/description"
      ],
      "metadata": {
        "id": "7PQupcSm_K10"
      }
    },
    {
      "cell_type": "code",
      "source": [
        "for i in range(17, 4, -1):\n",
        "    print(i, end = ' ')"
      ],
      "metadata": {
        "id": "MpuoR7lW_M2_"
      },
      "execution_count": null,
      "outputs": []
    },
    {
      "cell_type": "markdown",
      "source": [
        "특정 숫자 도달하기 2\n",
        "- https://inha.codetree.ai/missions/4/problems/reaching-specific-number-2/description"
      ],
      "metadata": {
        "id": "PAkCYfM8_TiJ"
      }
    },
    {
      "cell_type": "code",
      "source": [
        "n = int(input())\n",
        "for i in range(n, 0, -1):\n",
        "    print(i, end = ' ')"
      ],
      "metadata": {
        "id": "yGk3NrhN_Wvp"
      },
      "execution_count": null,
      "outputs": []
    },
    {
      "cell_type": "markdown",
      "source": [
        "b부터 a까지 감소\n",
        "- https://inha.codetree.ai/missions/4/problems/dec-from-b-to-a/description"
      ],
      "metadata": {
        "id": "QQYj8_Yo_wYw"
      }
    },
    {
      "cell_type": "code",
      "source": [
        "a, b = map(int, input().split())\n",
        "for i in range(b, a-1, -1):\n",
        "    print(i, end = ' ')"
      ],
      "metadata": {
        "id": "c6c_pBnE_16N"
      },
      "execution_count": null,
      "outputs": []
    },
    {
      "cell_type": "markdown",
      "source": [
        "홀수만 출력 2\n",
        "- https://inha.codetree.ai/missions/4/problems/output-only-odd-2/description"
      ],
      "metadata": {
        "id": "mPmBjFbZ_-im"
      }
    },
    {
      "cell_type": "code",
      "source": [
        "b, a = map(int, input().split())\n",
        "for i in range(b, a-1, -2):\n",
        "    print(i, end = ' ')"
      ],
      "metadata": {
        "id": "591YWO5AABhF"
      },
      "execution_count": null,
      "outputs": []
    },
    {
      "cell_type": "markdown",
      "source": [
        "# while문 a → b 1씩 증가"
      ],
      "metadata": {
        "id": "lZAHKka6AS4r"
      }
    },
    {
      "cell_type": "markdown",
      "source": [
        "증가시키며 출력하기 2\n",
        "- https://inha.codetree.ai/missions/4/problems/increase-and-print-2/description"
      ],
      "metadata": {
        "id": "rQf2VOSOATnj"
      }
    },
    {
      "cell_type": "code",
      "source": [
        "num = 10\n",
        "while(num != 27):\n",
        "    print(num, end = ' ')\n",
        "    num += 1"
      ],
      "metadata": {
        "id": "zjjYt0txAVs6"
      },
      "execution_count": null,
      "outputs": []
    },
    {
      "cell_type": "markdown",
      "source": [
        "n까지 숫자 출력\n",
        "- https://inha.codetree.ai/missions/4/problems/print-1-to-n/description"
      ],
      "metadata": {
        "id": "PRrNpbAYAgWZ"
      }
    },
    {
      "cell_type": "code",
      "source": [
        "n = int(input())\n",
        "count = 1\n",
        "while(count != n + 1):\n",
        "    print(count, end = ' ')\n",
        "    count += 1"
      ],
      "metadata": {
        "id": "hVr_QlkSAjEe"
      },
      "execution_count": null,
      "outputs": []
    },
    {
      "cell_type": "markdown",
      "source": [
        "별 n개 출력하기\n",
        "- https://inha.codetree.ai/missions/4/problems/print-n-stars/description"
      ],
      "metadata": {
        "id": "FI8yIQsMAtOO"
      }
    },
    {
      "cell_type": "code",
      "source": [
        "n = int(input())\n",
        "while(n != 0):\n",
        "    print('*')\n",
        "    n -= 1"
      ],
      "metadata": {
        "id": "QcQ-Fr7OA0DO"
      },
      "execution_count": null,
      "outputs": []
    },
    {
      "cell_type": "markdown",
      "source": [
        "# while문 a → b 2씩 증가"
      ],
      "metadata": {
        "id": "L-s2RiueBGaV"
      }
    },
    {
      "cell_type": "markdown",
      "source": [
        "증가시키며 출력하기 3\n",
        "- https://inha.codetree.ai/missions/4/problems/increase-and-print-3/description"
      ],
      "metadata": {
        "id": "t62kwSDRBIH7"
      }
    },
    {
      "cell_type": "code",
      "source": [
        "n = 10\n",
        "while(n <= 26):\n",
        "    print(n, end = ' ')\n",
        "    n += 2"
      ],
      "metadata": {
        "id": "tfuNYD8XBKiw"
      },
      "execution_count": null,
      "outputs": []
    },
    {
      "cell_type": "markdown",
      "source": [
        "3의 배수 출력하기\n",
        "- https://inha.codetree.ai/missions/4/problems/print-multiple-of-number-three/description"
      ],
      "metadata": {
        "id": "_6908wmPBTME"
      }
    },
    {
      "cell_type": "code",
      "source": [
        "n = int(input())\n",
        "i = 3\n",
        "while(i <= n):\n",
        "    print(i, end = ' ')\n",
        "    i = i + 3"
      ],
      "metadata": {
        "id": "oDh9SBqRBVIi"
      },
      "execution_count": null,
      "outputs": []
    },
    {
      "cell_type": "markdown",
      "source": [
        "짝수만 출력\n",
        "- https://inha.codetree.ai/missions/4/problems/output-only-even/description"
      ],
      "metadata": {
        "id": "wMEwZFFsBoQh"
      }
    },
    {
      "cell_type": "code",
      "source": [
        "a, b = map(int, input().split())\n",
        "while(a <= b):\n",
        "    print(a, end = ' ')\n",
        "    a += 2"
      ],
      "metadata": {
        "id": "bzGpEJMxBr3l"
      },
      "execution_count": null,
      "outputs": []
    },
    {
      "cell_type": "markdown",
      "source": [
        "# while문 b → a 1씩 감소"
      ],
      "metadata": {
        "id": "hQIgaY_ZCMyi"
      }
    },
    {
      "cell_type": "markdown",
      "source": [
        "감소시키며 출력하기 2\n",
        "- https://inha.codetree.ai/missions/4/problems/decrease-and-print-2/description"
      ],
      "metadata": {
        "id": "iKfI5rJeCNfK"
      }
    },
    {
      "cell_type": "code",
      "source": [
        "n = 26\n",
        "while(n >= 10):\n",
        "    print(n, end = ' ')\n",
        "    n -= 1"
      ],
      "metadata": {
        "id": "gvy6JCH-CQES"
      },
      "execution_count": null,
      "outputs": []
    },
    {
      "cell_type": "markdown",
      "source": [
        "n부터 1까지 숫자 출력\n",
        "- https://inha.codetree.ai/missions/4/problems/print-n-to-1/description"
      ],
      "metadata": {
        "id": "GreItQOvCbxX"
      }
    },
    {
      "cell_type": "code",
      "source": [
        "n = int(input())\n",
        "while(n >= 1):\n",
        "    print(n, end = ' ')\n",
        "    n -= 1"
      ],
      "metadata": {
        "id": "8L52Az6zCeQW"
      },
      "execution_count": null,
      "outputs": []
    },
    {
      "cell_type": "markdown",
      "source": [
        "짝수만 출력 2\n",
        "- https://inha.codetree.ai/missions/4/problems/output-only-even-2/description"
      ],
      "metadata": {
        "id": "XdxmgkfsClA_"
      }
    },
    {
      "cell_type": "code",
      "source": [
        "b, a = map(int, input().split())\n",
        "while(a <= b):\n",
        "    print(b, end = ' ')\n",
        "    b -= 2"
      ],
      "metadata": {
        "id": "DJr-3eVYCoD2"
      },
      "execution_count": null,
      "outputs": []
    },
    {
      "cell_type": "markdown",
      "source": [
        "# n번 반복하기"
      ],
      "metadata": {
        "id": "_1lURk7xC3ue"
      }
    },
    {
      "cell_type": "markdown",
      "source": [
        "문자 출력하기\n",
        "- https://inha.codetree.ai/missions/4/problems/print-text/description"
      ],
      "metadata": {
        "id": "wIl6CZeYC4j6"
      }
    },
    {
      "cell_type": "code",
      "source": [
        "s = input()\n",
        "for i in range(8):\n",
        "    print(s, end = '')"
      ],
      "metadata": {
        "id": "NpZRvcX8C6qs"
      },
      "execution_count": null,
      "outputs": []
    },
    {
      "cell_type": "markdown",
      "source": [
        "문자열 출력하기\n",
        "- https://inha.codetree.ai/missions/4/problems/print-string/description"
      ],
      "metadata": {
        "id": "VUTmDHE5DEGJ"
      }
    },
    {
      "cell_type": "code",
      "source": [
        "n = int(input())\n",
        "for i in range(0, n):\n",
        "    print('LeebrosCode')"
      ],
      "metadata": {
        "id": "0hPVTVF3DIAm"
      },
      "execution_count": null,
      "outputs": []
    },
    {
      "cell_type": "markdown",
      "source": [
        "a/b 출력\n",
        "- https://inha.codetree.ai/missions/4/problems/a-divide-b/description"
      ],
      "metadata": {
        "id": "vpn_rZf5DTCQ"
      }
    },
    {
      "cell_type": "code",
      "source": [
        "a, b = map(int, input().split())\n",
        "print(f'{a//b}.', end = '')\n",
        "\n",
        "a %= b\n",
        "for _ in range(20):\n",
        "    a *= 10\n",
        "    print(a // b, end = \"\")\n",
        "    a %= b\n",
        "# 단순히 print(f'{a/b:.20f}')로 하면 오류가 발생한다.\n",
        "# format 함수만으로는 소수점 20번째까지의 값을 올바르게 구할 수 없다."
      ],
      "metadata": {
        "id": "xRBXGmaQDVuM"
      },
      "execution_count": null,
      "outputs": []
    },
    {
      "cell_type": "markdown",
      "source": [
        "n번 더하기\n",
        "- https://inha.codetree.ai/missions/4/problems/add-n-times/description"
      ],
      "metadata": {
        "id": "ey-am19EEcUr"
      }
    },
    {
      "cell_type": "code",
      "source": [
        "a, n = map(int, input().split())\n",
        "for i in range(n):\n",
        "    a += n\n",
        "    print(a)"
      ],
      "metadata": {
        "id": "qwr54jb_Edlc"
      },
      "execution_count": null,
      "outputs": []
    },
    {
      "cell_type": "markdown",
      "source": [
        "# if 안의 for"
      ],
      "metadata": {
        "id": "RgF8QYWDZNOp"
      }
    },
    {
      "cell_type": "markdown",
      "source": [
        "숫자의 증감\n",
        "- https://inha.codetree.ai/missions/4/problems/increasing-and-decreasing-numbers/description"
      ],
      "metadata": {
        "id": "KgATFkkTZPuq"
      }
    },
    {
      "cell_type": "code",
      "source": [
        "c, n = input().split()\n",
        "n = int(n)\n",
        "if(c == 'A'):\n",
        "    for i in range(1, n+1):\n",
        "        print(i, end = ' ')\n",
        "elif(c == 'D'):\n",
        "    for i in range(n, 0, -1):\n",
        "        print(i, end = ' ')"
      ],
      "metadata": {
        "id": "6NXfbEtRZPUZ"
      },
      "execution_count": null,
      "outputs": []
    },
    {
      "cell_type": "markdown",
      "source": [
        "높은 수에서 낮은 수까지\n",
        "- https://inha.codetree.ai/missions/4/problems/from-high-to-low/description"
      ],
      "metadata": {
        "id": "58ZF58TMZjXf"
      }
    },
    {
      "cell_type": "code",
      "source": [
        "a, b = map(int, input().split())\n",
        "if(a >= b):\n",
        "    for i in range(a, b-1, -1):\n",
        "        print(i, end = ' ')\n",
        "else:\n",
        "    for i in range(b, a-1, -1):\n",
        "        print(i, end = ' ')"
      ],
      "metadata": {
        "id": "sA-vMOfxZmO-"
      },
      "execution_count": null,
      "outputs": []
    },
    {
      "cell_type": "markdown",
      "source": [
        "자연수면 출력\n",
        "- https://inha.codetree.ai/missions/4/problems/output-only-natural-number/description"
      ],
      "metadata": {
        "id": "454d45KmZycS"
      }
    },
    {
      "cell_type": "code",
      "source": [
        "a, b = map(int, input().split())\n",
        "if(a <= 0):\n",
        "    print(0)\n",
        "else:\n",
        "    for i in range(b):\n",
        "        print(a, end = '')"
      ],
      "metadata": {
        "id": "bZF6peZLZ1Y7"
      },
      "execution_count": null,
      "outputs": []
    },
    {
      "cell_type": "markdown",
      "source": [
        "# for 안의 if"
      ],
      "metadata": {
        "id": "mBKt3yK2Z_2W"
      }
    },
    {
      "cell_type": "markdown",
      "source": [
        "2 또는 3의 배수\n",
        "- https://inha.codetree.ai/missions/4/problems/multiple-of-2-or-3/description"
      ],
      "metadata": {
        "id": "b_oVhzhDaDix"
      }
    },
    {
      "cell_type": "code",
      "source": [
        "n = int(input())\n",
        "for i in range(1, n+1):\n",
        "    if(i % 2 == 0 or i % 3 == 0):\n",
        "        print(1, end = ' ')\n",
        "    else:\n",
        "        print(0, end = ' ')"
      ],
      "metadata": {
        "id": "M-ZxRgWNaGRP"
      },
      "execution_count": null,
      "outputs": []
    },
    {
      "cell_type": "markdown",
      "source": [
        "100점 도달하기\n",
        "- https://inha.codetree.ai/missions/4/problems/reach-100-point/description"
      ],
      "metadata": {
        "id": "MRf6oy-zaVgJ"
      }
    },
    {
      "cell_type": "code",
      "source": [
        "n = int(input())\n",
        "for i in range(n, 101):\n",
        "    if(i >= 90):\n",
        "        print('A', end = ' ')\n",
        "    elif(i >= 80):\n",
        "        print('B', end = ' ')\n",
        "    elif(i >= 70):\n",
        "        print('C', end = ' ')\n",
        "    elif(i >= 60):\n",
        "        print('D', end = ' ')\n",
        "    else:\n",
        "        print('F', end = ' ')"
      ],
      "metadata": {
        "id": "-ZUh2OQIaWgg"
      },
      "execution_count": null,
      "outputs": []
    },
    {
      "cell_type": "markdown",
      "source": [
        "출력결과 48\n",
        "- https://inha.codetree.ai/missions/4/problems/reading-k201724/description"
      ],
      "metadata": {
        "id": "Vmf5aUs0ap3V"
      }
    },
    {
      "cell_type": "code",
      "source": [
        "result = 0\n",
        "for i in range(1, 11, 2):\n",
        "    if i % 3 == 0:\n",
        "        result += i - 1\n",
        "print(result)\n",
        "# 출력\n",
        "# 10"
      ],
      "metadata": {
        "id": "kakrW_gmatm0"
      },
      "execution_count": null,
      "outputs": []
    },
    {
      "cell_type": "markdown",
      "source": [
        "a 부터 b 까지\n",
        "- https://inha.codetree.ai/missions/4/problems/a-to-b/description"
      ],
      "metadata": {
        "id": "lvSPScvsa0oq"
      }
    },
    {
      "cell_type": "code",
      "source": [
        "a, b = map(int, input().split())\n",
        "num = a\n",
        "for i in range(a, b+1):\n",
        "    if(i != num):\n",
        "        continue\n",
        "    else:\n",
        "        if(i % 2 == 1):\n",
        "            print(i, end = ' ')\n",
        "            num = i * 2\n",
        "        else:\n",
        "            print(i, end = ' ')\n",
        "            num = i + 3"
      ],
      "metadata": {
        "id": "y0IVbvsGa2q_"
      },
      "execution_count": null,
      "outputs": []
    },
    {
      "cell_type": "markdown",
      "source": [
        "369 게임\n",
        "- https://inha.codetree.ai/missions/4/problems/369-game/description"
      ],
      "metadata": {
        "id": "7CXSqYxvcdDY"
      }
    },
    {
      "cell_type": "code",
      "source": [
        "n = int(input())\n",
        "for i in range(1, n + 1):\n",
        "    if(i % 3 == 0 or ('3' in str(i)) or ('6' in str(i)) or ('9' in str(i))):\n",
        "        print(0, end = ' ')\n",
        "    else:\n",
        "        print(i, end = ' ')"
      ],
      "metadata": {
        "id": "9_antC5vce_B"
      },
      "execution_count": null,
      "outputs": []
    },
    {
      "cell_type": "code",
      "source": [
        "# 예시 답안\n",
        "# 변수 선언, 입력\n",
        "n = int(input())\n",
        "\n",
        "# 출력\n",
        "for i in range(1, n+1):\n",
        "\tif i % 3 == 0: # 값이 3의 배수라면\n",
        "\t\tprint(\"0\", end=\" \")\n",
        "\telif i % 10 == 3 or i % 10 == 6 or i % 10 == 9: # 값에 3, 6, 9가 있을 때 (나머지로 구함)\n",
        "\t\tprint(\"0\", end=\" \")\n",
        "\telif i // 10 == 3 or i // 10 == 6 or i // 10 == 9: # 값에 3, 6, 9가 있을 때 (몫으로 구함)\n",
        "\t\tprint(\"0\", end=\" \")\n",
        "\telse:\n",
        "\t\tprint(i, end=\" \")"
      ],
      "metadata": {
        "id": "t7lHLAeRfB5C"
      },
      "execution_count": null,
      "outputs": []
    },
    {
      "cell_type": "markdown",
      "source": [
        "홀수만 출력하기\n",
        "- https://inha.codetree.ai/missions/4/problems/print-only-odd-numbers/description"
      ],
      "metadata": {
        "id": "WWAHq0NCfsad"
      }
    },
    {
      "cell_type": "code",
      "source": [
        "n = int(input())\n",
        "for i in range(n):\n",
        "    num = int(input())\n",
        "    if(num % 2 == 1 and num % 3 == 0):\n",
        "        print(num)"
      ],
      "metadata": {
        "id": "tb8HFiJdftgk"
      },
      "execution_count": null,
      "outputs": []
    },
    {
      "cell_type": "markdown",
      "source": [
        "# cnt 활용하기\n",
        "- 0을 초기값으로 갖는 cnt라는 변수를 활용"
      ],
      "metadata": {
        "id": "k2DLp4IBgLdP"
      }
    },
    {
      "cell_type": "markdown",
      "source": [
        "배수의 개수 2\n",
        "- https://inha.codetree.ai/missions/4/problems/number-of-multipliers-2/description"
      ],
      "metadata": {
        "id": "4AFeryNogPf1"
      }
    },
    {
      "cell_type": "code",
      "source": [
        "cnt = 0\n",
        "for _ in range(10):\n",
        "    num = int(input())\n",
        "    if(num % 2 == 1):\n",
        "        cnt += 1\n",
        "print(cnt)"
      ],
      "metadata": {
        "id": "aDzEGEPogRj3"
      },
      "execution_count": null,
      "outputs": []
    },
    {
      "cell_type": "markdown",
      "source": [
        "배수의 개수\n",
        "- https://inha.codetree.ai/missions/4/problems/number-of-multipliers/description"
      ],
      "metadata": {
        "id": "VZrSS5ZggyAS"
      }
    },
    {
      "cell_type": "code",
      "source": [
        "cnt_3 = 0\n",
        "cnt_5 = 0\n",
        "for _ in range(10):\n",
        "    num = int(input())\n",
        "    if(num % 3 == 0):\n",
        "        cnt_3 += 1\n",
        "    if(num % 5 == 0):\n",
        "        cnt_5 += 1\n",
        "print(cnt_3, cnt_5)"
      ],
      "metadata": {
        "id": "Y52bo19Hg0lL"
      },
      "execution_count": null,
      "outputs": []
    },
    {
      "cell_type": "markdown",
      "source": [
        "청소당번 정하기\n",
        "- https://inha.codetree.ai/missions/4/problems/cleaning-numbering/description"
      ],
      "metadata": {
        "id": "Ut2ecNi1hKTm"
      }
    },
    {
      "cell_type": "code",
      "source": [
        "n = int(input())\n",
        "cnt_2, cnt_3, cnt_12 = 0, 0, 0\n",
        "for i in range(1, n + 1):\n",
        "    if(i % 12 == 0):\n",
        "        cnt_12 += 1\n",
        "    if(i % 12 != 0 and i % 3 == 0):\n",
        "        cnt_3 += 1\n",
        "    if(i % 12 != 0 and i % 3 != 0 and i % 2 == 0):\n",
        "        cnt_2 += 1\n",
        "print(cnt_2, cnt_3, cnt_12)"
      ],
      "metadata": {
        "id": "VkA_jUUJhMoH"
      },
      "execution_count": null,
      "outputs": []
    },
    {
      "cell_type": "code",
      "source": [
        "# 예시 답안\n",
        "# 변수 선언 및 입력\n",
        "n = int(input())\n",
        "cnt2, cnt3, cnt12 = 0, 0, 0\n",
        "\n",
        "# 각 날짜마다 확인합니다.\n",
        "for i in range(1, n + 1):\n",
        "    # 주기가 가장 긴 12일부터 확인합니다.\n",
        "    if i % 12 == 0:\n",
        "        cnt12 += 1\n",
        "    # 12일 주기에 들어오지 않는다면, 3일 주기에 들어오는지 확인합니다.\n",
        "    elif i % 3 == 0:\n",
        "        cnt3 += 1\n",
        "    # 3일 주기에도 들어오지 않는다면, 2일 주기에 들어오는지 확인합니다.\n",
        "    elif i % 2 == 0:\n",
        "        cnt2 += 1\n",
        "\n",
        "print(cnt2, cnt3, cnt12)"
      ],
      "metadata": {
        "id": "bPA2p2__h4il"
      },
      "execution_count": null,
      "outputs": []
    },
    {
      "cell_type": "markdown",
      "source": [
        "윤년 횟수 구하기\n",
        "- https://inha.codetree.ai/missions/4/problems/number-of-leap-years/description"
      ],
      "metadata": {
        "id": "a0vahFihwjBo"
      }
    },
    {
      "cell_type": "code",
      "source": [
        "n = int(input())\n",
        "cnt = 0\n",
        "for i in range(1, n+1):\n",
        "    if(i % 4 == 0):\n",
        "        if(i % 100 == 0):\n",
        "            if(i % 400 == 0):\n",
        "                cnt += 1\n",
        "        else:\n",
        "            cnt += 1\n",
        "print(cnt)"
      ],
      "metadata": {
        "id": "_BpSVPviwkxQ"
      },
      "execution_count": null,
      "outputs": []
    },
    {
      "cell_type": "code",
      "source": [
        "# 변수 선언 및 입력\n",
        "n = int(input())\n",
        "cnt = 0\n",
        "\n",
        "# 1년부터 n년까지 윤년의 횟수를 구합니다.\n",
        "for i in range(1, n + 1):\n",
        "\tif (i % 4 == 0 and i % 100 != 0) or i % 400 == 0:\n",
        "\t\tcnt += 1\n",
        "\n",
        "print(cnt)"
      ],
      "metadata": {
        "id": "Z02shbwYxpo1"
      },
      "execution_count": null,
      "outputs": []
    },
    {
      "cell_type": "markdown",
      "source": [
        "등장횟수 확인\n",
        "- https://inha.codetree.ai/missions/4/problems/check-number-of-appearances/description"
      ],
      "metadata": {
        "id": "_CcwK22ixsZf"
      }
    },
    {
      "cell_type": "code",
      "source": [
        "cnt = 0\n",
        "for i in range(5):\n",
        "    num = int(input())\n",
        "    if(num % 2 == 0):\n",
        "        cnt += 1\n",
        "print(cnt)"
      ],
      "metadata": {
        "id": "5NisLdw3xta9"
      },
      "execution_count": null,
      "outputs": []
    },
    {
      "cell_type": "markdown",
      "source": [
        "# sum 계산하기"
      ],
      "metadata": {
        "id": "rKQ1Nv4Qx6Bq"
      }
    },
    {
      "cell_type": "markdown",
      "source": [
        "a부터 b까지의 합\n",
        "- https://inha.codetree.ai/missions/4/problems/sum-from-a-to-b/description"
      ],
      "metadata": {
        "id": "WY-hK0Jix9LS"
      }
    },
    {
      "cell_type": "code",
      "source": [
        "a, b = map(int, input().split())\n",
        "sum = 0\n",
        "for i in range(a, b + 1):\n",
        "    sum += i\n",
        "print(sum)"
      ],
      "metadata": {
        "id": "3lS3mWCTx_SJ"
      },
      "execution_count": null,
      "outputs": []
    },
    {
      "cell_type": "markdown",
      "source": [
        "100부터 입력받는 수까지의 합\n",
        "- https://inha.codetree.ai/missions/4/problems/sum-of-the-number-input-from-100/description"
      ],
      "metadata": {
        "id": "oJoUS8nWyI76"
      }
    },
    {
      "cell_type": "code",
      "source": [
        "n = int(input())\n",
        "sum = 0\n",
        "for i in range(n, 101):\n",
        "    sum += i\n",
        "print(sum)"
      ],
      "metadata": {
        "id": "8mgR60_dyLeJ"
      },
      "execution_count": null,
      "outputs": []
    },
    {
      "cell_type": "markdown",
      "source": [
        "홀수만 더하기\n",
        "- https://inha.codetree.ai/missions/4/problems/add-only-odd-numbers/description"
      ],
      "metadata": {
        "id": "ome0ftOLyXkI"
      }
    },
    {
      "cell_type": "code",
      "source": [
        "n = int(input())\n",
        "sum = 0\n",
        "for i in range(n):\n",
        "    num = int(input())\n",
        "    if(num % 2 == 1 and num % 3 == 0):\n",
        "        sum += num\n",
        "print(sum)"
      ],
      "metadata": {
        "id": "3v6HdP-fyaSv"
      },
      "execution_count": null,
      "outputs": []
    },
    {
      "cell_type": "markdown",
      "source": [
        "숫자 사이의 배수\n",
        "- https://inha.codetree.ai/missions/4/problems/multiplication-between-numbers/description"
      ],
      "metadata": {
        "id": "sNY_hQ5oy3aj"
      }
    },
    {
      "cell_type": "code",
      "source": [
        "a, b = map(int, input().split())\n",
        "sum = 0\n",
        "cnt = 0\n",
        "for i in range(a, b + 1):\n",
        "    if(i % 5 == 0 or i % 7 == 0):\n",
        "        sum += i\n",
        "        cnt += 1\n",
        "print(f'{sum} {sum/cnt:.1f}')"
      ],
      "metadata": {
        "id": "RkrdNDYwy515"
      },
      "execution_count": null,
      "outputs": []
    },
    {
      "cell_type": "markdown",
      "source": [
        "특정 조건 배수의 합\n",
        "- https://inha.codetree.ai/missions/4/problems/sum-of-specific-condition-multiple/description"
      ],
      "metadata": {
        "id": "dNfbnc570ark"
      }
    },
    {
      "cell_type": "code",
      "source": [
        "a, b = map(int, input().split())\n",
        "sum = 0\n",
        "if(a > b):\n",
        "    a, b = b, a\n",
        "for i in range(a, b + 1):\n",
        "    if(i % 5 == 0):\n",
        "        sum += i\n",
        "print(sum)"
      ],
      "metadata": {
        "id": "7-xE8bJA0a80"
      },
      "execution_count": null,
      "outputs": []
    },
    {
      "cell_type": "markdown",
      "source": [
        "a부터 b까지 짝수의 합\n",
        "- https://inha.codetree.ai/missions/4/problems/sum-of-even-nums-from-a-to-b/description"
      ],
      "metadata": {
        "id": "VgYOLsR40eFa"
      }
    },
    {
      "cell_type": "code",
      "source": [
        "a, b = map(int, input().split())\n",
        "sum = 0\n",
        "for i in range(a, b + 1):\n",
        "    if(i % 2 == 0):\n",
        "        sum += i\n",
        "print(sum)"
      ],
      "metadata": {
        "id": "9iT03z_l0gWq"
      },
      "execution_count": null,
      "outputs": []
    },
    {
      "cell_type": "markdown",
      "source": [
        "범위 안의 수 2\n",
        "- https://inha.codetree.ai/missions/4/problems/number-in-range-2/description"
      ],
      "metadata": {
        "id": "Fk4zDaHu0uA6"
      }
    },
    {
      "cell_type": "code",
      "source": [
        "sum = 0\n",
        "cnt = 0\n",
        "for i in range(10):\n",
        "    num = int(input())\n",
        "    if(num >= 0 and num <= 200):\n",
        "        sum += num\n",
        "        cnt += 1\n",
        "\n",
        "print(f'{sum} {sum/cnt:.1f}')"
      ],
      "metadata": {
        "id": "yW5glFdE0vPq"
      },
      "execution_count": null,
      "outputs": []
    },
    {
      "cell_type": "markdown",
      "source": [
        "완전수 판별기\n",
        "- https://inha.codetree.ai/missions/4/problems/perfect-number-discriminator/description"
      ],
      "metadata": {
        "id": "9azXBK7f221f"
      }
    },
    {
      "cell_type": "code",
      "source": [
        "n = int(input())\n",
        "sum = 0\n",
        "for i in range(1, n):\n",
        "    if(n % i == 0):\n",
        "        sum += i\n",
        "if(n == sum):\n",
        "    print('P')\n",
        "else:\n",
        "    print('N')"
      ],
      "metadata": {
        "id": "NHCCWi6u25i_"
      },
      "execution_count": null,
      "outputs": []
    },
    {
      "cell_type": "markdown",
      "source": [
        "입력받은 수의 합과 평균\n",
        "- https://inha.codetree.ai/missions/4/problems/sum-and-average-of-the-inputs/description"
      ],
      "metadata": {
        "id": "mOKiH0qV3LC8"
      }
    },
    {
      "cell_type": "code",
      "source": [
        "n = int(input())\n",
        "sum = 0\n",
        "for i in range(n):\n",
        "    num = int(input())\n",
        "    sum += num\n",
        "print(f'{sum} {sum/n:.1f}')"
      ],
      "metadata": {
        "id": "F-WGrehO3MYd"
      },
      "execution_count": null,
      "outputs": []
    },
    {
      "cell_type": "markdown",
      "source": [
        "총합 구하기\n",
        "- https://inha.codetree.ai/missions/4/problems/find-the-total/description"
      ],
      "metadata": {
        "id": "8uI1Olh34EG5"
      }
    },
    {
      "cell_type": "code",
      "source": [
        "a, b = map(int, input().split())\n",
        "sum = 0\n",
        "for i in range(a, b + 1):\n",
        "    if(i % 6 == 0 and i % 8 != 0):\n",
        "        sum += i\n",
        "print(sum)"
      ],
      "metadata": {
        "id": "ZCy109sy4HFT"
      },
      "execution_count": null,
      "outputs": []
    },
    {
      "cell_type": "markdown",
      "source": [
        "# prod 계산하기"
      ],
      "metadata": {
        "id": "kmf0NsaI_38r"
      }
    },
    {
      "cell_type": "markdown",
      "source": [
        "주어진 수까지의 곱\n",
        "- https://inha.codetree.ai/missions/4/problems/multiplication-up-to-a-given-number/description"
      ],
      "metadata": {
        "id": "g7--ffdY_6KT"
      }
    },
    {
      "cell_type": "code",
      "source": [
        "prod = 1\n",
        "a, b = map(int, input().split())\n",
        "for i in range(a, b + 1):\n",
        "    prod *= i\n",
        "print(prod)"
      ],
      "metadata": {
        "id": "WGHacOF8_6cA"
      },
      "execution_count": null,
      "outputs": []
    },
    {
      "cell_type": "markdown",
      "source": [
        "a의 b승\n",
        "- https://inha.codetree.ai/missions/4/problems/a-to-the-power-of-b/description"
      ],
      "metadata": {
        "id": "VKfO6grpAj4U"
      }
    },
    {
      "cell_type": "code",
      "source": [
        "a, b = map(int, input().split())\n",
        "print(pow(a, b))"
      ],
      "metadata": {
        "id": "WNIcG-zZApTe"
      },
      "execution_count": null,
      "outputs": []
    },
    {
      "cell_type": "markdown",
      "source": [
        "출력결과 41\n",
        "- https://inha.codetree.ai/missions/4/problems/reading-k201714/description"
      ],
      "metadata": {
        "id": "_9srbueQBmJ4"
      }
    },
    {
      "cell_type": "code",
      "source": [
        "c = 1\n",
        "for i in range(-3, 4):\n",
        "    c *= i\n",
        "print(c)\n",
        "# 출력\n",
        "# 0"
      ],
      "metadata": {
        "id": "aXNyP5Z8B8y-"
      },
      "execution_count": null,
      "outputs": []
    },
    {
      "cell_type": "markdown",
      "source": [
        "a의 배수들의 곱\n",
        "- https://inha.codetree.ai/missions/4/problems/product-of-multiples-of-a/description"
      ],
      "metadata": {
        "id": "KpS4SZjpCIVz"
      }
    },
    {
      "cell_type": "code",
      "source": [
        "a, b = map(int, input().split())\n",
        "prod = 1\n",
        "for i in range(1, b+1):\n",
        "    if(i % a == 0):\n",
        "        prod *= i\n",
        "print(prod)"
      ],
      "metadata": {
        "id": "OPbq-N7gCKZm"
      },
      "execution_count": null,
      "outputs": []
    },
    {
      "cell_type": "markdown",
      "source": [
        "# continue 문"
      ],
      "metadata": {
        "id": "z_Uc4xfBCp2Y"
      }
    },
    {
      "cell_type": "markdown",
      "source": [
        "친근하지 않은 수\n",
        "- https://inha.codetree.ai/missions/4/problems/unfriendly-number/description"
      ],
      "metadata": {
        "id": "SUv0V8e8C3Dt"
      }
    },
    {
      "cell_type": "code",
      "source": [
        "n = int(input())\n",
        "cnt = 0\n",
        "for i in range(1, n+1):\n",
        "    if(i % 2 != 0 and i % 3 != 0 and i % 5 != 0):\n",
        "        cnt += 1\n",
        "print(cnt)"
      ],
      "metadata": {
        "id": "pMWN0SAgC5SG"
      },
      "execution_count": null,
      "outputs": []
    },
    {
      "cell_type": "markdown",
      "source": [
        "특정 조건의 온전수 구하기\n",
        "- https://inha.codetree.ai/missions/4/problems/print-onjeonsu/description"
      ],
      "metadata": {
        "id": "t8EVBnrmECuU"
      }
    },
    {
      "cell_type": "code",
      "source": [
        "n = int(input())\n",
        "for i in range(1, n + 1):\n",
        "    if(i % 2 != 0 and i % 10 != 5 and (i % 3 != 0 or i % 9 == 0)):\n",
        "        print(i, end = ' ')"
      ],
      "metadata": {
        "id": "OBKXgNaKEDtj"
      },
      "execution_count": null,
      "outputs": []
    },
    {
      "cell_type": "markdown",
      "source": [
        "출력결과 88\n",
        "- https://inha.codetree.ai/missions/4/problems/reading-88/description"
      ],
      "metadata": {
        "id": "0h5Lo53KF99V"
      }
    },
    {
      "cell_type": "code",
      "source": [
        "x = 0\n",
        "for x in range(-1, 21, 1):\n",
        "    if x < 10:\n",
        "        continue\n",
        "    print(\"Leebros\")\n",
        "# 출력\n",
        "# 11"
      ],
      "metadata": {
        "id": "vYBBMiJmF-7x"
      },
      "execution_count": null,
      "outputs": []
    },
    {
      "cell_type": "markdown",
      "source": [
        "조건에 부합하는 수\n",
        "- https://inha.codetree.ai/missions/4/problems/number-that-meets-the-condition/description"
      ],
      "metadata": {
        "id": "fFCtxi0TGG6u"
      }
    },
    {
      "cell_type": "code",
      "source": [
        "a = int(input())\n",
        "for i in range(1, a + 1):\n",
        "    if(not(i % 2 == 0 and i % 4 != 0) and not((i // 8) % 2 == 0) and not((i % 7) < 4)):\n",
        "        print(i, end = ' ')"
      ],
      "metadata": {
        "id": "VO-MJvQzGJpc"
      },
      "execution_count": null,
      "outputs": []
    },
    {
      "cell_type": "markdown",
      "source": [
        "# break 문"
      ],
      "metadata": {
        "id": "Kzk21NKjDDvF"
      }
    },
    {
      "cell_type": "markdown",
      "source": [
        "1부터의 합\n",
        "- https://inha.codetree.ai/missions/4/problems/sum-from-the-one/description"
      ],
      "metadata": {
        "id": "mp-x_5RdDFb2"
      }
    },
    {
      "cell_type": "code",
      "source": [
        "n = int(input())\n",
        "sum = 0\n",
        "cnt = 0\n",
        "for i in range(1, 101):\n",
        "    sum += i\n",
        "    if(sum >= n):\n",
        "        cnt = i\n",
        "        break\n",
        "print(cnt)"
      ],
      "metadata": {
        "id": "AyxvqRXADHuW"
      },
      "execution_count": null,
      "outputs": []
    },
    {
      "cell_type": "markdown",
      "source": [
        "1부터 곱셈하기\n",
        "- https://inha.codetree.ai/missions/4/problems/multiple-from-one/description"
      ],
      "metadata": {
        "id": "vd4Rfc0QDp2y"
      }
    },
    {
      "cell_type": "code",
      "source": [
        "n = int(input())\n",
        "sum = 1\n",
        "cnt = 0\n",
        "for i in range(1, 10):\n",
        "    sum *= i\n",
        "    if(sum >= n):\n",
        "        cnt = i\n",
        "        break\n",
        "if(cnt == 0):\n",
        "    cnt = 10\n",
        "print(cnt)"
      ],
      "metadata": {
        "id": "JiiAqX99DsMx"
      },
      "execution_count": null,
      "outputs": []
    },
    {
      "cell_type": "markdown",
      "source": [
        "출력결과 63\n",
        "- https://inha.codetree.ai/missions/4/problems/reading-k201816/description"
      ],
      "metadata": {
        "id": "MTmRxnX-EEci"
      }
    },
    {
      "cell_type": "code",
      "source": [
        "x = 0\n",
        "for x in range(-1, 21, 1):\n",
        "    if x < 10:\n",
        "        continue\n",
        "    else:\n",
        "        break\n",
        "    print(\"Leebros\")\n",
        "# 출력\n",
        "# 0회"
      ],
      "metadata": {
        "id": "XyH2gRCXEpi1"
      },
      "execution_count": null,
      "outputs": []
    },
    {
      "cell_type": "markdown",
      "source": [
        "출력결과 71\n",
        "- https://inha.codetree.ai/missions/4/problems/reading-k201826/description"
      ],
      "metadata": {
        "id": "z1cKKeaME7I8"
      }
    },
    {
      "cell_type": "code",
      "source": [
        "x = 100\n",
        "for x in range(1, 6):\n",
        "    if x == 2:\n",
        "        continue\n",
        "    if x == 4:\n",
        "        break\n",
        "    print(x, end=' ')\n",
        "# 출력\n",
        "# 1 3"
      ],
      "metadata": {
        "id": "VhdVT4QvE9rU"
      },
      "execution_count": null,
      "outputs": []
    },
    {
      "cell_type": "markdown",
      "source": [
        "1까지 나누기\n",
        "- https://inha.codetree.ai/missions/4/problems/divide-by-1/description"
      ],
      "metadata": {
        "id": "FvvJMI1UFFq5"
      }
    },
    {
      "cell_type": "code",
      "source": [
        "n = int(input())\n",
        "cnt = 0\n",
        "sum = n\n",
        "for i in range(1, n+1):\n",
        "    sum = sum // i\n",
        "    cnt += 1\n",
        "    if(sum <= 1):\n",
        "        break\n",
        "print(cnt)"
      ],
      "metadata": {
        "id": "TliBV0JPFG1H"
      },
      "execution_count": null,
      "outputs": []
    },
    {
      "cell_type": "code",
      "source": [
        "# 예시 답안\n",
        "# 변수 선언 및 입력\n",
        "n = int(input())\n",
        "cnt = 0\n",
        "\n",
        "# 1부터 증가시키며 나눈 값이 1이하가 된 순간, 나눗셈을 진행한 횟수를 출력합니다.\n",
        "i = 1\n",
        "while n > 1:\n",
        "   n //= i\n",
        "   i += 1\n",
        "   cnt += 1\n",
        "\n",
        "print(cnt)"
      ],
      "metadata": {
        "id": "28Tao3gjGzIu"
      },
      "execution_count": null,
      "outputs": []
    },
    {
      "cell_type": "markdown",
      "source": [
        "# Infinite Loop"
      ],
      "metadata": {
        "id": "N0JyxmzOGx_X"
      }
    },
    {
      "cell_type": "markdown",
      "source": [
        "# 0 나올때까지 출력\n",
        "- https://inha.codetree.ai/missions/4/problems/print-until-zero-is-given/description"
      ],
      "metadata": {
        "id": "wpIq-3nyG4p2"
      }
    },
    {
      "cell_type": "code",
      "source": [
        "while(1):\n",
        "    num = int(input())\n",
        "    if(num != 0):\n",
        "        print(num)\n",
        "    else:\n",
        "        break"
      ],
      "metadata": {
        "id": "Ie39DUDvG4Vp"
      },
      "execution_count": null,
      "outputs": []
    },
    {
      "cell_type": "markdown",
      "source": [
        "특정 숫자 맞추기\n",
        "- https://inha.codetree.ai/missions/4/problems/catching-specific-number/description"
      ],
      "metadata": {
        "id": "tQ6IrjprIOeB"
      }
    },
    {
      "cell_type": "code",
      "source": [
        "while(1):\n",
        "    num = int(input())\n",
        "    if(num < 25):\n",
        "        print('Higher')\n",
        "    elif(num > 25):\n",
        "        print('Lower')\n",
        "    else:\n",
        "        print('Good')\n",
        "        break"
      ],
      "metadata": {
        "id": "rqqH4f49IYWw"
      },
      "execution_count": null,
      "outputs": []
    },
    {
      "cell_type": "markdown",
      "source": [
        "출석 부르기 2\n",
        "- https://inha.codetree.ai/missions/4/problems/calling-attendance-2/description"
      ],
      "metadata": {
        "id": "BRZMUWxCIt--"
      }
    },
    {
      "cell_type": "code",
      "source": [
        "while(1):\n",
        "    num = int(input())\n",
        "    if(num == 1):\n",
        "        print('John')\n",
        "    elif(num == 2):\n",
        "        print('Tom')\n",
        "    elif(num == 3):\n",
        "        print('Paul')\n",
        "    elif(num == 4):\n",
        "        print('Sam')\n",
        "    else:\n",
        "        print('Vacancy')\n",
        "        break"
      ],
      "metadata": {
        "id": "UNHw5QsqIvl0"
      },
      "execution_count": null,
      "outputs": []
    },
    {
      "cell_type": "markdown",
      "source": [
        "몫 출력하기\n",
        "- https://inha.codetree.ai/missions/4/problems/print-share/description"
      ],
      "metadata": {
        "id": "3hTeGXZ-JAVz"
      }
    },
    {
      "cell_type": "code",
      "source": [
        "cnt = 0\n",
        "while(1):\n",
        "    num = int(input())\n",
        "    if(num % 2 == 1):\n",
        "        continue\n",
        "    else:\n",
        "        print(num // 2)\n",
        "        cnt += 1\n",
        "        if(cnt == 3):\n",
        "            break"
      ],
      "metadata": {
        "id": "0LqX22mXJC6j"
      },
      "execution_count": null,
      "outputs": []
    },
    {
      "cell_type": "markdown",
      "source": [
        "사각형의 넓이 계속 계산하기\n",
        "- https://inha.codetree.ai/missions/4/problems/continue-calculating-width-of-the-rectangle/description"
      ],
      "metadata": {
        "id": "lGukPrhWJeLN"
      }
    },
    {
      "cell_type": "code",
      "source": [
        "while(1):\n",
        "    a, b, c = input().split()\n",
        "    a, b = int(a), int(b)\n",
        "    print(a * b)\n",
        "    if(c == 'C'):\n",
        "        break"
      ],
      "metadata": {
        "id": "Jik-CBmNJiLk"
      },
      "execution_count": null,
      "outputs": []
    },
    {
      "cell_type": "markdown",
      "source": [
        "20대의 평균 나이\n",
        "- https://inha.codetree.ai/missions/4/problems/average-age-of-20/description"
      ],
      "metadata": {
        "id": "I2Xu412zLUZ1"
      }
    },
    {
      "cell_type": "code",
      "source": [
        "sum = 0\n",
        "cnt = 0\n",
        "while(1):\n",
        "    num = int(input())\n",
        "    if(num < 20 or num >= 30):\n",
        "        break\n",
        "    sum += num\n",
        "    cnt += 1\n",
        "print(f'{sum/cnt:.2f}')"
      ],
      "metadata": {
        "id": "ltjKJr3uLXPa"
      },
      "execution_count": null,
      "outputs": []
    },
    {
      "cell_type": "markdown",
      "source": [
        "# 언제 끝날지 모르는 상황에서의 loop"
      ],
      "metadata": {
        "id": "b3Ziem8hzwHj"
      }
    },
    {
      "cell_type": "markdown",
      "source": [
        "3n + 1 수열\n",
        "- https://inha.codetree.ai/missions/4/problems/3n-plus-1-sequence/description"
      ],
      "metadata": {
        "id": "GRG9b8MUzyQG"
      }
    },
    {
      "cell_type": "code",
      "source": [
        "n = int(input())\n",
        "cnt = 0\n",
        "while(1):\n",
        "    if(n == 1):\n",
        "        print(cnt)\n",
        "        break\n",
        "    cnt += 1\n",
        "    if(n % 2 == 0):\n",
        "        n = n // 2\n",
        "    else:\n",
        "        n = n * 3 + 1"
      ],
      "metadata": {
        "id": "5TeLkLGIz0hc"
      },
      "execution_count": null,
      "outputs": []
    },
    {
      "cell_type": "markdown",
      "source": [
        "출력결과 3\n",
        "- https://inha.codetree.ai/missions/4/problems/reading-k201521/description"
      ],
      "metadata": {
        "id": "k2gog-V80Nqo"
      }
    },
    {
      "cell_type": "code",
      "source": [
        "a = 128; b = 2021\n",
        "\n",
        "while b != 0:\n",
        "    tmp = a % b\n",
        "    a = b\n",
        "    b = tmp\n",
        "\n",
        "print(a)\n",
        "# 출력\n",
        "# 1"
      ],
      "metadata": {
        "id": "RsN6VN2u0Q_o"
      },
      "execution_count": null,
      "outputs": []
    },
    {
      "cell_type": "markdown",
      "source": [
        "출력결과 77\n",
        "- https://inha.codetree.ai/missions/4/problems/reading-k201832/description"
      ],
      "metadata": {
        "id": "V63goAIn0aMh"
      }
    },
    {
      "cell_type": "code",
      "source": [
        "i = 1; tmp = 0\n",
        "while i < 10:\n",
        "    if i % 2 == 0:\n",
        "        i += 1\n",
        "    if tmp > 5:\n",
        "        break\n",
        "    tmp += i\n",
        "\n",
        "print(tmp)\n",
        "# 출력\n",
        "# 6"
      ],
      "metadata": {
        "id": "nbIkrMcN0cBf"
      },
      "execution_count": null,
      "outputs": []
    },
    {
      "cell_type": "markdown",
      "source": [
        "출력결과 78\n",
        "- https://inha.codetree.ai/missions/4/problems/reading-k201833/description"
      ],
      "metadata": {
        "id": "zPtUb0uO0iRX"
      }
    },
    {
      "cell_type": "code",
      "source": [
        "a = 2\n",
        "b = 2\n",
        "while b:\n",
        "    a += 1\n",
        "    b -= 1\n",
        "while a:\n",
        "    a -= 1\n",
        "    b += 1\n",
        "print(b)\n",
        "# 출력\n",
        "# 4"
      ],
      "metadata": {
        "id": "V3uwq4pt0kOW"
      },
      "execution_count": null,
      "outputs": []
    },
    {
      "cell_type": "markdown",
      "source": [
        "출력결과 37\n",
        "- https://inha.codetree.ai/missions/4/problems/reading-k201647/description"
      ],
      "metadata": {
        "id": "4yhB3nsJ0rJt"
      }
    },
    {
      "cell_type": "code",
      "source": [
        "m = 0\n",
        "n = int(input())\n",
        "while n != 1:\n",
        "    if n % 2 == 0:\n",
        "        n //= 2\n",
        "    else:\n",
        "        n = 3 * n + 1\n",
        "    m += 1\n",
        "print(m)\n",
        "# 출력\n",
        "# 2"
      ],
      "metadata": {
        "id": "8DDvwR5i0sUL"
      },
      "execution_count": null,
      "outputs": []
    },
    {
      "cell_type": "markdown",
      "source": [
        "2의 거듭제곱수\n",
        "- https://inha.codetree.ai/missions/4/problems/pow-of-2/description"
      ],
      "metadata": {
        "id": "aspacL3T0zUF"
      }
    },
    {
      "cell_type": "code",
      "source": [
        "n = int(input())\n",
        "cnt = 0\n",
        "while(1):\n",
        "    if(n == pow(2, cnt)):\n",
        "        print(cnt)\n",
        "        break\n",
        "    else:\n",
        "        cnt += 1"
      ],
      "metadata": {
        "id": "9QlBbDnj01HE"
      },
      "execution_count": null,
      "outputs": []
    },
    {
      "cell_type": "markdown",
      "source": [
        "조건에 따른 연산\n",
        "- https://inha.codetree.ai/missions/4/problems/operatino-by-rule/description"
      ],
      "metadata": {
        "id": "4hEsmJh01SAn"
      }
    },
    {
      "cell_type": "code",
      "source": [
        "n = int(input())\n",
        "cnt = 0\n",
        "while(1):\n",
        "    if(n >= 1000):\n",
        "        print(cnt)\n",
        "        break\n",
        "    if(n % 2 == 0):\n",
        "        n = n * 3 + 1\n",
        "    else:\n",
        "        n = n * 2 + 2\n",
        "    cnt += 1"
      ],
      "metadata": {
        "id": "wE2oyRVC1UcX"
      },
      "execution_count": null,
      "outputs": []
    },
    {
      "cell_type": "markdown",
      "source": [
        "# 단 하나라도 만족하는 경우"
      ],
      "metadata": {
        "id": "BhG2S3b_1p_d"
      }
    },
    {
      "cell_type": "markdown",
      "source": [
        "ab 사이에 있는 c\n",
        "- https://inha.codetree.ai/missions/4/problems/c-between-a-and-b/description"
      ],
      "metadata": {
        "id": "a42V_xuR1tqj"
      }
    },
    {
      "cell_type": "code",
      "source": [
        "a, b, c = map(int, input().split())\n",
        "check = 0\n",
        "for i in range(a, b + 1):\n",
        "    if(i % c == 0):\n",
        "        check = 1\n",
        "        break\n",
        "if(check == 1):\n",
        "    print('YES')\n",
        "else:\n",
        "    print('NO')"
      ],
      "metadata": {
        "id": "12RpkGgC1v4h"
      },
      "execution_count": null,
      "outputs": []
    },
    {
      "cell_type": "markdown",
      "source": [
        "합성수 판별기\n",
        "- https://inha.codetree.ai/missions/4/problems/factorization-discriminator/description"
      ],
      "metadata": {
        "id": "AHXrywnd2GDg"
      }
    },
    {
      "cell_type": "code",
      "source": [
        "n = int(input())\n",
        "check = 0\n",
        "for i in range(2, (n // 2 + 1)):\n",
        "    if(n % i == 0):\n",
        "        check = 1\n",
        "        break\n",
        "if(check == 1):\n",
        "    print('C')\n",
        "else:\n",
        "    print('N')"
      ],
      "metadata": {
        "id": "OVE72d2O2IvB"
      },
      "execution_count": null,
      "outputs": []
    },
    {
      "cell_type": "markdown",
      "source": [
        "공약수의 유무\n",
        "- https://inha.codetree.ai/missions/4/problems/presence-or-absence-of-a-common-divisor/description"
      ],
      "metadata": {
        "id": "1KfcAqw72r1q"
      }
    },
    {
      "cell_type": "code",
      "source": [
        "a, b = map(int, input().split())\n",
        "check = 0\n",
        "li = [] # 1920과 2880의 공약수를 담을 리스트\n",
        "for i in range(1, 961):\n",
        "    if(1920 % i == 0 and 2880 % i == 0):\n",
        "        li.append(i)\n",
        "for i in range(a, b + 1):\n",
        "    if(i in li):\n",
        "        check = 1\n",
        "        break\n",
        "print(check)"
      ],
      "metadata": {
        "id": "L0pOSJ7Z2tUJ"
      },
      "execution_count": null,
      "outputs": []
    },
    {
      "cell_type": "code",
      "source": [
        "# 예시 답안\n",
        "a, b = map(int, input().split())\n",
        "check = 0\n",
        "for i in range(a, b + 1):\n",
        "    # a에서 b사이의 값 중 1990과 2880의 공약수가 있는지 확인\n",
        "    if 1920 % i == 0 and 2880 % i == 0:\n",
        "        check = 1\n",
        "        break\n",
        "print(check)"
      ],
      "metadata": {
        "id": "jIW1GJlz3jh4"
      },
      "execution_count": null,
      "outputs": []
    },
    {
      "cell_type": "markdown",
      "source": [
        "# 모두 만족하는 경우"
      ],
      "metadata": {
        "id": "uQxafB-G4CPG"
      }
    },
    {
      "cell_type": "markdown",
      "source": [
        "ab 사이에 없는 c\n",
        "- https://inha.codetree.ai/missions/4/problems/c-between-a-and-b-2/description"
      ],
      "metadata": {
        "id": "4l88lyRt4DAh"
      }
    },
    {
      "cell_type": "code",
      "source": [
        "a, b, c = map(int, input().split())\n",
        "check = 1\n",
        "for i in range(a, b + 1):\n",
        "    if(i % c == 0):\n",
        "        check = 0\n",
        "        break\n",
        "if(check == 1):\n",
        "    print('YES')\n",
        "else:\n",
        "    print('NO')"
      ],
      "metadata": {
        "id": "YK3OcEIJ4FHf"
      },
      "execution_count": null,
      "outputs": []
    },
    {
      "cell_type": "markdown",
      "source": [
        "소수 판별기\n",
        "- https://inha.codetree.ai/missions/4/problems/prime-number-discriminator/description"
      ],
      "metadata": {
        "id": "um5i75-f4gfo"
      }
    },
    {
      "cell_type": "code",
      "source": [
        "n = int(input())\n",
        "check = 1\n",
        "for i in range(2, (n // 2) + 1):\n",
        "    if(n % i == 0):\n",
        "        check = 0\n",
        "if(check == 1):\n",
        "    print('P')\n",
        "else:\n",
        "    print('C')"
      ],
      "metadata": {
        "id": "SAlLgBzx4hqZ"
      },
      "execution_count": null,
      "outputs": []
    },
    {
      "cell_type": "markdown",
      "source": [
        "모두 3의 배수\n",
        "- https://inha.codetree.ai/missions/4/problems/all-multiples-of-3/description"
      ],
      "metadata": {
        "id": "Fi13RI005AuF"
      }
    },
    {
      "cell_type": "code",
      "source": [
        "check = 1\n",
        "for i in range(5):\n",
        "    num = int(input())\n",
        "    if(num % 3 != 0):\n",
        "        check = 0\n",
        "print(check)"
      ],
      "metadata": {
        "id": "YYBhxP4V5Byb"
      },
      "execution_count": null,
      "outputs": []
    }
  ]
}