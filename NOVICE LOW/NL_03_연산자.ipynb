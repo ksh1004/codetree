{
  "nbformat": 4,
  "nbformat_minor": 0,
  "metadata": {
    "colab": {
      "provenance": []
    },
    "kernelspec": {
      "name": "python3",
      "display_name": "Python 3"
    },
    "language_info": {
      "name": "python"
    }
  },
  "cells": [
    {
      "cell_type": "markdown",
      "source": [
        "# 사칙연산"
      ],
      "metadata": {
        "id": "AW0iGbrwzQhO"
      }
    },
    {
      "cell_type": "markdown",
      "source": [
        "간단한 사칙연산\n",
        "- https://inha.codetree.ai/missions/4/problems/simple-arithmetic-operation/description"
      ],
      "metadata": {
        "id": "tWvda6V4zhiF"
      }
    },
    {
      "cell_type": "code",
      "execution_count": null,
      "metadata": {
        "id": "F7KgWk7GzO2H"
      },
      "outputs": [],
      "source": [
        "a, b = map(int, input().split())\n",
        "print(a+b)\n",
        "print(a-b)\n",
        "print(a//b)\n",
        "print(a%b)"
      ]
    },
    {
      "cell_type": "markdown",
      "source": [
        "길이 변형 후 사각형 넓이 구하기\n",
        "- https://inha.codetree.ai/missions/4/problems/square-width-after-length-change/description"
      ],
      "metadata": {
        "id": "PVmMnPZYz52J"
      }
    },
    {
      "cell_type": "code",
      "source": [
        "a, b = map(int, input().split())\n",
        "a = a + 8\n",
        "b = b * 3\n",
        "print(a)\n",
        "print(b)\n",
        "print(a * b)"
      ],
      "metadata": {
        "id": "GcPA79bWz6UO"
      },
      "execution_count": null,
      "outputs": []
    },
    {
      "cell_type": "markdown",
      "source": [
        "두수의 곱과 몫\n",
        "- https://inha.codetree.ai/missions/4/problems/multiple-and-quotient-of-two-numbers/description"
      ],
      "metadata": {
        "id": "JCjz2_Lrz5xA"
      }
    },
    {
      "cell_type": "code",
      "source": [
        "a, b = map(int, input().split())\n",
        "print(f'{a} * {b} = {a * b}')\n",
        "print(f'{a} / {b} = {a // b}')"
      ],
      "metadata": {
        "id": "dmH_E_kt0c8a"
      },
      "execution_count": null,
      "outputs": []
    },
    {
      "cell_type": "markdown",
      "source": [
        "몫과 나머지\n",
        "- https://inha.codetree.ai/missions/4/problems/quotient-remainder/description"
      ],
      "metadata": {
        "id": "g5bl-J4H0vLA"
      }
    },
    {
      "cell_type": "code",
      "source": [
        "a, b = map(int, input().split())\n",
        "print(f'{a // b}...{a % b}')"
      ],
      "metadata": {
        "id": "LdWOUSqK0vZw"
      },
      "execution_count": null,
      "outputs": []
    },
    {
      "cell_type": "markdown",
      "source": [
        "입력받아 연산하기\n",
        "- https://inha.codetree.ai/missions/4/problems/take-input-and-operate/description"
      ],
      "metadata": {
        "id": "fNT1AnK807d3"
      }
    },
    {
      "cell_type": "code",
      "source": [
        "a = int(input())\n",
        "b = int(input())\n",
        "a = a + 87\n",
        "b = b % 10\n",
        "print(a)\n",
        "print(b)"
      ],
      "metadata": {
        "id": "uNcAeh8707uH"
      },
      "execution_count": null,
      "outputs": []
    },
    {
      "cell_type": "markdown",
      "source": [
        "2개의 정수를 서로 더하기\n",
        "- https://inha.codetree.ai/missions/4/problems/add-two-integers-each-other/description"
      ],
      "metadata": {
        "id": "sokobTcd1Wyi"
      }
    },
    {
      "cell_type": "code",
      "source": [
        "a, b = map(int, input().split())\n",
        "a = a + b\n",
        "b = a + b\n",
        "print(a, b, sep = ' ')"
      ],
      "metadata": {
        "id": "Aut_3NHV1XBk"
      },
      "execution_count": null,
      "outputs": []
    },
    {
      "cell_type": "markdown",
      "source": [
        "출력결과 24\n",
        "- https://inha.codetree.ai/missions/4/problems/reading-k201622/description"
      ],
      "metadata": {
        "id": "XnTYGBYo1qo5"
      }
    },
    {
      "cell_type": "code",
      "source": [
        "b = 3; c = 2\n",
        "a = b // c\n",
        "print(f\"{a:.1f}\")\n",
        "# 결과\n",
        "# 1.0"
      ],
      "metadata": {
        "id": "v06mEhOt1q8u"
      },
      "execution_count": null,
      "outputs": []
    },
    {
      "cell_type": "markdown",
      "source": [
        "출력결과 25\n",
        "- https://inha.codetree.ai/missions/4/problems/reading-k201626/description\n"
      ],
      "metadata": {
        "id": "27x0V1Zo2N-z"
      }
    },
    {
      "cell_type": "code",
      "source": [
        "print(a % b, a % (a % b))\n",
        "# 결과\n",
        "# a = 10, b = 5일 때 오류 발생(a % b 값은 0인데, a % (a % b)를 할 때 a % 0이 되므로)"
      ],
      "metadata": {
        "id": "1e9r2fcP2WKf"
      },
      "execution_count": null,
      "outputs": []
    },
    {
      "cell_type": "markdown",
      "source": [
        "출력결과 62\n",
        "- https://inha.codetree.ai/missions/4/problems/reading-k201815/description"
      ],
      "metadata": {
        "id": "3pJUDutO2rPX"
      }
    },
    {
      "cell_type": "code",
      "source": [
        "a = 1\n",
        "b = 1.3\n",
        "c = a + b\n",
        "print('%.2f' % c)\n",
        "# 결과\n",
        "# 2.30"
      ],
      "metadata": {
        "id": "gqD3fa3H2viU"
      },
      "execution_count": null,
      "outputs": []
    },
    {
      "cell_type": "markdown",
      "source": [
        "합과 차의 나눗셈\n",
        "- https://inha.codetree.ai/missions/4/problems/divide-of-sum-and-sub/description"
      ],
      "metadata": {
        "id": "6G4mOSk522nF"
      }
    },
    {
      "cell_type": "code",
      "source": [
        "a, b = map(int, input().split())\n",
        "print(f'{(a+b) / (a-b):.2f}')"
      ],
      "metadata": {
        "id": "O4FPtMLy24f7"
      },
      "execution_count": null,
      "outputs": []
    },
    {
      "cell_type": "markdown",
      "source": [
        "# 합과 평균"
      ],
      "metadata": {
        "id": "EULNDq0a3ir1"
      }
    },
    {
      "cell_type": "markdown",
      "source": [
        "합과 평균\n",
        "- https://inha.codetree.ai/missions/4/problems/sum-and-avg/description"
      ],
      "metadata": {
        "id": "qIpjwrd53k-N"
      }
    },
    {
      "cell_type": "code",
      "source": [
        "a, b = map(int, input().split())\n",
        "print(a+b, (a+b)/2)"
      ],
      "metadata": {
        "id": "Srum1KeC3nkV"
      },
      "execution_count": null,
      "outputs": []
    },
    {
      "cell_type": "markdown",
      "source": [
        "세 수의 합과 평균 구하기\n",
        "- https://inha.codetree.ai/missions/4/problems/sum-and-mean-of-three-numbers/description"
      ],
      "metadata": {
        "id": "Q3FXZ0yF300b"
      }
    },
    {
      "cell_type": "code",
      "source": [
        "a, b, c = map(int, input().split())\n",
        "print(a + b + c)\n",
        "print((a + b + c) // 3)"
      ],
      "metadata": {
        "id": "33Gj-h614KqR"
      },
      "execution_count": null,
      "outputs": []
    },
    {
      "cell_type": "markdown",
      "source": [
        "합과 평균의 차\n",
        "- https://inha.codetree.ai/missions/4/problems/sub-of-average-and-sum/description"
      ],
      "metadata": {
        "id": "l52zNrVk4jtm"
      }
    },
    {
      "cell_type": "code",
      "source": [
        "a, b, c = map(int, input().split())\n",
        "print(a + b + c)\n",
        "print((a + b + c) // 3)\n",
        "print((a + b + c) - (a + b + c) // 3)"
      ],
      "metadata": {
        "id": "-dJW1gc34k60"
      },
      "execution_count": null,
      "outputs": []
    }
  ]
}