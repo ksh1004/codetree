{
  "nbformat": 4,
  "nbformat_minor": 0,
  "metadata": {
    "colab": {
      "provenance": []
    },
    "kernelspec": {
      "name": "python3",
      "display_name": "Python 3"
    },
    "language_info": {
      "name": "python"
    }
  },
  "cells": [
    {
      "cell_type": "markdown",
      "source": [
        "# 사각형 별 출력"
      ],
      "metadata": {
        "id": "k5nEMlXaEVo1"
      }
    },
    {
      "cell_type": "markdown",
      "source": [
        "정사각형 별표 출력하기\n",
        "- https://inha.codetree.ai/missions/4/problems/print-stars-in-square/description"
      ],
      "metadata": {
        "id": "SZez98gfEXVF"
      }
    },
    {
      "cell_type": "code",
      "execution_count": null,
      "metadata": {
        "id": "WeVE26W0ENhT"
      },
      "outputs": [],
      "source": [
        "n = int(input())\n",
        "for i in range(n):\n",
        "    print('*'*n)"
      ]
    },
    {
      "cell_type": "markdown",
      "source": [
        "직사각형 별표 출력하기\n",
        "- https://inha.codetree.ai/missions/4/problems/print-stars-in-rectangle/description"
      ],
      "metadata": {
        "id": "9RD_6ONUEiZz"
      }
    },
    {
      "cell_type": "code",
      "source": [
        "n, m = map(int, input().split())\n",
        "for i in range(n):\n",
        "    print('* '*m)"
      ],
      "metadata": {
        "id": "nu_SygfhEllR"
      },
      "execution_count": null,
      "outputs": []
    },
    {
      "cell_type": "markdown",
      "source": [
        "정사각형 두 개 출력\n",
        "- https://inha.codetree.ai/missions/4/problems/output-two-rectangles/description"
      ],
      "metadata": {
        "id": "YAFDeQuNEzlB"
      }
    },
    {
      "cell_type": "code",
      "source": [
        "n = int(input())\n",
        "for i in range(n):\n",
        "    print('*'*n)\n",
        "print()\n",
        "for i in range(n):\n",
        "    print('*'*n)"
      ],
      "metadata": {
        "id": "iALWIzqAE22Z"
      },
      "execution_count": null,
      "outputs": []
    },
    {
      "cell_type": "markdown",
      "source": [
        "# 직각삼각형 별 출력"
      ],
      "metadata": {
        "id": "BU0Y9a14FMiz"
      }
    },
    {
      "cell_type": "markdown",
      "source": [
        "별표 출력하기 2\n",
        "- https://inha.codetree.ai/missions/4/problems/print-star-2/description"
      ],
      "metadata": {
        "id": "mgRzi0DPFNWz"
      }
    },
    {
      "cell_type": "code",
      "source": [
        "n = int(input())\n",
        "for i in range(n, 0, -1):\n",
        "    print('* ' * i)"
      ],
      "metadata": {
        "id": "FLef-OrXFPtD"
      },
      "execution_count": null,
      "outputs": []
    },
    {
      "cell_type": "markdown",
      "source": [
        "별표 출력하기 7\n",
        "- https://inha.codetree.ai/missions/4/problems/print-star-7/description"
      ],
      "metadata": {
        "id": "HBpeWEjsFfLh"
      }
    },
    {
      "cell_type": "code",
      "source": [
        "n = int(input())\n",
        "for i in range(1, n+1):\n",
        "    print('* ' * i)"
      ],
      "metadata": {
        "id": "7dmzitC7FiBg"
      },
      "execution_count": null,
      "outputs": []
    },
    {
      "cell_type": "markdown",
      "source": [
        "별표 출력하기 5\n",
        "- https://inha.codetree.ai/missions/4/problems/print-star-5/description"
      ],
      "metadata": {
        "id": "Zkh1l5D7Fz7Z"
      }
    },
    {
      "cell_type": "code",
      "source": [
        "n = int(input())\n",
        "for i in range(n):\n",
        "    for j in range(n, 0, -1):\n",
        "        print('*'*n, end = ' ')\n",
        "    n = n - 1\n",
        "    print()"
      ],
      "metadata": {
        "id": "NPUl7uU5F3PX"
      },
      "execution_count": null,
      "outputs": []
    },
    {
      "cell_type": "markdown",
      "source": [
        "직각 삼각형 출력\n",
        "- https://inha.codetree.ai/missions/4/problems/Right-triangle-and-output/description"
      ],
      "metadata": {
        "id": "f5iGDgTYGbky"
      }
    },
    {
      "cell_type": "code",
      "source": [
        "n = int(input())\n",
        "for i in range(1, 2*n, 2):\n",
        "    print('*'*i)"
      ],
      "metadata": {
        "id": "gA3mPsXyGgk3"
      },
      "execution_count": null,
      "outputs": []
    },
    {
      "cell_type": "markdown",
      "source": [
        "# 행에 대해 대칭인 별 출력"
      ],
      "metadata": {
        "id": "kG2cKirqdMMu"
      }
    },
    {
      "cell_type": "markdown",
      "source": [
        "별표 출력하기\n",
        "- https://inha.codetree.ai/missions/4/problems/print-star/description"
      ],
      "metadata": {
        "id": "GbbB7hgfdOm_"
      }
    },
    {
      "cell_type": "code",
      "source": [
        "n = int(input())\n",
        "for i in range(1, n + 1):\n",
        "    print('* ' * i)\n",
        "for j in range(n-1, 0, -1):\n",
        "    print('* ' * j)"
      ],
      "metadata": {
        "id": "KZVWOlEsdQzn"
      },
      "execution_count": null,
      "outputs": []
    },
    {
      "cell_type": "markdown",
      "source": [
        "별표 출력하기 4\n",
        "- https://inha.codetree.ai/missions/4/problems/print-star-4/description"
      ],
      "metadata": {
        "id": "zdGR8n6gdgSX"
      }
    },
    {
      "cell_type": "code",
      "source": [
        "n = int(input())\n",
        "for i in range(n, 1, -1):\n",
        "    print('* ' * i)\n",
        "for j in range(1, n + 1):\n",
        "    print('* ' * j)"
      ],
      "metadata": {
        "id": "7FMLWZKudhcV"
      },
      "execution_count": null,
      "outputs": []
    },
    {
      "cell_type": "markdown",
      "source": [
        "건너뛰고 별표 출력하기\n",
        "- https://inha.codetree.ai/missions/4/problems/skip-and-print-a-star/description"
      ],
      "metadata": {
        "id": "IzOHxOmldyxi"
      }
    },
    {
      "cell_type": "code",
      "source": [
        "n = int(input())\n",
        "for i in range(1, n + 1):\n",
        "    print('*' * i)\n",
        "    print()\n",
        "for j in range(n - 1, 0, -1):\n",
        "    print('*' * j)\n",
        "    print()"
      ],
      "metadata": {
        "id": "6VMvuWJzd1iK"
      },
      "execution_count": null,
      "outputs": []
    },
    {
      "cell_type": "markdown",
      "source": [
        "# 열에 대해 대칭인 별 출력"
      ],
      "metadata": {
        "id": "evhDFDxPeMIY"
      }
    },
    {
      "cell_type": "markdown",
      "source": [
        "별표 출력하기 3\n",
        "- https://inha.codetree.ai/missions/4/problems/print-star-3/description"
      ],
      "metadata": {
        "id": "WLEL6KW-eNbM"
      }
    },
    {
      "cell_type": "code",
      "source": [
        "n = int(input())\n",
        "space_value = 0\n",
        "for i in range(2*n - 1, 0, -2):\n",
        "    print(' ' * (2 * space_value), end = '')\n",
        "    space_value += 1\n",
        "    print('* ' * i)"
      ],
      "metadata": {
        "id": "HzYaaj4aeP17"
      },
      "execution_count": null,
      "outputs": []
    },
    {
      "cell_type": "code",
      "source": [
        "# 예시 답안\n",
        "# 변수 선언 및 입력\n",
        "n = int(input())\n",
        "\n",
        "# 모양에 맞게 별을 출력합니다.\n",
        "for i in range(n):\n",
        "\tfor _ in range(i):\n",
        "\t\tprint(\" \", end=\" \")\n",
        "\tfor _ in range((2 * n) - (2 * i) - 1):\n",
        "\t\tprint(\"*\", end=\" \")\n",
        "\tprint()"
      ],
      "metadata": {
        "id": "RUSnB5oUfXGB"
      },
      "execution_count": null,
      "outputs": []
    },
    {
      "cell_type": "markdown",
      "source": [
        "별표 출력하기 9\n",
        "- https://inha.codetree.ai/missions/4/problems/print-star-9/description"
      ],
      "metadata": {
        "id": "9A6mGODVfWrZ"
      }
    },
    {
      "cell_type": "code",
      "source": [
        "n = int(input())\n",
        "space_value = 2 * n - 2\n",
        "for i in range(1, 2*n, 2):\n",
        "    print(' ' * space_value, end = '')\n",
        "    space_value -= 2\n",
        "    print('* ' * i)"
      ],
      "metadata": {
        "id": "XItF5d-JffNJ"
      },
      "execution_count": null,
      "outputs": []
    },
    {
      "cell_type": "markdown",
      "source": [
        "두 개의 직각삼각형\n",
        "- https://inha.codetree.ai/missions/4/problems/two-right-triangle/description"
      ],
      "metadata": {
        "id": "yPXAKWe9gi28"
      }
    },
    {
      "cell_type": "code",
      "source": [
        "n = int(input())\n",
        "space_value = 0\n",
        "for i in range(n, 0, -1):\n",
        "    print('*' * i, end = '')\n",
        "    print(' ' * (2 * space_value), end = '')\n",
        "    print('*' * i)\n",
        "    space_value += 1"
      ],
      "metadata": {
        "id": "cth8tOHlgj95"
      },
      "execution_count": null,
      "outputs": []
    },
    {
      "cell_type": "markdown",
      "source": [
        "# 행, 열에 대해 대칭인 별 출력"
      ],
      "metadata": {
        "id": "-CM_rCNmCd8B"
      }
    },
    {
      "cell_type": "markdown",
      "source": [
        "별표 출력하기 6\n",
        "- https://inha.codetree.ai/missions/4/problems/print-star-6/description"
      ],
      "metadata": {
        "id": "b2_wiBQ_Cg6R"
      }
    },
    {
      "cell_type": "code",
      "source": [
        "n = int(input())\n",
        "space_count = 0\n",
        "for i in range(2*n - 1, 1, -2):\n",
        "    print(' ' * space_count, end = '')\n",
        "    space_count += 2\n",
        "    print('* ' * i)\n",
        "for i in range(1, 2*n, 2):\n",
        "    print(' ' * space_count, end = '')\n",
        "    space_count -= 2\n",
        "    print('* ' * i)"
      ],
      "metadata": {
        "id": "M08hTKCMCjH5"
      },
      "execution_count": null,
      "outputs": []
    },
    {
      "cell_type": "markdown",
      "source": [
        "별 그리기\n",
        "- https://inha.codetree.ai/missions/4/problems/star-drawing/description"
      ],
      "metadata": {
        "id": "9uPXRstaEVXr"
      }
    },
    {
      "cell_type": "code",
      "source": [
        "n = int(input())\n",
        "space_count = n - 1\n",
        "for i in range(1, 2 * n - 1, 2):\n",
        "    print(' ' * space_count, end = '')\n",
        "    space_count -= 1\n",
        "    print('*' * i)\n",
        "for i in range(2 * n - 1, 0, -2):\n",
        "    print(' ' * space_count, end = '')\n",
        "    space_count += 1\n",
        "    print('*' * i)"
      ],
      "metadata": {
        "id": "eoF2b2ASEYOy"
      },
      "execution_count": null,
      "outputs": []
    },
    {
      "cell_type": "markdown",
      "source": [
        "특정 규칙에 따른 문자 출력\n",
        "- https://inha.codetree.ai/missions/4/problems/character-output-according-to-rule/description"
      ],
      "metadata": {
        "id": "_L1yz1EfF3NF"
      }
    },
    {
      "cell_type": "code",
      "source": [
        "n = int(input())\n",
        "space_count = 2*n - 2\n",
        "for i in range(1, n):\n",
        "    print(' ' * space_count, end = '')\n",
        "    space_count -= 2\n",
        "    print('@ ' * i)\n",
        "for i in range(n, 0, -1):\n",
        "    print('@ ' * i)"
      ],
      "metadata": {
        "id": "4UNDuwaJF6Il"
      },
      "execution_count": null,
      "outputs": []
    },
    {
      "cell_type": "markdown",
      "source": [
        "체크 다이아몬드\n",
        "- https://inha.codetree.ai/missions/4/problems/check-diamond/description"
      ],
      "metadata": {
        "id": "JY_0VW4nG0GT"
      }
    },
    {
      "cell_type": "code",
      "source": [
        "n = int(input())\n",
        "space_count = n - 1\n",
        "for i in range(1, n):\n",
        "    print(' ' * space_count, end = '')\n",
        "    space_count -= 1\n",
        "    print('* ' * i)\n",
        "for i in range(n, 0, -1):\n",
        "    print(' ' * space_count, end = '')\n",
        "    space_count += 1\n",
        "    print('* ' * i)"
      ],
      "metadata": {
        "id": "OTdAZL28G2ls"
      },
      "execution_count": null,
      "outputs": []
    },
    {
      "cell_type": "markdown",
      "source": [
        "# 행에 따라 다른 별 출력"
      ],
      "metadata": {
        "id": "_sNnAcMDHVLF"
      }
    },
    {
      "cell_type": "markdown",
      "source": [
        "별표 출력하기 8\n",
        "- https://inha.codetree.ai/missions/4/problems/print-star-8/description"
      ],
      "metadata": {
        "id": "yDDPZLw0HZ00"
      }
    },
    {
      "cell_type": "code",
      "source": [
        "n = int(input())\n",
        "for i in range(1, n + 1):\n",
        "    if(i % 2 == 1):\n",
        "        print('*')\n",
        "    else:\n",
        "        print('* ' * i)"
      ],
      "metadata": {
        "id": "iCx0ODbxHYdl"
      },
      "execution_count": null,
      "outputs": []
    },
    {
      "cell_type": "markdown",
      "source": [
        "별표 출력하기 10\n",
        "- https://inha.codetree.ai/missions/4/problems/print-star-10/description"
      ],
      "metadata": {
        "id": "MPUhUVZRIZUo"
      }
    },
    {
      "cell_type": "code",
      "source": [
        "n = int(input())\n",
        "for i in range(1, n + 1):\n",
        "    print('* ' * i)\n",
        "    print('* ' * (n - i + 1))"
      ],
      "metadata": {
        "id": "6yEkE_PSIcyu"
      },
      "execution_count": null,
      "outputs": []
    },
    {
      "cell_type": "markdown",
      "source": [
        "별표 출력하기 13\n",
        "- https://inha.codetree.ai/missions/4/problems/print-start-13/description"
      ],
      "metadata": {
        "id": "TwoVqlSgJ2m3"
      }
    },
    {
      "cell_type": "code",
      "source": [
        "n = int(input())\n",
        "for i in range(1, n + 1):\n",
        "    print('* ' * (n - i + 1))\n",
        "    print('* ' * i)"
      ],
      "metadata": {
        "id": "UkQg6SO2J4h4"
      },
      "execution_count": null,
      "outputs": []
    },
    {
      "cell_type": "markdown",
      "source": [
        "# 모양과 관계 없는 별 출력"
      ],
      "metadata": {
        "id": "Rh2r7KK9fedt"
      }
    },
    {
      "cell_type": "markdown",
      "source": [
        "별표 출력하기 11\n",
        "- https://inha.codetree.ai/missions/4/problems/print-star-11/description"
      ],
      "metadata": {
        "id": "3jqLqtV7grgQ"
      }
    },
    {
      "cell_type": "code",
      "source": [
        "n = int(input())\n",
        "for i in range(2*n+1):\n",
        "    if(i % 2 == 0):\n",
        "        print('* ' * (2 * n + 1))\n",
        "    else:\n",
        "        print('*   ' * (n + 1))"
      ],
      "metadata": {
        "id": "ccvZWy7Tgrtx"
      },
      "execution_count": null,
      "outputs": []
    },
    {
      "cell_type": "markdown",
      "source": [
        "별표 출력하기 12\n",
        "- https://inha.codetree.ai/missions/4/problems/print-star-12/description"
      ],
      "metadata": {
        "id": "ehJRN70pgvwp"
      }
    },
    {
      "cell_type": "code",
      "source": [
        "# 예시 답안\n",
        "# 변수 선언 및 입력\n",
        "n = int(input())\n",
        "\n",
        "for i in range(n):\n",
        "    for j in range(n):\n",
        "        if j % 2 == 0:\n",
        "            if i == 0:\n",
        "                print(\"* \", end=\"\")\n",
        "            else:\n",
        "                print(\"  \", end=\"\")\n",
        "        else:\n",
        "            if i <= j:\n",
        "                print(\"* \", end=\"\")\n",
        "            else:\n",
        "                print(\"  \", end=\"\")\n",
        "    print()"
      ],
      "metadata": {
        "id": "B1mlt5tlg4JK"
      },
      "execution_count": null,
      "outputs": []
    },
    {
      "cell_type": "markdown",
      "source": [
        "규칙을 찾아 출력하기\n",
        "- https://inha.codetree.ai/missions/4/problems/find-a-rule-and-print/description"
      ],
      "metadata": {
        "id": "NN7tHo8djanC"
      }
    },
    {
      "cell_type": "code",
      "source": [
        "n = int(input())\n",
        "space_count = n - 2\n",
        "star_count = 0\n",
        "for i in range(n):\n",
        "    if(i == 0):\n",
        "        print('* ' * n)\n",
        "    else:\n",
        "        print('*', end = '')\n",
        "        print(' *' * star_count, end = '')\n",
        "        star_count += 1\n",
        "        print(' ' * (space_count * 2), end = '')\n",
        "        space_count -= 1\n",
        "        print(' *')\n"
      ],
      "metadata": {
        "id": "5Z8VUcGdlJyC"
      },
      "execution_count": null,
      "outputs": []
    },
    {
      "cell_type": "markdown",
      "source": [
        "# 일반적인 순서로 숫자 출력"
      ],
      "metadata": {
        "id": "xKPbhMXTlMZE"
      }
    },
    {
      "cell_type": "markdown",
      "source": [
        "행 단위로 반복하여 출력\n",
        "- https://inha.codetree.ai/missions/4/problems/print-in-row/description"
      ],
      "metadata": {
        "id": "b3YdO2pelR94"
      }
    },
    {
      "cell_type": "code",
      "source": [
        "n = int(input())\n",
        "for i in range(n):\n",
        "    for j in range(1, n + 1):\n",
        "        print(j, end = '')\n",
        "    print()"
      ],
      "metadata": {
        "id": "jtuVK380lUZj"
      },
      "execution_count": null,
      "outputs": []
    },
    {
      "cell_type": "markdown",
      "source": [
        "열 단위로 반복하여 출력\n",
        "- https://inha.codetree.ai/missions/4/problems/print-in-column/description"
      ],
      "metadata": {
        "id": "1rI1O73TXzHE"
      }
    },
    {
      "cell_type": "code",
      "source": [
        "n = int(input())\n",
        "for i in range(1, n + 1):\n",
        "    print(str(i) * n)"
      ],
      "metadata": {
        "id": "30d753ZoX0hT"
      },
      "execution_count": null,
      "outputs": []
    },
    {
      "cell_type": "markdown",
      "source": [
        "순서쌍 만들기\n",
        "- https://inha.codetree.ai/missions/4/problems/making-order-pair/description"
      ],
      "metadata": {
        "id": "sNw4dvGaYaD3"
      }
    },
    {
      "cell_type": "code",
      "source": [
        "n = int(input())\n",
        "for i in range(n, 0, -1):\n",
        "    for j in range(n, 0, -1):\n",
        "        print(f'({i},{j})', end = ' ')\n",
        "    print()"
      ],
      "metadata": {
        "id": "WV7xev12Ycu8"
      },
      "execution_count": null,
      "outputs": []
    },
    {
      "cell_type": "markdown",
      "source": [
        "열에 따라 감소하는 정사각형\n",
        "- https://inha.codetree.ai/missions/4/problems/a-square-that-decreases-with-heat/description"
      ],
      "metadata": {
        "id": "Ug25ZUT_Y4Mu"
      }
    },
    {
      "cell_type": "code",
      "source": [
        "n = int(input())\n",
        "for i in range(n):\n",
        "    for j in range(n, 0, -1):\n",
        "        print(j, end = ' ')\n",
        "    print()"
      ],
      "metadata": {
        "id": "6-iuFQgMY6rT"
      },
      "execution_count": null,
      "outputs": []
    },
    {
      "cell_type": "markdown",
      "source": [
        "# 수학적 규칙에 따라 숫자 출력"
      ],
      "metadata": {
        "id": "3mJ_n0s8Z0K8"
      }
    },
    {
      "cell_type": "markdown",
      "source": [
        "행과 열\n",
        "- https://inha.codetree.ai/missions/4/problems/row-column/introduction"
      ],
      "metadata": {
        "id": "paYKc-ggZ1e_"
      }
    },
    {
      "cell_type": "code",
      "source": [
        "a, b = map(int, input().split())\n",
        "for i in range(1, a + 1):\n",
        "    for j in range(1, b + 1):\n",
        "        print(i * j, end = ' ')\n",
        "    print()"
      ],
      "metadata": {
        "id": "fNV5VT2AZ34W"
      },
      "execution_count": null,
      "outputs": []
    },
    {
      "cell_type": "markdown",
      "source": [
        "홀수로 이루어진 정사각형\n",
        "- https://inha.codetree.ai/missions/4/problems/square-with-odd-numbers/description"
      ],
      "metadata": {
        "id": "OD_Xa1WtcnqN"
      }
    },
    {
      "cell_type": "code",
      "source": [
        "n = int(input())\n",
        "start_num = 11\n",
        "for i in range(n):\n",
        "    for j in range(n):\n",
        "        print(start_num + 2 * j, end = ' ')\n",
        "    start_num += 2\n",
        "    print()"
      ],
      "metadata": {
        "id": "HYyAO2vIcqdv"
      },
      "execution_count": null,
      "outputs": []
    },
    {
      "cell_type": "markdown",
      "source": [
        "좌우반전시킨 정사각형\n",
        "- https://inha.codetree.ai/missions/4/problems/left-right-inverted-square/description"
      ],
      "metadata": {
        "id": "Sgi2ChepdVIk"
      }
    },
    {
      "cell_type": "code",
      "source": [
        "n = int(input())\n",
        "start_num = n\n",
        "for i in range(1, n + 1):\n",
        "    for j in range(n):\n",
        "        print(start_num - (i * j), end = ' ')\n",
        "    print()\n",
        "    start_num = n * (i+1)"
      ],
      "metadata": {
        "id": "co3ZXblBdWaH"
      },
      "execution_count": null,
      "outputs": []
    }
  ]
}