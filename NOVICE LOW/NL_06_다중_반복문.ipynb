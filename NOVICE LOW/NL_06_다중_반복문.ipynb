{
  "nbformat": 4,
  "nbformat_minor": 0,
  "metadata": {
    "colab": {
      "provenance": []
    },
    "kernelspec": {
      "name": "python3",
      "display_name": "Python 3"
    },
    "language_info": {
      "name": "python"
    }
  },
  "cells": [
    {
      "cell_type": "markdown",
      "source": [
        "# 사각형 별 출력"
      ],
      "metadata": {
        "id": "k5nEMlXaEVo1"
      }
    },
    {
      "cell_type": "markdown",
      "source": [
        "정사각형 별표 출력하기\n",
        "- https://inha.codetree.ai/missions/4/problems/print-stars-in-square/description"
      ],
      "metadata": {
        "id": "SZez98gfEXVF"
      }
    },
    {
      "cell_type": "code",
      "execution_count": null,
      "metadata": {
        "id": "WeVE26W0ENhT"
      },
      "outputs": [],
      "source": [
        "n = int(input())\n",
        "for i in range(n):\n",
        "    print('*'*n)"
      ]
    },
    {
      "cell_type": "markdown",
      "source": [
        "직사각형 별표 출력하기\n",
        "- https://inha.codetree.ai/missions/4/problems/print-stars-in-rectangle/description"
      ],
      "metadata": {
        "id": "9RD_6ONUEiZz"
      }
    },
    {
      "cell_type": "code",
      "source": [
        "n, m = map(int, input().split())\n",
        "for i in range(n):\n",
        "    print('* '*m)"
      ],
      "metadata": {
        "id": "nu_SygfhEllR"
      },
      "execution_count": null,
      "outputs": []
    },
    {
      "cell_type": "markdown",
      "source": [
        "정사각형 두 개 출력\n",
        "- https://inha.codetree.ai/missions/4/problems/output-two-rectangles/description"
      ],
      "metadata": {
        "id": "YAFDeQuNEzlB"
      }
    },
    {
      "cell_type": "code",
      "source": [
        "n = int(input())\n",
        "for i in range(n):\n",
        "    print('*'*n)\n",
        "print()\n",
        "for i in range(n):\n",
        "    print('*'*n)"
      ],
      "metadata": {
        "id": "iALWIzqAE22Z"
      },
      "execution_count": null,
      "outputs": []
    },
    {
      "cell_type": "markdown",
      "source": [
        "# 직각삼각형 별 출력"
      ],
      "metadata": {
        "id": "BU0Y9a14FMiz"
      }
    },
    {
      "cell_type": "markdown",
      "source": [
        "별표 출력하기 2\n",
        "- https://inha.codetree.ai/missions/4/problems/print-star-2/description"
      ],
      "metadata": {
        "id": "mgRzi0DPFNWz"
      }
    },
    {
      "cell_type": "code",
      "source": [
        "n = int(input())\n",
        "for i in range(n, 0, -1):\n",
        "    print('* ' * i)"
      ],
      "metadata": {
        "id": "FLef-OrXFPtD"
      },
      "execution_count": null,
      "outputs": []
    },
    {
      "cell_type": "markdown",
      "source": [
        "별표 출력하기 7\n",
        "- https://inha.codetree.ai/missions/4/problems/print-star-7/description"
      ],
      "metadata": {
        "id": "HBpeWEjsFfLh"
      }
    },
    {
      "cell_type": "code",
      "source": [
        "n = int(input())\n",
        "for i in range(1, n+1):\n",
        "    print('* ' * i)"
      ],
      "metadata": {
        "id": "7dmzitC7FiBg"
      },
      "execution_count": null,
      "outputs": []
    },
    {
      "cell_type": "markdown",
      "source": [
        "별표 출력하기 5\n",
        "- https://inha.codetree.ai/missions/4/problems/print-star-5/description"
      ],
      "metadata": {
        "id": "Zkh1l5D7Fz7Z"
      }
    },
    {
      "cell_type": "code",
      "source": [
        "n = int(input())\n",
        "for i in range(n):\n",
        "    for j in range(n, 0, -1):\n",
        "        print('*'*n, end = ' ')\n",
        "    n = n - 1\n",
        "    print()"
      ],
      "metadata": {
        "id": "NPUl7uU5F3PX"
      },
      "execution_count": null,
      "outputs": []
    },
    {
      "cell_type": "markdown",
      "source": [
        "직각 삼각형 출력\n",
        "- https://inha.codetree.ai/missions/4/problems/Right-triangle-and-output/description"
      ],
      "metadata": {
        "id": "f5iGDgTYGbky"
      }
    },
    {
      "cell_type": "code",
      "source": [
        "n = int(input())\n",
        "for i in range(1, 2*n, 2):\n",
        "    print('*'*i)"
      ],
      "metadata": {
        "id": "gA3mPsXyGgk3"
      },
      "execution_count": null,
      "outputs": []
    },
    {
      "cell_type": "markdown",
      "source": [
        "# 행에 대해 대칭인 별 출력"
      ],
      "metadata": {
        "id": "kG2cKirqdMMu"
      }
    },
    {
      "cell_type": "markdown",
      "source": [
        "별표 출력하기\n",
        "- https://inha.codetree.ai/missions/4/problems/print-star/description"
      ],
      "metadata": {
        "id": "GbbB7hgfdOm_"
      }
    },
    {
      "cell_type": "code",
      "source": [
        "n = int(input())\n",
        "for i in range(1, n + 1):\n",
        "    print('* ' * i)\n",
        "for j in range(n-1, 0, -1):\n",
        "    print('* ' * j)"
      ],
      "metadata": {
        "id": "KZVWOlEsdQzn"
      },
      "execution_count": null,
      "outputs": []
    },
    {
      "cell_type": "markdown",
      "source": [
        "별표 출력하기 4\n",
        "- https://inha.codetree.ai/missions/4/problems/print-star-4/description"
      ],
      "metadata": {
        "id": "zdGR8n6gdgSX"
      }
    },
    {
      "cell_type": "code",
      "source": [
        "n = int(input())\n",
        "for i in range(n, 1, -1):\n",
        "    print('* ' * i)\n",
        "for j in range(1, n + 1):\n",
        "    print('* ' * j)"
      ],
      "metadata": {
        "id": "7FMLWZKudhcV"
      },
      "execution_count": null,
      "outputs": []
    },
    {
      "cell_type": "markdown",
      "source": [
        "건너뛰고 별표 출력하기\n",
        "- https://inha.codetree.ai/missions/4/problems/skip-and-print-a-star/description"
      ],
      "metadata": {
        "id": "IzOHxOmldyxi"
      }
    },
    {
      "cell_type": "code",
      "source": [
        "n = int(input())\n",
        "for i in range(1, n + 1):\n",
        "    print('*' * i)\n",
        "    print()\n",
        "for j in range(n - 1, 0, -1):\n",
        "    print('*' * j)\n",
        "    print()"
      ],
      "metadata": {
        "id": "6VMvuWJzd1iK"
      },
      "execution_count": null,
      "outputs": []
    },
    {
      "cell_type": "markdown",
      "source": [
        "# 열에 대해 대칭인 별 출력"
      ],
      "metadata": {
        "id": "evhDFDxPeMIY"
      }
    },
    {
      "cell_type": "markdown",
      "source": [
        "별표 출력하기 3\n",
        "- https://inha.codetree.ai/missions/4/problems/print-star-3/description"
      ],
      "metadata": {
        "id": "WLEL6KW-eNbM"
      }
    },
    {
      "cell_type": "code",
      "source": [
        "n = int(input())\n",
        "space_value = 0\n",
        "for i in range(2*n - 1, 0, -2):\n",
        "    print(' ' * (2 * space_value), end = '')\n",
        "    space_value += 1\n",
        "    print('* ' * i)"
      ],
      "metadata": {
        "id": "HzYaaj4aeP17"
      },
      "execution_count": null,
      "outputs": []
    },
    {
      "cell_type": "code",
      "source": [
        "# 예시 답안\n",
        "# 변수 선언 및 입력\n",
        "n = int(input())\n",
        "\n",
        "# 모양에 맞게 별을 출력합니다.\n",
        "for i in range(n):\n",
        "\tfor _ in range(i):\n",
        "\t\tprint(\" \", end=\" \")\n",
        "\tfor _ in range((2 * n) - (2 * i) - 1):\n",
        "\t\tprint(\"*\", end=\" \")\n",
        "\tprint()"
      ],
      "metadata": {
        "id": "RUSnB5oUfXGB"
      },
      "execution_count": null,
      "outputs": []
    },
    {
      "cell_type": "markdown",
      "source": [
        "별표 출력하기 9\n",
        "- https://inha.codetree.ai/missions/4/problems/print-star-9/description"
      ],
      "metadata": {
        "id": "9A6mGODVfWrZ"
      }
    },
    {
      "cell_type": "code",
      "source": [
        "n = int(input())\n",
        "space_value = 2 * n - 2\n",
        "for i in range(1, 2*n, 2):\n",
        "    print(' ' * space_value, end = '')\n",
        "    space_value -= 2\n",
        "    print('* ' * i)"
      ],
      "metadata": {
        "id": "XItF5d-JffNJ"
      },
      "execution_count": null,
      "outputs": []
    },
    {
      "cell_type": "markdown",
      "source": [
        "두 개의 직각삼각형\n",
        "- https://inha.codetree.ai/missions/4/problems/two-right-triangle/description"
      ],
      "metadata": {
        "id": "yPXAKWe9gi28"
      }
    },
    {
      "cell_type": "code",
      "source": [
        "n = int(input())\n",
        "space_value = 0\n",
        "for i in range(n, 0, -1):\n",
        "    print('*' * i, end = '')\n",
        "    print(' ' * (2 * space_value), end = '')\n",
        "    print('*' * i)\n",
        "    space_value += 1"
      ],
      "metadata": {
        "id": "cth8tOHlgj95"
      },
      "execution_count": null,
      "outputs": []
    },
    {
      "cell_type": "markdown",
      "source": [
        "# 행, 열에 대해 대칭인 별 출력"
      ],
      "metadata": {
        "id": "-CM_rCNmCd8B"
      }
    },
    {
      "cell_type": "markdown",
      "source": [
        "별표 출력하기 6\n",
        "- https://inha.codetree.ai/missions/4/problems/print-star-6/description"
      ],
      "metadata": {
        "id": "b2_wiBQ_Cg6R"
      }
    },
    {
      "cell_type": "code",
      "source": [
        "n = int(input())\n",
        "space_count = 0\n",
        "for i in range(2*n - 1, 1, -2):\n",
        "    print(' ' * space_count, end = '')\n",
        "    space_count += 2\n",
        "    print('* ' * i)\n",
        "for i in range(1, 2*n, 2):\n",
        "    print(' ' * space_count, end = '')\n",
        "    space_count -= 2\n",
        "    print('* ' * i)"
      ],
      "metadata": {
        "id": "M08hTKCMCjH5"
      },
      "execution_count": null,
      "outputs": []
    },
    {
      "cell_type": "markdown",
      "source": [
        "별 그리기\n",
        "- https://inha.codetree.ai/missions/4/problems/star-drawing/description"
      ],
      "metadata": {
        "id": "9uPXRstaEVXr"
      }
    },
    {
      "cell_type": "code",
      "source": [
        "n = int(input())\n",
        "space_count = n - 1\n",
        "for i in range(1, 2 * n - 1, 2):\n",
        "    print(' ' * space_count, end = '')\n",
        "    space_count -= 1\n",
        "    print('*' * i)\n",
        "for i in range(2 * n - 1, 0, -2):\n",
        "    print(' ' * space_count, end = '')\n",
        "    space_count += 1\n",
        "    print('*' * i)"
      ],
      "metadata": {
        "id": "eoF2b2ASEYOy"
      },
      "execution_count": null,
      "outputs": []
    },
    {
      "cell_type": "markdown",
      "source": [
        "특정 규칙에 따른 문자 출력\n",
        "- https://inha.codetree.ai/missions/4/problems/character-output-according-to-rule/description"
      ],
      "metadata": {
        "id": "_L1yz1EfF3NF"
      }
    },
    {
      "cell_type": "code",
      "source": [
        "n = int(input())\n",
        "space_count = 2*n - 2\n",
        "for i in range(1, n):\n",
        "    print(' ' * space_count, end = '')\n",
        "    space_count -= 2\n",
        "    print('@ ' * i)\n",
        "for i in range(n, 0, -1):\n",
        "    print('@ ' * i)"
      ],
      "metadata": {
        "id": "4UNDuwaJF6Il"
      },
      "execution_count": null,
      "outputs": []
    },
    {
      "cell_type": "markdown",
      "source": [
        "체크 다이아몬드\n",
        "- https://inha.codetree.ai/missions/4/problems/check-diamond/description"
      ],
      "metadata": {
        "id": "JY_0VW4nG0GT"
      }
    },
    {
      "cell_type": "code",
      "source": [
        "n = int(input())\n",
        "space_count = n - 1\n",
        "for i in range(1, n):\n",
        "    print(' ' * space_count, end = '')\n",
        "    space_count -= 1\n",
        "    print('* ' * i)\n",
        "for i in range(n, 0, -1):\n",
        "    print(' ' * space_count, end = '')\n",
        "    space_count += 1\n",
        "    print('* ' * i)"
      ],
      "metadata": {
        "id": "OTdAZL28G2ls"
      },
      "execution_count": null,
      "outputs": []
    },
    {
      "cell_type": "markdown",
      "source": [
        "# 행에 따라 다른 별 출력"
      ],
      "metadata": {
        "id": "_sNnAcMDHVLF"
      }
    },
    {
      "cell_type": "markdown",
      "source": [
        "별표 출력하기 8\n",
        "- https://inha.codetree.ai/missions/4/problems/print-star-8/description"
      ],
      "metadata": {
        "id": "yDDPZLw0HZ00"
      }
    },
    {
      "cell_type": "code",
      "source": [
        "n = int(input())\n",
        "for i in range(1, n + 1):\n",
        "    if(i % 2 == 1):\n",
        "        print('*')\n",
        "    else:\n",
        "        print('* ' * i)"
      ],
      "metadata": {
        "id": "iCx0ODbxHYdl"
      },
      "execution_count": null,
      "outputs": []
    },
    {
      "cell_type": "markdown",
      "source": [
        "별표 출력하기 10\n",
        "- https://inha.codetree.ai/missions/4/problems/print-star-10/description"
      ],
      "metadata": {
        "id": "MPUhUVZRIZUo"
      }
    },
    {
      "cell_type": "code",
      "source": [
        "n = int(input())\n",
        "for i in range(1, n + 1):\n",
        "    print('* ' * i)\n",
        "    print('* ' * (n - i + 1))"
      ],
      "metadata": {
        "id": "6yEkE_PSIcyu"
      },
      "execution_count": null,
      "outputs": []
    },
    {
      "cell_type": "markdown",
      "source": [
        "별표 출력하기 13\n",
        "- https://inha.codetree.ai/missions/4/problems/print-start-13/description"
      ],
      "metadata": {
        "id": "TwoVqlSgJ2m3"
      }
    },
    {
      "cell_type": "code",
      "source": [
        "n = int(input())\n",
        "for i in range(1, n + 1):\n",
        "    print('* ' * (n - i + 1))\n",
        "    print('* ' * i)"
      ],
      "metadata": {
        "id": "UkQg6SO2J4h4"
      },
      "execution_count": null,
      "outputs": []
    },
    {
      "cell_type": "markdown",
      "source": [
        "# 모양과 관계 없는 별 출력"
      ],
      "metadata": {
        "id": "Rh2r7KK9fedt"
      }
    },
    {
      "cell_type": "markdown",
      "source": [
        "별표 출력하기 11\n",
        "- https://inha.codetree.ai/missions/4/problems/print-star-11/description"
      ],
      "metadata": {
        "id": "3jqLqtV7grgQ"
      }
    },
    {
      "cell_type": "code",
      "source": [
        "n = int(input())\n",
        "for i in range(2*n+1):\n",
        "    if(i % 2 == 0):\n",
        "        print('* ' * (2 * n + 1))\n",
        "    else:\n",
        "        print('*   ' * (n + 1))"
      ],
      "metadata": {
        "id": "ccvZWy7Tgrtx"
      },
      "execution_count": null,
      "outputs": []
    },
    {
      "cell_type": "markdown",
      "source": [
        "별표 출력하기 12\n",
        "- https://inha.codetree.ai/missions/4/problems/print-star-12/description"
      ],
      "metadata": {
        "id": "ehJRN70pgvwp"
      }
    },
    {
      "cell_type": "code",
      "source": [
        "# 예시 답안\n",
        "# 변수 선언 및 입력\n",
        "n = int(input())\n",
        "\n",
        "for i in range(n):\n",
        "    for j in range(n):\n",
        "        if j % 2 == 0:\n",
        "            if i == 0:\n",
        "                print(\"* \", end=\"\")\n",
        "            else:\n",
        "                print(\"  \", end=\"\")\n",
        "        else:\n",
        "            if i <= j:\n",
        "                print(\"* \", end=\"\")\n",
        "            else:\n",
        "                print(\"  \", end=\"\")\n",
        "    print()"
      ],
      "metadata": {
        "id": "B1mlt5tlg4JK"
      },
      "execution_count": null,
      "outputs": []
    },
    {
      "cell_type": "markdown",
      "source": [
        "규칙을 찾아 출력하기\n",
        "- https://inha.codetree.ai/missions/4/problems/find-a-rule-and-print/description"
      ],
      "metadata": {
        "id": "NN7tHo8djanC"
      }
    },
    {
      "cell_type": "code",
      "source": [
        "n = int(input())\n",
        "space_count = n - 2\n",
        "star_count = 0\n",
        "for i in range(n):\n",
        "    if(i == 0):\n",
        "        print('* ' * n)\n",
        "    else:\n",
        "        print('*', end = '')\n",
        "        print(' *' * star_count, end = '')\n",
        "        star_count += 1\n",
        "        print(' ' * (space_count * 2), end = '')\n",
        "        space_count -= 1\n",
        "        print(' *')\n"
      ],
      "metadata": {
        "id": "5Z8VUcGdlJyC"
      },
      "execution_count": null,
      "outputs": []
    },
    {
      "cell_type": "markdown",
      "source": [
        "# 일반적인 순서로 숫자 출력"
      ],
      "metadata": {
        "id": "xKPbhMXTlMZE"
      }
    },
    {
      "cell_type": "markdown",
      "source": [
        "행 단위로 반복하여 출력\n",
        "- https://inha.codetree.ai/missions/4/problems/print-in-row/description"
      ],
      "metadata": {
        "id": "b3YdO2pelR94"
      }
    },
    {
      "cell_type": "code",
      "source": [
        "n = int(input())\n",
        "for i in range(n):\n",
        "    for j in range(1, n + 1):\n",
        "        print(j, end = '')\n",
        "    print()"
      ],
      "metadata": {
        "id": "jtuVK380lUZj"
      },
      "execution_count": null,
      "outputs": []
    },
    {
      "cell_type": "markdown",
      "source": [
        "열 단위로 반복하여 출력\n",
        "- https://inha.codetree.ai/missions/4/problems/print-in-column/description"
      ],
      "metadata": {
        "id": "1rI1O73TXzHE"
      }
    },
    {
      "cell_type": "code",
      "source": [
        "n = int(input())\n",
        "for i in range(1, n + 1):\n",
        "    print(str(i) * n)"
      ],
      "metadata": {
        "id": "30d753ZoX0hT"
      },
      "execution_count": null,
      "outputs": []
    },
    {
      "cell_type": "markdown",
      "source": [
        "순서쌍 만들기\n",
        "- https://inha.codetree.ai/missions/4/problems/making-order-pair/description"
      ],
      "metadata": {
        "id": "sNw4dvGaYaD3"
      }
    },
    {
      "cell_type": "code",
      "source": [
        "n = int(input())\n",
        "for i in range(n, 0, -1):\n",
        "    for j in range(n, 0, -1):\n",
        "        print(f'({i},{j})', end = ' ')\n",
        "    print()"
      ],
      "metadata": {
        "id": "WV7xev12Ycu8"
      },
      "execution_count": null,
      "outputs": []
    },
    {
      "cell_type": "markdown",
      "source": [
        "열에 따라 감소하는 정사각형\n",
        "- https://inha.codetree.ai/missions/4/problems/a-square-that-decreases-with-heat/description"
      ],
      "metadata": {
        "id": "Ug25ZUT_Y4Mu"
      }
    },
    {
      "cell_type": "code",
      "source": [
        "n = int(input())\n",
        "for i in range(n):\n",
        "    for j in range(n, 0, -1):\n",
        "        print(j, end = ' ')\n",
        "    print()"
      ],
      "metadata": {
        "id": "6-iuFQgMY6rT"
      },
      "execution_count": null,
      "outputs": []
    },
    {
      "cell_type": "markdown",
      "source": [
        "# 수학적 규칙에 따라 숫자 출력"
      ],
      "metadata": {
        "id": "3mJ_n0s8Z0K8"
      }
    },
    {
      "cell_type": "markdown",
      "source": [
        "행과 열\n",
        "- https://inha.codetree.ai/missions/4/problems/row-column/introduction"
      ],
      "metadata": {
        "id": "paYKc-ggZ1e_"
      }
    },
    {
      "cell_type": "code",
      "source": [
        "a, b = map(int, input().split())\n",
        "for i in range(1, a + 1):\n",
        "    for j in range(1, b + 1):\n",
        "        print(i * j, end = ' ')\n",
        "    print()"
      ],
      "metadata": {
        "id": "fNV5VT2AZ34W"
      },
      "execution_count": null,
      "outputs": []
    },
    {
      "cell_type": "markdown",
      "source": [
        "홀수로 이루어진 정사각형\n",
        "- https://inha.codetree.ai/missions/4/problems/square-with-odd-numbers/description"
      ],
      "metadata": {
        "id": "OD_Xa1WtcnqN"
      }
    },
    {
      "cell_type": "code",
      "source": [
        "n = int(input())\n",
        "start_num = 11\n",
        "for i in range(n):\n",
        "    for j in range(n):\n",
        "        print(start_num + 2 * j, end = ' ')\n",
        "    start_num += 2\n",
        "    print()"
      ],
      "metadata": {
        "id": "HYyAO2vIcqdv"
      },
      "execution_count": null,
      "outputs": []
    },
    {
      "cell_type": "markdown",
      "source": [
        "좌우반전시킨 정사각형\n",
        "- https://inha.codetree.ai/missions/4/problems/left-right-inverted-square/description"
      ],
      "metadata": {
        "id": "Sgi2ChepdVIk"
      }
    },
    {
      "cell_type": "code",
      "source": [
        "n = int(input())\n",
        "start_num = n\n",
        "for i in range(1, n + 1):\n",
        "    for j in range(n):\n",
        "        print(start_num - (i * j), end = ' ')\n",
        "    print()\n",
        "    start_num = n * (i+1)"
      ],
      "metadata": {
        "id": "co3ZXblBdWaH"
      },
      "execution_count": null,
      "outputs": []
    },
    {
      "cell_type": "markdown",
      "source": [
        "# cnt를 이용하여 숫자 출력"
      ],
      "metadata": {
        "id": "80DQcc28JS4d"
      }
    },
    {
      "cell_type": "markdown",
      "source": [
        "정사각형 출력\n",
        "- https://inha.codetree.ai/missions/4/problems/print-square/description"
      ],
      "metadata": {
        "id": "gSJ2CRcEJTi0"
      }
    },
    {
      "cell_type": "code",
      "source": [
        "n = int(input())\n",
        "cnt = 1\n",
        "for i in range(n):\n",
        "    for j in range(n):\n",
        "        print(cnt, end = ' ')\n",
        "        cnt += 1\n",
        "    print()"
      ],
      "metadata": {
        "id": "AqIv6RX7JXXr"
      },
      "execution_count": null,
      "outputs": []
    },
    {
      "cell_type": "markdown",
      "source": [
        "1-9 정사각형\n",
        "- https://inha.codetree.ai/missions/4/problems/1-9-square/description"
      ],
      "metadata": {
        "id": "Ha5TXKq_JmSB"
      }
    },
    {
      "cell_type": "code",
      "source": [
        "n = int(input())\n",
        "cnt = 1\n",
        "for i in range(n):\n",
        "    for j in range(n):\n",
        "        print(cnt, end = '')\n",
        "        cnt = (cnt + 1) % 10\n",
        "        if(cnt == 0):\n",
        "            cnt = 1\n",
        "    print()"
      ],
      "metadata": {
        "id": "k01sz4LyJngT"
      },
      "execution_count": null,
      "outputs": []
    },
    {
      "cell_type": "markdown",
      "source": [
        "모양대로 숫자 출력하기 2\n",
        "- https://inha.codetree.ai/missions/4/problems/print-out-numbers-in-specific-shape-2/description"
      ],
      "metadata": {
        "id": "b5LFHCIgiotD"
      }
    },
    {
      "cell_type": "code",
      "source": [
        "n = int(input())\n",
        "num_list = [2, 4, 6, 8]\n",
        "cnt = 0\n",
        "for i in range(n):\n",
        "    for j in range(n):\n",
        "        print(num_list[cnt], end = ' ')\n",
        "        cnt = (cnt + 1) % 4\n",
        "    print()"
      ],
      "metadata": {
        "id": "Gn0z22ouip7s"
      },
      "execution_count": null,
      "outputs": []
    },
    {
      "cell_type": "markdown",
      "source": [
        "9-1 정사각형\n",
        "- https://inha.codetree.ai/missions/4/problems/9-1-square/description"
      ],
      "metadata": {
        "id": "EHKQmHIPjGig"
      }
    },
    {
      "cell_type": "code",
      "source": [
        "n = int(input())\n",
        "cnt = 9\n",
        "for i in range(n):\n",
        "    for j in range(n):\n",
        "        print(cnt, end = '')\n",
        "        cnt = (cnt - 1) % 10\n",
        "        if(cnt == 0):\n",
        "            cnt = 9\n",
        "    print()"
      ],
      "metadata": {
        "id": "Sr6yghLwjLuf"
      },
      "execution_count": null,
      "outputs": []
    },
    {
      "cell_type": "markdown",
      "source": [
        "# 행, 열에 따라 다르게 숫자 출력"
      ],
      "metadata": {
        "id": "DEJdU1LbjaJC"
      }
    },
    {
      "cell_type": "markdown",
      "source": [
        "좌우로 반복하며 출력\n",
        "- https://inha.codetree.ai/missions/4/problems/print-in-left-right-reverse/description"
      ],
      "metadata": {
        "id": "teO4ZGZyjhfs"
      }
    },
    {
      "cell_type": "code",
      "source": [
        "n = int(input())\n",
        "for i in range(n):\n",
        "    if(i % 2 == 0):\n",
        "        cnt = 1\n",
        "        while(cnt <= n):\n",
        "            print(cnt, end = '')\n",
        "            cnt += 1\n",
        "    else:\n",
        "        cnt = n\n",
        "        while(cnt != 0):\n",
        "            print(cnt, end = '')\n",
        "            cnt -= 1\n",
        "    print()"
      ],
      "metadata": {
        "id": "2ob9sByWjiqs"
      },
      "execution_count": null,
      "outputs": []
    },
    {
      "cell_type": "markdown",
      "source": [
        "상하로 반복하며 출력\n",
        "- https://inha.codetree.ai/missions/4/problems/print-in-up-down-reverse/description"
      ],
      "metadata": {
        "id": "Zu_Bg30tlQSj"
      }
    },
    {
      "cell_type": "code",
      "source": [
        "n = int(input())\n",
        "cnt = 0\n",
        "for i in range(n):\n",
        "    for j in range(n):\n",
        "        if(j % 2 == 0):\n",
        "            print((cnt + 1), end = '')\n",
        "        else:\n",
        "            print((n - cnt), end = '')\n",
        "    cnt += 1\n",
        "    print()"
      ],
      "metadata": {
        "id": "am1GwLOKlSvb"
      },
      "execution_count": null,
      "outputs": []
    },
    {
      "cell_type": "markdown",
      "source": [
        "좌우 지그재그 출력\n",
        "- https://inha.codetree.ai/missions/4/problems/print-lr-zigzag/description"
      ],
      "metadata": {
        "id": "TXYiyC07lzAA"
      }
    },
    {
      "cell_type": "code",
      "source": [
        "n = int(input())\n",
        "cnt = 1\n",
        "for i in range(n):\n",
        "    if(i % 2 == 0):\n",
        "        for j in range(n):\n",
        "            print(cnt, end = ' ')\n",
        "            cnt += 1\n",
        "        cnt += (n - 1)\n",
        "    else:\n",
        "        for j in range(n):\n",
        "            print(cnt, end = ' ')\n",
        "            cnt -= 1\n",
        "        cnt += (n + 1)\n",
        "    print()"
      ],
      "metadata": {
        "id": "x6rf0ZDxl17W"
      },
      "execution_count": null,
      "outputs": []
    },
    {
      "cell_type": "markdown",
      "source": [
        "열에 따라 다르게 출력\n",
        "- https://inha.codetree.ai/missions/4/problems/output-differently-for-column/description"
      ],
      "metadata": {
        "id": "kcaacOLonyPL"
      }
    },
    {
      "cell_type": "code",
      "source": [
        "n = int(input())\n",
        "cnt = 0\n",
        "for i in range(n):\n",
        "    if(i % 2 == 0):\n",
        "        for j in range(n):\n",
        "            cnt += 1\n",
        "            print(cnt, end = ' ')\n",
        "    else:\n",
        "        for j in range(n):\n",
        "            cnt += 2\n",
        "            print(cnt, end = ' ')\n",
        "    print()"
      ],
      "metadata": {
        "id": "0yhHegk2nzVS"
      },
      "execution_count": null,
      "outputs": []
    },
    {
      "cell_type": "markdown",
      "source": [
        "# 구구단"
      ],
      "metadata": {
        "id": "AxnvQImzoN3Z"
      }
    },
    {
      "cell_type": "markdown",
      "source": [
        "정상적인 구구단\n",
        "- https://inha.codetree.ai/missions/4/problems/normal-multiple/description"
      ],
      "metadata": {
        "id": "AfcDffvFoYOc"
      }
    },
    {
      "cell_type": "code",
      "source": [
        "n = int(input())\n",
        "for i in range(1, n + 1):\n",
        "    for j in range(1, n):\n",
        "        print(f'{i} * {j} = {i * j},', end = ' ')\n",
        "    print(f'{i} * {n} = {i * n}')"
      ],
      "metadata": {
        "id": "zOj01AaToZ49"
      },
      "execution_count": null,
      "outputs": []
    },
    {
      "cell_type": "markdown",
      "source": [
        "구구단 만들기\n",
        "- https://inha.codetree.ai/missions/4/problems/print-multiplication-table/description"
      ],
      "metadata": {
        "id": "dKE2KbL3pGAF"
      }
    },
    {
      "cell_type": "code",
      "source": [
        "a, b = map(int, input().split())\n",
        "for i in range(1, 10):\n",
        "    for j in range(b, a - 1, -1):\n",
        "        if(j % 2 != 0):\n",
        "            continue\n",
        "        else:\n",
        "            if(j != a):\n",
        "                print(f'{j} * {i} = {j * i} /', end = ' ')\n",
        "            else:\n",
        "                print(f'{a} * {i} = {a * i}')"
      ],
      "metadata": {
        "id": "40H3UIlNpHNl"
      },
      "execution_count": null,
      "outputs": []
    },
    {
      "cell_type": "markdown",
      "source": [
        "구구단 만들기 2\n",
        "- https://inha.codetree.ai/missions/4/problems/print-multiplication-table-2/submissions"
      ],
      "metadata": {
        "id": "w_NZzYCAsDMh"
      }
    },
    {
      "cell_type": "code",
      "source": [
        "a, b = map(int, input().split())\n",
        "for i in range(2, 10, 2):\n",
        "    for j in range(b, a, -1):\n",
        "        print(f'{j} * {i} = {j * i} /', end = ' ')\n",
        "    print(f'{a} * {i} = {a * i}')"
      ],
      "metadata": {
        "id": "7sb8-cS5siLz"
      },
      "execution_count": null,
      "outputs": []
    },
    {
      "cell_type": "markdown",
      "source": [
        "# 모양대로 숫자 출력"
      ],
      "metadata": {
        "id": "_B6yBE5UrcNt"
      }
    },
    {
      "cell_type": "markdown",
      "source": [
        "숫자 삼각형\n",
        "- https://inha.codetree.ai/missions/4/problems/number-triangle/description"
      ],
      "metadata": {
        "id": "s8YKrn8Ord79"
      }
    },
    {
      "cell_type": "code",
      "source": [
        "n = int(input())\n",
        "for i in range(1, n + 1):\n",
        "    for j in range(1, i + 1):\n",
        "        print(j, end = ' ')\n",
        "    print()"
      ],
      "metadata": {
        "id": "2lpAMOGirfma"
      },
      "execution_count": null,
      "outputs": []
    },
    {
      "cell_type": "markdown",
      "source": [
        "숫자 피라미드\n",
        "- https://inha.codetree.ai/missions/4/problems/number-pyramid/description"
      ],
      "metadata": {
        "id": "ORdwtA1tr5Dc"
      }
    },
    {
      "cell_type": "code",
      "source": [
        "n = int(input())\n",
        "for i in range(1, n + 1):\n",
        "    for j in range(1, i + 1):\n",
        "        print(i, end = ' ')\n",
        "    print()"
      ],
      "metadata": {
        "id": "HGznWf1jr6Yn"
      },
      "execution_count": null,
      "outputs": []
    },
    {
      "cell_type": "markdown",
      "source": [
        "숫자 피라미드 3\n",
        "- https://inha.codetree.ai/missions/4/problems/number-pyramid-3/description"
      ],
      "metadata": {
        "id": "Bb-tJ3cNsKRs"
      }
    },
    {
      "cell_type": "code",
      "source": [
        "n = int(input())\n",
        "for i in range(1, n + 1):\n",
        "    for j in range(1, i + 1):\n",
        "        print(i * j, end = ' ')\n",
        "    print()"
      ],
      "metadata": {
        "id": "QGlvzDjUsLdM"
      },
      "execution_count": null,
      "outputs": []
    },
    {
      "cell_type": "markdown",
      "source": [
        "숫자 피라미드 2\n",
        "- https://inha.codetree.ai/missions/4/problems/number-pyramid-2/description"
      ],
      "metadata": {
        "id": "e-yzbm4tsXO7"
      }
    },
    {
      "cell_type": "code",
      "source": [
        "n = int(input())\n",
        "cnt = 1\n",
        "for i in range(1, n + 1):\n",
        "    for j in range(1, i + 1):\n",
        "        print(cnt, end = ' ')\n",
        "        cnt += 1\n",
        "    print()"
      ],
      "metadata": {
        "id": "HnMQ0sKTsZ-Z"
      },
      "execution_count": null,
      "outputs": []
    },
    {
      "cell_type": "markdown",
      "source": [
        "모양대로 숫자 출력하기\n",
        "- https://inha.codetree.ai/missions/4/problems/print-out-numbers-in-specific-shape/description"
      ],
      "metadata": {
        "id": "JIsIzWGhslFS"
      }
    },
    {
      "cell_type": "code",
      "source": [
        "n = int(input())\n",
        "space_count = 0\n",
        "for i in range(n, 0, -1):\n",
        "    print(' ' * space_count, end = '')\n",
        "    for j in range(i, 0, -1):\n",
        "        print(j, end = ' ')\n",
        "    space_count += 2\n",
        "    print()"
      ],
      "metadata": {
        "id": "eifw2DiasofG"
      },
      "execution_count": null,
      "outputs": []
    },
    {
      "cell_type": "code",
      "source": [
        "# 예시 답안\n",
        "# 변수 선언 및 입력\n",
        "n = int(input())\n",
        "\n",
        "# 숫자로 이루어진 삼각형을 출력\n",
        "for i in range(n, 0, -1):\n",
        "\tfor j in range(n, 0, -1):\n",
        "\t\tif j > i:\n",
        "\t\t\tprint(\" \", end=\" \")\n",
        "\t\telse:\n",
        "\t\t\tprint(j, end=\" \")\n",
        "\tprint()"
      ],
      "metadata": {
        "id": "peFhS9PztSLg"
      },
      "execution_count": null,
      "outputs": []
    },
    {
      "cell_type": "markdown",
      "source": [
        "특정 규칙에 따른 숫자 출력\n",
        "- https://inha.codetree.ai/missions/4/problems/output-numbers-according-to-specific-rule/description"
      ],
      "metadata": {
        "id": "jbTh4onstM5U"
      }
    },
    {
      "cell_type": "code",
      "source": [
        "n = int(input())\n",
        "cnt = 1\n",
        "space_count = 0\n",
        "for i in range(n, 0, -1):\n",
        "    print(' ' * space_count, end = '')\n",
        "    for j in range(i, 0, -1):\n",
        "        print(cnt, end = ' ')\n",
        "        cnt = (cnt + 1) % 10\n",
        "        if(cnt == 0):\n",
        "            cnt = 1\n",
        "    space_count += 2\n",
        "    print()"
      ],
      "metadata": {
        "id": "CNs3yjBjt_kx"
      },
      "execution_count": null,
      "outputs": []
    },
    {
      "cell_type": "markdown",
      "source": [
        "규칙에 맞는 출력\n",
        "- https://inha.codetree.ai/missions/4/problems/output-that-matches-the-rule/description"
      ],
      "metadata": {
        "id": "855PAv0tuDB6"
      }
    },
    {
      "cell_type": "code",
      "source": [
        "n = int(input())\n",
        "cnt = n\n",
        "for i in range(1, n + 1):\n",
        "    for j in range(0, i):\n",
        "        print(cnt + j, end = ' ')\n",
        "    cnt -= 1\n",
        "    print()"
      ],
      "metadata": {
        "id": "feynhWDauEGC"
      },
      "execution_count": null,
      "outputs": []
    },
    {
      "cell_type": "code",
      "source": [
        "# 예시 답안\n",
        "# 변수 선언 및 입력\n",
        "n = int(input())\n",
        "\n",
        "# 숫자로 이루어진 삼각형을 출력\n",
        "for i in range(n):\n",
        "\tfor j in range(i + 1):\n",
        "\t\tprint(n - i + j, end=\" \")\n",
        "\tprint()"
      ],
      "metadata": {
        "id": "RZWLJSOov4dQ"
      },
      "execution_count": null,
      "outputs": []
    },
    {
      "cell_type": "markdown",
      "source": [
        "# 포맷에 맞춰 숫자 출력"
      ],
      "metadata": {
        "id": "kTlV9j8Cv23Z"
      }
    },
    {
      "cell_type": "markdown",
      "source": [
        "일직선 구구단\n",
        "- https://inha.codetree.ai/missions/4/problems/one-line-multiple/description"
      ],
      "metadata": {
        "id": "dZiYAwYCv9ux"
      }
    },
    {
      "cell_type": "code",
      "source": [
        "n = int(input())\n",
        "for i in range(1, n + 1):\n",
        "    for j in range(1, n + 1):\n",
        "        print(f'{i} * {j} = {i * j}')"
      ],
      "metadata": {
        "id": "QqPCdyG-v9Wv"
      },
      "execution_count": null,
      "outputs": []
    },
    {
      "cell_type": "markdown",
      "source": [
        "특이한 출력\n",
        "- https://inha.codetree.ai/missions/4/problems/special-print/description"
      ],
      "metadata": {
        "id": "seAw43pewT_t"
      }
    },
    {
      "cell_type": "code",
      "source": [
        "n = int(input())\n",
        "for i in range(1, n + 1):\n",
        "    for j in range(1, n + 1):\n",
        "        if((i + j) % 4 == 0):\n",
        "            print(f'({i}, {j})')\n",
        "        else:\n",
        "            print(f'({i}, {j})', end = ' ')"
      ],
      "metadata": {
        "id": "QHiWo6IJv9gh"
      },
      "execution_count": null,
      "outputs": []
    },
    {
      "cell_type": "markdown",
      "source": [
        "19단 출력\n",
        "- https://inha.codetree.ai/missions/4/problems/nineteen-times-table/description"
      ],
      "metadata": {
        "id": "6S5AvIxFwyVY"
      }
    },
    {
      "cell_type": "code",
      "source": [
        "for i in range(1, 20):\n",
        "    for j in range(1, 19, 2):\n",
        "        print(f'{i} * {j} = {i * j} / {i} * {j + 1} = {i * (j + 1)}')\n",
        "    print(f'{i} * 19 = {i * 19}')"
      ],
      "metadata": {
        "id": "guWTRdYAv9c7"
      },
      "execution_count": null,
      "outputs": []
    },
    {
      "cell_type": "markdown",
      "source": [
        "구구단으로 이루어진 직각 삼각형\n",
        "- https://inha.codetree.ai/missions/4/problems/a-right-triangle-made-up-of-multiplication-tables/description"
      ],
      "metadata": {
        "id": "MCPc6IBVxb9n"
      }
    },
    {
      "cell_type": "code",
      "source": [
        "n = int(input())\n",
        "for i in range(1, n + 1):\n",
        "    for j in range(1, (n - i + 2)):\n",
        "        if(j == (n - i + 1)):\n",
        "            print(f'{i} * {j} = {i * j}')\n",
        "        else:\n",
        "            print(f'{i} * {j} = {i * j} /', end = ' ')"
      ],
      "metadata": {
        "id": "EMnis1EsxdPl"
      },
      "execution_count": null,
      "outputs": []
    },
    {
      "cell_type": "markdown",
      "source": [
        "# 알파벳 출력"
      ],
      "metadata": {
        "id": "2E_GOlDKyKSw"
      }
    },
    {
      "cell_type": "markdown",
      "source": [
        "정사각 알파벳 출력하기\n",
        "- https://inha.codetree.ai/missions/4/problems/print-alpabet-in-square/description"
      ],
      "metadata": {
        "id": "xM0NG6UyyPA-"
      }
    },
    {
      "cell_type": "code",
      "source": [
        "n = int(input())\n",
        "# 아스키 코드 값은 ord() 함수 사용\n",
        "# 아스키 코드 값을 문자열로 다시 대응하려면 chr() 함수 사용\n",
        "cnt = 65 # 아스키 코드로 'A' 인 값\n",
        "for i in range(n):\n",
        "    for j in range(n):\n",
        "        print(chr(cnt), end = '')\n",
        "        cnt += 1\n",
        "    print()"
      ],
      "metadata": {
        "id": "Qg3czpMzyQuK"
      },
      "execution_count": null,
      "outputs": []
    },
    {
      "cell_type": "markdown",
      "source": [
        "알파벳 출력하기\n",
        "- https://inha.codetree.ai/missions/4/problems/print-alphabet/description"
      ],
      "metadata": {
        "id": "HdCX3i7Oy9UZ"
      }
    },
    {
      "cell_type": "code",
      "source": [
        "n = int(input())\n",
        "cnt = 65\n",
        "for i in range(1, n + 1):\n",
        "    for j in range(1, i + 1):\n",
        "        print(chr(cnt), end = '')\n",
        "        if(chr(cnt) == 'Z'):\n",
        "            cnt = 65\n",
        "        else:\n",
        "            cnt += 1\n",
        "    print()"
      ],
      "metadata": {
        "id": "dHMjroX3y_Yb"
      },
      "execution_count": null,
      "outputs": []
    },
    {
      "cell_type": "markdown",
      "source": [
        "알파벳 출력하기 2\n",
        "- https://inha.codetree.ai/missions/4/problems/print-alphabet-2/description"
      ],
      "metadata": {
        "id": "3xx9rFkBzqzz"
      }
    },
    {
      "cell_type": "code",
      "source": [
        "n = int(input())\n",
        "space_count = 0\n",
        "cnt = ord('A')\n",
        "for i in range(1, n + 1):\n",
        "    print(' ' * space_count, end = '')\n",
        "    for j in range(1, (n - i + 2)):\n",
        "        print(chr(cnt), end = ' ')\n",
        "        if(chr(cnt) == 'Z'):\n",
        "            cnt = ord('A')\n",
        "        else:\n",
        "            cnt += 1\n",
        "    print()\n",
        "    space_count += 2"
      ],
      "metadata": {
        "id": "d54ZYDBAztfa"
      },
      "execution_count": null,
      "outputs": []
    },
    {
      "cell_type": "markdown",
      "source": [
        "# n번 반복"
      ],
      "metadata": {
        "id": "tzmENBTJ03Up"
      }
    },
    {
      "cell_type": "markdown",
      "source": [
        "ab곱 n번 구하기\n",
        "- https://inha.codetree.ai/missions/4/problems/a-multiple-b-n-times/description"
      ],
      "metadata": {
        "id": "QQeon2As04-S"
      }
    },
    {
      "cell_type": "code",
      "source": [
        "n = int(input())\n",
        "num_list = []\n",
        "for i in range(n):\n",
        "    a, b = map(int, input().split())\n",
        "    num = 1\n",
        "    for j in range(a, b + 1):\n",
        "        num = num * j\n",
        "    num_list.append(num)\n",
        "for k in range(n):\n",
        "    print(num_list[k])"
      ],
      "metadata": {
        "id": "daXj9pKt06ff"
      },
      "execution_count": null,
      "outputs": []
    },
    {
      "cell_type": "markdown",
      "source": [
        "3n + 1 수열 m번\n",
        "- https://inha.codetree.ai/missions/4/problems/3n-plus-1-sequence-m-times/description"
      ],
      "metadata": {
        "id": "fvoAODkF1jiG"
      }
    },
    {
      "cell_type": "code",
      "source": [
        "m = int(input())\n",
        "for i in range(m):\n",
        "    n = int(input())\n",
        "    cnt = 0\n",
        "    while(n != 1):\n",
        "        cnt += 1\n",
        "        if(n % 2 == 0):\n",
        "            n = n // 2\n",
        "        else:\n",
        "            n = n * 3 + 1\n",
        "    print(cnt)"
      ],
      "metadata": {
        "id": "ZvzDFcHw1rJV"
      },
      "execution_count": null,
      "outputs": []
    },
    {
      "cell_type": "markdown",
      "source": [
        "완전수\n",
        "- https://inha.codetree.ai/missions/4/problems/perfect-number/description"
      ],
      "metadata": {
        "id": "rCeRnyUK2J_Q"
      }
    },
    {
      "cell_type": "code",
      "source": [
        "start, end = map(int, input().split())\n",
        "cnt = 0\n",
        "for i in range(start, end + 1):\n",
        "    num_list = []\n",
        "    for j in range(1, (i // 2) + 1):\n",
        "        if(i % j == 0):\n",
        "            num_list.append(j)\n",
        "    if(i == sum(num_list)): # 약수 리스트의 합과 해당 수가 같다면\n",
        "        cnt += 1\n",
        "print(cnt)"
      ],
      "metadata": {
        "id": "E5KGVvdi2MZx"
      },
      "execution_count": null,
      "outputs": []
    },
    {
      "cell_type": "markdown",
      "source": [
        "약수의 개수가 3개인 수\n",
        "- https://inha.codetree.ai/missions/4/problems/square-of-prime-number/submissions"
      ],
      "metadata": {
        "id": "IQnwHPgL33hj"
      }
    },
    {
      "cell_type": "code",
      "source": [
        "start, end = map(int, input().split())\n",
        "cnt = 0\n",
        "for i in range(start, end + 1):\n",
        "    num_list = []\n",
        "    for j in range(1, (i // 2) + 1):\n",
        "        if(i % j == 0):\n",
        "            num_list.append(j)\n",
        "    num_list.append(i) # 자기 자신도 약수이므로\n",
        "    if(len(num_list) == 3):\n",
        "        cnt += 1\n",
        "print(cnt)"
      ],
      "metadata": {
        "id": "CsB8d89_333x"
      },
      "execution_count": null,
      "outputs": []
    },
    {
      "cell_type": "markdown",
      "source": [
        "소수 구하기\n",
        "- https://inha.codetree.ai/missions/4/problems/get-prime/description"
      ],
      "metadata": {
        "id": "WCTwwDwJ4y7f"
      }
    },
    {
      "cell_type": "code",
      "source": [
        "n = int(input())\n",
        "num_list = []\n",
        "for i in range(1, n + 1):\n",
        "    if(i == 1 or (i != 2 and i % 2 == 0)):\n",
        "        continue\n",
        "    else:\n",
        "        check_num = 1\n",
        "        for j in range(2, (i // 2) + 1):\n",
        "            if(i % j == 0):\n",
        "                check_num = 0\n",
        "                break\n",
        "        if(check_num == 1):\n",
        "            num_list.append(i)\n",
        "for k in range(len(num_list)):\n",
        "    print(num_list[k], end = ' ')"
      ],
      "metadata": {
        "id": "6ua7ocrM41Sh"
      },
      "execution_count": null,
      "outputs": []
    },
    {
      "cell_type": "markdown",
      "source": [
        "짝수의 합 n번 구하기\n",
        "- https://inha.codetree.ai/missions/4/problems/find-the-sum-of-even-numbers-n-times/description"
      ],
      "metadata": {
        "id": "OpbuKDPW5e37"
      }
    },
    {
      "cell_type": "code",
      "source": [
        "n = int(input())\n",
        "for i in range(n):\n",
        "    a, b = map(int, input().split())\n",
        "    sum = 0\n",
        "    for j in range(a, b + 1):\n",
        "        if(j % 2 == 0):\n",
        "            sum += j\n",
        "    print(sum)"
      ],
      "metadata": {
        "id": "2NiE_MIt5imk"
      },
      "execution_count": null,
      "outputs": []
    }
  ]
}