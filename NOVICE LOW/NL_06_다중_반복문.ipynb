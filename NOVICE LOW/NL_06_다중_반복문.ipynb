{
  "nbformat": 4,
  "nbformat_minor": 0,
  "metadata": {
    "colab": {
      "provenance": []
    },
    "kernelspec": {
      "name": "python3",
      "display_name": "Python 3"
    },
    "language_info": {
      "name": "python"
    }
  },
  "cells": [
    {
      "cell_type": "markdown",
      "source": [
        "# 사각형 별 출력"
      ],
      "metadata": {
        "id": "k5nEMlXaEVo1"
      }
    },
    {
      "cell_type": "markdown",
      "source": [
        "정사각형 별표 출력하기\n",
        "- https://inha.codetree.ai/missions/4/problems/print-stars-in-square/description"
      ],
      "metadata": {
        "id": "SZez98gfEXVF"
      }
    },
    {
      "cell_type": "code",
      "execution_count": null,
      "metadata": {
        "id": "WeVE26W0ENhT"
      },
      "outputs": [],
      "source": [
        "n = int(input())\n",
        "for i in range(n):\n",
        "    print('*'*n)"
      ]
    },
    {
      "cell_type": "markdown",
      "source": [
        "직사각형 별표 출력하기\n",
        "- https://inha.codetree.ai/missions/4/problems/print-stars-in-rectangle/description"
      ],
      "metadata": {
        "id": "9RD_6ONUEiZz"
      }
    },
    {
      "cell_type": "code",
      "source": [
        "n, m = map(int, input().split())\n",
        "for i in range(n):\n",
        "    print('* '*m)"
      ],
      "metadata": {
        "id": "nu_SygfhEllR"
      },
      "execution_count": null,
      "outputs": []
    },
    {
      "cell_type": "markdown",
      "source": [
        "정사각형 두 개 출력\n",
        "- https://inha.codetree.ai/missions/4/problems/output-two-rectangles/description"
      ],
      "metadata": {
        "id": "YAFDeQuNEzlB"
      }
    },
    {
      "cell_type": "code",
      "source": [
        "n = int(input())\n",
        "for i in range(n):\n",
        "    print('*'*n)\n",
        "print()\n",
        "for i in range(n):\n",
        "    print('*'*n)"
      ],
      "metadata": {
        "id": "iALWIzqAE22Z"
      },
      "execution_count": null,
      "outputs": []
    },
    {
      "cell_type": "markdown",
      "source": [
        "# 직각삼각형 별 출력"
      ],
      "metadata": {
        "id": "BU0Y9a14FMiz"
      }
    },
    {
      "cell_type": "markdown",
      "source": [
        "별표 출력하기 2\n",
        "- https://inha.codetree.ai/missions/4/problems/print-star-2/description"
      ],
      "metadata": {
        "id": "mgRzi0DPFNWz"
      }
    },
    {
      "cell_type": "code",
      "source": [
        "n = int(input())\n",
        "for i in range(n, 0, -1):\n",
        "    print('* ' * i)"
      ],
      "metadata": {
        "id": "FLef-OrXFPtD"
      },
      "execution_count": null,
      "outputs": []
    },
    {
      "cell_type": "markdown",
      "source": [
        "별표 출력하기 7\n",
        "- https://inha.codetree.ai/missions/4/problems/print-star-7/description"
      ],
      "metadata": {
        "id": "HBpeWEjsFfLh"
      }
    },
    {
      "cell_type": "code",
      "source": [
        "n = int(input())\n",
        "for i in range(1, n+1):\n",
        "    print('* ' * i)"
      ],
      "metadata": {
        "id": "7dmzitC7FiBg"
      },
      "execution_count": null,
      "outputs": []
    },
    {
      "cell_type": "markdown",
      "source": [
        "별표 출력하기 5\n",
        "- https://inha.codetree.ai/missions/4/problems/print-star-5/description"
      ],
      "metadata": {
        "id": "Zkh1l5D7Fz7Z"
      }
    },
    {
      "cell_type": "code",
      "source": [
        "n = int(input())\n",
        "for i in range(n):\n",
        "    for j in range(n, 0, -1):\n",
        "        print('*'*n, end = ' ')\n",
        "    n = n - 1\n",
        "    print()"
      ],
      "metadata": {
        "id": "NPUl7uU5F3PX"
      },
      "execution_count": null,
      "outputs": []
    },
    {
      "cell_type": "markdown",
      "source": [
        "직각 삼각형 출력\n",
        "- https://inha.codetree.ai/missions/4/problems/Right-triangle-and-output/description"
      ],
      "metadata": {
        "id": "f5iGDgTYGbky"
      }
    },
    {
      "cell_type": "code",
      "source": [
        "n = int(input())\n",
        "for i in range(1, 2*n, 2):\n",
        "    print('*'*i)"
      ],
      "metadata": {
        "id": "gA3mPsXyGgk3"
      },
      "execution_count": null,
      "outputs": []
    }
  ]
}