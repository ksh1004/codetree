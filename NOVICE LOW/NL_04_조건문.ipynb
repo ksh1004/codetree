{
  "nbformat": 4,
  "nbformat_minor": 0,
  "metadata": {
    "colab": {
      "provenance": []
    },
    "kernelspec": {
      "name": "python3",
      "display_name": "Python 3"
    },
    "language_info": {
      "name": "python"
    }
  },
  "cells": [
    {
      "cell_type": "markdown",
      "source": [
        "# if 조건문"
      ],
      "metadata": {
        "id": "DKn4r8ov5GwQ"
      }
    },
    {
      "cell_type": "markdown",
      "source": [
        "음수 구별하기\n",
        "- https://inha.codetree.ai/missions/4/problems/separate-negative-number/description"
      ],
      "metadata": {
        "id": "aRse3cEZ5Iol"
      }
    },
    {
      "cell_type": "code",
      "execution_count": null,
      "metadata": {
        "id": "Y29lVfaT4_rX"
      },
      "outputs": [],
      "source": [
        "num = int(input())\n",
        "print(num)\n",
        "if(num < 0):\n",
        "    print('minus')"
      ]
    },
    {
      "cell_type": "markdown",
      "source": [
        "큰 수에서 빼기\n",
        "- https://inha.codetree.ai/missions/4/problems/subtract-from-large-number/description"
      ],
      "metadata": {
        "id": "D7htKABb5gYL"
      }
    },
    {
      "cell_type": "code",
      "source": [
        "a, b = map(int, input().split())\n",
        "if(abs(a) >= abs(b)):\n",
        "    print(a - b)\n",
        "else:\n",
        "    print(b - a)"
      ],
      "metadata": {
        "id": "58nDkGkf5hmQ"
      },
      "execution_count": null,
      "outputs": []
    },
    {
      "cell_type": "markdown",
      "source": [
        "체질량지수\n",
        "- https://inha.codetree.ai/missions/4/problems/bmi/description"
      ],
      "metadata": {
        "id": "ParnbwUv6LF9"
      }
    },
    {
      "cell_type": "code",
      "source": [
        "height, weight = map(int, input().split())\n",
        "bmi = weight // ((height * 0.01) ** 2)\n",
        "print(f'{bmi:.0f}')\n",
        "if bmi >= 25:\n",
        "    print('Obesity')"
      ],
      "metadata": {
        "id": "xUQM053p7ONz"
      },
      "execution_count": null,
      "outputs": []
    },
    {
      "cell_type": "markdown",
      "source": [
        "정사각형의 넓이\n",
        "- https://inha.codetree.ai/missions/4/problems/area-of-a-rectangle/description"
      ],
      "metadata": {
        "id": "syFx4pyS7ZHD"
      }
    },
    {
      "cell_type": "code",
      "source": [
        "n = int(input())\n",
        "print(n * n)\n",
        "if(n < 5):\n",
        "    print('tiny')"
      ],
      "metadata": {
        "id": "kfS2tNXd7XN7"
      },
      "execution_count": null,
      "outputs": []
    },
    {
      "cell_type": "markdown",
      "source": [
        "# if else 조건문"
      ],
      "metadata": {
        "id": "N1kxtB947lXK"
      }
    },
    {
      "cell_type": "markdown",
      "source": [
        "시험 통과 여부 확인하기\n",
        "- https://inha.codetree.ai/missions/4/problems/verify-test-passed/description"
      ],
      "metadata": {
        "id": "f_2huQru7pEe"
      }
    },
    {
      "cell_type": "code",
      "source": [
        "n = int(input())\n",
        "if(n >= 80):\n",
        "    print('pass')\n",
        "else:\n",
        "    print(f'{80-n} more score')"
      ],
      "metadata": {
        "id": "9vNZd57J7sbP"
      },
      "execution_count": null,
      "outputs": []
    },
    {
      "cell_type": "markdown",
      "source": [
        "숫자의 조건 여부\n",
        "- https://inha.codetree.ai/missions/4/problems/number's-condition/description"
      ],
      "metadata": {
        "id": "NacX0C2o78yU"
      }
    },
    {
      "cell_type": "code",
      "source": [
        "a = int(input())\n",
        "if(a >= 113):\n",
        "    print(1)\n",
        "else:\n",
        "    print(0)"
      ],
      "metadata": {
        "id": "9sAeaoaT794L"
      },
      "execution_count": null,
      "outputs": []
    },
    {
      "cell_type": "markdown",
      "source": [
        "비교에 따른 연산\n",
        "- https://inha.codetree.ai/missions/4/problems/operation-based-on-comparison/description"
      ],
      "metadata": {
        "id": "A-8cqUcy8FYD"
      }
    },
    {
      "cell_type": "code",
      "source": [
        "a, b = map(int, input().split())\n",
        "if(a > b):\n",
        "    print(a * b)\n",
        "else:\n",
        "    print(b // a)"
      ],
      "metadata": {
        "id": "w_kjzH4p8KQd"
      },
      "execution_count": null,
      "outputs": []
    },
    {
      "cell_type": "markdown",
      "source": [
        "# 삼항 연산자\n",
        "if 조건:\n",
        "    a = v1\n",
        "else:\n",
        "    a = v2\n",
        "\n",
        "\n",
        "---\n",
        "와 같은 식을 다음의 삼항 연산자로 표현 가능하다.\n",
        "- a = v1 if 조건 else v2\n"
      ],
      "metadata": {
        "id": "xW7tyRJR8evn"
      }
    },
    {
      "cell_type": "markdown",
      "source": [
        "2개 중 최대\n",
        "- https://inha.codetree.ai/missions/4/problems/max-of-two-nums/description"
      ],
      "metadata": {
        "id": "HQWu84qb9UPg"
      }
    },
    {
      "cell_type": "code",
      "source": [
        "a, b = map(int, input().split())\n",
        "print(a if a > b else b)"
      ],
      "metadata": {
        "id": "c0d7peUV9Ytv"
      },
      "execution_count": null,
      "outputs": []
    },
    {
      "cell_type": "markdown",
      "source": [
        "삼항연산자\n",
        "- https://inha.codetree.ai/missions/4/problems/ternary-operator/description"
      ],
      "metadata": {
        "id": "4hdWl4bH9kaT"
      }
    },
    {
      "cell_type": "code",
      "source": [
        "score = int(input())\n",
        "print('pass' if score == 100 else 'failure')"
      ],
      "metadata": {
        "id": "qovIlH4N9n0v"
      },
      "execution_count": null,
      "outputs": []
    },
    {
      "cell_type": "markdown",
      "source": [
        "삼항연산자 2\n",
        "- https://inha.codetree.ai/missions/4/problems/ternary-operator-2/description"
      ],
      "metadata": {
        "id": "riO9kLsP91dz"
      }
    },
    {
      "cell_type": "code",
      "source": [
        "a = int(input())\n",
        "print('t' if a == 1 else 'f')"
      ],
      "metadata": {
        "id": "qUfaD5_s94jL"
      },
      "execution_count": null,
      "outputs": []
    },
    {
      "cell_type": "markdown",
      "source": [
        "# if elif else 조건문"
      ],
      "metadata": {
        "id": "TevIps469-F0"
      }
    },
    {
      "cell_type": "markdown",
      "source": [
        "물의 상태\n",
        "- https://inha.codetree.ai/missions/4/problems/state-of-water/description"
      ],
      "metadata": {
        "id": "o-0SxzCk-Em_"
      }
    },
    {
      "cell_type": "code",
      "source": [
        "num = int(input())\n",
        "if num < 0:\n",
        "    print('ice')\n",
        "elif num >= 100:\n",
        "    print('vapor')\n",
        "else:\n",
        "    print('water')"
      ],
      "metadata": {
        "id": "nDx-KZa5-HVQ"
      },
      "execution_count": null,
      "outputs": []
    },
    {
      "cell_type": "markdown",
      "source": [
        "시력 검사 2\n",
        "- https://inha.codetree.ai/missions/4/problems/eye-test-2/description"
      ],
      "metadata": {
        "id": "CnqI1JLM-VJc"
      }
    },
    {
      "cell_type": "code",
      "source": [
        "a = float(input())\n",
        "if(a >= 1.0):\n",
        "    print('High')\n",
        "elif(a >= 0.5):\n",
        "    print('Middle')\n",
        "else:\n",
        "    print('Low')"
      ],
      "metadata": {
        "id": "8xfM0MJT-ZNW"
      },
      "execution_count": null,
      "outputs": []
    },
    {
      "cell_type": "markdown",
      "source": [
        "살 수 있는 물건\n",
        "- https://inha.codetree.ai/missions/4/problems/things-able-to-buy/description"
      ],
      "metadata": {
        "id": "KH5mYckj-njt"
      }
    },
    {
      "cell_type": "code",
      "source": [
        "n = int(input())\n",
        "if(n >= 3000):\n",
        "    print('book')\n",
        "elif(n >= 1000):\n",
        "    print('mask')\n",
        "else:\n",
        "    print('no')"
      ],
      "metadata": {
        "id": "Z6cBGZTy-rkx"
      },
      "execution_count": null,
      "outputs": []
    },
    {
      "cell_type": "markdown",
      "source": [
        "# if elif elif else 조건문"
      ],
      "metadata": {
        "id": "iQFyyQtd-9qI"
      }
    },
    {
      "cell_type": "markdown",
      "source": [
        "출석 부르기\n",
        "- https://inha.codetree.ai/missions/4/problems/calling-attendance/description"
      ],
      "metadata": {
        "id": "gUuOn3vE--W3"
      }
    },
    {
      "cell_type": "code",
      "source": [
        "n = int(input())\n",
        "if(n == 1):\n",
        "    print('John')\n",
        "elif(n == 2):\n",
        "    print('Tom')\n",
        "elif(n == 3):\n",
        "    print('Paul')\n",
        "else:\n",
        "    print('Vacancy')"
      ],
      "metadata": {
        "id": "7wQsRDX2_ApA"
      },
      "execution_count": null,
      "outputs": []
    },
    {
      "cell_type": "markdown",
      "source": [
        "등급 매기기\n",
        "- https://inha.codetree.ai/missions/4/problems/ranking/description"
      ],
      "metadata": {
        "id": "D3EInkaS_NUm"
      }
    },
    {
      "cell_type": "code",
      "source": [
        "score = int(input())\n",
        "if(score >= 90):\n",
        "    print('A')\n",
        "elif(score >= 80):\n",
        "    print('B')\n",
        "elif(score >= 70):\n",
        "    print('C')\n",
        "elif(score >= 60):\n",
        "    print('D')\n",
        "else:\n",
        "    print('F')"
      ],
      "metadata": {
        "id": "EB8AySYe_S5m"
      },
      "execution_count": null,
      "outputs": []
    },
    {
      "cell_type": "markdown",
      "source": [
        "알파벳에 따른 평가\n",
        "- https://inha.codetree.ai/missions/4/problems/evaluation-by-alphabet/description"
      ],
      "metadata": {
        "id": "paOjD3ww_mdS"
      }
    },
    {
      "cell_type": "code",
      "source": [
        "c = input()\n",
        "if(c == 'S'):\n",
        "    print('Superior')\n",
        "elif(c == 'A'):\n",
        "    print('Excellent')\n",
        "elif(c == 'B'):\n",
        "    print('Good')\n",
        "elif(c == 'C'):\n",
        "    print('Usually')\n",
        "elif(c == 'D'):\n",
        "    print('Effort')\n",
        "else:\n",
        "    print('Failure')"
      ],
      "metadata": {
        "id": "v_pMy8OT_p5s"
      },
      "execution_count": null,
      "outputs": []
    },
    {
      "cell_type": "markdown",
      "source": [
        "살 수 있는 물건 2\n",
        "- https://inha.codetree.ai/missions/4/problems/things-able-to-buy-2/description"
      ],
      "metadata": {
        "id": "QAsH451nABwZ"
      }
    },
    {
      "cell_type": "code",
      "source": [
        "n = int(input())\n",
        "if(n >= 3000):\n",
        "    print('book')\n",
        "elif(n >= 1000):\n",
        "    print('mask')\n",
        "elif(n >= 500):\n",
        "    print('pen')\n",
        "else:\n",
        "    print('no')"
      ],
      "metadata": {
        "id": "xHuS40YvARFN"
      },
      "execution_count": null,
      "outputs": []
    },
    {
      "cell_type": "markdown",
      "source": [
        "# if if 조건문"
      ],
      "metadata": {
        "id": "ILcXb9kTQsK6"
      }
    },
    {
      "cell_type": "markdown",
      "source": [
        "최대 2번의 연산\n",
        "- https://inha.codetree.ai/missions/4/problems/up-to-2-calculations/description"
      ],
      "metadata": {
        "id": "95CbHye4Qs5S"
      }
    },
    {
      "cell_type": "code",
      "source": [
        "a = int(input())\n",
        "if(a % 2 == 0):\n",
        "    a = a // 2\n",
        "if(a %2 == 1):\n",
        "    a = (a + 1) // 2\n",
        "print(a)"
      ],
      "metadata": {
        "id": "DUOXKdE-QvQC"
      },
      "execution_count": null,
      "outputs": []
    },
    {
      "cell_type": "markdown",
      "source": [
        "숫자의 조건 여부 2\n",
        "- https://inha.codetree.ai/missions/4/problems/number's-condition-2/description"
      ],
      "metadata": {
        "id": "_ddpdPVsQv4I"
      }
    },
    {
      "cell_type": "code",
      "source": [
        "a = int(input())\n",
        "if (a == 5):\n",
        "    print(\"A\")\n",
        "if (a % 2 == 0):\n",
        "    print(\"B\")"
      ],
      "metadata": {
        "id": "pRQwSdgfQvVT"
      },
      "execution_count": null,
      "outputs": []
    },
    {
      "cell_type": "markdown",
      "source": [
        "두 번의 연산\n",
        "- https://inha.codetree.ai/missions/4/problems/two-operations/description"
      ],
      "metadata": {
        "id": "esuATlylRSut"
      }
    },
    {
      "cell_type": "code",
      "source": [
        "a = int(input())\n",
        "if(a % 2 == 1):\n",
        "    a = a + 3\n",
        "if(a % 3 == 0):\n",
        "    a = a // 3\n",
        "print(a)"
      ],
      "metadata": {
        "id": "KNKEURMTRWe6"
      },
      "execution_count": null,
      "outputs": []
    },
    {
      "cell_type": "markdown",
      "source": [
        "# if else if else 조건문"
      ],
      "metadata": {
        "id": "VNf6UJtVRjVy"
      }
    },
    {
      "cell_type": "markdown",
      "source": [
        "두 숫자의 짝홀 여부\n",
        "- https://inha.codetree.ai/missions/4/problems/parity-of-two-numbers/description"
      ],
      "metadata": {
        "id": "AaOey11mRmio"
      }
    },
    {
      "cell_type": "code",
      "source": [
        "a, b = map(int, input().split())\n",
        "if(a % 2 == 0):\n",
        "    print('even')\n",
        "else:\n",
        "    print('odd')\n",
        "if(b % 2 == 0):\n",
        "    print('even')\n",
        "else:\n",
        "    print('odd')"
      ],
      "metadata": {
        "id": "kPbk1xn1RorC"
      },
      "execution_count": null,
      "outputs": []
    },
    {
      "cell_type": "markdown",
      "source": [
        "특정 조건 두 정수 비교\n",
        "- https://inha.codetree.ai/missions/4/problems/specific-comparison-of-two-natural-numbers/description"
      ],
      "metadata": {
        "id": "WncKsn7eR2Up"
      }
    },
    {
      "cell_type": "code",
      "source": [
        "a, b = map(int, input().split())\n",
        "if(a < b):\n",
        "    print(1, end = ' ')\n",
        "else:\n",
        "    print(0, end = ' ')\n",
        "if(a == b):\n",
        "    print(1)\n",
        "else:\n",
        "    print(0)"
      ],
      "metadata": {
        "id": "vgijabJhR8Cf"
      },
      "execution_count": null,
      "outputs": []
    },
    {
      "cell_type": "markdown",
      "source": [
        "3 또는 5의 배수\n",
        "- https://inha.codetree.ai/missions/4/problems/multiples-of-3-or-5/description"
      ],
      "metadata": {
        "id": "VUIUqpOLSH4l"
      }
    },
    {
      "cell_type": "code",
      "source": [
        "a = int(input())\n",
        "if(a % 3 == 0):\n",
        "    print('YES')\n",
        "else:\n",
        "    print('NO')\n",
        "if(a % 5 == 0):\n",
        "    print('YES')\n",
        "else:\n",
        "    print('NO')"
      ],
      "metadata": {
        "id": "2dX5Uau2SR6m"
      },
      "execution_count": null,
      "outputs": []
    },
    {
      "cell_type": "markdown",
      "source": [
        "# 비교 연산자와 조건문"
      ],
      "metadata": {
        "id": "aJuvn0BMSghz"
      }
    },
    {
      "cell_type": "markdown",
      "source": [
        "비교 연산\n",
        "- https://inha.codetree.ai/missions/4/problems/comparison-operator/description"
      ],
      "metadata": {
        "id": "ScMI4icSShUu"
      }
    },
    {
      "cell_type": "code",
      "source": [
        "a, b = map(int, input().split())\n",
        "if(a >= b):\n",
        "    print(1)\n",
        "else:\n",
        "    print(0)\n",
        "if(a > b):\n",
        "    print(1)\n",
        "else:\n",
        "    print(0)\n",
        "if(b >= a):\n",
        "    print(1)\n",
        "else:\n",
        "    print(0)\n",
        "if(b > a):\n",
        "    print(1)\n",
        "else:\n",
        "    print(0)\n",
        "if(a == b):\n",
        "    print(1)\n",
        "else:\n",
        "    print(0)\n",
        "if(a != b):\n",
        "    print(1)\n",
        "else:\n",
        "    print(0)\n",
        "\n",
        "# 예시 답안 출력\n",
        "print(int(a >= b))\n",
        "print(int(a > b))\n",
        "print(int(a <= b))\n",
        "print(int(a < b))\n",
        "print(int(a == b))\n",
        "print(int(a != b))"
      ],
      "metadata": {
        "id": "QVvnYC8ESj8V"
      },
      "execution_count": null,
      "outputs": []
    },
    {
      "cell_type": "markdown",
      "source": [
        "4가지 관계연산자\n",
        "- https://inha.codetree.ai/missions/4/problems/four-relational-operators/description"
      ],
      "metadata": {
        "id": "RVvsT3gcS7MK"
      }
    },
    {
      "cell_type": "code",
      "source": [
        "a, b = map(int, input().split())\n",
        "print(int(a >= b))\n",
        "print(int(a > b))\n",
        "print(int(b >= a))\n",
        "print(int(b > a))"
      ],
      "metadata": {
        "id": "1fytq7PYS68-"
      },
      "execution_count": null,
      "outputs": []
    },
    {
      "cell_type": "markdown",
      "source": [
        "4번의 크기 비교\n",
        "- https://inha.codetree.ai/missions/4/problems/4-time-comparison/description"
      ],
      "metadata": {
        "id": "z387ScFrToAG"
      }
    },
    {
      "cell_type": "code",
      "source": [
        "a = int(input())\n",
        "b, c, d, e = map(int, input().split())\n",
        "print(int(a > b))\n",
        "print(int(a > c))\n",
        "print(int(a > d))\n",
        "print(int(a > e))"
      ],
      "metadata": {
        "id": "Le0RxHThTroE"
      },
      "execution_count": null,
      "outputs": []
    },
    {
      "cell_type": "markdown",
      "source": [
        "# and 기호"
      ],
      "metadata": {
        "id": "khZO6xIDT3jb"
      }
    },
    {
      "cell_type": "markdown",
      "source": [
        "점수 비교\n",
        "- https://inha.codetree.ai/missions/4/problems/score-comparison/description"
      ],
      "metadata": {
        "id": "bktbWXOST86b"
      }
    },
    {
      "cell_type": "code",
      "source": [
        "a1, a2 = map(int, input().split())\n",
        "b1, b2 = map(int, input().split())\n",
        "if((a1 > b1) and (a2 > b2)):\n",
        "    print(1)\n",
        "else:\n",
        "    print(0)"
      ],
      "metadata": {
        "id": "Q1aSc6DKT_aR"
      },
      "execution_count": null,
      "outputs": []
    },
    {
      "cell_type": "markdown",
      "source": [
        "범위 안의 수\n",
        "- https://inha.codetree.ai/missions/4/problems/number-in-range/description"
      ],
      "metadata": {
        "id": "GpCjH3JxUpPK"
      }
    },
    {
      "cell_type": "code",
      "source": [
        "a = int(input())\n",
        "if(a >= 10 and a <= 20):\n",
        "    print('yes')\n",
        "else:\n",
        "    print('no')"
      ],
      "metadata": {
        "id": "qWH236YwUsSa"
      },
      "execution_count": null,
      "outputs": []
    },
    {
      "cell_type": "markdown",
      "source": [
        "시력 검사\n",
        "- https://inha.codetree.ai/missions/4/problems/eye-test/description"
      ],
      "metadata": {
        "id": "v3MkowULVIlw"
      }
    },
    {
      "cell_type": "code",
      "source": [
        "left = float(input())\n",
        "right = float(input())\n",
        "if(left >= 1.0 and right >= 1.0):\n",
        "    print('High')\n",
        "elif(left >= 0.5 and right >= 0.5):\n",
        "    print('Middle')\n",
        "else:\n",
        "    print('Low')"
      ],
      "metadata": {
        "id": "czjK8_LsVJ5Y"
      },
      "execution_count": null,
      "outputs": []
    },
    {
      "cell_type": "markdown",
      "source": [
        "특정 조건 세 정수 비교\n",
        "- https://inha.codetree.ai/missions/4/problems/specific-comparison-of-three-natural-numbers/description"
      ],
      "metadata": {
        "id": "YBFl7cV1VjSM"
      }
    },
    {
      "cell_type": "code",
      "source": [
        "a, b, c = map(int, input().split())\n",
        "print(int(a <= b and a <= c), end = ' ')\n",
        "print(int(a == b and b == c))"
      ],
      "metadata": {
        "id": "ZzyAvvdkVmA2"
      },
      "execution_count": null,
      "outputs": []
    },
    {
      "cell_type": "markdown",
      "source": [
        "세 정수의 최솟값\n",
        "- https://inha.codetree.ai/missions/4/problems/minimum-of-three-numbers/description"
      ],
      "metadata": {
        "id": "EsAhxMVbWeLN"
      }
    },
    {
      "cell_type": "code",
      "source": [
        "a, b, c = map(int, input().split())\n",
        "min_value = a\n",
        "if(a > b):\n",
        "    min_value = b\n",
        "    if(b > c):\n",
        "        min_value = c\n",
        "elif(a > c):\n",
        "    min_value = c\n",
        "print(min_value)"
      ],
      "metadata": {
        "id": "DZpxIy6xWfWT"
      },
      "execution_count": null,
      "outputs": []
    },
    {
      "cell_type": "markdown",
      "source": [
        "세 수의 중간값\n",
        "- https://inha.codetree.ai/missions/4/problems/median-of-three-numbers/description"
      ],
      "metadata": {
        "id": "xwNZz6G1XGQM"
      }
    },
    {
      "cell_type": "code",
      "source": [
        "a, b, c = map(int, input().split())\n",
        "print(int(b > a and b < c))"
      ],
      "metadata": {
        "id": "FDJqnq6ZXHjq"
      },
      "execution_count": null,
      "outputs": []
    },
    {
      "cell_type": "markdown",
      "source": [
        "# or 기호"
      ],
      "metadata": {
        "id": "zxYBbN-pMB9B"
      }
    },
    {
      "cell_type": "markdown",
      "source": [
        "범위 밖의 수\n",
        "- https://inha.codetree.ai/missions/4/problems/number-out-of-range/description"
      ],
      "metadata": {
        "id": "aoSng_zFMDzN"
      }
    },
    {
      "cell_type": "code",
      "source": [
        "a = int(input())\n",
        "if(a < 10 or a > 20):\n",
        "    print('yes')\n",
        "else:\n",
        "    print('no')"
      ],
      "metadata": {
        "id": "OgfbAS1CMGBT"
      },
      "execution_count": null,
      "outputs": []
    },
    {
      "cell_type": "markdown",
      "source": [
        "숫자의 조건 여부 3\n",
        "- https://inha.codetree.ai/missions/4/problems/number's-condition-3/description"
      ],
      "metadata": {
        "id": "JnZYlS-mNJio"
      }
    },
    {
      "cell_type": "code",
      "source": [
        "a = int(input())\n",
        "if(a % 13 == 0 or a % 19 == 0):\n",
        "    print('True')\n",
        "else:\n",
        "    print('False')"
      ],
      "metadata": {
        "id": "keXhygAwNLOn"
      },
      "execution_count": null,
      "outputs": []
    },
    {
      "cell_type": "markdown",
      "source": [
        "둘 중 하나의 배수\n",
        "- https://inha.codetree.ai/missions/4/problems/multiple-of-either/description"
      ],
      "metadata": {
        "id": "YW6B3ldHNTfu"
      }
    },
    {
      "cell_type": "code",
      "source": [
        "a = int(input())\n",
        "if(a % 3 == 0 or a % 5 == 0):\n",
        "    print(1)\n",
        "else:\n",
        "    print(0)"
      ],
      "metadata": {
        "id": "i6Xb6yCBNWms"
      },
      "execution_count": null,
      "outputs": []
    },
    {
      "cell_type": "markdown",
      "source": [
        "# and, or 혼합"
      ],
      "metadata": {
        "id": "_DFvT4n8NiQN"
      }
    },
    {
      "cell_type": "markdown",
      "source": [
        "굉장한 숫자\n",
        "- https://inha.codetree.ai/missions/4/problems/amazing-number/description"
      ],
      "metadata": {
        "id": "HriGukhhNjv9"
      }
    },
    {
      "cell_type": "code",
      "source": [
        "n = int(input())\n",
        "\n",
        "if((n % 2 == 1 and n % 3 == 0) or (n % 2 == 0 and n % 5 == 0)):\n",
        "    print('true')\n",
        "else:\n",
        "    print('false')"
      ],
      "metadata": {
        "id": "OhtvuqPdNmJE"
      },
      "execution_count": null,
      "outputs": []
    },
    {
      "cell_type": "markdown",
      "source": [
        "숫자의 계절은\n",
        "- https://inha.codetree.ai/missions/4/problems/season-of-num/description"
      ],
      "metadata": {
        "id": "hBQfd5-UN5BQ"
      }
    },
    {
      "cell_type": "code",
      "source": [
        "m = int(input())\n",
        "if(m >= 3 and m <= 5):\n",
        "    print('Spring')\n",
        "elif(m >= 6 and m <= 8):\n",
        "    print('Summer')\n",
        "elif(m >= 9 and m <= 11):\n",
        "    print('Fall')\n",
        "elif(m == 12 or m == 1 or m == 2):\n",
        "    print('Winter')"
      ],
      "metadata": {
        "id": "93dqeQj5N82B"
      },
      "execution_count": null,
      "outputs": []
    },
    {
      "cell_type": "markdown",
      "source": [
        "장학금\n",
        "- https://inha.codetree.ai/missions/4/problems/scholarship/description"
      ],
      "metadata": {
        "id": "As-hsGxPOW4M"
      }
    },
    {
      "cell_type": "code",
      "source": [
        "middle, final = map(int, input().split())\n",
        "if(middle >= 90):\n",
        "    if(final >= 95):\n",
        "        print(100000)\n",
        "    elif(final >= 90):\n",
        "        print(50000)\n",
        "    else:\n",
        "        print(0)\n",
        "else:\n",
        "    print(0)"
      ],
      "metadata": {
        "id": "tISJXb5XOZxK"
      },
      "execution_count": null,
      "outputs": []
    },
    {
      "cell_type": "markdown",
      "source": [
        "좀 더 어려운 수학 점수\n",
        "- https://inha.codetree.ai/missions/4/problems/math-scores-are-more-difficult/description"
      ],
      "metadata": {
        "id": "2Qd9SeU-O6t9"
      }
    },
    {
      "cell_type": "code",
      "source": [
        "m1, e1 = map(int, input().split())\n",
        "m2, e2 = map(int, input().split())\n",
        "if(m1 > m2):\n",
        "    print('A')\n",
        "elif(m1 < m2):\n",
        "    print('B')\n",
        "else:\n",
        "    if(e1 > e2):\n",
        "        print('A')\n",
        "    elif(e1 < e2):\n",
        "        print('B')"
      ],
      "metadata": {
        "id": "_lslmd9zO792"
      },
      "execution_count": null,
      "outputs": []
    },
    {
      "cell_type": "markdown",
      "source": [
        "남녀노소 구분짓기\n",
        "- https://inha.codetree.ai/missions/4/problems/sex-and-age/description"
      ],
      "metadata": {
        "id": "7JenwhmIPf46"
      }
    },
    {
      "cell_type": "code",
      "source": [
        "sex = int(input())\n",
        "age = int(input())\n",
        "if(sex == 0):\n",
        "    if(age < 19):\n",
        "        print('BOY')\n",
        "    else:\n",
        "        print('MAN')\n",
        "else:\n",
        "    if(age < 19):\n",
        "        print('GIRL')\n",
        "    else:\n",
        "        print('WOMAN')"
      ],
      "metadata": {
        "id": "YrFiDZStPUue"
      },
      "execution_count": null,
      "outputs": []
    },
    {
      "cell_type": "markdown",
      "source": [
        "# 중첩 조건문"
      ],
      "metadata": {
        "id": "pYnL_VOTVAJS"
      }
    },
    {
      "cell_type": "markdown",
      "source": [
        "윤년인가\n",
        "- https://inha.codetree.ai/missions/4/problems/is-leap-year/description"
      ],
      "metadata": {
        "id": "cjk7krw_P3m2"
      }
    },
    {
      "cell_type": "code",
      "source": [
        "y = int(input())\n",
        "if((y % 4 == 0)):\n",
        "    if(y % 100 != 0):\n",
        "        print('true')\n",
        "    elif(y % 100 == 0 and y % 400 == 0):\n",
        "        print('true')\n",
        "    else:\n",
        "        print('false')\n",
        "else:\n",
        "    print('false')"
      ],
      "metadata": {
        "id": "eycPLgvzP9S0"
      },
      "execution_count": null,
      "outputs": []
    },
    {
      "cell_type": "markdown",
      "source": [
        "출력결과 61\n",
        "- https://inha.codetree.ai/missions/4/problems/reading-k201814/description"
      ],
      "metadata": {
        "id": "TrgojNHcQQSo"
      }
    },
    {
      "cell_type": "code",
      "source": [
        "x = 9\n",
        "y = 11\n",
        "if x < 10:\n",
        "    if y > 10:\n",
        "        print('A', end = '')\n",
        "    else:\n",
        "        print('B', end = '')\n",
        "print('C', end = '')\n",
        "# 출력\n",
        "# AC"
      ],
      "metadata": {
        "id": "JQiHaI48QVTh"
      },
      "execution_count": null,
      "outputs": []
    },
    {
      "cell_type": "markdown",
      "source": [
        "일 수 구하기\n",
        "- https://inha.codetree.ai/missions/4/problems/number-of-days-in-month/description"
      ],
      "metadata": {
        "id": "ZO_fZPN3Qcce"
      }
    },
    {
      "cell_type": "code",
      "source": [
        "n = int(input())\n",
        "if(n == 2):\n",
        "    print(28)\n",
        "elif(n == 4 or n == 6 or n == 9 or n == 11):\n",
        "    print(30)\n",
        "else:\n",
        "    print(31)"
      ],
      "metadata": {
        "id": "eXBGYQo9Qdd4"
      },
      "execution_count": null,
      "outputs": []
    },
    {
      "cell_type": "markdown",
      "source": [
        "최댓값 구하기\n",
        "- https://inha.codetree.ai/missions/4/problems/maximum-value/description"
      ],
      "metadata": {
        "id": "FbHRypbsRKXn"
      }
    },
    {
      "cell_type": "code",
      "source": [
        "a, b, c = map(int, input().split())\n",
        "max_value = a\n",
        "if(a < b):\n",
        "    if(b < c):\n",
        "        max_value = c\n",
        "    else:\n",
        "        max_value = b\n",
        "elif(a < c):\n",
        "    max_value = c\n",
        "print(max_value)"
      ],
      "metadata": {
        "id": "9PxN297-RLkC"
      },
      "execution_count": null,
      "outputs": []
    },
    {
      "cell_type": "markdown",
      "source": [
        "코로나 메뉴얼\n",
        "- https://inha.codetree.ai/missions/4/problems/covid-manual/description"
      ],
      "metadata": {
        "id": "tGtgvifmSBiB"
      }
    },
    {
      "cell_type": "code",
      "source": [
        "a1, b1 = input().split()\n",
        "a2, b2 = input().split()\n",
        "a3, b3 = input().split()\n",
        "b1, b2, b3 = int(b1), int(b2), int(b3)\n",
        "check = 0\n",
        "li1 = [a1, a2, a3]\n",
        "li2 = [b1, b2, b3]\n",
        "for i in range(0, 3):\n",
        "    if(li1[i] == 'Y' and li2[i] >= 37):\n",
        "        check += 1\n",
        "if(check >= 2):\n",
        "    print('E')\n",
        "else:\n",
        "    print('N')"
      ],
      "metadata": {
        "id": "b9RVAhahSC6Y"
      },
      "execution_count": null,
      "outputs": []
    },
    {
      "cell_type": "code",
      "source": [
        "# 예시 답안\n",
        "# 변수 선언 및 입력\n",
        "inp = input().split()\n",
        "c1, t1 = inp[0], int(inp[1])\n",
        "inp = input().split()\n",
        "c2, t2 = inp[0], int(inp[1])\n",
        "inp = input().split()\n",
        "c3, t3 = inp[0], int(inp[1])\n",
        "\n",
        "# A가 2명 이상인지 판단하기\n",
        "if c1 == 'Y' and t1 >= 37:\n",
        "    # 첫 번째 사람이 A라면, 남은 두 사람 중 한 사람이라도 A면 된다.\n",
        "    if (c2 == 'Y' and t2 >= 37) or (c3 == 'Y' and t3 >= 37):\n",
        "        print(\"E\")\n",
        "    else:\n",
        "        print(\"N\")\n",
        "else:\n",
        "    # 첫 번째 사람이 A가 아니라면, 남은 두 사람 모두 A여야만 한다.\n",
        "    if (c2 == 'Y' and t2 >= 37) and (c3 == 'Y' and t3 >= 37):\n",
        "        print(\"E\")\n",
        "    else:\n",
        "        print(\"N\")"
      ],
      "metadata": {
        "id": "tTebsA_2TPv9"
      },
      "execution_count": null,
      "outputs": []
    },
    {
      "cell_type": "markdown",
      "source": [
        "중앙값 구하기\n",
        "- https://inha.codetree.ai/missions/4/problems/find-the-median/description"
      ],
      "metadata": {
        "id": "3Ugdg4oATZGF"
      }
    },
    {
      "cell_type": "code",
      "source": [
        "a, b, c = map(int, input().split())\n",
        "li = [a, b, c]\n",
        "li.sort()\n",
        "print(li[1])"
      ],
      "metadata": {
        "id": "JytFRZhUTbd0"
      },
      "execution_count": null,
      "outputs": []
    },
    {
      "cell_type": "code",
      "source": [
        "# 예시 답안\n",
        "# 변수 선언 및 입력\n",
        "inp = input()\n",
        "arr = inp.split()\n",
        "a = int(arr[0])\n",
        "b = int(arr[1])\n",
        "c = int(arr[2])\n",
        "\n",
        "# 출력\n",
        "if a > b:\n",
        "    if c > a:\n",
        "        # a > b, c > a 일때 (c > a > b)\n",
        "        print(a)\n",
        "    # a > b, a > c 일때 (a가 가장 크고, b와 c중 더 큰 수가 중앙값)\n",
        "    elif b > c:\n",
        "        print(b)\n",
        "    else:\n",
        "        print(c)\n",
        "else:\n",
        "    if c > b:\n",
        "        # b > a, c > b 일때 (c > b > a)\n",
        "        print(b)\n",
        "    # b > a, b > c 일때 (b가 가장 크고, a와 c중 더 큰 수가 중앙값)\n",
        "    elif a > c:\n",
        "        print(a)\n",
        "    else:\n",
        "        print(c)"
      ],
      "metadata": {
        "id": "9M6qDJ16TmXi"
      },
      "execution_count": null,
      "outputs": []
    }
  ]
}