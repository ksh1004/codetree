{
  "nbformat": 4,
  "nbformat_minor": 0,
  "metadata": {
    "colab": {
      "provenance": []
    },
    "kernelspec": {
      "name": "python3",
      "display_name": "Python 3"
    },
    "language_info": {
      "name": "python"
    }
  },
  "cells": [
    {
      "cell_type": "markdown",
      "source": [
        "# if 조건문"
      ],
      "metadata": {
        "id": "DKn4r8ov5GwQ"
      }
    },
    {
      "cell_type": "markdown",
      "source": [
        "음수 구별하기\n",
        "- https://inha.codetree.ai/missions/4/problems/separate-negative-number/description"
      ],
      "metadata": {
        "id": "aRse3cEZ5Iol"
      }
    },
    {
      "cell_type": "code",
      "execution_count": null,
      "metadata": {
        "id": "Y29lVfaT4_rX"
      },
      "outputs": [],
      "source": [
        "num = int(input())\n",
        "print(num)\n",
        "if(num < 0):\n",
        "    print('minus')"
      ]
    },
    {
      "cell_type": "markdown",
      "source": [
        "큰 수에서 빼기\n",
        "- https://inha.codetree.ai/missions/4/problems/subtract-from-large-number/description"
      ],
      "metadata": {
        "id": "D7htKABb5gYL"
      }
    },
    {
      "cell_type": "code",
      "source": [
        "a, b = map(int, input().split())\n",
        "if(abs(a) >= abs(b)):\n",
        "    print(a - b)\n",
        "else:\n",
        "    print(b - a)"
      ],
      "metadata": {
        "id": "58nDkGkf5hmQ"
      },
      "execution_count": null,
      "outputs": []
    },
    {
      "cell_type": "markdown",
      "source": [
        "체질량지수\n",
        "- https://inha.codetree.ai/missions/4/problems/bmi/description"
      ],
      "metadata": {
        "id": "ParnbwUv6LF9"
      }
    },
    {
      "cell_type": "code",
      "source": [
        "height, weight = map(int, input().split())\n",
        "bmi = weight // ((height * 0.01) ** 2)\n",
        "print(f'{bmi:.0f}')\n",
        "if bmi >= 25:\n",
        "    print('Obesity')"
      ],
      "metadata": {
        "id": "xUQM053p7ONz"
      },
      "execution_count": null,
      "outputs": []
    },
    {
      "cell_type": "markdown",
      "source": [
        "정사각형의 넓이\n",
        "- https://inha.codetree.ai/missions/4/problems/area-of-a-rectangle/description"
      ],
      "metadata": {
        "id": "syFx4pyS7ZHD"
      }
    },
    {
      "cell_type": "code",
      "source": [
        "n = int(input())\n",
        "print(n * n)\n",
        "if(n < 5):\n",
        "    print('tiny')"
      ],
      "metadata": {
        "id": "kfS2tNXd7XN7"
      },
      "execution_count": null,
      "outputs": []
    },
    {
      "cell_type": "markdown",
      "source": [
        "# if else 조건문"
      ],
      "metadata": {
        "id": "N1kxtB947lXK"
      }
    },
    {
      "cell_type": "markdown",
      "source": [
        "시험 통과 여부 확인하기\n",
        "- https://inha.codetree.ai/missions/4/problems/verify-test-passed/description"
      ],
      "metadata": {
        "id": "f_2huQru7pEe"
      }
    },
    {
      "cell_type": "code",
      "source": [
        "n = int(input())\n",
        "if(n >= 80):\n",
        "    print('pass')\n",
        "else:\n",
        "    print(f'{80-n} more score')"
      ],
      "metadata": {
        "id": "9vNZd57J7sbP"
      },
      "execution_count": null,
      "outputs": []
    },
    {
      "cell_type": "markdown",
      "source": [
        "숫자의 조건 여부\n",
        "- https://inha.codetree.ai/missions/4/problems/number's-condition/description"
      ],
      "metadata": {
        "id": "NacX0C2o78yU"
      }
    },
    {
      "cell_type": "code",
      "source": [
        "a = int(input())\n",
        "if(a >= 113):\n",
        "    print(1)\n",
        "else:\n",
        "    print(0)"
      ],
      "metadata": {
        "id": "9sAeaoaT794L"
      },
      "execution_count": null,
      "outputs": []
    },
    {
      "cell_type": "markdown",
      "source": [
        "비교에 따른 연산\n",
        "- https://inha.codetree.ai/missions/4/problems/operation-based-on-comparison/description"
      ],
      "metadata": {
        "id": "A-8cqUcy8FYD"
      }
    },
    {
      "cell_type": "code",
      "source": [
        "a, b = map(int, input().split())\n",
        "if(a > b):\n",
        "    print(a * b)\n",
        "else:\n",
        "    print(b // a)"
      ],
      "metadata": {
        "id": "w_kjzH4p8KQd"
      },
      "execution_count": null,
      "outputs": []
    },
    {
      "cell_type": "markdown",
      "source": [
        "# 삼항 연산자\n",
        "if 조건:\n",
        "    a = v1\n",
        "else:\n",
        "    a = v2\n",
        "\n",
        "\n",
        "---\n",
        "와 같은 식을 다음의 삼항 연산자로 표현 가능하다.\n",
        "- a = v1 if 조건 else v2\n"
      ],
      "metadata": {
        "id": "xW7tyRJR8evn"
      }
    },
    {
      "cell_type": "markdown",
      "source": [
        "2개 중 최대\n",
        "- https://inha.codetree.ai/missions/4/problems/max-of-two-nums/description"
      ],
      "metadata": {
        "id": "HQWu84qb9UPg"
      }
    },
    {
      "cell_type": "code",
      "source": [
        "a, b = map(int, input().split())\n",
        "print(a if a > b else b)"
      ],
      "metadata": {
        "id": "c0d7peUV9Ytv"
      },
      "execution_count": null,
      "outputs": []
    },
    {
      "cell_type": "markdown",
      "source": [
        "삼항연산자\n",
        "- https://inha.codetree.ai/missions/4/problems/ternary-operator/description"
      ],
      "metadata": {
        "id": "4hdWl4bH9kaT"
      }
    },
    {
      "cell_type": "code",
      "source": [
        "score = int(input())\n",
        "print('pass' if score == 100 else 'failure')"
      ],
      "metadata": {
        "id": "qovIlH4N9n0v"
      },
      "execution_count": null,
      "outputs": []
    },
    {
      "cell_type": "markdown",
      "source": [
        "삼항연산자 2\n",
        "- https://inha.codetree.ai/missions/4/problems/ternary-operator-2/description"
      ],
      "metadata": {
        "id": "riO9kLsP91dz"
      }
    },
    {
      "cell_type": "code",
      "source": [
        "a = int(input())\n",
        "print('t' if a == 1 else 'f')"
      ],
      "metadata": {
        "id": "qUfaD5_s94jL"
      },
      "execution_count": null,
      "outputs": []
    },
    {
      "cell_type": "markdown",
      "source": [
        "# if elif else 조건문"
      ],
      "metadata": {
        "id": "TevIps469-F0"
      }
    },
    {
      "cell_type": "markdown",
      "source": [
        "물의 상태\n",
        "- https://inha.codetree.ai/missions/4/problems/state-of-water/description"
      ],
      "metadata": {
        "id": "o-0SxzCk-Em_"
      }
    },
    {
      "cell_type": "code",
      "source": [
        "num = int(input())\n",
        "if num < 0:\n",
        "    print('ice')\n",
        "elif num >= 100:\n",
        "    print('vapor')\n",
        "else:\n",
        "    print('water')"
      ],
      "metadata": {
        "id": "nDx-KZa5-HVQ"
      },
      "execution_count": null,
      "outputs": []
    },
    {
      "cell_type": "markdown",
      "source": [
        "시력 검사 2\n",
        "- https://inha.codetree.ai/missions/4/problems/eye-test-2/description"
      ],
      "metadata": {
        "id": "CnqI1JLM-VJc"
      }
    },
    {
      "cell_type": "code",
      "source": [
        "a = float(input())\n",
        "if(a >= 1.0):\n",
        "    print('High')\n",
        "elif(a >= 0.5):\n",
        "    print('Middle')\n",
        "else:\n",
        "    print('Low')"
      ],
      "metadata": {
        "id": "8xfM0MJT-ZNW"
      },
      "execution_count": null,
      "outputs": []
    },
    {
      "cell_type": "markdown",
      "source": [
        "살 수 있는 물건\n",
        "- https://inha.codetree.ai/missions/4/problems/things-able-to-buy/description"
      ],
      "metadata": {
        "id": "KH5mYckj-njt"
      }
    },
    {
      "cell_type": "code",
      "source": [
        "n = int(input())\n",
        "if(n >= 3000):\n",
        "    print('book')\n",
        "elif(n >= 1000):\n",
        "    print('mask')\n",
        "else:\n",
        "    print('no')"
      ],
      "metadata": {
        "id": "Z6cBGZTy-rkx"
      },
      "execution_count": null,
      "outputs": []
    },
    {
      "cell_type": "markdown",
      "source": [
        "# if elif elif else 조건문"
      ],
      "metadata": {
        "id": "iQFyyQtd-9qI"
      }
    },
    {
      "cell_type": "markdown",
      "source": [
        "출석 부르기\n",
        "- https://inha.codetree.ai/missions/4/problems/calling-attendance/description"
      ],
      "metadata": {
        "id": "gUuOn3vE--W3"
      }
    },
    {
      "cell_type": "code",
      "source": [
        "n = int(input())\n",
        "if(n == 1):\n",
        "    print('John')\n",
        "elif(n == 2):\n",
        "    print('Tom')\n",
        "elif(n == 3):\n",
        "    print('Paul')\n",
        "else:\n",
        "    print('Vacancy')"
      ],
      "metadata": {
        "id": "7wQsRDX2_ApA"
      },
      "execution_count": null,
      "outputs": []
    },
    {
      "cell_type": "markdown",
      "source": [
        "등급 매기기\n",
        "- https://inha.codetree.ai/missions/4/problems/ranking/description"
      ],
      "metadata": {
        "id": "D3EInkaS_NUm"
      }
    },
    {
      "cell_type": "code",
      "source": [
        "score = int(input())\n",
        "if(score >= 90):\n",
        "    print('A')\n",
        "elif(score >= 80):\n",
        "    print('B')\n",
        "elif(score >= 70):\n",
        "    print('C')\n",
        "elif(score >= 60):\n",
        "    print('D')\n",
        "else:\n",
        "    print('F')"
      ],
      "metadata": {
        "id": "EB8AySYe_S5m"
      },
      "execution_count": null,
      "outputs": []
    },
    {
      "cell_type": "markdown",
      "source": [
        "알파벳에 따른 평가\n",
        "- https://inha.codetree.ai/missions/4/problems/evaluation-by-alphabet/description"
      ],
      "metadata": {
        "id": "paOjD3ww_mdS"
      }
    },
    {
      "cell_type": "code",
      "source": [
        "c = input()\n",
        "if(c == 'S'):\n",
        "    print('Superior')\n",
        "elif(c == 'A'):\n",
        "    print('Excellent')\n",
        "elif(c == 'B'):\n",
        "    print('Good')\n",
        "elif(c == 'C'):\n",
        "    print('Usually')\n",
        "elif(c == 'D'):\n",
        "    print('Effort')\n",
        "else:\n",
        "    print('Failure')"
      ],
      "metadata": {
        "id": "v_pMy8OT_p5s"
      },
      "execution_count": null,
      "outputs": []
    },
    {
      "cell_type": "markdown",
      "source": [
        "살 수 있는 물건 2\n",
        "- https://inha.codetree.ai/missions/4/problems/things-able-to-buy-2/description"
      ],
      "metadata": {
        "id": "QAsH451nABwZ"
      }
    },
    {
      "cell_type": "code",
      "source": [
        "n = int(input())\n",
        "if(n >= 3000):\n",
        "    print('book')\n",
        "elif(n >= 1000):\n",
        "    print('mask')\n",
        "elif(n >= 500):\n",
        "    print('pen')\n",
        "else:\n",
        "    print('no')"
      ],
      "metadata": {
        "id": "xHuS40YvARFN"
      },
      "execution_count": null,
      "outputs": []
    }
  ]
}