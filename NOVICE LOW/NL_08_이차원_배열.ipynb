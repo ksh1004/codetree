{
  "nbformat": 4,
  "nbformat_minor": 0,
  "metadata": {
    "colab": {
      "provenance": []
    },
    "kernelspec": {
      "name": "python3",
      "display_name": "Python 3"
    },
    "language_info": {
      "name": "python"
    }
  },
  "cells": [
    {
      "cell_type": "markdown",
      "source": [
        "# 2차원 배열 입력"
      ],
      "metadata": {
        "id": "hU55e2YFGHph"
      }
    },
    {
      "cell_type": "markdown",
      "source": [
        "배열의 합\n",
        "- https://inha.codetree.ai/missions/4/problems/sum-of-array/description"
      ],
      "metadata": {
        "id": "nlvpgZ69GLcw"
      }
    },
    {
      "cell_type": "code",
      "execution_count": null,
      "metadata": {
        "id": "M5--nbKHGBor"
      },
      "outputs": [],
      "source": [
        "li = []\n",
        "for i in range(4):\n",
        "    num_list = list(map(int, input().split()))\n",
        "    li.append(num_list)\n",
        "\n",
        "for i in range(4):\n",
        "    sum = 0\n",
        "    for j in range(4):\n",
        "        sum += li[i][j]\n",
        "    print(sum)"
      ]
    },
    {
      "cell_type": "markdown",
      "source": [
        "대문자로 바꾸기\n",
        "- https://inha.codetree.ai/missions/4/problems/change-to-capital/description"
      ],
      "metadata": {
        "id": "U4oEC-sNGxZs"
      }
    },
    {
      "cell_type": "code",
      "source": [
        "str_list = []\n",
        "for i in range(5):\n",
        "    li = list(input().split())\n",
        "    str_list.append(li)\n",
        "for i in range(5):\n",
        "    for j in range(3):\n",
        "        str_value = str_list[i][j].upper()\n",
        "        print(str_value, end = ' ')\n",
        "    print()"
      ],
      "metadata": {
        "id": "MEUiLCygG1ga"
      },
      "execution_count": null,
      "outputs": []
    },
    {
      "cell_type": "markdown",
      "source": [
        "배열의 평균\n",
        "- https://inha.codetree.ai/missions/4/problems/ave-of-array/description"
      ],
      "metadata": {
        "id": "XgN2ygpiHdjt"
      }
    },
    {
      "cell_type": "code",
      "source": [
        "num_list = []\n",
        "for i in range(2):\n",
        "    num = list(map(int, input().split()))\n",
        "    num_list.append(num)\n",
        "row_sum = [num_list[0], num_list[1]]\n",
        "col_sum = [num_list[0][0] + num_list[1][0], num_list[0][1] + num_list[1][1],\n",
        "num_list[0][2] + num_list[1][2], num_list[0][3] + num_list[1][3]]\n",
        "total_sum = sum(num_list[0] + num_list[1])\n",
        "print(f'{sum(row_sum[0]) / 4:.1f} {sum(row_sum[1]) / 4:.1f}')\n",
        "print(f'{col_sum[0] / 2:.1f} {col_sum[1] / 2:.1f} {col_sum[2] / 2:.1f} {col_sum[3] / 2:.1f}')\n",
        "print(f'{total_sum / 8:.1f}')"
      ],
      "metadata": {
        "id": "FSRIvfwXJ24T"
      },
      "execution_count": null,
      "outputs": []
    },
    {
      "cell_type": "code",
      "source": [
        "# 예시 답안\n",
        "# 2차원 배열을 구현해 각 줄마다 정수를 입력\n",
        "num_list = []\n",
        "for i in range(2):\n",
        "    num = list(map(int, input().split()))\n",
        "    num_list.append(num)\n",
        "\n",
        "# 가로 평균을 출력\n",
        "for i in range(2):\n",
        "\tsum_val = 0\n",
        "\tfor j in range(4):\n",
        "\t\tsum_val += num_list[i][j]\n",
        "\tprint(f\"{sum_val / 4:.1f}\", end=\" \")\n",
        "print()\n",
        "\n",
        "# 세로 평균을 출력\n",
        "for j in range(4):\n",
        "\tsum_val = 0\n",
        "\tfor i in range(2):\n",
        "\t\tsum_val += num_list[i][j]\n",
        "\tprint(f\"{sum_val / 2:.1f}\", end=\" \")\n",
        "print()\n",
        "\n",
        "# 전체 평균을 출력\n",
        "sum_val = 0\n",
        "for i in range(4):\n",
        "\tfor j in range(2):\n",
        "\t\tsum_val += num_list[j][i]\n",
        "print(f\"{sum_val / 8:.1f}\")"
      ],
      "metadata": {
        "id": "XoiZMlgmJ3c2"
      },
      "execution_count": null,
      "outputs": []
    },
    {
      "cell_type": "markdown",
      "source": [
        "출력결과 11\n",
        "- https://inha.codetree.ai/missions/4/problems/reading-k201531/description"
      ],
      "metadata": {
        "id": "YjnSFCJWKXPW"
      }
    },
    {
      "cell_type": "code",
      "source": [
        "arr = [[1, 2, 3],\n",
        "       [4, 5, 6],\n",
        "       [7, 8, 9]]\n",
        "\n",
        "for i in range(3):\n",
        "    for j in range(3):\n",
        "        print(arr[2-j][i], end = ' ')\n",
        "    print()\n",
        "\n",
        "\n",
        "출력결과\n",
        "7 4 1\n",
        "8 5 2\n",
        "9 6 3"
      ],
      "metadata": {
        "id": "qEHLJChyKYgA"
      },
      "execution_count": null,
      "outputs": []
    },
    {
      "cell_type": "markdown",
      "source": [
        "출력결과 38\n",
        "- https://inha.codetree.ai/missions/4/problems/reading-k201650/description"
      ],
      "metadata": {
        "id": "2sk5uHEkKh4N"
      }
    },
    {
      "cell_type": "code",
      "source": [
        "arr = [[0, 0, 1],\n",
        "       [1, 0, 0],\n",
        "       [0, 1, 0]]\n",
        "\n",
        "for k in range(3):\n",
        "    for i in range(3):\n",
        "        for j in range(3):\n",
        "            if arr[i][k] and arr[k][j]:\n",
        "                arr[i][j] = 1\n",
        "\n",
        "result = 0\n",
        "for i in range(3):\n",
        "    result += sum(arr[i])\n",
        "print(result)\n",
        "# 출력결과\n",
        "# 9"
      ],
      "metadata": {
        "id": "SgiOs226KkEF"
      },
      "execution_count": null,
      "outputs": []
    },
    {
      "cell_type": "markdown",
      "source": [
        "특정 원소들의 합\n",
        "- https://inha.codetree.ai/missions/4/problems/sum-of-specific-elements/description"
      ],
      "metadata": {
        "id": "2U6x8H86KsFO"
      }
    },
    {
      "cell_type": "code",
      "source": [
        "num_list = []\n",
        "for i in range(4):\n",
        "    num = list(map(int, input().split()))\n",
        "    num_list.append(num)\n",
        "\n",
        "sum_value = 0\n",
        "for i in range(4):\n",
        "    for j in range(0, i + 1):\n",
        "        sum_value += num_list[i][j]\n",
        "\n",
        "print(sum_value)"
      ],
      "metadata": {
        "id": "0dOp5q-dKtEg"
      },
      "execution_count": null,
      "outputs": []
    },
    {
      "cell_type": "markdown",
      "source": [
        "# 새로운 2차원 배열의 선언"
      ],
      "metadata": {
        "id": "sbubzl1ELZDW"
      }
    },
    {
      "cell_type": "markdown",
      "source": [
        "숫자 직사각형\n",
        "- https://inha.codetree.ai/missions/4/problems/rectangle-of-numbers/description"
      ],
      "metadata": {
        "id": "hlXN2jtGLcNW"
      }
    },
    {
      "cell_type": "code",
      "source": [
        "n, m = map(int, input().split())\n",
        "num_list = []\n",
        "cnt = 1\n",
        "for i in range(n):\n",
        "    num = []\n",
        "    for j in range(m):\n",
        "        num.append(cnt)\n",
        "        cnt += 1\n",
        "    num_list.append(num)\n",
        "\n",
        "for i in range(n):\n",
        "    for j in range(m):\n",
        "        print(num_list[i][j], end = ' ')\n",
        "    print()"
      ],
      "metadata": {
        "id": "123ELgbnLeNV"
      },
      "execution_count": null,
      "outputs": []
    },
    {
      "cell_type": "markdown",
      "source": [
        "두 배열의 곱\n",
        "- https://inha.codetree.ai/missions/4/problems/multiple-of-two-arrays/description"
      ],
      "metadata": {
        "id": "nRBKWU-kMQTC"
      }
    },
    {
      "cell_type": "code",
      "source": [
        "num_list1 = []\n",
        "num_list2 = []\n",
        "\n",
        "for i in range(3):\n",
        "    num = list(map(int, input().split()))\n",
        "    num_list1.append(num)\n",
        "num = input() # 줄 간격(공백) 입력\n",
        "for i in range(3):\n",
        "    num = list(map(int, input().split()))\n",
        "    num_list2.append(num)\n",
        "\n",
        "for i in range(3):\n",
        "    for j in range(3):\n",
        "        num = num_list1[i][j] * num_list2[i][j]\n",
        "        print(num, end = ' ')\n",
        "    print()"
      ],
      "metadata": {
        "id": "HcbPdw5hMjDT"
      },
      "execution_count": null,
      "outputs": []
    },
    {
      "cell_type": "markdown",
      "source": [
        "두 개의 격자 비교하기\n",
        "- https://inha.codetree.ai/missions/4/problems/compare-two-grid/description"
      ],
      "metadata": {
        "id": "orfFjo_FNH88"
      }
    },
    {
      "cell_type": "code",
      "source": [
        "n, m = map(int, input().split())\n",
        "num_list1 = []\n",
        "num_list2 = []\n",
        "\n",
        "for i in range(n):\n",
        "    num = list(map(int, input().split()))\n",
        "    num_list1.append(num)\n",
        "\n",
        "for i in range(n):\n",
        "    num = list(map(int, input().split()))\n",
        "    num_list2.append(num)\n",
        "\n",
        "for i in range(n):\n",
        "    for j in range(m):\n",
        "        if(num_list1[i][j] != num_list2[i][j]):\n",
        "            print(1, end = ' ')\n",
        "        else:\n",
        "            print(0, end = ' ')\n",
        "    print()"
      ],
      "metadata": {
        "id": "e9UZwNZ3NKH1"
      },
      "execution_count": null,
      "outputs": []
    },
    {
      "cell_type": "markdown",
      "source": [
        "# 2차원 배열과 패턴"
      ],
      "metadata": {
        "id": "F3e3oP1oN8lm"
      }
    },
    {
      "cell_type": "markdown",
      "source": [
        "아래로 사각형 채우기\n",
        "- https://inha.codetree.ai/missions/4/problems/filling-rectangle-with-downflow/description"
      ],
      "metadata": {
        "id": "Q-jsH4wcOAm1"
      }
    },
    {
      "cell_type": "code",
      "source": [
        "n = int(input())\n",
        "for i in range(1, n + 1):\n",
        "    for j in range(n):\n",
        "        num = i + j * n\n",
        "        print(num, end = ' ')\n",
        "    print()"
      ],
      "metadata": {
        "id": "8vLNxmQROCab"
      },
      "execution_count": null,
      "outputs": []
    },
    {
      "cell_type": "markdown",
      "source": [
        "지그재그로 숫자 채우기\n",
        "- https://inha.codetree.ai/missions/4/problems/zigzag-numbering/description"
      ],
      "metadata": {
        "id": "d3Jj4KUqOiwR"
      }
    },
    {
      "cell_type": "code",
      "source": [
        "n, m = map(int, input().split())\n",
        "cnt = 0\n",
        "num_list = [[0 for _ in range(m)] for _ in range(n)] # 0으로 초기화한 n * m 크기의 리스트 생성\n",
        "\n",
        "cnt = 0\n",
        "\n",
        "for i in range(m):\n",
        "    if i % 2 == 0: # 열이 짝수면\n",
        "        for j in range(n): # 한 칸씩 올라가며 수를 채운다.\n",
        "            num_list[j][i] = cnt\n",
        "            cnt += 1\n",
        "    else: # 열이 홀수면\n",
        "        for j in range(n - 1, -1, -1): # 한 칸씩 내려가며 수를 채운다.\n",
        "            num_list[j][i] = cnt\n",
        "            cnt += 1\n",
        "\n",
        "# 출력\n",
        "for i in range(n):\n",
        "    for j in range(m):\n",
        "        print(num_list[i][j], end = ' ')\n",
        "    print()"
      ],
      "metadata": {
        "id": "UfGjEarfOnY-"
      },
      "execution_count": null,
      "outputs": []
    },
    {
      "cell_type": "markdown",
      "source": [
        "대각선으로 숫자 채우기\n",
        "- https://inha.codetree.ai/missions/4/problems/diagonal-numbering/description"
      ],
      "metadata": {
        "id": "tczRrLclSqry"
      }
    },
    {
      "cell_type": "code",
      "source": [
        "n, m = map(int, input().split())\n",
        "num_list = [[0 for _ in range(m)] for _ in range(n)] # 0으로 초기화한 n * m 크기의 리스트 생성\n",
        "cnt = 1\n",
        "\n",
        "for i in range(m):\n",
        "    cur_row = 0 # 현재 행 값은 0\n",
        "    cur_col = i # 현재 열 값은 i\n",
        "\n",
        "    while 0 <= cur_col and cur_row < n: # 왼쪽 위부터 오른쪽 아래로 순회\n",
        "        num_list[cur_row][cur_col] = cnt\n",
        "        cur_row += 1\n",
        "        cur_col -= 1\n",
        "        cnt += 1\n",
        "# (0, m - 1)이 시작점으로 잡게 되는 순간까지 위의 for문 반복\n",
        "# 이후에는 (1, m - 1) 부터 (n -1, m - 1) 까지 반복\n",
        "for i in range(1, n):\n",
        "    cur_row = i\n",
        "    cur_col = m - 1\n",
        "\n",
        "    while 0 <= cur_col and cur_row < n:\n",
        "        num_list[cur_row][cur_col] = cnt\n",
        "        cur_row += 1\n",
        "        cur_col -= 1\n",
        "        cnt += 1\n",
        "# 출력\n",
        "for i in range(n):\n",
        "    for j in range(m):\n",
        "        print(num_list[i][j], end = ' ')\n",
        "    print()"
      ],
      "metadata": {
        "id": "kPhIcpyhSuwA"
      },
      "execution_count": null,
      "outputs": []
    }
  ]
}