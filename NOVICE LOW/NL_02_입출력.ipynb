{
  "nbformat": 4,
  "nbformat_minor": 0,
  "metadata": {
    "colab": {
      "provenance": []
    },
    "kernelspec": {
      "name": "python3",
      "display_name": "Python 3"
    },
    "language_info": {
      "name": "python"
    }
  },
  "cells": [
    {
      "cell_type": "markdown",
      "source": [
        "# 정수 입력"
      ],
      "metadata": {
        "id": "G82YaEXZGGLE"
      }
    },
    {
      "cell_type": "markdown",
      "source": [
        "입력받아 계산\n",
        "- https://inha.codetree.ai/missions/4/problems/input-calculate/description"
      ],
      "metadata": {
        "id": "13sItpLHGJL2"
      }
    },
    {
      "cell_type": "code",
      "execution_count": null,
      "metadata": {
        "id": "huONDLMqFpTE"
      },
      "outputs": [],
      "source": [
        "a = int(input())\n",
        "print(a + 2)"
      ]
    },
    {
      "cell_type": "markdown",
      "source": [
        "점수 입출력\n",
        "- https://inha.codetree.ai/missions/4/problems/enter-int-and-print-score/description"
      ],
      "metadata": {
        "id": "PJuFrfL4GXEl"
      }
    },
    {
      "cell_type": "code",
      "source": [
        "a = int(input())\n",
        "print(f'Your score is {a} point.')"
      ],
      "metadata": {
        "id": "m4kMCbN6Go8H"
      },
      "execution_count": null,
      "outputs": []
    },
    {
      "cell_type": "markdown",
      "source": [
        "입력받아 계산 4\n",
        "- https://inha.codetree.ai/missions/4/problems/input-calculate-4/description"
      ],
      "metadata": {
        "id": "W1J-gjHiGrEI"
      }
    },
    {
      "cell_type": "code",
      "source": [
        "a = int(input())\n",
        "print(a * 2)"
      ],
      "metadata": {
        "id": "yMBs3rWNGqq_"
      },
      "execution_count": null,
      "outputs": []
    },
    {
      "cell_type": "markdown",
      "source": [
        "정수 입력받아 계산\n",
        "- https://inha.codetree.ai/missions/4/problems/calculation-by-inputting-an-integer/description"
      ],
      "metadata": {
        "id": "gMChHSLiG1t2"
      }
    },
    {
      "cell_type": "code",
      "source": [
        "a = int(input())\n",
        "print(a * 2 + 3)"
      ],
      "metadata": {
        "id": "dojBvbs5G6mc"
      },
      "execution_count": null,
      "outputs": []
    },
    {
      "cell_type": "markdown",
      "source": [
        "# 실수 입력"
      ],
      "metadata": {
        "id": "h5HZO-mwG--s"
      }
    },
    {
      "cell_type": "markdown",
      "source": [
        "실수 받아 그대로 출력\n",
        "- https://inha.codetree.ai/missions/4/problems/enter-real-value-and-print/description"
      ],
      "metadata": {
        "id": "xxf6iuR8HDqs"
      }
    },
    {
      "cell_type": "code",
      "source": [
        "n = float(input())\n",
        "print(f'{n:.2f}')"
      ],
      "metadata": {
        "id": "7Km-v-0-HGdG"
      },
      "execution_count": null,
      "outputs": []
    },
    {
      "cell_type": "markdown",
      "source": [
        "길이 단위 환산하기\n",
        "- https://inha.codetree.ai/missions/4/problems/convert-length-units/description"
      ],
      "metadata": {
        "id": "sdTNtKEBHNLi"
      }
    },
    {
      "cell_type": "code",
      "source": [
        "num = 30.48\n",
        "n = float(input())\n",
        "print(f'{num*n:.1f}')"
      ],
      "metadata": {
        "id": "-jIuJieuHR-J"
      },
      "execution_count": null,
      "outputs": []
    },
    {
      "cell_type": "markdown",
      "source": [
        "실수 입력받아 계산 2\n",
        "- https://inha.codetree.ai/missions/4/problems/calculation-by-inputting-a-real-number-2/description"
      ],
      "metadata": {
        "id": "BpbIrDJVHhnp"
      }
    },
    {
      "cell_type": "code",
      "source": [
        "a = float(input())\n",
        "print(f'{a+1.5:.2f}')"
      ],
      "metadata": {
        "id": "82Arxu5iHjLq"
      },
      "execution_count": null,
      "outputs": []
    },
    {
      "cell_type": "markdown",
      "source": [
        "# 공백을 사이에 두고 입력\n",
        "- split()이라는 함수를 사용"
      ],
      "metadata": {
        "id": "WN25t0G6Hvdm"
      }
    },
    {
      "cell_type": "markdown",
      "source": [
        "입력받아 계산 2\n",
        "- https://inha.codetree.ai/missions/4/problems/input-calculate-2/description"
      ],
      "metadata": {
        "id": "boCYukdqHzSm"
      }
    },
    {
      "cell_type": "code",
      "source": [
        "a, b = map(int, input().split())\n",
        "print(a * b)"
      ],
      "metadata": {
        "id": "I66kkZVjIADs"
      },
      "execution_count": null,
      "outputs": []
    },
    {
      "cell_type": "markdown",
      "source": [
        "입력받아 계산 5\n",
        "- https://inha.codetree.ai/missions/4/problems/input-calculate-5/description"
      ],
      "metadata": {
        "id": "PMniItMkIF6M"
      }
    },
    {
      "cell_type": "code",
      "source": [
        "a, b = map(int, input().split())\n",
        "print(a+b)"
      ],
      "metadata": {
        "id": "ymSjlg-tIOmp"
      },
      "execution_count": null,
      "outputs": []
    },
    {
      "cell_type": "markdown",
      "source": [
        "입력받은 값 교체하기\n",
        "- https://inha.codetree.ai/missions/4/problems/changing-inputs/description"
      ],
      "metadata": {
        "id": "70TNPOQfIP2q"
      }
    },
    {
      "cell_type": "code",
      "source": [
        "a, b = map(int, input().split())\n",
        "a, b = b, a\n",
        "print(a, b)"
      ],
      "metadata": {
        "id": "ubslNQdeIagm"
      },
      "execution_count": null,
      "outputs": []
    },
    {
      "cell_type": "markdown",
      "source": [
        "입력받은 값과 합 출력\n",
        "- https://inha.codetree.ai/missions/4/problems/output-of-value-and-sum/description"
      ],
      "metadata": {
        "id": "gPehjc-3IdKW"
      }
    },
    {
      "cell_type": "code",
      "source": [
        "a, b = map(int, input().split())\n",
        "print(a, b, a + b)"
      ],
      "metadata": {
        "id": "IvfR6CXwIerg"
      },
      "execution_count": null,
      "outputs": []
    },
    {
      "cell_type": "markdown",
      "source": [
        "# 2개의 줄에 걸쳐 입력"
      ],
      "metadata": {
        "id": "6NCFS8mcIsrv"
      }
    },
    {
      "cell_type": "markdown",
      "source": [
        "입력받아 계산 3\n",
        "- https://inha.codetree.ai/missions/4/problems/input-calculate-3/description"
      ],
      "metadata": {
        "id": "xluQLg2mIkqm"
      }
    },
    {
      "cell_type": "code",
      "source": [
        "a = int(input())\n",
        "b = int(input())\n",
        "print(a * b)"
      ],
      "metadata": {
        "id": "crHZlvh7IvGD"
      },
      "execution_count": null,
      "outputs": []
    },
    {
      "cell_type": "markdown",
      "source": [
        "입력받아 출력\n",
        "- https://inha.codetree.ai/missions/4/problems/input-and-output/description"
      ],
      "metadata": {
        "id": "hHA7iKOII25K"
      }
    },
    {
      "cell_type": "code",
      "source": [
        "a = int(input())\n",
        "b = int(input())\n",
        "print(a, b)"
      ],
      "metadata": {
        "id": "99BstizNI4A8"
      },
      "execution_count": null,
      "outputs": []
    },
    {
      "cell_type": "markdown",
      "source": [
        "실수 입력받아 계산\n",
        "- https://inha.codetree.ai/missions/4/problems/calculation-by-inputting-a-real-number/description"
      ],
      "metadata": {
        "id": "qn5U7yz2I-1q"
      }
    },
    {
      "cell_type": "code",
      "source": [
        "a = float(input())\n",
        "b = float(input())\n",
        "print(f'{a + b:.2f}')"
      ],
      "metadata": {
        "id": "2-0t2BZGJC2R"
      },
      "execution_count": null,
      "outputs": []
    },
    {
      "cell_type": "markdown",
      "source": [
        "세 실수의 반올림\n",
        "- https://inha.codetree.ai/missions/4/problems/rounding-of-three-actual-numbers/description"
      ],
      "metadata": {
        "id": "W5LrXVG8JK9Y"
      }
    },
    {
      "cell_type": "code",
      "source": [
        "a = float(input())\n",
        "b = float(input())\n",
        "c = float(input())\n",
        "print(f'{a:.3f}')\n",
        "print(f'{b:.3f}')\n",
        "print(f'{c:.3f}')\n",
        "# 또는 출력 부분을 이렇게도 작성 가능하다\n",
        "print(f\"{a:.3f}\\n{b:.3f}\\n{c:.3f}\")\n",
        "print('%.3f\\n%.3f\\n%.3f' % (a, b, c))"
      ],
      "metadata": {
        "id": "4DSu4LsSJmBW"
      },
      "execution_count": null,
      "outputs": []
    },
    {
      "cell_type": "markdown",
      "source": [
        "정수 세 개 입력받아 출력\n",
        "- https://inha.codetree.ai/missions/4/problems/take-three-integers-and-output/description"
      ],
      "metadata": {
        "id": "ePR2s45RJld-"
      }
    },
    {
      "cell_type": "code",
      "source": [
        "a, b = map(int, input().split())\n",
        "c = int(input())\n",
        "print(a, b, c)"
      ],
      "metadata": {
        "id": "vnGhgqhKKCuq"
      },
      "execution_count": null,
      "outputs": []
    },
    {
      "cell_type": "markdown",
      "source": [
        "# 문자, 문자열 입력"
      ],
      "metadata": {
        "id": "yRnCcEvwKOIf"
      }
    },
    {
      "cell_type": "markdown",
      "source": [
        "문자 받아 출력\n",
        "- https://inha.codetree.ai/missions/4/problems/enter-char-and-print/description"
      ],
      "metadata": {
        "id": "uuF5S06HKPuI"
      }
    },
    {
      "cell_type": "code",
      "source": [
        "a = input()\n",
        "print(a)"
      ],
      "metadata": {
        "id": "1us7j9AUKSwn"
      },
      "execution_count": null,
      "outputs": []
    },
    {
      "cell_type": "markdown",
      "source": [
        "문자열 입력\n",
        "- https://inha.codetree.ai/missions/4/problems/enter-word-and-print/description"
      ],
      "metadata": {
        "id": "7J7LHx4wKXAm"
      }
    },
    {
      "cell_type": "code",
      "source": [
        "s = input()\n",
        "print(s)"
      ],
      "metadata": {
        "id": "aDg134BLan2N"
      },
      "execution_count": null,
      "outputs": []
    },
    {
      "cell_type": "markdown",
      "source": [
        "실수와 문자 받아 출력하기\n",
        "- https://inha.codetree.ai/missions/4/problems/print-number--and-letter/description"
      ],
      "metadata": {
        "id": "n3MujklXauhj"
      }
    },
    {
      "cell_type": "code",
      "source": [
        "c = input()\n",
        "a = float(input())\n",
        "b = float(input())\n",
        "print(c)\n",
        "print(f'{a:.2f}')\n",
        "print(f'{b:.2f}')"
      ],
      "metadata": {
        "id": "f7ZhhNdHazvt"
      },
      "execution_count": null,
      "outputs": []
    },
    {
      "cell_type": "markdown",
      "source": [
        "문자열 순서 바꾸기\n",
        "- https://inha.codetree.ai/missions/4/problems/change-order-of-strings/description"
      ],
      "metadata": {
        "id": "0XYgKq0obEmc"
      }
    },
    {
      "cell_type": "code",
      "source": [
        "t = input()\n",
        "s = input()\n",
        "print(s)\n",
        "print(t)"
      ],
      "metadata": {
        "id": "vYwmI9IybKj0"
      },
      "execution_count": null,
      "outputs": []
    },
    {
      "cell_type": "markdown",
      "source": [
        "# 특정 문자를 사이에 두고 입력"
      ],
      "metadata": {
        "id": "CKiFt4xabVws"
      }
    },
    {
      "cell_type": "markdown",
      "source": [
        "1시간 뒤 시간 출력\n",
        "- https://inha.codetree.ai/missions/4/problems/print-one-hour-later/description"
      ],
      "metadata": {
        "id": "ItFLVZmjbW17"
      }
    },
    {
      "cell_type": "code",
      "source": [
        "h, m = input().split(\":\")\n",
        "h = int(h)\n",
        "print(f'{h+1}:{m}')"
      ],
      "metadata": {
        "id": "eB3o_w0dbWa1"
      },
      "execution_count": null,
      "outputs": []
    },
    {
      "cell_type": "markdown",
      "source": [
        "날짜 변경하여 출력 2\n",
        "- https://inha.codetree.ai/missions/4/problems/print-date-with-different-format-2/description"
      ],
      "metadata": {
        "id": "Qb5Hl5dWbrn_"
      }
    },
    {
      "cell_type": "code",
      "source": [
        "m, d, y = input().split('-')\n",
        "print(f'{y}.{m}.{d}')"
      ],
      "metadata": {
        "id": "iQqiz78wbwpm"
      },
      "execution_count": null,
      "outputs": []
    },
    {
      "cell_type": "markdown",
      "source": [
        "입력받아 출력 2\n",
        "- https://inha.codetree.ai/missions/4/problems/input-and-output-2/description"
      ],
      "metadata": {
        "id": "T67SzpO6cBDO"
      }
    },
    {
      "cell_type": "code",
      "source": [
        "first, second = input().split(\"-\")\n",
        "print(f'{first}{second}')"
      ],
      "metadata": {
        "id": "UuAmZ8nycFOO"
      },
      "execution_count": null,
      "outputs": []
    },
    {
      "cell_type": "markdown",
      "source": [
        "날짜 변경하여 출력\n",
        "- https://inha.codetree.ai/missions/4/problems/print-date-with-different-format/description"
      ],
      "metadata": {
        "id": "FLmA_5jqcX0v"
      }
    },
    {
      "cell_type": "code",
      "source": [
        "y, m, d = input().split(\".\")\n",
        "print(f'{m}-{d}-{y}')"
      ],
      "metadata": {
        "id": "F6u-zE72cXli"
      },
      "execution_count": null,
      "outputs": []
    },
    {
      "cell_type": "markdown",
      "source": [
        "전화번호 바꾸기\n",
        "- https://inha.codetree.ai/missions/4/problems/change-phone-number/description"
      ],
      "metadata": {
        "id": "lTFWY4b3cpX3"
      }
    },
    {
      "cell_type": "code",
      "source": [
        "f, s, t = input().split('-')\n",
        "print(f'{f}-{t}-{s}')"
      ],
      "metadata": {
        "id": "JQbetLPKdB2b"
      },
      "execution_count": null,
      "outputs": []
    }
  ]
}