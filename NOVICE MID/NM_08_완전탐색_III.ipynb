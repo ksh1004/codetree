{
  "nbformat": 4,
  "nbformat_minor": 0,
  "metadata": {
    "colab": {
      "provenance": []
    },
    "kernelspec": {
      "name": "python3",
      "display_name": "Python 3"
    },
    "language_info": {
      "name": "python"
    }
  },
  "cells": [
    {
      "cell_type": "markdown",
      "source": [
        "야바위\n",
        "- https://inha.codetree.ai/ko/trails/complete/curated-cards/intro-ya-rock/introduction"
      ],
      "metadata": {
        "id": "RElcz34dONAw"
      }
    },
    {
      "cell_type": "code",
      "execution_count": null,
      "metadata": {
        "id": "S42iKxYFOHrY"
      },
      "outputs": [],
      "source": [
        "N = int(input())\n",
        "change_list = [] # 조약돌 바꾸는 과정을 저장하는 리스트\n",
        "chosen_list = [0] * (4) # 조약돌이 들어있는지 유무 파악 리스트\n",
        "max_cnt = 0\n",
        "for i in range(N): # a, b, c 입력\n",
        "    a, b, c = map(int, input().split())\n",
        "    change_list.append([a, b, c])\n",
        "\n",
        "for i in range(1, 4):\n",
        "    chosen_list[i] = 1\n",
        "    cnt = 0\n",
        "    for j in range(N):\n",
        "        # 조약돌 바꾸기\n",
        "        chosen_list[change_list[j][0]], chosen_list[change_list[j][1]] = chosen_list[change_list[j][1]], chosen_list[change_list[j][0]]\n",
        "        # 조약돌이 들어있으면 cnt 1 증가\n",
        "        if(chosen_list[change_list[j][2]]):\n",
        "            cnt += 1\n",
        "    max_cnt = max(max_cnt, cnt)\n",
        "    # chosen_list 초기화\n",
        "    chosen_list = [0] * (4)\n",
        "\n",
        "print(max_cnt)\n"
      ]
    },
    {
      "cell_type": "code",
      "source": [
        "# 코드 리팩토링\n",
        "from typing import List, Tuple\n",
        "\n",
        "def simulate_game(swaps: List[Tuple[int, int, int]], start_position: int) -> int:\n",
        "    \"\"\"주어진 시작 위치에서 조약돌 찾기 게임을 시뮬레이션\"\"\"\n",
        "    has_pebble = [0] * 4  # 1~3번 인덱스 사용\n",
        "    has_pebble[start_position] = 1\n",
        "    score = 0\n",
        "\n",
        "    for a, b, guess in swaps:\n",
        "        # 조약돌 위치 바꾸기\n",
        "        has_pebble[a], has_pebble[b] = has_pebble[b], has_pebble[a]\n",
        "        # 조약돌이 있다면 점수 +1\n",
        "        if has_pebble[guess]:\n",
        "            score += 1\n",
        "\n",
        "    return score\n",
        "\n",
        "def main():\n",
        "    N = int(input())\n",
        "    swaps: List[Tuple[int, int, int]] = [tuple(map(int, input().split())) for _ in range(N)]\n",
        "\n",
        "    max_score = 0\n",
        "    for start_position in range(1, 4):  # 조약돌을 1, 2, 3번 위치에 놓아보기\n",
        "        score = simulate_game(swaps, start_position)\n",
        "        max_score = max(max_score, score)\n",
        "\n",
        "    print(max_score)\n",
        "\n",
        "if __name__ == \"__main__\":\n",
        "    main()\n"
      ],
      "metadata": {
        "id": "Ex85mHXrSxVj"
      },
      "execution_count": null,
      "outputs": []
    },
    {
      "cell_type": "markdown",
      "source": [
        "숫자 2배 후 하나 제거하기\n",
        "- https://inha.codetree.ai/ko/trails/complete/curated-cards/intro-multiply-two-and-remove-one-number/description"
      ],
      "metadata": {
        "id": "QqNYkIMhTfBF"
      }
    },
    {
      "cell_type": "code",
      "source": [
        "N = int(input())\n",
        "num_list = list(map(int, input().split()))\n",
        "min_total = float('inf') # 최솟값\n",
        "\n",
        "for i in range(N):\n",
        "    doubled_list = num_list[:]\n",
        "    doubled_list[i] *= 2\n",
        "    for j in range(N):\n",
        "        now_total = 0\n",
        "        temp_list = doubled_list[:j] + doubled_list[j+1:] # 하나의 숫자를 제거\n",
        "        for k in range(1, len(temp_list)):\n",
        "            val = abs(temp_list[k] - temp_list[k - 1])\n",
        "            now_total += val\n",
        "        min_total = min(min_total, now_total) # 최솟값 업데이트\n",
        "\n",
        "print(min_total) # 출력"
      ],
      "metadata": {
        "id": "nQgiFGH9TfUH"
      },
      "execution_count": null,
      "outputs": []
    },
    {
      "cell_type": "code",
      "source": [
        "from typing import List\n",
        "\n",
        "def compute_adjacent_diff_sum(numbers: List[int]) -> int:\n",
        "    \"\"\"리스트 내 인접한 수들의 차이의 합을 계산\"\"\"\n",
        "    return sum(abs(numbers[i] - numbers[i - 1]) for i in range(1, len(numbers)))\n",
        "\n",
        "def find_min_diff_after_double_and_remove(numbers: List[int]) -> int:\n",
        "    \"\"\"하나를 두 배로 만들고, 또 다른 하나를 제거했을 때 인접 차이 합의 최솟값 계산\"\"\"\n",
        "    n = len(numbers)\n",
        "    min_total = float('inf')\n",
        "\n",
        "    for i in range(n):\n",
        "        numbers[i] *= 2  # i번째 원소를 두 배로\n",
        "        for j in range(n):\n",
        "            if i == j:\n",
        "                continue  # 같은 원소를 두 배 후 제거하지 않음\n",
        "            temp_list = [numbers[k] for k in range(n) if k != j]  # j번째 원소 제거\n",
        "            diff_sum = compute_adjacent_diff_sum(temp_list)\n",
        "            min_total = min(min_total, diff_sum)\n",
        "        numbers[i] //= 2  # 원상 복구\n",
        "\n",
        "    return min_total\n",
        "\n",
        "def main():\n",
        "    n = int(input())\n",
        "    numbers = list(map(int, input().split()))\n",
        "    result = find_min_diff_after_double_and_remove(numbers)\n",
        "    print(result)\n",
        "\n",
        "if __name__ == \"__main__\":\n",
        "    main()\n"
      ],
      "metadata": {
        "id": "ON0JQlisXysP"
      },
      "execution_count": null,
      "outputs": []
    },
    {
      "cell_type": "markdown",
      "source": [
        "수를 여러번 사용하여 특정 수 만들기\n",
        "\n",
        "- https://inha.codetree.ai/ko/trails/complete/curated-cards/challenge-create-a-specific-number-using-multiple-numbers/description"
      ],
      "metadata": {
        "id": "9orYUTYzEMrn"
      }
    },
    {
      "cell_type": "code",
      "source": [
        "A, B, C = map(int, input().split())\n",
        "\n",
        "answer = 0\n",
        "\n",
        "for i in range(C // A + 1):\n",
        "    cnt = A * i # A를 i번 사용\n",
        "\n",
        "    num_B = (C - cnt) // B # 값을 최대로 하기 위해 B를 몇 번 사용해야 하는가\n",
        "\n",
        "    cnt += num_B * B\n",
        "\n",
        "    answer = max(answer, cnt)\n",
        "\n",
        "print(answer)"
      ],
      "metadata": {
        "id": "1Q2UXoMSEOdc"
      },
      "execution_count": null,
      "outputs": []
    },
    {
      "cell_type": "markdown",
      "source": [
        "3개의 선 2\n",
        "- https://inha.codetree.ai/ko/trails/complete/curated-cards/challenge-three-lines-2/description"
      ],
      "metadata": {
        "id": "Pba0JSiLEPdt"
      }
    },
    {
      "cell_type": "code",
      "source": [
        "n = int(input())\n",
        "points = [tuple(map(int, input().split())) for _ in range(n)]\n",
        "\n",
        "answer = 0\n",
        "\n",
        "for i in range(11):\n",
        "    for j in range(11):\n",
        "        for k in range(11):\n",
        "            success = True # success : 직선 3개로 모든 점을 지나게 할 수 있으면 true\n",
        "            # x축에 평행한 직선 3개로 모든 점을 지나게 할 수 있는 경우\n",
        "            for x, y in points:\n",
        "                if x == i or x == j or x == k:\n",
        "                    continue # 해당 점이 직선에 닿으면 넘어감\n",
        "                success = False\n",
        "            if(success == True):\n",
        "                answer = 1\n",
        "            # x축에 평행한 직선 2개와 y축에 평행한 직선 1개로 모든 점을 지나게 할 수 있는 경우\n",
        "            success = True\n",
        "            for x, y in points:\n",
        "                if x == i or x == j or y == k:\n",
        "                    continue # 해당 점이 직선에 닿으면 넘어감\n",
        "                success = False\n",
        "            if(success == True):\n",
        "                answer = 1\n",
        "            # x축에 평행한 직선 1개와 y축에 평행한 직선 2개로 모든 점을 지나게 할 수 있는 경우\n",
        "            success = True\n",
        "            for x, y in points:\n",
        "                if x == i or y == j or y == k:\n",
        "                    continue # 해당 점이 직선에 닿으면 넘어감\n",
        "                success = False\n",
        "            if(success == True):\n",
        "                answer = 1\n",
        "            # y축에 평행한 직선 3개로 모든 점을 지나게 할 수 있는 경우\n",
        "            success = True\n",
        "            for x, y in points:\n",
        "                if y == i or y == j or y == k:\n",
        "                    continue # 해당 점이 직선에 닿으면 넘어감\n",
        "                success = False\n",
        "            if(success == True):\n",
        "                answer = 1\n",
        "\n",
        "print(answer)"
      ],
      "metadata": {
        "id": "H22BOP_NaHvt"
      },
      "execution_count": null,
      "outputs": []
    },
    {
      "cell_type": "markdown",
      "source": [
        "좌표평면 위의 균형 2\n",
        "- https://inha.codetree.ai/ko/trails/complete/curated-cards/challenge-balance-on-coordinate-plane-2/description"
      ],
      "metadata": {
        "id": "BpwafG-yaMCN"
      }
    },
    {
      "cell_type": "code",
      "source": [
        "n = int(input())\n",
        "points = [tuple(map(int, input().split())) for _ in range(n)]\n",
        "\n",
        "# M : 가장 많은 수의 점이 있는 구역의 점의 갯수\n",
        "min_M = float('inf') # 가능한 M의 최솟값\n",
        "\n",
        "for i in range(-100, 101, 2):\n",
        "    for j in range(-100, 101, 2):\n",
        "        A1, A2, A3, A4 = 0, 0, 0, 0 # 좌표평면\n",
        "        for x,y in points:\n",
        "            if(x > i and y > j): # 1사분면에 있는 경우\n",
        "                A1 += 1\n",
        "            elif(x > i and y < j): # 4사분면에 있는 경우\n",
        "                A4 += 1\n",
        "            elif(x < i and y > j): # 2사분면에 있는 경우\n",
        "                A2 += 1\n",
        "            elif(x < i and y < j): # 3사분면에 있는 경우\n",
        "                A3 += 1\n",
        "        M = max(A1, A2, A3, A4)\n",
        "        min_M = min(min_M, M)\n",
        "\n",
        "print(min_M)"
      ],
      "metadata": {
        "id": "TRW1NNXnaNV1"
      },
      "execution_count": null,
      "outputs": []
    },
    {
      "cell_type": "markdown",
      "source": [
        "팀으로 하는 틱택토 2\n",
        "- https://inha.codetree.ai/ko/trails/complete/curated-cards/challenge-tic-tac-to-as-a-team-2/description"
      ],
      "metadata": {
        "id": "19SooEQYyS9z"
      }
    },
    {
      "cell_type": "code",
      "source": [
        "max_A = 3\n",
        "max_X = 9\n",
        "\n",
        "board = [list(map(int, input())) for _ in range(max_A)]\n",
        "\n",
        "answer = 0\n",
        "\n",
        "# 모든 쌍에 대해 전부 시도\n",
        "for i in range(1, max_X + 1):\n",
        "    for j in range(i + 1, max_X + 1):\n",
        "        # i, j 두 명이 팀이 되었을 때 이길 수 있는지 확인\n",
        "        # win : 두 명이 팀이 되었을 때 이길 수 있다면 true\n",
        "        win = False\n",
        "\n",
        "        # num_i, num_j : 각 줄에 i, j가 나오는 갯수\n",
        "        num_i, num_j = 0, 0\n",
        "        # 가로로 빙고가 만들어질 때\n",
        "        for k in range(max_A):\n",
        "            num_i, num_j = 0, 0\n",
        "            for l in range(max_A):\n",
        "                if(board[k][l] == i):\n",
        "                    num_i += 1\n",
        "                if(board[k][l] == j):\n",
        "                    num_j += 1\n",
        "            # 3개의 칸에 i, j가 총 3번 나오며, 둘 다 최소 1번 이상 나오면 승리\n",
        "            if(num_i + num_j == 3 and num_i >= 1 and num_j >= 1):\n",
        "                win = True\n",
        "        # 세로로 빙고가 만들어질 때\n",
        "        for k in range(max_A):\n",
        "            num_i, num_j = 0, 0\n",
        "            for l in range(max_A):\n",
        "                if(board[l][k] == i):\n",
        "                    num_i += 1\n",
        "                if(board[l][k] == j):\n",
        "                    num_j += 1\n",
        "            # 3개의 칸에 i, j가 총 3번 나오며, 둘 다 최소 1번 이상 나오면 승리\n",
        "            if(num_i + num_j == 3 and num_i >= 1 and num_j >= 1):\n",
        "                win = True\n",
        "        # 왼쪽 위에서 오른쪽 아래를 잇는 대각선으로 빙고가 만들어질 때\n",
        "        num_i, num_j = 0, 0\n",
        "        for k in range(max_A):\n",
        "            if(board[k][k] == i):\n",
        "                num_i += 1\n",
        "            if(board[k][k] == j):\n",
        "                num_j += 1\n",
        "        # 3개의 칸에 i, j가 총 3번 나오며, 둘 다 최소 1번 이상 나오면 승리\n",
        "        if(num_i + num_j == 3 and num_i >= 1 and num_j >= 1):\n",
        "                win = True\n",
        "        # 오른쪽 위에서 왼쪽 아래를 잇는 대각선으로 빙고가 만들어질 때\n",
        "        num_i, num_j = 0, 0\n",
        "        for k in range(max_A):\n",
        "            if(board[k][max_A - k - 1] == i):\n",
        "                num_i += 1\n",
        "            if(board[k][max_A - k - 1] == j):\n",
        "                num_j += 1\n",
        "        # 3개의 칸에 i, j가 총 3번 나오며, 둘 다 최소 1번 이상 나오면 승리\n",
        "        if(num_i + num_j == 3 and num_i >= 1 and num_j >= 1):\n",
        "                win = True\n",
        "\n",
        "        if(win):\n",
        "            answer += 1\n",
        "# 출력\n",
        "print(answer)"
      ],
      "metadata": {
        "id": "EaWnLiHfyXy6"
      },
      "execution_count": null,
      "outputs": []
    }
  ]
}