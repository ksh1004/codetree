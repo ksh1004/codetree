{
  "nbformat": 4,
  "nbformat_minor": 0,
  "metadata": {
    "colab": {
      "provenance": []
    },
    "kernelspec": {
      "name": "python3",
      "display_name": "Python 3"
    },
    "language_info": {
      "name": "python"
    }
  },
  "cells": [
    {
      "cell_type": "markdown",
      "source": [
        "야바위\n",
        "- https://inha.codetree.ai/ko/trails/complete/curated-cards/intro-ya-rock/introduction"
      ],
      "metadata": {
        "id": "RElcz34dONAw"
      }
    },
    {
      "cell_type": "code",
      "execution_count": null,
      "metadata": {
        "id": "S42iKxYFOHrY"
      },
      "outputs": [],
      "source": [
        "N = int(input())\n",
        "change_list = [] # 조약돌 바꾸는 과정을 저장하는 리스트\n",
        "chosen_list = [0] * (4) # 조약돌이 들어있는지 유무 파악 리스트\n",
        "max_cnt = 0\n",
        "for i in range(N): # a, b, c 입력\n",
        "    a, b, c = map(int, input().split())\n",
        "    change_list.append([a, b, c])\n",
        "\n",
        "for i in range(1, 4):\n",
        "    chosen_list[i] = 1\n",
        "    cnt = 0\n",
        "    for j in range(N):\n",
        "        # 조약돌 바꾸기\n",
        "        chosen_list[change_list[j][0]], chosen_list[change_list[j][1]] = chosen_list[change_list[j][1]], chosen_list[change_list[j][0]]\n",
        "        # 조약돌이 들어있으면 cnt 1 증가\n",
        "        if(chosen_list[change_list[j][2]]):\n",
        "            cnt += 1\n",
        "    max_cnt = max(max_cnt, cnt)\n",
        "    # chosen_list 초기화\n",
        "    chosen_list = [0] * (4)\n",
        "\n",
        "print(max_cnt)\n"
      ]
    },
    {
      "cell_type": "code",
      "source": [
        "# 코드 리팩토링\n",
        "from typing import List, Tuple\n",
        "\n",
        "def simulate_game(swaps: List[Tuple[int, int, int]], start_position: int) -> int:\n",
        "    \"\"\"주어진 시작 위치에서 조약돌 찾기 게임을 시뮬레이션\"\"\"\n",
        "    has_pebble = [0] * 4  # 1~3번 인덱스 사용\n",
        "    has_pebble[start_position] = 1\n",
        "    score = 0\n",
        "\n",
        "    for a, b, guess in swaps:\n",
        "        # 조약돌 위치 바꾸기\n",
        "        has_pebble[a], has_pebble[b] = has_pebble[b], has_pebble[a]\n",
        "        # 조약돌이 있다면 점수 +1\n",
        "        if has_pebble[guess]:\n",
        "            score += 1\n",
        "\n",
        "    return score\n",
        "\n",
        "def main():\n",
        "    N = int(input())\n",
        "    swaps: List[Tuple[int, int, int]] = [tuple(map(int, input().split())) for _ in range(N)]\n",
        "\n",
        "    max_score = 0\n",
        "    for start_position in range(1, 4):  # 조약돌을 1, 2, 3번 위치에 놓아보기\n",
        "        score = simulate_game(swaps, start_position)\n",
        "        max_score = max(max_score, score)\n",
        "\n",
        "    print(max_score)\n",
        "\n",
        "if __name__ == \"__main__\":\n",
        "    main()\n"
      ],
      "metadata": {
        "id": "Ex85mHXrSxVj"
      },
      "execution_count": null,
      "outputs": []
    },
    {
      "cell_type": "markdown",
      "source": [
        "숫자 2배 후 하나 제거하기\n",
        "- https://inha.codetree.ai/ko/trails/complete/curated-cards/intro-multiply-two-and-remove-one-number/description"
      ],
      "metadata": {
        "id": "QqNYkIMhTfBF"
      }
    },
    {
      "cell_type": "code",
      "source": [
        "N = int(input())\n",
        "num_list = list(map(int, input().split()))\n",
        "min_total = float('inf') # 최솟값\n",
        "\n",
        "for i in range(N):\n",
        "    doubled_list = num_list[:]\n",
        "    doubled_list[i] *= 2\n",
        "    for j in range(N):\n",
        "        now_total = 0\n",
        "        temp_list = doubled_list[:j] + doubled_list[j+1:] # 하나의 숫자를 제거\n",
        "        for k in range(1, len(temp_list)):\n",
        "            val = abs(temp_list[k] - temp_list[k - 1])\n",
        "            now_total += val\n",
        "        min_total = min(min_total, now_total) # 최솟값 업데이트\n",
        "\n",
        "print(min_total) # 출력"
      ],
      "metadata": {
        "id": "nQgiFGH9TfUH"
      },
      "execution_count": null,
      "outputs": []
    },
    {
      "cell_type": "code",
      "source": [
        "from typing import List\n",
        "\n",
        "def compute_adjacent_diff_sum(numbers: List[int]) -> int:\n",
        "    \"\"\"리스트 내 인접한 수들의 차이의 합을 계산\"\"\"\n",
        "    return sum(abs(numbers[i] - numbers[i - 1]) for i in range(1, len(numbers)))\n",
        "\n",
        "def find_min_diff_after_double_and_remove(numbers: List[int]) -> int:\n",
        "    \"\"\"하나를 두 배로 만들고, 또 다른 하나를 제거했을 때 인접 차이 합의 최솟값 계산\"\"\"\n",
        "    n = len(numbers)\n",
        "    min_total = float('inf')\n",
        "\n",
        "    for i in range(n):\n",
        "        numbers[i] *= 2  # i번째 원소를 두 배로\n",
        "        for j in range(n):\n",
        "            if i == j:\n",
        "                continue  # 같은 원소를 두 배 후 제거하지 않음\n",
        "            temp_list = [numbers[k] for k in range(n) if k != j]  # j번째 원소 제거\n",
        "            diff_sum = compute_adjacent_diff_sum(temp_list)\n",
        "            min_total = min(min_total, diff_sum)\n",
        "        numbers[i] //= 2  # 원상 복구\n",
        "\n",
        "    return min_total\n",
        "\n",
        "def main():\n",
        "    n = int(input())\n",
        "    numbers = list(map(int, input().split()))\n",
        "    result = find_min_diff_after_double_and_remove(numbers)\n",
        "    print(result)\n",
        "\n",
        "if __name__ == \"__main__\":\n",
        "    main()\n"
      ],
      "metadata": {
        "id": "ON0JQlisXysP"
      },
      "execution_count": null,
      "outputs": []
    },
    {
      "cell_type": "markdown",
      "source": [
        "수를 여러번 사용하여 특정 수 만들기\n",
        "\n",
        "- https://inha.codetree.ai/ko/trails/complete/curated-cards/challenge-create-a-specific-number-using-multiple-numbers/description"
      ],
      "metadata": {
        "id": "9orYUTYzEMrn"
      }
    },
    {
      "cell_type": "code",
      "source": [
        "A, B, C = map(int, input().split())\n",
        "\n",
        "answer = 0\n",
        "\n",
        "for i in range(C // A + 1):\n",
        "    cnt = A * i # A를 i번 사용\n",
        "\n",
        "    num_B = (C - cnt) // B # 값을 최대로 하기 위해 B를 몇 번 사용해야 하는가\n",
        "\n",
        "    cnt += num_B * B\n",
        "\n",
        "    answer = max(answer, cnt)\n",
        "\n",
        "print(answer)"
      ],
      "metadata": {
        "id": "1Q2UXoMSEOdc"
      },
      "execution_count": null,
      "outputs": []
    },
    {
      "cell_type": "markdown",
      "source": [
        "3개의 선 2\n",
        "- https://inha.codetree.ai/ko/trails/complete/curated-cards/challenge-three-lines-2/description"
      ],
      "metadata": {
        "id": "Pba0JSiLEPdt"
      }
    },
    {
      "cell_type": "code",
      "source": [
        "n = int(input())\n",
        "points = [tuple(map(int, input().split())) for _ in range(n)]\n",
        "\n",
        "answer = 0\n",
        "\n",
        "for i in range(11):\n",
        "    for j in range(11):\n",
        "        for k in range(11):\n",
        "            success = True # success : 직선 3개로 모든 점을 지나게 할 수 있으면 true\n",
        "            # x축에 평행한 직선 3개로 모든 점을 지나게 할 수 있는 경우\n",
        "            for x, y in points:\n",
        "                if x == i or x == j or x == k:\n",
        "                    continue # 해당 점이 직선에 닿으면 넘어감\n",
        "                success = False\n",
        "            if(success == True):\n",
        "                answer = 1\n",
        "            # x축에 평행한 직선 2개와 y축에 평행한 직선 1개로 모든 점을 지나게 할 수 있는 경우\n",
        "            success = True\n",
        "            for x, y in points:\n",
        "                if x == i or x == j or y == k:\n",
        "                    continue # 해당 점이 직선에 닿으면 넘어감\n",
        "                success = False\n",
        "            if(success == True):\n",
        "                answer = 1\n",
        "            # x축에 평행한 직선 1개와 y축에 평행한 직선 2개로 모든 점을 지나게 할 수 있는 경우\n",
        "            success = True\n",
        "            for x, y in points:\n",
        "                if x == i or y == j or y == k:\n",
        "                    continue # 해당 점이 직선에 닿으면 넘어감\n",
        "                success = False\n",
        "            if(success == True):\n",
        "                answer = 1\n",
        "            # y축에 평행한 직선 3개로 모든 점을 지나게 할 수 있는 경우\n",
        "            success = True\n",
        "            for x, y in points:\n",
        "                if y == i or y == j or y == k:\n",
        "                    continue # 해당 점이 직선에 닿으면 넘어감\n",
        "                success = False\n",
        "            if(success == True):\n",
        "                answer = 1\n",
        "\n",
        "print(answer)"
      ],
      "metadata": {
        "id": "H22BOP_NaHvt"
      },
      "execution_count": null,
      "outputs": []
    },
    {
      "cell_type": "markdown",
      "source": [
        "좌표평면 위의 균형 2\n",
        "- https://inha.codetree.ai/ko/trails/complete/curated-cards/challenge-balance-on-coordinate-plane-2/description"
      ],
      "metadata": {
        "id": "BpwafG-yaMCN"
      }
    },
    {
      "cell_type": "code",
      "source": [
        "n = int(input())\n",
        "points = [tuple(map(int, input().split())) for _ in range(n)]\n",
        "\n",
        "# M : 가장 많은 수의 점이 있는 구역의 점의 갯수\n",
        "min_M = float('inf') # 가능한 M의 최솟값\n",
        "\n",
        "for i in range(-100, 101, 2):\n",
        "    for j in range(-100, 101, 2):\n",
        "        A1, A2, A3, A4 = 0, 0, 0, 0 # 좌표평면\n",
        "        for x,y in points:\n",
        "            if(x > i and y > j): # 1사분면에 있는 경우\n",
        "                A1 += 1\n",
        "            elif(x > i and y < j): # 4사분면에 있는 경우\n",
        "                A4 += 1\n",
        "            elif(x < i and y > j): # 2사분면에 있는 경우\n",
        "                A2 += 1\n",
        "            elif(x < i and y < j): # 3사분면에 있는 경우\n",
        "                A3 += 1\n",
        "        M = max(A1, A2, A3, A4)\n",
        "        min_M = min(min_M, M)\n",
        "\n",
        "print(min_M)"
      ],
      "metadata": {
        "id": "TRW1NNXnaNV1"
      },
      "execution_count": null,
      "outputs": []
    },
    {
      "cell_type": "markdown",
      "source": [
        "팀으로 하는 틱택토 2\n",
        "- https://inha.codetree.ai/ko/trails/complete/curated-cards/challenge-tic-tac-to-as-a-team-2/description"
      ],
      "metadata": {
        "id": "19SooEQYyS9z"
      }
    },
    {
      "cell_type": "code",
      "source": [
        "max_A = 3\n",
        "max_X = 9\n",
        "\n",
        "board = [list(map(int, input())) for _ in range(max_A)]\n",
        "\n",
        "answer = 0\n",
        "\n",
        "# 모든 쌍에 대해 전부 시도\n",
        "for i in range(1, max_X + 1):\n",
        "    for j in range(i + 1, max_X + 1):\n",
        "        # i, j 두 명이 팀이 되었을 때 이길 수 있는지 확인\n",
        "        # win : 두 명이 팀이 되었을 때 이길 수 있다면 true\n",
        "        win = False\n",
        "\n",
        "        # num_i, num_j : 각 줄에 i, j가 나오는 갯수\n",
        "        num_i, num_j = 0, 0\n",
        "        # 가로로 빙고가 만들어질 때\n",
        "        for k in range(max_A):\n",
        "            num_i, num_j = 0, 0\n",
        "            for l in range(max_A):\n",
        "                if(board[k][l] == i):\n",
        "                    num_i += 1\n",
        "                if(board[k][l] == j):\n",
        "                    num_j += 1\n",
        "            # 3개의 칸에 i, j가 총 3번 나오며, 둘 다 최소 1번 이상 나오면 승리\n",
        "            if(num_i + num_j == 3 and num_i >= 1 and num_j >= 1):\n",
        "                win = True\n",
        "        # 세로로 빙고가 만들어질 때\n",
        "        for k in range(max_A):\n",
        "            num_i, num_j = 0, 0\n",
        "            for l in range(max_A):\n",
        "                if(board[l][k] == i):\n",
        "                    num_i += 1\n",
        "                if(board[l][k] == j):\n",
        "                    num_j += 1\n",
        "            # 3개의 칸에 i, j가 총 3번 나오며, 둘 다 최소 1번 이상 나오면 승리\n",
        "            if(num_i + num_j == 3 and num_i >= 1 and num_j >= 1):\n",
        "                win = True\n",
        "        # 왼쪽 위에서 오른쪽 아래를 잇는 대각선으로 빙고가 만들어질 때\n",
        "        num_i, num_j = 0, 0\n",
        "        for k in range(max_A):\n",
        "            if(board[k][k] == i):\n",
        "                num_i += 1\n",
        "            if(board[k][k] == j):\n",
        "                num_j += 1\n",
        "        # 3개의 칸에 i, j가 총 3번 나오며, 둘 다 최소 1번 이상 나오면 승리\n",
        "        if(num_i + num_j == 3 and num_i >= 1 and num_j >= 1):\n",
        "                win = True\n",
        "        # 오른쪽 위에서 왼쪽 아래를 잇는 대각선으로 빙고가 만들어질 때\n",
        "        num_i, num_j = 0, 0\n",
        "        for k in range(max_A):\n",
        "            if(board[k][max_A - k - 1] == i):\n",
        "                num_i += 1\n",
        "            if(board[k][max_A - k - 1] == j):\n",
        "                num_j += 1\n",
        "        # 3개의 칸에 i, j가 총 3번 나오며, 둘 다 최소 1번 이상 나오면 승리\n",
        "        if(num_i + num_j == 3 and num_i >= 1 and num_j >= 1):\n",
        "                win = True\n",
        "\n",
        "        if(win):\n",
        "            answer += 1\n",
        "# 출력\n",
        "print(answer)"
      ],
      "metadata": {
        "id": "EaWnLiHfyXy6"
      },
      "execution_count": null,
      "outputs": []
    },
    {
      "cell_type": "markdown",
      "source": [
        "등장하지 않는 문자열의 길이\n",
        "- https://inha.codetree.ai/ko/trails/complete/curated-cards/challenge-length-of-string-that-does-not-appear/description"
      ],
      "metadata": {
        "id": "5WxyAD_65Dis"
      }
    },
    {
      "cell_type": "code",
      "source": [
        "n = int(input())\n",
        "string = input()\n",
        "\n",
        "ans = 1\n",
        "\n",
        "# 1씩 늘려가면서 어느 길이까지 2번 등장하지는지 모두 시도\n",
        "for i in range(1, n):\n",
        "    # 모든 길이가 i인 부분 문자열에 대해 쌍을 짓고 둘이 완전히 똑같은지 확인\n",
        "    # twice : i 길이의 2회 이상 등장하는 부분 문자열이 존재하면 true\n",
        "    twice = False\n",
        "\n",
        "    for j in range(n - i + 1):\n",
        "        for k in range(j + 1, n - i + 1):\n",
        "            # issame : j부터 i길이의 부분 문자열과\n",
        "            # k부터 i길이의 부분 문자열이 완전히 같으면 true\n",
        "            issame = True\n",
        "            for l in range(i):\n",
        "                if string[j + l] != string[k + l]:\n",
        "                    issame = False\n",
        "            if issame:\n",
        "                twice = True\n",
        "    if twice:\n",
        "        ans = i + 1\n",
        "    else:\n",
        "        break\n",
        "\n",
        "print(ans)"
      ],
      "metadata": {
        "id": "JKwoLAyR5Ju4"
      },
      "execution_count": null,
      "outputs": []
    },
    {
      "cell_type": "markdown",
      "source": [
        "원소 값들의 최대 합\n",
        "- https://inha.codetree.ai/ko/trails/complete/curated-cards/test-maximum-sum-of-element-values/description"
      ],
      "metadata": {
        "id": "bs0SWAWB5LMo"
      }
    },
    {
      "cell_type": "code",
      "source": [
        "N, M = map(int, input().split())\n",
        "num_list = list(map(int, input().split()))\n",
        "max_val = -1\n",
        "for i in range(1, N + 1): # 시작 위치는 1부터 N까지 숫자\n",
        "    val = 0 # 값 비교를 위한 변수\n",
        "    position = i - 1 # 위치값\n",
        "    for j in range(M): # 움직임 구현\n",
        "        val += num_list[position]\n",
        "        position = num_list[position] - 1\n",
        "    # 값 비교\n",
        "    max_val = max(max_val, val)\n",
        "# 출력\n",
        "print(max_val)"
      ],
      "metadata": {
        "id": "GnFPezXf5N-f"
      },
      "execution_count": null,
      "outputs": []
    },
    {
      "cell_type": "markdown",
      "source": [
        "독서실의 거리두기 5\n",
        "- https://inha.codetree.ai/ko/trails/complete/curated-cards/intro-study-cafe-keeping-distance-5/description"
      ],
      "metadata": {
        "id": "Pjp79ZdzV9sY"
      }
    },
    {
      "cell_type": "code",
      "source": [
        "n = int(input())\n",
        "seat = list(input())\n",
        "\n",
        "def min_dist():\n",
        "    dist = n\n",
        "    # 둘 다 1인 곳에 대해 모든 쌍을 조사하여, 그 중 가장 가까운 거리를 구하기\n",
        "    for i in range(n):\n",
        "        for j in range(i + 1, n):\n",
        "            if seat[i] == '1' and seat[j] == '1':\n",
        "                dist = min(dist, j - i)\n",
        "\n",
        "    return dist\n",
        "\n",
        "ans = 0\n",
        "# 들어갈 위치를 일일이 정해보며 그 상황에서 가장 가까운 사람간의 거리를 구해 가능한 경우 중 최댓값을 계산\n",
        "for i in range(n):\n",
        "    if seat[i] == '0': # 비어있는 위치에 인원을 배치\n",
        "        seat[i] = '1' # 가장 가까운 사람간의 거리를 구해 최댓값을 갱신\n",
        "        ans = max(ans, min_dist()) # 다시 채워졌던 값을 되돌려주기\n",
        "        seat[i] = '0'\n",
        "\n",
        "print(ans)"
      ],
      "metadata": {
        "id": "GTCIqw_jV_Bg"
      },
      "execution_count": null,
      "outputs": []
    },
    {
      "cell_type": "markdown",
      "source": [
        "가장 작은 x 찾기\n",
        "- https://inha.codetree.ai/ko/trails/complete/curated-cards/intro-find-smallest-x/description"
      ],
      "metadata": {
        "id": "7FQTNBpEWHtr"
      }
    },
    {
      "cell_type": "code",
      "source": [
        "MAX_NUM = 10000\n",
        "\n",
        "# 변수 선언 및 입력:\n",
        "n = int(input())\n",
        "conditions = [\n",
        "    tuple(map(int, input().split()))\n",
        "    for _ in range(n)\n",
        "]\n",
        "\n",
        "# x에서 시작하는 것이 가능한지 판단\n",
        "def satisfy(x):\n",
        "    for a, b in conditions:\n",
        "        # 계속 2배씩 해주며 a <= x <= b를 항상 만족하는지 확인\n",
        "        # 아니라면, False를 반환\n",
        "        x *= 2\n",
        "        if x < a or x > b:\n",
        "            return False\n",
        "    return True\n",
        "\n",
        "# 가능한 모든 범위에 대해 탐색\n",
        "# 1 ~ MAX_NUM 사이가 아니라면 애초에 처음부터 불가능\n",
        "for x in range(1, MAX_NUM + 1):\n",
        "    # 만족하는 x가 있다면 해당 x가 최소이므로 출력\n",
        "    if satisfy(x):\n",
        "        print(x)\n",
        "        break"
      ],
      "metadata": {
        "id": "yaLg9aNYWJ1p"
      },
      "execution_count": null,
      "outputs": []
    },
    {
      "cell_type": "markdown",
      "source": [
        "가장 많이 나온 쌍\n",
        "- https://inha.codetree.ai/ko/trails/complete/curated-cards/intro-the-most-frequent-pair/description"
      ],
      "metadata": {
        "id": "Njx_EmbwaA3g"
      }
    },
    {
      "cell_type": "code",
      "source": [
        "n, m = map(int, input().split())\n",
        "pairs = [tuple(map(int, input().split())) for _ in range(m)]\n",
        "\n",
        "def count_num(first, second):\n",
        "    cnt = 0\n",
        "    # (first, second) 쌍이 (a, b) 혹은 (b, a)라면 그 개수를 카운트\n",
        "    for a, b in pairs:\n",
        "        if (first, second) in [(a, b), (b, a)]:\n",
        "            cnt += 1\n",
        "    return cnt\n",
        "\n",
        "ans = 0\n",
        "# 모든 쌍 (i, j)를 잡아보며 각 쌍이 몇 번씩 나왔는지를 확인하여 그 중 최댓값을 계산\n",
        "for i in range(1, n + 1):\n",
        "    for j in range(i + 1, n + 1):\n",
        "        ans = max(ans, count_num(i, j))\n",
        "print(ans)"
      ],
      "metadata": {
        "id": "rJlL5jGbbNrj"
      },
      "execution_count": null,
      "outputs": []
    },
    {
      "cell_type": "markdown",
      "source": [
        "수들의 최대 차\n",
        "- https://inha.codetree.ai/ko/trails/complete/curated-cards/intro-maximum-difference-in-numbers/description"
      ],
      "metadata": {
        "id": "UtLFudzmbR4T"
      }
    },
    {
      "cell_type": "code",
      "source": [
        "MAX_NUM = 10000\n",
        "\n",
        "n, k = tuple(map(int, input().split()))\n",
        "arr = [\n",
        "    int(input())\n",
        "    for _ in range(n)\n",
        "]\n",
        "\n",
        "# 구간 [l, r] 사이에 들어있는 숫자 개수를 반환\n",
        "def count_num(l, r):\n",
        "    cnt = 0\n",
        "    for elem in arr:\n",
        "        if l <= elem and elem <= r:\n",
        "            cnt += 1\n",
        "    return cnt\n",
        "\n",
        "ans = 0\n",
        "# 크기가 K인 모든 구간을 잡아 해당 구간 안에 들어오는 숫자의 개수를 세서 그 중 최댓값을 계산\n",
        "for i in range(1, MAX_NUM + 1):\n",
        "    # 구간 [i, i + k] 사이에 들어있는 숫자를 세어 최댓값을 계산\n",
        "    ans = max(ans, count_num(i, i + k))\n",
        "print(ans)"
      ],
      "metadata": {
        "id": "Vzdq5QdPbSO-"
      },
      "execution_count": null,
      "outputs": []
    },
    {
      "cell_type": "markdown",
      "source": [
        "훌륭한 점프\n",
        "- https://inha.codetree.ai/ko/trails/complete/curated-cards/intro-great-jump/description"
      ],
      "metadata": {
        "id": "Q9figjA0bk2E"
      }
    },
    {
      "cell_type": "code",
      "source": [
        "MAX_NUM = 100\n",
        "\n",
        "n, k = tuple(map(int, input().split()))\n",
        "arr = list(map(int, input().split()))\n",
        "\n",
        "\n",
        "def is_possible(limit):\n",
        "    # 마지막 index로 부터 숫자 limit을 넘지 않으면서 거리 k이내로 계속 이동이 가능한지를 판단\n",
        "    last_idx = 0\n",
        "    for i in range(1, n):\n",
        "        if arr[i] <= limit:\n",
        "            if i - last_idx > k:\n",
        "                return False\n",
        "            last_idx = i\n",
        "    return True\n",
        "\n",
        "# 밟으며 지나간 최댓값을 i라고 가정했을 때 거리 k 이내로 점프하며 끝까지 도달하는 것이 가능한지 확인\n",
        "# 가능하다면, 그때의 i가 최솟값이므로 답을 출력하고 종료\n",
        "for i in range(max(arr[0], arr[n - 1]), MAX_NUM + 1):\n",
        "    if is_possible(i):\n",
        "        print(i)\n",
        "        break"
      ],
      "metadata": {
        "id": "cT_04AJPbq19"
      },
      "execution_count": null,
      "outputs": []
    }
  ]
}