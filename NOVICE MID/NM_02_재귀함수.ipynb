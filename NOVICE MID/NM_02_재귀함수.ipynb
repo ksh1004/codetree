{
  "nbformat": 4,
  "nbformat_minor": 0,
  "metadata": {
    "colab": {
      "provenance": []
    },
    "kernelspec": {
      "name": "python3",
      "display_name": "Python 3"
    },
    "language_info": {
      "name": "python"
    }
  },
  "cells": [
    {
      "cell_type": "markdown",
      "source": [
        "# 값을 반환하지 않는 재귀함수"
      ],
      "metadata": {
        "id": "NzIfqFFD0kg8"
      }
    },
    {
      "cell_type": "markdown",
      "source": [
        "반복 출력하기 2\n",
        "- https://inha.codetree.ai/missions/5/problems/repeated-output-2/description"
      ],
      "metadata": {
        "id": "r2vFlhNc0n6l"
      }
    },
    {
      "cell_type": "code",
      "execution_count": null,
      "metadata": {
        "id": "VKWYkLA90iIe"
      },
      "outputs": [],
      "source": [
        "N = int(input())\n",
        "\n",
        "def func(N):\n",
        "    if(N == 0):\n",
        "        return\n",
        "    func(N - 1)\n",
        "    print('HelloWorld')\n",
        "\n",
        "func(N)"
      ]
    },
    {
      "cell_type": "markdown",
      "source": [
        "숫자 차례로 출력하기\n",
        "- https://inha.codetree.ai/missions/5/problems/to-output-numerically/description"
      ],
      "metadata": {
        "id": "KA2WTmF51hL2"
      }
    },
    {
      "cell_type": "code",
      "source": [
        "N = int(input())\n",
        "\n",
        "def func1(num):\n",
        "    if(num == 0):\n",
        "        return\n",
        "    func1(num - 1)\n",
        "    print(num, end = ' ')\n",
        "\n",
        "def func2(num1, num2):\n",
        "    if(num1 > num2):\n",
        "        return\n",
        "    func2(num1 + 1, num2)\n",
        "    print(num1, end = ' ')\n",
        "\n",
        "func1(N)\n",
        "print()\n",
        "func2(1, N)"
      ],
      "metadata": {
        "id": "ZtRJDpLN1jut"
      },
      "execution_count": null,
      "outputs": []
    },
    {
      "cell_type": "markdown",
      "source": [
        "재귀함수를 이용한 별 출력\n",
        "- https://inha.codetree.ai/missions/5/problems/star-output-with-recursive-function/description"
      ],
      "metadata": {
        "id": "5Ly2NpfH2IdY"
      }
    },
    {
      "cell_type": "code",
      "source": [
        "N = int(input())\n",
        "\n",
        "def func(num1, num2):\n",
        "    if(num1 > num2):\n",
        "        return\n",
        "    print(num1 * '*')\n",
        "    func(num1 + 1, num2)\n",
        "\n",
        "func(1, N)"
      ],
      "metadata": {
        "id": "F1-cr3GL2K3X"
      },
      "execution_count": null,
      "outputs": []
    },
    {
      "cell_type": "markdown",
      "source": [
        "출력결과 81\n",
        "- https://inha.codetree.ai/missions/5/problems/reading-k201838/description"
      ],
      "metadata": {
        "id": "LygiJlsD24ZB"
      }
    },
    {
      "cell_type": "code",
      "source": [
        "def f(a, t, l):\n",
        "    if t >= l:\n",
        "        return\n",
        "    print(a[t], end=' ')\n",
        "    f(a, t + 1, l)\n",
        "    print(a[t], end=' ')\n",
        "\n",
        "a = [0 for i in range(10)]\n",
        "a[0:9] = [1, 2, 3, 4, 5, 6, 7, 8, 9]\n",
        "n = 10\n",
        "f(a, 0, n)\n",
        "\n",
        "# 출력결과\n",
        "# 1 2 3 4 5 6 7 8 9 0 0 9 8 7 6 5 4 3 2 1"
      ],
      "metadata": {
        "id": "wZbwWE0s25Vw"
      },
      "execution_count": null,
      "outputs": []
    },
    {
      "cell_type": "markdown",
      "source": [
        "재귀함수의 꽃\n",
        "- https://inha.codetree.ai/missions/5/problems/the-flower-of-the-recursive-function/submissions"
      ],
      "metadata": {
        "id": "mDDRqWacCBfb"
      }
    },
    {
      "cell_type": "code",
      "source": [
        "N = int(input())\n",
        "\n",
        "def func(N):\n",
        "    if(N == 0):\n",
        "        return\n",
        "\n",
        "    print(N, end = ' ')\n",
        "    func(N - 1)\n",
        "    print(N, end = ' ')\n",
        "\n",
        "func(N)"
      ],
      "metadata": {
        "id": "fsPZCe8CCBur"
      },
      "execution_count": null,
      "outputs": []
    },
    {
      "cell_type": "markdown",
      "source": [
        "재귀함수를 이용한 별 출력 2\n",
        "- https://inha.codetree.ai/missions/5/problems/star-output-with-recursive-function-2/description"
      ],
      "metadata": {
        "id": "C5fANULACJCs"
      }
    },
    {
      "cell_type": "code",
      "source": [
        "N = int(input())\n",
        "\n",
        "def func(N):\n",
        "    if(N == 0):\n",
        "        return\n",
        "\n",
        "    print('* ' * N)\n",
        "    func(N - 1)\n",
        "    print('* ' * N)\n",
        "\n",
        "func(N)"
      ],
      "metadata": {
        "id": "pT4yjSF8CLjA"
      },
      "execution_count": null,
      "outputs": []
    }
  ]
}