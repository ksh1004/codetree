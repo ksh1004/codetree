{
  "nbformat": 4,
  "nbformat_minor": 0,
  "metadata": {
    "colab": {
      "provenance": []
    },
    "kernelspec": {
      "name": "python3",
      "display_name": "Python 3"
    },
    "language_info": {
      "name": "python"
    }
  },
  "cells": [
    {
      "cell_type": "markdown",
      "source": [
        "# 값을 반환하지 않는 재귀함수"
      ],
      "metadata": {
        "id": "NzIfqFFD0kg8"
      }
    },
    {
      "cell_type": "markdown",
      "source": [
        "반복 출력하기 2\n",
        "- https://inha.codetree.ai/missions/5/problems/repeated-output-2/description"
      ],
      "metadata": {
        "id": "r2vFlhNc0n6l"
      }
    },
    {
      "cell_type": "code",
      "execution_count": null,
      "metadata": {
        "id": "VKWYkLA90iIe"
      },
      "outputs": [],
      "source": [
        "N = int(input())\n",
        "\n",
        "def func(N):\n",
        "    if(N == 0):\n",
        "        return\n",
        "    func(N - 1)\n",
        "    print('HelloWorld')\n",
        "\n",
        "func(N)"
      ]
    },
    {
      "cell_type": "markdown",
      "source": [
        "숫자 차례로 출력하기\n",
        "- https://inha.codetree.ai/missions/5/problems/to-output-numerically/description"
      ],
      "metadata": {
        "id": "KA2WTmF51hL2"
      }
    },
    {
      "cell_type": "code",
      "source": [
        "N = int(input())\n",
        "\n",
        "def func1(num):\n",
        "    if(num == 0):\n",
        "        return\n",
        "    func1(num - 1)\n",
        "    print(num, end = ' ')\n",
        "\n",
        "def func2(num1, num2):\n",
        "    if(num1 > num2):\n",
        "        return\n",
        "    func2(num1 + 1, num2)\n",
        "    print(num1, end = ' ')\n",
        "\n",
        "func1(N)\n",
        "print()\n",
        "func2(1, N)"
      ],
      "metadata": {
        "id": "ZtRJDpLN1jut"
      },
      "execution_count": null,
      "outputs": []
    },
    {
      "cell_type": "markdown",
      "source": [
        "재귀함수를 이용한 별 출력\n",
        "- https://inha.codetree.ai/missions/5/problems/star-output-with-recursive-function/description"
      ],
      "metadata": {
        "id": "5Ly2NpfH2IdY"
      }
    },
    {
      "cell_type": "code",
      "source": [
        "N = int(input())\n",
        "\n",
        "def func(num1, num2):\n",
        "    if(num1 > num2):\n",
        "        return\n",
        "    print(num1 * '*')\n",
        "    func(num1 + 1, num2)\n",
        "\n",
        "func(1, N)"
      ],
      "metadata": {
        "id": "F1-cr3GL2K3X"
      },
      "execution_count": null,
      "outputs": []
    },
    {
      "cell_type": "markdown",
      "source": [
        "출력결과 81\n",
        "- https://inha.codetree.ai/missions/5/problems/reading-k201838/description"
      ],
      "metadata": {
        "id": "LygiJlsD24ZB"
      }
    },
    {
      "cell_type": "code",
      "source": [
        "def f(a, t, l):\n",
        "    if t >= l:\n",
        "        return\n",
        "    print(a[t], end=' ')\n",
        "    f(a, t + 1, l)\n",
        "    print(a[t], end=' ')\n",
        "\n",
        "a = [0 for i in range(10)]\n",
        "a[0:9] = [1, 2, 3, 4, 5, 6, 7, 8, 9]\n",
        "n = 10\n",
        "f(a, 0, n)\n",
        "\n",
        "# 출력결과\n",
        "# 1 2 3 4 5 6 7 8 9 0 0 9 8 7 6 5 4 3 2 1"
      ],
      "metadata": {
        "id": "wZbwWE0s25Vw"
      },
      "execution_count": null,
      "outputs": []
    },
    {
      "cell_type": "markdown",
      "source": [
        "재귀함수의 꽃\n",
        "- https://inha.codetree.ai/missions/5/problems/the-flower-of-the-recursive-function/submissions"
      ],
      "metadata": {
        "id": "mDDRqWacCBfb"
      }
    },
    {
      "cell_type": "code",
      "source": [
        "N = int(input())\n",
        "\n",
        "def func(N):\n",
        "    if(N == 0):\n",
        "        return\n",
        "\n",
        "    print(N, end = ' ')\n",
        "    func(N - 1)\n",
        "    print(N, end = ' ')\n",
        "\n",
        "func(N)"
      ],
      "metadata": {
        "id": "fsPZCe8CCBur"
      },
      "execution_count": null,
      "outputs": []
    },
    {
      "cell_type": "markdown",
      "source": [
        "재귀함수를 이용한 별 출력 2\n",
        "- https://inha.codetree.ai/missions/5/problems/star-output-with-recursive-function-2/description"
      ],
      "metadata": {
        "id": "C5fANULACJCs"
      }
    },
    {
      "cell_type": "code",
      "source": [
        "N = int(input())\n",
        "\n",
        "def func(N):\n",
        "    if(N == 0):\n",
        "        return\n",
        "\n",
        "    print('* ' * N)\n",
        "    func(N - 1)\n",
        "    print('* ' * N)\n",
        "\n",
        "func(N)"
      ],
      "metadata": {
        "id": "pT4yjSF8CLjA"
      },
      "execution_count": null,
      "outputs": []
    },
    {
      "cell_type": "markdown",
      "source": [
        "# 값을 반환하는 재귀함수"
      ],
      "metadata": {
        "id": "78VAGXuXikm8"
      }
    },
    {
      "cell_type": "markdown",
      "source": [
        "1부터 특정 수까지의 합 2\n",
        "- https://inha.codetree.ai/missions/5/problems/sum-from-1-to-a-certain-number-2/description"
      ],
      "metadata": {
        "id": "ib3VjupqiqTC"
      }
    },
    {
      "cell_type": "markdown",
      "source": [
        "1부터 n까지의 곱을 반환하는 팩토리얼 함수 fact(n) 을 재귀함수로 구현해볼 수는 없을까?\n",
        "재귀함수로 표현하기 위해서는 fact(n)의 특성에 대해 생각해봐야 한다.\n",
        "\n",
        "fact(n) 은 1부터 n까지의 곱을 반환해야 하기 때문에\n",
        "fact(n - 1)값이 미리 구해져있다고 가정한다면,\n",
        "fact(n) = fact(n - 1) * n 이라는 관계를 이용하여 이 문제를 해결할 수 있다."
      ],
      "metadata": {
        "id": "TtrsJy_2k4ah"
      }
    },
    {
      "cell_type": "code",
      "source": [
        "N = int(input())\n",
        "\n",
        "def func(num):\n",
        "    if(num == 1):\n",
        "        return 1\n",
        "\n",
        "    return func(num - 1) + num\n",
        "\n",
        "print(func(N))"
      ],
      "metadata": {
        "id": "E1Tn8KwAinU7"
      },
      "execution_count": null,
      "outputs": []
    },
    {
      "cell_type": "markdown",
      "source": [
        "각 자리 숫자의 제곱\n",
        "- https://inha.codetree.ai/missions/5/problems/square-of-each-digit/description"
      ],
      "metadata": {
        "id": "G-i4d6xakDPp"
      }
    },
    {
      "cell_type": "markdown",
      "source": [
        "숫자 1527에서 각 자리 숫자의 합은 1 + 5 + 2 + 7 = 15 이다.\n",
        "\n",
        "이렇듯 각 자리 숫자의 합을 재귀함수를 이용하여 구할 수 있다. 만약 f(n)이 숫자 n의 각 자리 숫자의 합을 반환하는 함수였다면, 숫자 1527을 다음과 같은 방식으로 구해볼 수 있다.\n",
        "\n",
        "숫자 1527의 각 자리 숫자의 합은 숫자 152의 각 자리 숫자의 합에 끝 숫자인 7을 더한 값이 될 것이다.\n",
        "즉, f(1527) = f(152) + 7 이라는 것을 알 수 있다.\n",
        "이를 일반화시켜 생각해보면 f(n) = f(n을 10으로 나눈 몫) + (n을 10으로 나눈 나머지) 임을 알 수 있다."
      ],
      "metadata": {
        "id": "dbd_aPnslHDS"
      }
    },
    {
      "cell_type": "code",
      "source": [
        "N = int(input())\n",
        "\n",
        "def func(num):\n",
        "    if(num < 10):\n",
        "        return num ** 2\n",
        "\n",
        "    return func(num // 10) + ((num % 10) ** 2)\n",
        "\n",
        "print(func(N))"
      ],
      "metadata": {
        "id": "Y-3Pii9wkFWS"
      },
      "execution_count": null,
      "outputs": []
    },
    {
      "cell_type": "markdown",
      "source": [
        "1이 되는 순간까지\n",
        "- https://inha.codetree.ai/missions/5/problems/until-the-moment-I-reach-one/description"
      ],
      "metadata": {
        "id": "ekyLXd3Sl-yq"
      }
    },
    {
      "cell_type": "code",
      "source": [
        "N = int(input())\n",
        "\n",
        "def func(N):\n",
        "    if(N == 1):\n",
        "        return 0\n",
        "    # 짝수이면 2로 나누고, 홀수이면 3으로 나누기\n",
        "    if(N % 2 == 0):\n",
        "        return func(N // 2) + 1\n",
        "    else:\n",
        "        return func(N // 3) + 1\n",
        "\n",
        "print(func(N))"
      ],
      "metadata": {
        "id": "wpqYZZfSmqBY"
      },
      "execution_count": null,
      "outputs": []
    },
    {
      "cell_type": "markdown",
      "source": [
        "재귀함수를 이용한 피보나치 수\n",
        "- https://inha.codetree.ai/missions/5/problems/fibonacci-using-recursive-function/description"
      ],
      "metadata": {
        "id": "rJW0K8xVmyUw"
      }
    },
    {
      "cell_type": "markdown",
      "source": [
        "A1 = 2, A2 = 7, 그리고 An = An-1 + 2 * An-2 를 만족하는 수열이 있을 때 n번째 원소의 값을 구하는 프로그램은 어떻게 작성해 볼 수 있을까?\n",
        "\n",
        "점화식은 곧 재귀함수에서 어떤 함수를 호출해야 하는지에 대한 힌트를 주고, A1, A2와 같은 초기값들은 종료 조건에 대한 정보를 주게 된다.\n",
        "\n",
        "따라서 이렇게 점화식이 주어진 경우에는 다음과 같이 코드 작성이 가능하다. f(n)을 n번째 원소를 구하는 함수라고 했을 때의 코드이다.\n",
        "\n",
        "\n",
        "def f(n):\n",
        "    # 종료 조건\n",
        "    if n == 1:\n",
        "        return 2\n",
        "    if n == 2:\n",
        "        return 7\n",
        "\n",
        "    # 점화식\n",
        "    return f(n - 1) + 2 * f(n - 2)"
      ],
      "metadata": {
        "id": "D-4vqj8Rm7rS"
      }
    },
    {
      "cell_type": "code",
      "source": [
        "N = int(input())\n",
        "\n",
        "def func(num): # 피보나치 수열: 이전 두 항의 합이 그 다음 항이 되는 수열\n",
        "    if(num == 1 or num == 2):\n",
        "        return 1\n",
        "    # 점화식\n",
        "    return func(num - 1) + func(num - 2)\n",
        "\n",
        "print(func(N))"
      ],
      "metadata": {
        "id": "3uRRapBPm0aA"
      },
      "execution_count": null,
      "outputs": []
    },
    {
      "cell_type": "markdown",
      "source": [
        "출력결과 9\n",
        "- https://inha.codetree.ai/missions/5/problems/reading-k201529/description"
      ],
      "metadata": {
        "id": "pd54p4e1nsKX"
      }
    },
    {
      "cell_type": "code",
      "source": [
        "def trif(n, k):\n",
        "    if n <= k:\n",
        "        return n\n",
        "    return trif(n - 1, k) + trif(n - 2, k) + trif(n - 3, k)\n",
        "\n",
        "# 출력결과\n",
        "# 54"
      ],
      "metadata": {
        "id": "vI-_aCKfnvXC"
      },
      "execution_count": null,
      "outputs": []
    },
    {
      "cell_type": "markdown",
      "source": [
        "Factorial\n",
        "- https://inha.codetree.ai/missions/5/problems/factorial/description"
      ],
      "metadata": {
        "id": "8t5GehRcn0lJ"
      }
    },
    {
      "cell_type": "code",
      "source": [
        "N = int(input())\n",
        "\n",
        "def func(num):\n",
        "    if(num == 0 or num == 1):\n",
        "        return 1\n",
        "\n",
        "    return func(num - 1) * num\n",
        "\n",
        "print(func(N))"
      ],
      "metadata": {
        "id": "CT0Z3EBIn3dH"
      },
      "execution_count": null,
      "outputs": []
    },
    {
      "cell_type": "markdown",
      "source": [
        "홀수 짝수에 따른 출력값\n",
        "- https://inha.codetree.ai/missions/5/problems/output-value-based-on-odd-even-numbers/description"
      ],
      "metadata": {
        "id": "ZAUhlVC3ohCY"
      }
    },
    {
      "cell_type": "code",
      "source": [
        "N = int(input())\n",
        "\n",
        "def func(num):\n",
        "    if(num % 2 == 0):\n",
        "        if(num == 2):\n",
        "            return 2\n",
        "        return func(num - 2) + num\n",
        "    else:\n",
        "        if(num == 1):\n",
        "            return 1\n",
        "        return func(num - 2) + num\n",
        "\n",
        "print(func(N))"
      ],
      "metadata": {
        "id": "Oo7W2Sw-oiOZ"
      },
      "execution_count": null,
      "outputs": []
    },
    {
      "cell_type": "markdown",
      "source": [
        "출력결과 73\n",
        "- https://inha.codetree.ai/missions/5/problems/reading-k201828/description"
      ],
      "metadata": {
        "id": "GDMnNmqNpLE7"
      }
    },
    {
      "cell_type": "code",
      "source": [
        "def f(n):\n",
        "    return 0 if n == 0 else f(n-1)+2\n",
        "\n",
        "# 출력결과\n",
        "# 4036"
      ],
      "metadata": {
        "id": "VwbUZ6g5pOBB"
      },
      "execution_count": null,
      "outputs": []
    },
    {
      "cell_type": "markdown",
      "source": [
        "출력결과 52\n",
        "- https://inha.codetree.ai/missions/5/problems/reading-k201728/description"
      ],
      "metadata": {
        "id": "NE0JoJQhphlo"
      }
    },
    {
      "cell_type": "code",
      "source": [
        "def f(x, y):\n",
        "    if x == 0:\n",
        "        return 0\n",
        "    return f(x // 3, y * 3) + x % 3 * y\n",
        "\n",
        "# 출력결과\n",
        "# 1075"
      ],
      "metadata": {
        "id": "_W5qRKP4plN8"
      },
      "execution_count": null,
      "outputs": []
    },
    {
      "cell_type": "markdown",
      "source": [
        "재귀함수를 이용한 최댓값\n",
        "- https://inha.codetree.ai/missions/5/problems/maximum-value-with-recursive-function/description"
      ],
      "metadata": {
        "id": "oHmubYSOpuud"
      }
    },
    {
      "cell_type": "code",
      "source": [
        "n = int(input())\n",
        "num_list = list(map(int, input().split()))\n",
        "\n",
        "def func(num):\n",
        "    if(num == 0):\n",
        "        return num_list[0]\n",
        "\n",
        "    return max(func(num - 1), num_list[num])\n",
        "\n",
        "print(func(n - 1))"
      ],
      "metadata": {
        "id": "z0Czq0Gtpvtu"
      },
      "execution_count": null,
      "outputs": []
    },
    {
      "cell_type": "markdown",
      "source": [
        "출력결과 18\n",
        "- https://inha.codetree.ai/missions/5/problems/reading-k201540/description"
      ],
      "metadata": {
        "id": "2K8B9YForPMY"
      }
    },
    {
      "cell_type": "code",
      "source": [
        "_list = [1, 3, 7, 8, 4, 3, 5, 2, 9, 2]\n",
        "\n",
        "def g(a, b, x):\n",
        "    c = 0\n",
        "    for i in range(a, b + 1):\n",
        "        if _list[i] <= x:\n",
        "            c += 1\n",
        "    return c\n",
        "\n",
        "def f(a, b, x, k):\n",
        "    if a == b:\n",
        "        return _list[a]\n",
        "\n",
        "    mid = (a + b) // 2\n",
        "    cnt = g(a, mid, x)\n",
        "\n",
        "    return f(a, mid, x, k) if cnt >= k else f(mid + 1, b, x, k - cnt)\n",
        "\n",
        "# 출력결과\n",
        "# 2"
      ],
      "metadata": {
        "id": "5aWzTE_YrRoO"
      },
      "execution_count": null,
      "outputs": []
    },
    {
      "cell_type": "markdown",
      "source": [
        "큰 숫자 자리수의 합\n",
        "- https://inha.codetree.ai/missions/5/problems/sum-of-large-numeric-digits/description"
      ],
      "metadata": {
        "id": "3t37N7LprVxu"
      }
    },
    {
      "cell_type": "code",
      "source": [
        "num_list = list(map(int, input().split()))\n",
        "N = num_list[0] * num_list[1] * num_list[2]\n",
        "\n",
        "def func(num):\n",
        "    if(num < 10):\n",
        "        return num\n",
        "\n",
        "    return func(num // 10) + (num % 10)\n",
        "\n",
        "print(func(N))"
      ],
      "metadata": {
        "id": "zVpVTHSJrXy5"
      },
      "execution_count": null,
      "outputs": []
    },
    {
      "cell_type": "markdown",
      "source": [
        "출력결과 19\n",
        "- https://inha.codetree.ai/missions/5/problems/reading-k201542/description"
      ],
      "metadata": {
        "id": "gKC9oPbYsKFN"
      }
    },
    {
      "cell_type": "code",
      "source": [
        "def g(x):\n",
        "    return 10 if x < 10 else g(int(x / 10)) + (x % 10)\n",
        "\n",
        "def f(a, b):\n",
        "    c = 1\n",
        "    while b:\n",
        "        c *= a\n",
        "        b -= 1\n",
        "    return g(c)\n",
        "\n",
        "print(f(2, 5))\n",
        "\n",
        "# 출력결과\n",
        "# 12"
      ],
      "metadata": {
        "id": "q9A7iFtfsMu2"
      },
      "execution_count": null,
      "outputs": []
    },
    {
      "cell_type": "markdown",
      "source": [
        "재귀함수를 이용한 3n + 1 수열\n",
        "- https://inha.codetree.ai/missions/5/problems/3n+1-sequence-with-recursive-function/description"
      ],
      "metadata": {
        "id": "MJxtfpznsRIO"
      }
    },
    {
      "cell_type": "code",
      "source": [
        "n = int(input())\n",
        "\n",
        "def func(num):\n",
        "    if(num == 1):\n",
        "        return 0\n",
        "\n",
        "    if(num % 2 == 0):\n",
        "        return func(num // 2) + 1\n",
        "    else:\n",
        "        return func(num * 3 + 1) + 1\n",
        "\n",
        "print(func(n))"
      ],
      "metadata": {
        "id": "HrIy8hL0sTjI"
      },
      "execution_count": null,
      "outputs": []
    },
    {
      "cell_type": "markdown",
      "source": [
        "100으로 나눈 나머지의 수열\n",
        "- https://inha.codetree.ai/missions/5/problems/sequence-of-remainder-divided-by-100/description"
      ],
      "metadata": {
        "id": "3ni4fFX1s0n2"
      }
    },
    {
      "cell_type": "code",
      "source": [
        "N = int(input())\n",
        "\n",
        "def func(num):\n",
        "    if(num == 1):\n",
        "        return 2\n",
        "    elif(num == 2):\n",
        "        return 4\n",
        "\n",
        "    return (func(num - 1) * func(num - 2)) % 100\n",
        "\n",
        "print(func(N))"
      ],
      "metadata": {
        "id": "bGX1ARwYs3R0"
      },
      "execution_count": null,
      "outputs": []
    },
    {
      "cell_type": "markdown",
      "source": [
        "출력결과 28\n",
        "- https://inha.codetree.ai/missions/5/problems/reading-k201629/description"
      ],
      "metadata": {
        "id": "y75T4wVCtR3t"
      }
    },
    {
      "cell_type": "code",
      "source": [
        "def f(n):\n",
        "    if n <= 1:\n",
        "        return n\n",
        "    return f(n-1) + 2 * f(n-2)\n",
        "\n",
        "# 출력결과\n",
        "# 3"
      ],
      "metadata": {
        "id": "VdbeWE7QtUrn"
      },
      "execution_count": null,
      "outputs": []
    },
    {
      "cell_type": "markdown",
      "source": [
        "출력결과 82\n",
        "- https://inha.codetree.ai/missions/5/problems/reading-k201839/description"
      ],
      "metadata": {
        "id": "7nZA3bxjtatV"
      }
    },
    {
      "cell_type": "code",
      "source": [
        "def f(n):\n",
        "    if n >= 10:\n",
        "        return n % 5\n",
        "    else:\n",
        "        return f(n + 1) + f(n + 3) + 1\n",
        "\n",
        "# 출력결과\n",
        "# 23"
      ],
      "metadata": {
        "id": "vF0CLyZJtdP3"
      },
      "execution_count": null,
      "outputs": []
    },
    {
      "cell_type": "markdown",
      "source": [
        "이상한 수열\n",
        "- https://inha.codetree.ai/missions/5/problems/a-strange-sequence/description"
      ],
      "metadata": {
        "id": "YgwebJBTtiLl"
      }
    },
    {
      "cell_type": "code",
      "source": [
        "N = int(input())\n",
        "\n",
        "def func(num):\n",
        "    if(num == 1):\n",
        "        return 1\n",
        "    elif(num == 2):\n",
        "        return 2\n",
        "\n",
        "    return (func(num // 3) + func(num - 1))\n",
        "\n",
        "print(func(N))"
      ],
      "metadata": {
        "id": "i4T0sm0Ytkg9"
      },
      "execution_count": null,
      "outputs": []
    },
    {
      "cell_type": "markdown",
      "source": [
        "출력결과 29\n",
        "- https://inha.codetree.ai/missions/5/problems/reading-k201631/description"
      ],
      "metadata": {
        "id": "-yoSwRQ7t8VP"
      }
    },
    {
      "cell_type": "code",
      "source": [
        "def f(a, b):\n",
        "    if a < b or b == 0:\n",
        "        return 1\n",
        "    return f(a - 2, b - 1) + f(a - 1, b) * b\n",
        "\n",
        "# 출력결과"
      ],
      "metadata": {
        "id": "UJlvnOMAt9qP"
      },
      "execution_count": null,
      "outputs": []
    },
    {
      "cell_type": "markdown",
      "source": [
        "출력결과 27\n",
        "- https://inha.codetree.ai/missions/5/problems/reading-k201628/description"
      ],
      "metadata": {
        "id": "LzrfKwz9uGAF"
      }
    },
    {
      "cell_type": "code",
      "source": [
        "def f(a, b):\n",
        "    return f(b, a%b) + b if b else 0\n",
        "\n",
        "# 출력결과\n",
        "# f(21, 34)"
      ],
      "metadata": {
        "id": "xSK3As_LuHTM"
      },
      "execution_count": null,
      "outputs": []
    },
    {
      "cell_type": "markdown",
      "source": [
        "재귀함수를 이용한 최소공배수\n",
        "- https://inha.codetree.ai/missions/5/problems/least-common-multiple-using-recursive-function/description"
      ],
      "metadata": {
        "id": "zitrVD6DuQmo"
      }
    },
    {
      "cell_type": "code",
      "source": [
        "n = int(input())\n",
        "num_list = list(map(int, input().split()))\n",
        "\n",
        "# 최대공약수 구하는 함수\n",
        "def gcd(a, b):\n",
        "    if b == 0:\n",
        "        return a\n",
        "    else:\n",
        "        return gcd(b, a % b)\n",
        "\n",
        "# 최소공배수 구하는 함수\n",
        "def lcm(a, b):\n",
        "    return a * b // gcd(a, b)\n",
        "\n",
        "\n",
        "def func(num_list):\n",
        "    if len(num_list) == 1:\n",
        "        return num_list[0]\n",
        "    elif len(num_list) == 2:\n",
        "        return lcm(num_list[0], num_list[1])\n",
        "    else:\n",
        "        return lcm(num_list[0], func(num_list[1:]))\n",
        "\n",
        "print(func(num_list))"
      ],
      "metadata": {
        "id": "-6BeJEjNuTGE"
      },
      "execution_count": null,
      "outputs": []
    }
  ]
}