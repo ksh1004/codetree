{
  "nbformat": 4,
  "nbformat_minor": 0,
  "metadata": {
    "colab": {
      "provenance": []
    },
    "kernelspec": {
      "name": "python3",
      "display_name": "Python 3"
    },
    "language_info": {
      "name": "python"
    }
  },
  "cells": [
    {
      "cell_type": "markdown",
      "source": [
        "# 날짜와 시간 계산"
      ],
      "metadata": {
        "id": "SEEqCqLQZh0m"
      }
    },
    {
      "cell_type": "markdown",
      "source": [
        "Time to Time\n",
        "- https://inha.codetree.ai/missions/5/problems/time-to-time/description"
      ],
      "metadata": {
        "id": "KGoVUmGEZi8F"
      }
    },
    {
      "cell_type": "code",
      "execution_count": null,
      "metadata": {
        "id": "cDu1We-5ZcO_"
      },
      "outputs": [],
      "source": [
        "a, b, c, d = map(int, input().split())\n",
        "\n",
        "time1 = a * 60 + b\n",
        "time2 = c * 60 + d\n",
        "\n",
        "print(time2 - time1)"
      ]
    },
    {
      "cell_type": "markdown",
      "source": [
        "Date to Date\n",
        "- https://inha.codetree.ai/missions/5/problems/date-to-date/description"
      ],
      "metadata": {
        "id": "AYDsOb-fc2-6"
      }
    },
    {
      "cell_type": "code",
      "source": [
        "num_of_days = [0, 31, 28, 31, 30, 31, 30, 31, 31, 30, 31, 30, 31]\n",
        "m1, d1, m2, d2 = map(int, input().split())\n",
        "if(m1 == m2): # 월이 같은 경우\n",
        "    print(d2 - d1 + 1)\n",
        "else: # 월이 다른 경우\n",
        "    total = 0\n",
        "    for i in range(m1 + 1, m2): # m1, m2 월 사이의 날들을 더함\n",
        "        total += num_of_days[i]\n",
        "    total += (d2 + (num_of_days[m1] - d1) + 1) # m1(m1월의 총 일수 - d1), m2월의 날들을 더함\n",
        "    print(total)"
      ],
      "metadata": {
        "id": "w8PTQI2hc3L4"
      },
      "execution_count": null,
      "outputs": []
    },
    {
      "cell_type": "markdown",
      "source": [
        "DateTime to DateTime\n",
        "- https://inha.codetree.ai/missions/5/problems/datetime-to-datetime/description"
      ],
      "metadata": {
        "id": "CARk6yu3c6AZ"
      }
    },
    {
      "cell_type": "code",
      "source": [
        "a, b, c = map(int, input().split())\n",
        "total = 0\n",
        "if((a < 11) or (a == 11 and b < 11) or (a == 11 and b == 11 and c < 11)): # 2011년 11월 11일 11시 11분보다 이전이면\n",
        "    total = -1\n",
        "    print(total)\n",
        "elif(a == 11): # a가 11일이면\n",
        "    total += ((b - 1) - a) * 60 + (60 - 11) + (c)\n",
        "    print(total)\n",
        "else: # a가 11일이 아니면\n",
        "    total += (24 - 11) * 60 + (60 - 11)\n",
        "    total += ((a - 1) - 11) * 24 * 60\n",
        "    total += (b - 1) * 60 + c\n",
        "    print(total)"
      ],
      "metadata": {
        "id": "iVwmdOojc8aH"
      },
      "execution_count": null,
      "outputs": []
    },
    {
      "cell_type": "markdown",
      "source": [
        "요일 맞추기\n",
        "- https://inha.codetree.ai/missions/5/problems/guess-day-of-week/description"
      ],
      "metadata": {
        "id": "9ezZZdSBkGiO"
      }
    },
    {
      "cell_type": "code",
      "source": [
        "# 예시 답안 변형\n",
        "num_of_days = [0, 31, 28, 31, 30, 31, 30, 31, 31, 30, 31, 30, 31]\n",
        "day = ['Mon', 'Tue', 'Wed', 'Thu', 'Fri', 'Sat', 'Sun']\n",
        "m1, d1, m2, d2 = map(int, input().split())\n",
        "\n",
        "# 두 날짜의 총 일수 구하기\n",
        "total_day1, total_day2 = 0, 0\n",
        "for i in range(1, m1):\n",
        "    total_day1 += num_of_days[i]\n",
        "total_day1 += d1\n",
        "for i in range(1, m2):\n",
        "    total_day2 += num_of_days[i]\n",
        "total_day2 += d2\n",
        "\n",
        "# 두 날짜 간 차이 구하기\n",
        "diff = total_day2 - total_day1\n",
        "# 요일 구하기\n",
        "diff %= 7\n",
        "print(day[diff])"
      ],
      "metadata": {
        "id": "TzUUiE_7kJIX"
      },
      "execution_count": null,
      "outputs": []
    },
    {
      "cell_type": "markdown",
      "source": [
        "그 요일은\n",
        "- https://inha.codetree.ai/missions/5/problems/the-day-of-the-day/description"
      ],
      "metadata": {
        "id": "bFIbJjcgpBfR"
      }
    },
    {
      "cell_type": "code",
      "source": [
        "num_of_days = [0, 31, 29, 31, 30, 31, 30, 31, 31, 30, 31, 30, 31]\n",
        "day = ['Mon', 'Tue', 'Wed', 'Thu', 'Fri', 'Sat', 'Sun']\n",
        "m1, d1, m2, d2 = map(int, input().split())\n",
        "A = input()\n",
        "day_val = 0\n",
        "for i in range(len(day)):\n",
        "    if(A == day[i]):\n",
        "        day_val = i\n",
        "\n",
        "# 두 날짜의 총 일수 구하기\n",
        "total_day1, total_day2 = 0, 0\n",
        "for i in range(1, m1):\n",
        "    total_day1 += num_of_days[i]\n",
        "total_day1 += d1\n",
        "for i in range(1, m2):\n",
        "    total_day2 += num_of_days[i]\n",
        "total_day2 += d2\n",
        "\n",
        "# 두 날짜 간 차이 구하기\n",
        "diff = total_day2 - total_day1\n",
        "diff -= day_val # A 요일 위치 맞추기(만약 A요일이 화요일이면, 시작 일을 월요일 -> 화요일로 바꾸는 과정)\n",
        "# A 요일이 나온 횟수 구하기\n",
        "cnt = diff // 7 + 1\n",
        "print(cnt)"
      ],
      "metadata": {
        "id": "im4BAG4ipFHp"
      },
      "execution_count": null,
      "outputs": []
    }
  ]
}