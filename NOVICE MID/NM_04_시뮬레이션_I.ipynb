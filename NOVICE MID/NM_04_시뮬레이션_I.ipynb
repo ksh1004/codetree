{
  "nbformat": 4,
  "nbformat_minor": 0,
  "metadata": {
    "colab": {
      "provenance": []
    },
    "kernelspec": {
      "name": "python3",
      "display_name": "Python 3"
    },
    "language_info": {
      "name": "python"
    }
  },
  "cells": [
    {
      "cell_type": "markdown",
      "source": [
        "# 날짜와 시간 계산"
      ],
      "metadata": {
        "id": "SEEqCqLQZh0m"
      }
    },
    {
      "cell_type": "markdown",
      "source": [
        "Time to Time\n",
        "- https://inha.codetree.ai/missions/5/problems/time-to-time/description"
      ],
      "metadata": {
        "id": "KGoVUmGEZi8F"
      }
    },
    {
      "cell_type": "code",
      "execution_count": null,
      "metadata": {
        "id": "cDu1We-5ZcO_"
      },
      "outputs": [],
      "source": [
        "a, b, c, d = map(int, input().split())\n",
        "\n",
        "time1 = a * 60 + b\n",
        "time2 = c * 60 + d\n",
        "\n",
        "print(time2 - time1)"
      ]
    },
    {
      "cell_type": "markdown",
      "source": [
        "Date to Date\n",
        "- https://inha.codetree.ai/missions/5/problems/date-to-date/description"
      ],
      "metadata": {
        "id": "AYDsOb-fc2-6"
      }
    },
    {
      "cell_type": "code",
      "source": [
        "num_of_days = [0, 31, 28, 31, 30, 31, 30, 31, 31, 30, 31, 30, 31]\n",
        "m1, d1, m2, d2 = map(int, input().split())\n",
        "if(m1 == m2): # 월이 같은 경우\n",
        "    print(d2 - d1 + 1)\n",
        "else: # 월이 다른 경우\n",
        "    total = 0\n",
        "    for i in range(m1 + 1, m2): # m1, m2 월 사이의 날들을 더함\n",
        "        total += num_of_days[i]\n",
        "    total += (d2 + (num_of_days[m1] - d1) + 1) # m1(m1월의 총 일수 - d1), m2월의 날들을 더함\n",
        "    print(total)"
      ],
      "metadata": {
        "id": "w8PTQI2hc3L4"
      },
      "execution_count": null,
      "outputs": []
    },
    {
      "cell_type": "markdown",
      "source": [
        "DateTime to DateTime\n",
        "- https://inha.codetree.ai/missions/5/problems/datetime-to-datetime/description"
      ],
      "metadata": {
        "id": "CARk6yu3c6AZ"
      }
    },
    {
      "cell_type": "code",
      "source": [
        "a, b, c = map(int, input().split())\n",
        "total = 0\n",
        "if((a < 11) or (a == 11 and b < 11) or (a == 11 and b == 11 and c < 11)): # 2011년 11월 11일 11시 11분보다 이전이면\n",
        "    total = -1\n",
        "    print(total)\n",
        "elif(a == 11): # a가 11일이면\n",
        "    total += ((b - 1) - a) * 60 + (60 - 11) + (c)\n",
        "    print(total)\n",
        "else: # a가 11일이 아니면\n",
        "    total += (24 - 11) * 60 + (60 - 11)\n",
        "    total += ((a - 1) - 11) * 24 * 60\n",
        "    total += (b - 1) * 60 + c\n",
        "    print(total)"
      ],
      "metadata": {
        "id": "iVwmdOojc8aH"
      },
      "execution_count": null,
      "outputs": []
    },
    {
      "cell_type": "markdown",
      "source": [
        "요일 맞추기\n",
        "- https://inha.codetree.ai/missions/5/problems/guess-day-of-week/description"
      ],
      "metadata": {
        "id": "9ezZZdSBkGiO"
      }
    },
    {
      "cell_type": "code",
      "source": [
        "# 예시 답안 변형\n",
        "num_of_days = [0, 31, 28, 31, 30, 31, 30, 31, 31, 30, 31, 30, 31]\n",
        "day = ['Mon', 'Tue', 'Wed', 'Thu', 'Fri', 'Sat', 'Sun']\n",
        "m1, d1, m2, d2 = map(int, input().split())\n",
        "\n",
        "# 두 날짜의 총 일수 구하기\n",
        "total_day1, total_day2 = 0, 0\n",
        "for i in range(1, m1):\n",
        "    total_day1 += num_of_days[i]\n",
        "total_day1 += d1\n",
        "for i in range(1, m2):\n",
        "    total_day2 += num_of_days[i]\n",
        "total_day2 += d2\n",
        "\n",
        "# 두 날짜 간 차이 구하기\n",
        "diff = total_day2 - total_day1\n",
        "# 요일 구하기\n",
        "diff %= 7\n",
        "print(day[diff])"
      ],
      "metadata": {
        "id": "TzUUiE_7kJIX"
      },
      "execution_count": null,
      "outputs": []
    },
    {
      "cell_type": "markdown",
      "source": [
        "그 요일은\n",
        "- https://inha.codetree.ai/missions/5/problems/the-day-of-the-day/description"
      ],
      "metadata": {
        "id": "bFIbJjcgpBfR"
      }
    },
    {
      "cell_type": "code",
      "source": [
        "num_of_days = [0, 31, 29, 31, 30, 31, 30, 31, 31, 30, 31, 30, 31]\n",
        "day = ['Mon', 'Tue', 'Wed', 'Thu', 'Fri', 'Sat', 'Sun']\n",
        "m1, d1, m2, d2 = map(int, input().split())\n",
        "A = input()\n",
        "day_val = 0\n",
        "for i in range(len(day)):\n",
        "    if(A == day[i]):\n",
        "        day_val = i\n",
        "\n",
        "# 두 날짜의 총 일수 구하기\n",
        "total_day1, total_day2 = 0, 0\n",
        "for i in range(1, m1):\n",
        "    total_day1 += num_of_days[i]\n",
        "total_day1 += d1\n",
        "for i in range(1, m2):\n",
        "    total_day2 += num_of_days[i]\n",
        "total_day2 += d2\n",
        "\n",
        "# 두 날짜 간 차이 구하기\n",
        "diff = total_day2 - total_day1\n",
        "diff -= day_val # A 요일 위치 맞추기(만약 A요일이 화요일이면, 시작 일을 월요일 -> 화요일로 바꾸는 과정)\n",
        "# A 요일이 나온 횟수 구하기\n",
        "cnt = diff // 7 + 1\n",
        "print(cnt)"
      ],
      "metadata": {
        "id": "im4BAG4ipFHp"
      },
      "execution_count": null,
      "outputs": []
    },
    {
      "cell_type": "markdown",
      "source": [
        "# Notation"
      ],
      "metadata": {
        "id": "ncM3zj7d5Xyy"
      }
    },
    {
      "cell_type": "markdown",
      "source": [
        "2진수로 변환하기\n",
        "- https://inha.codetree.ai/missions/5/problems/convert-to-binary/introduction"
      ],
      "metadata": {
        "id": "I2ajSeLA5ZG7"
      }
    },
    {
      "cell_type": "markdown",
      "source": [
        "숫자를 2진법으로 표현하려면 어떻게 해야 할까?\n",
        "\n",
        "숫자를 계속 2로 나눠주며 해당 몫과 나머지를 쭉 적어주는 식으로 이진법을 만들어 볼 수 있다.\n",
        "\n",
        "가장 끝에 적혀있는 몫에서 부터 시작하여 지금까지 나왔던 나머지들을 거꾸로 순서대로 적어주면, 2진법이 완성된다."
      ],
      "metadata": {
        "id": "LcV2SEJ17GNI"
      }
    },
    {
      "cell_type": "code",
      "source": [
        "n = int(input())\n",
        "num_list = []\n",
        "while(True):\n",
        "    if(n < 2):\n",
        "        num_list.append(n)\n",
        "        break\n",
        "    else:\n",
        "        num = n % 2\n",
        "        num_list.append(num)\n",
        "        n = n // 2\n",
        "\n",
        "for i in range(len(num_list) - 1, -1, -1):\n",
        "    print(num_list[i], end = '')\n",
        "\n",
        "# print(bin(n)[2:]) # 10진수를 2진수로 변환해주는 bin() 내장함수"
      ],
      "metadata": {
        "id": "c-MvNjw75biW"
      },
      "execution_count": null,
      "outputs": []
    },
    {
      "cell_type": "markdown",
      "source": [
        "10진수로 변환하기\n",
        "- https://inha.codetree.ai/missions/5/problems/convert-to-decimal/description"
      ],
      "metadata": {
        "id": "ii8oO3kX7UWz"
      }
    },
    {
      "cell_type": "markdown",
      "source": [
        "이진수를 10진법으로 표현하려면 어떻게 해야 할까?\n",
        "\n",
        "다음과 같이 가장 왼쪽에서 시작하여 오른쪽 방향으로 한 칸씩 움직이며 간단하게 구해볼 수 있다."
      ],
      "metadata": {
        "id": "84M913hp77ag"
      }
    },
    {
      "cell_type": "markdown",
      "source": [
        "![aa263bb3-3571-4064-990e-d3ccd740ee00.png](data:image/png;base64,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)"
      ],
      "metadata": {
        "id": "x7QFRnGM8MhL"
      }
    },
    {
      "cell_type": "markdown",
      "source": [
        "num = num * 2 + binary[i]\n",
        "\n",
        "이전의 num값이 i - 1번째 index까지의 10진법 값이라 한다면, 이 값의 가중치는 전부 2배가 되고 추가적으로 i번째 값인 binary[i] 값이 더해진다.\n",
        "\n",
        "**단, num이 처음 0으로 초기화 되어야만 올바르게 동작한다.**"
      ],
      "metadata": {
        "id": "_x6NtLrq8OIj"
      }
    },
    {
      "cell_type": "code",
      "source": [
        "n = input()\n",
        "bin_list = []\n",
        "for i in n:\n",
        "    bin_list.append(int(i))\n",
        "\n",
        "num = 0\n",
        "for i in range(len(bin_list)):\n",
        "    num = num * 2 + bin_list[i]\n",
        "\n",
        "print(num)\n",
        "\n",
        "# print(int('0b' + str(n), 2)) # 2진수를 10진수로 변환할 수 있는 int 함수"
      ],
      "metadata": {
        "id": "mzyapa2a7VqP"
      },
      "execution_count": null,
      "outputs": []
    },
    {
      "cell_type": "markdown",
      "source": [
        "여러가지 진수변환\n",
        "- https://inha.codetree.ai/missions/5/problems/various-numeral-system-transformations/description"
      ],
      "metadata": {
        "id": "WoEW9BZw9oKx"
      }
    },
    {
      "cell_type": "code",
      "source": [
        "N, B = map(int, input().split())\n",
        "num_list = []\n",
        "while(True):\n",
        "    if(N < B):\n",
        "        num_list.append(N)\n",
        "        break\n",
        "    else:\n",
        "        num = N % B\n",
        "        num_list.append(num)\n",
        "        N = N // B\n",
        "\n",
        "for i in range(len(num_list) - 1, -1, -1):\n",
        "    print(num_list[i], end = '')"
      ],
      "metadata": {
        "id": "tzjuR80o9qg5"
      },
      "execution_count": null,
      "outputs": []
    },
    {
      "cell_type": "markdown",
      "source": [
        "십진수와 이진수 2\n",
        "- https://inha.codetree.ai/missions/5/problems/decimal-and-binary-number-2/description"
      ],
      "metadata": {
        "id": "HCW9ZuHP-LXC"
      }
    },
    {
      "cell_type": "code",
      "source": [
        "N = input()\n",
        "# 2진수 값 저장\n",
        "bin_list = []\n",
        "for i in N:\n",
        "    bin_list.append(int(i))\n",
        "# 2진수를 10진수로 변환\n",
        "num = 0\n",
        "for i in range(len(bin_list)):\n",
        "    num = num * 2 + bin_list[i]\n",
        "# 10진수 값에 17배\n",
        "num = num * 17\n",
        "# 10진수를 2진수로 변환\n",
        "bin_list = []\n",
        "while(True):\n",
        "    if(num < 2):\n",
        "        bin_list.append(num)\n",
        "        break\n",
        "    else:\n",
        "        n = num % 2\n",
        "        bin_list.append(n)\n",
        "        num = num // 2\n",
        "# 2진수 값 출력\n",
        "for i in range(len(bin_list) - 1, -1, -1):\n",
        "    print(bin_list[i], end = '')"
      ],
      "metadata": {
        "id": "4dBokTEU-Ndd"
      },
      "execution_count": null,
      "outputs": []
    },
    {
      "cell_type": "markdown",
      "source": [
        "진수 to 진수\n",
        "- https://inha.codetree.ai/missions/5/problems/transformation-of-number-system/description"
      ],
      "metadata": {
        "id": "g8XrBUtT-52O"
      }
    },
    {
      "cell_type": "code",
      "source": [],
      "metadata": {
        "id": "26P9h5ij-70Q"
      },
      "execution_count": null,
      "outputs": []
    }
  ]
}