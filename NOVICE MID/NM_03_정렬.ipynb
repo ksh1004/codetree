{
  "nbformat": 4,
  "nbformat_minor": 0,
  "metadata": {
    "colab": {
      "provenance": []
    },
    "kernelspec": {
      "name": "python3",
      "display_name": "Python 3"
    },
    "language_info": {
      "name": "python"
    }
  },
  "cells": [
    {
      "cell_type": "markdown",
      "source": [
        "# 일반 정렬"
      ],
      "metadata": {
        "id": "9Iv0XtcQvynE"
      }
    },
    {
      "cell_type": "markdown",
      "source": [
        "오름 내림차순 정렬\n",
        "- https://inha.codetree.ai/missions/5/problems/inc-dec-sorting/description"
      ],
      "metadata": {
        "id": "dRsQn72zv2WB"
      }
    },
    {
      "cell_type": "code",
      "execution_count": null,
      "metadata": {
        "id": "nQTHeI_0vttx"
      },
      "outputs": [],
      "source": [
        "n = int(input())\n",
        "num_list = list(map(int, input().split()))\n",
        "\n",
        "num_list.sort()\n",
        "for i in num_list:\n",
        "    print(i, end = ' ')\n",
        "\n",
        "print()\n",
        "\n",
        "num_list.sort(reverse=True)\n",
        "for i in num_list:\n",
        "    print(i, end = ' ')"
      ]
    },
    {
      "cell_type": "markdown",
      "source": [
        "문자열 정렬\n",
        "- https://inha.codetree.ai/missions/5/problems/string-sort/description"
      ],
      "metadata": {
        "id": "QW88guThxyW6"
      }
    },
    {
      "cell_type": "code",
      "source": [
        "s = input()\n",
        "str_list = []\n",
        "\n",
        "for i in range(len(s)):\n",
        "    str_list.append(s[i])\n",
        "\n",
        "str_list.sort()\n",
        "for i in str_list:\n",
        "    print(i, end = '')"
      ],
      "metadata": {
        "id": "Gb7QxIZQx1Lr"
      },
      "execution_count": null,
      "outputs": []
    },
    {
      "cell_type": "markdown",
      "source": [
        "단어 정렬\n",
        "- https://inha.codetree.ai/missions/5/problems/sorting-words/description"
      ],
      "metadata": {
        "id": "GRS-QGQYydsH"
      }
    },
    {
      "cell_type": "code",
      "source": [
        "n = int(input())\n",
        "str_list = []\n",
        "for i in range(n):\n",
        "    s = input()\n",
        "    str_list.append(s)\n",
        "\n",
        "str_list.sort()\n",
        "for i in str_list:\n",
        "    print(i)"
      ],
      "metadata": {
        "id": "RRQwzuyzyhmQ"
      },
      "execution_count": null,
      "outputs": []
    },
    {
      "cell_type": "markdown",
      "source": [
        "Top k 숫자 구하기\n",
        "- https://inha.codetree.ai/missions/5/problems/kth-number/description"
      ],
      "metadata": {
        "id": "rxnIzw1yu9V4"
      }
    },
    {
      "cell_type": "code",
      "source": [
        "N, k = map(int, input().split())\n",
        "num_list = list(map(int, input().split()))\n",
        "num_list.sort()\n",
        "print(num_list[k - 1])"
      ],
      "metadata": {
        "id": "qNehyiGou_rB"
      },
      "execution_count": null,
      "outputs": []
    },
    {
      "cell_type": "markdown",
      "source": [
        "두 개의 동일한 수열\n",
        "- https://inha.codetree.ai/missions/5/problems/two-equal-series/description"
      ],
      "metadata": {
        "id": "yAl0vtlfvJJe"
      }
    },
    {
      "cell_type": "code",
      "source": [
        "n = int(input())\n",
        "A = list(map(int, input().split()))\n",
        "B = list(map(int, input().split()))\n",
        "\n",
        "A.sort()\n",
        "B.sort()\n",
        "check_val = 1 # 같은 원소로 이루어져 있는지 판단하는 변수\n",
        "for i in range(n):\n",
        "    if(A[i] != B[i]): # 값이 다르면\n",
        "        check_val = 0\n",
        "        break\n",
        "\n",
        "if(check_val == 1):\n",
        "    print('Yes')\n",
        "else:\n",
        "    print('No')"
      ],
      "metadata": {
        "id": "JdUtDtpyvKgN"
      },
      "execution_count": null,
      "outputs": []
    },
    {
      "cell_type": "markdown",
      "source": [
        "2개씩 그룹짓기\n",
        "- https://inha.codetree.ai/missions/5/problems/group-of-pairs/description"
      ],
      "metadata": {
        "id": "96LPZJzcwlSO"
      }
    },
    {
      "cell_type": "code",
      "source": [
        "N = int(input())\n",
        "num_list = list(map(int, input().split()))\n",
        "num_list.sort()\n",
        "max_sum = -1\n",
        "\n",
        "for i in range(N):\n",
        "    num1 = num_list[i]\n",
        "    num2 = num_list[2 * N - (i + 1)]\n",
        "    if(num1 + num2 > max_sum):\n",
        "        max_sum = num1 + num2\n",
        "\n",
        "print(max_sum)"
      ],
      "metadata": {
        "id": "hylqTcpIwoHm"
      },
      "execution_count": null,
      "outputs": []
    },
    {
      "cell_type": "markdown",
      "source": [
        "순서를 바꾸었을 때 같은 단어인지 판별하기\n",
        "- https://inha.codetree.ai/missions/5/problems/determine-same-word/description"
      ],
      "metadata": {
        "id": "nd174Eljxert"
      }
    },
    {
      "cell_type": "code",
      "source": [
        "s1 = input()\n",
        "s2 = input()\n",
        "s1_list = []\n",
        "s2_list = []\n",
        "if(len(s1) != len(s2)):\n",
        "    print('No')\n",
        "else:\n",
        "    for i in range(len(s1)):\n",
        "        s1_list.append(s1[i])\n",
        "        s2_list.append(s2[i])\n",
        "    s1_list.sort()\n",
        "    s2_list.sort()\n",
        "    check_val = 1\n",
        "    for i in range(len(s1)):\n",
        "        if(s1_list[i] != s2_list[i]):\n",
        "            check_val = 0\n",
        "    if(check_val == 1):\n",
        "        print('Yes')\n",
        "    else:\n",
        "        print('No')"
      ],
      "metadata": {
        "id": "4B5REANJxhHu"
      },
      "execution_count": null,
      "outputs": []
    },
    {
      "cell_type": "code",
      "source": [
        "# 예시 답안\n",
        "str1 = input()\n",
        "str2 = input()\n",
        "\n",
        "# 각 문자열을 정렬했을 때 두 문자열이 일치하는지 비교합니다.\n",
        "print(\"Yes\" if sorted(str1) == sorted(str2) else \"No\")"
      ],
      "metadata": {
        "id": "f6Kszhk5yyMy"
      },
      "execution_count": null,
      "outputs": []
    },
    {
      "cell_type": "markdown",
      "source": [
        "k번째로 신기한 문자열\n",
        "- https://inha.codetree.ai/missions/5/problems/kth-special-string/description"
      ],
      "metadata": {
        "id": "cHlpTa83yxUT"
      }
    },
    {
      "cell_type": "code",
      "source": [
        "n, k, T = input().split()\n",
        "n, k = int(n), int(k)\n",
        "str_list = []\n",
        "\n",
        "for i in range(n):\n",
        "    s = input()\n",
        "    check_val = 1\n",
        "    if(len(s) < len(T)): # 문자열 T가 주어진 단어보다 길이가 더 길 경우는 비교할 필요가 없다\n",
        "        continue\n",
        "    for j in range(len(T)):\n",
        "        if(s[j] != T[j]):\n",
        "            check_val = 0\n",
        "    if(check_val == 1):\n",
        "        str_list.append(s)\n",
        "\n",
        "str_list.sort()\n",
        "print(str_list[k - 1])"
      ],
      "metadata": {
        "id": "3n51PHKFy3y5"
      },
      "execution_count": null,
      "outputs": []
    },
    {
      "cell_type": "markdown",
      "source": [
        "중앙값 계산 2\n",
        "- https://inha.codetree.ai/missions/5/problems/get-median-2/description"
      ],
      "metadata": {
        "id": "BnQUalmu1M01"
      }
    },
    {
      "cell_type": "code",
      "source": [
        "n = int(input())\n",
        "num_list = list(map(int, input().split()))\n",
        "mid_list = []\n",
        "for i in range(n):\n",
        "    mid_list.append(num_list[i])\n",
        "    if(i % 2 == 0):\n",
        "        mid_list.sort()\n",
        "        print(mid_list[i // 2], end = ' ')"
      ],
      "metadata": {
        "id": "0RTAk2hG1N4p"
      },
      "execution_count": null,
      "outputs": []
    }
  ]
}