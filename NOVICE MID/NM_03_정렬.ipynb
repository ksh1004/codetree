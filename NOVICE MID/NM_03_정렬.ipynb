{
  "nbformat": 4,
  "nbformat_minor": 0,
  "metadata": {
    "colab": {
      "provenance": []
    },
    "kernelspec": {
      "name": "python3",
      "display_name": "Python 3"
    },
    "language_info": {
      "name": "python"
    }
  },
  "cells": [
    {
      "cell_type": "markdown",
      "source": [
        "# 일반 정렬"
      ],
      "metadata": {
        "id": "9Iv0XtcQvynE"
      }
    },
    {
      "cell_type": "markdown",
      "source": [
        "오름 내림차순 정렬\n",
        "- https://inha.codetree.ai/missions/5/problems/inc-dec-sorting/description"
      ],
      "metadata": {
        "id": "dRsQn72zv2WB"
      }
    },
    {
      "cell_type": "code",
      "execution_count": null,
      "metadata": {
        "id": "nQTHeI_0vttx"
      },
      "outputs": [],
      "source": [
        "n = int(input())\n",
        "num_list = list(map(int, input().split()))\n",
        "\n",
        "num_list.sort()\n",
        "for i in num_list:\n",
        "    print(i, end = ' ')\n",
        "\n",
        "print()\n",
        "\n",
        "num_list.sort(reverse=True)\n",
        "for i in num_list:\n",
        "    print(i, end = ' ')"
      ]
    },
    {
      "cell_type": "markdown",
      "source": [
        "문자열 정렬\n",
        "- https://inha.codetree.ai/missions/5/problems/string-sort/description"
      ],
      "metadata": {
        "id": "QW88guThxyW6"
      }
    },
    {
      "cell_type": "code",
      "source": [
        "s = input()\n",
        "str_list = []\n",
        "\n",
        "for i in range(len(s)):\n",
        "    str_list.append(s[i])\n",
        "\n",
        "str_list.sort()\n",
        "for i in str_list:\n",
        "    print(i, end = '')"
      ],
      "metadata": {
        "id": "Gb7QxIZQx1Lr"
      },
      "execution_count": null,
      "outputs": []
    },
    {
      "cell_type": "markdown",
      "source": [
        "단어 정렬\n",
        "- https://inha.codetree.ai/missions/5/problems/sorting-words/description"
      ],
      "metadata": {
        "id": "GRS-QGQYydsH"
      }
    },
    {
      "cell_type": "code",
      "source": [
        "n = int(input())\n",
        "str_list = []\n",
        "for i in range(n):\n",
        "    s = input()\n",
        "    str_list.append(s)\n",
        "\n",
        "str_list.sort()\n",
        "for i in str_list:\n",
        "    print(i)"
      ],
      "metadata": {
        "id": "RRQwzuyzyhmQ"
      },
      "execution_count": null,
      "outputs": []
    },
    {
      "cell_type": "markdown",
      "source": [
        "Top k 숫자 구하기\n",
        "- https://inha.codetree.ai/missions/5/problems/kth-number/description"
      ],
      "metadata": {
        "id": "rxnIzw1yu9V4"
      }
    },
    {
      "cell_type": "code",
      "source": [
        "N, k = map(int, input().split())\n",
        "num_list = list(map(int, input().split()))\n",
        "num_list.sort()\n",
        "print(num_list[k - 1])"
      ],
      "metadata": {
        "id": "qNehyiGou_rB"
      },
      "execution_count": null,
      "outputs": []
    },
    {
      "cell_type": "markdown",
      "source": [
        "두 개의 동일한 수열\n",
        "- https://inha.codetree.ai/missions/5/problems/two-equal-series/description"
      ],
      "metadata": {
        "id": "yAl0vtlfvJJe"
      }
    },
    {
      "cell_type": "code",
      "source": [
        "n = int(input())\n",
        "A = list(map(int, input().split()))\n",
        "B = list(map(int, input().split()))\n",
        "\n",
        "A.sort()\n",
        "B.sort()\n",
        "check_val = 1 # 같은 원소로 이루어져 있는지 판단하는 변수\n",
        "for i in range(n):\n",
        "    if(A[i] != B[i]): # 값이 다르면\n",
        "        check_val = 0\n",
        "        break\n",
        "\n",
        "if(check_val == 1):\n",
        "    print('Yes')\n",
        "else:\n",
        "    print('No')"
      ],
      "metadata": {
        "id": "JdUtDtpyvKgN"
      },
      "execution_count": null,
      "outputs": []
    },
    {
      "cell_type": "markdown",
      "source": [
        "2개씩 그룹짓기\n",
        "- https://inha.codetree.ai/missions/5/problems/group-of-pairs/description"
      ],
      "metadata": {
        "id": "96LPZJzcwlSO"
      }
    },
    {
      "cell_type": "code",
      "source": [
        "N = int(input())\n",
        "num_list = list(map(int, input().split()))\n",
        "num_list.sort()\n",
        "max_sum = -1\n",
        "\n",
        "for i in range(N):\n",
        "    num1 = num_list[i]\n",
        "    num2 = num_list[2 * N - (i + 1)]\n",
        "    if(num1 + num2 > max_sum):\n",
        "        max_sum = num1 + num2\n",
        "\n",
        "print(max_sum)"
      ],
      "metadata": {
        "id": "hylqTcpIwoHm"
      },
      "execution_count": null,
      "outputs": []
    },
    {
      "cell_type": "markdown",
      "source": [
        "순서를 바꾸었을 때 같은 단어인지 판별하기\n",
        "- https://inha.codetree.ai/missions/5/problems/determine-same-word/description"
      ],
      "metadata": {
        "id": "nd174Eljxert"
      }
    },
    {
      "cell_type": "code",
      "source": [
        "s1 = input()\n",
        "s2 = input()\n",
        "s1_list = []\n",
        "s2_list = []\n",
        "if(len(s1) != len(s2)):\n",
        "    print('No')\n",
        "else:\n",
        "    for i in range(len(s1)):\n",
        "        s1_list.append(s1[i])\n",
        "        s2_list.append(s2[i])\n",
        "    s1_list.sort()\n",
        "    s2_list.sort()\n",
        "    check_val = 1\n",
        "    for i in range(len(s1)):\n",
        "        if(s1_list[i] != s2_list[i]):\n",
        "            check_val = 0\n",
        "    if(check_val == 1):\n",
        "        print('Yes')\n",
        "    else:\n",
        "        print('No')"
      ],
      "metadata": {
        "id": "4B5REANJxhHu"
      },
      "execution_count": null,
      "outputs": []
    },
    {
      "cell_type": "code",
      "source": [
        "# 예시 답안\n",
        "str1 = input()\n",
        "str2 = input()\n",
        "\n",
        "# 각 문자열을 정렬했을 때 두 문자열이 일치하는지 비교합니다.\n",
        "print(\"Yes\" if sorted(str1) == sorted(str2) else \"No\")"
      ],
      "metadata": {
        "id": "f6Kszhk5yyMy"
      },
      "execution_count": null,
      "outputs": []
    },
    {
      "cell_type": "markdown",
      "source": [
        "k번째로 신기한 문자열\n",
        "- https://inha.codetree.ai/missions/5/problems/kth-special-string/description"
      ],
      "metadata": {
        "id": "cHlpTa83yxUT"
      }
    },
    {
      "cell_type": "code",
      "source": [
        "n, k, T = input().split()\n",
        "n, k = int(n), int(k)\n",
        "str_list = []\n",
        "\n",
        "for i in range(n):\n",
        "    s = input()\n",
        "    check_val = 1\n",
        "    if(len(s) < len(T)): # 문자열 T가 주어진 단어보다 길이가 더 길 경우는 비교할 필요가 없다\n",
        "        continue\n",
        "    for j in range(len(T)):\n",
        "        if(s[j] != T[j]):\n",
        "            check_val = 0\n",
        "    if(check_val == 1):\n",
        "        str_list.append(s)\n",
        "\n",
        "str_list.sort()\n",
        "print(str_list[k - 1])"
      ],
      "metadata": {
        "id": "3n51PHKFy3y5"
      },
      "execution_count": null,
      "outputs": []
    },
    {
      "cell_type": "markdown",
      "source": [
        "중앙값 계산 2\n",
        "- https://inha.codetree.ai/missions/5/problems/get-median-2/description"
      ],
      "metadata": {
        "id": "BnQUalmu1M01"
      }
    },
    {
      "cell_type": "code",
      "source": [
        "n = int(input())\n",
        "num_list = list(map(int, input().split()))\n",
        "mid_list = []\n",
        "for i in range(n):\n",
        "    mid_list.append(num_list[i])\n",
        "    if(i % 2 == 0):\n",
        "        mid_list.sort()\n",
        "        print(mid_list[i // 2], end = ' ')"
      ],
      "metadata": {
        "id": "0RTAk2hG1N4p"
      },
      "execution_count": null,
      "outputs": []
    },
    {
      "cell_type": "markdown",
      "source": [
        "# 객체"
      ],
      "metadata": {
        "id": "PMhjEDMEkVbQ"
      }
    },
    {
      "cell_type": "markdown",
      "source": [
        "007\n",
        "- https://inha.codetree.ai/missions/5/problems/007/description"
      ],
      "metadata": {
        "id": "6zgK08gGkWk2"
      }
    },
    {
      "cell_type": "markdown",
      "source": [
        "**객체 이름은 대문자로 시작(관습 상)**"
      ],
      "metadata": {
        "id": "w9Kg1c3FpABM"
      }
    },
    {
      "cell_type": "code",
      "source": [
        "# 객체\n",
        "class Cls:\n",
        "    def __init__(self, code, location, time):\n",
        "        self.code = code\n",
        "        self.location = location\n",
        "        self.time = time\n",
        "\n",
        "code, location, time = input().split()\n",
        "cls1 = Cls(code, location, time)\n",
        "print(f'secret code : {cls1.code}')\n",
        "print(f'meeting point : {cls1.location}')\n",
        "print(f'time : {cls1.time}')"
      ],
      "metadata": {
        "id": "ttU0iheJkY_4"
      },
      "execution_count": null,
      "outputs": []
    },
    {
      "cell_type": "markdown",
      "source": [
        "Next Level\n",
        "- https://inha.codetree.ai/missions/5/problems/next-level/description"
      ],
      "metadata": {
        "id": "mCztn-ZxlNe_"
      }
    },
    {
      "cell_type": "code",
      "source": [
        "class User:\n",
        "    def __init__(self, id_val = 'codetree', level = '10'):\n",
        "        self.id_val = id_val\n",
        "        self.level = level\n",
        "\n",
        "id_val, level = input().split()\n",
        "user1 = User()\n",
        "print(f'user {user1.id_val} lv {user1.level}')\n",
        "user1.id_val = id_val\n",
        "user1.level = level\n",
        "print(f'user {user1.id_val} lv {user1.level}')"
      ],
      "metadata": {
        "id": "uKUEQPOVmZNr"
      },
      "execution_count": null,
      "outputs": []
    },
    {
      "cell_type": "markdown",
      "source": [
        "코드네임\n",
        "- https://inha.codetree.ai/missions/5/problems/code-name/description"
      ],
      "metadata": {
        "id": "jPX_Dv1RmhWs"
      }
    },
    {
      "cell_type": "code",
      "source": [
        "class Agent:\n",
        "    def __init__(self, codename = '', score = 101):\n",
        "        self.codename = codename\n",
        "        self.score = score\n",
        "\n",
        "agent = Agent()\n",
        "for i in range(5):\n",
        "    codename, score = input().split()\n",
        "    score = int(score)\n",
        "    if(score < agent.score):\n",
        "        agent.codename = codename\n",
        "        agent.score = score\n",
        "\n",
        "print(f'{agent.codename} {agent.score}')"
      ],
      "metadata": {
        "id": "FqTeaHH1mhMi"
      },
      "execution_count": null,
      "outputs": []
    },
    {
      "cell_type": "markdown",
      "source": [
        "폭탄 해제\n",
        "- https://inha.codetree.ai/missions/5/problems/bomb-removal/description"
      ],
      "metadata": {
        "id": "NqJRifo0nhIQ"
      }
    },
    {
      "cell_type": "code",
      "source": [
        "class Bomb:\n",
        "    def __init__(self, code, color, time):\n",
        "        self.code = code\n",
        "        self.color = color\n",
        "        self.time = time\n",
        "\n",
        "code, color, time = input().split()\n",
        "bomb1 = Bomb(code, color, time)\n",
        "print(f'code : {bomb1.code}')\n",
        "print(f'color : {bomb1.color}')\n",
        "print(f'second : {bomb1.time}')"
      ],
      "metadata": {
        "id": "E6-1ConiniSK"
      },
      "execution_count": null,
      "outputs": []
    },
    {
      "cell_type": "markdown",
      "source": [
        "상품 코드\n",
        "- https://inha.codetree.ai/missions/5/problems/product-code/description"
      ],
      "metadata": {
        "id": "RTIXRLITn_pN"
      }
    },
    {
      "cell_type": "code",
      "source": [
        "class Code:\n",
        "    def __init__(self, name = 'codetree', code = '50'):\n",
        "        self.name = name\n",
        "        self.code = code\n",
        "\n",
        "name, code = input().split()\n",
        "code1 = Code()\n",
        "print(f'product {code1.code} is {code1.name}')\n",
        "code1.name = name\n",
        "code1.code = code\n",
        "print(f'product {code1.code} is {code1.name}')"
      ],
      "metadata": {
        "id": "9UUkUux2oBkE"
      },
      "execution_count": null,
      "outputs": []
    },
    {
      "cell_type": "markdown",
      "source": [
        "사는 지역\n",
        "- https://inha.codetree.ai/missions/5/problems/where-live/description"
      ],
      "metadata": {
        "id": "YWyRdKJuod4U"
      }
    },
    {
      "cell_type": "code",
      "source": [
        "class Info:\n",
        "    def __init__(self, name, code, loc):\n",
        "        self.name = name\n",
        "        self.code = code\n",
        "        self.loc = loc\n",
        "\n",
        "n = int(input())\n",
        "class_list = []\n",
        "for i in range(n):\n",
        "    name, code, loc = input().split()\n",
        "    class_list.append(Info(name, code, loc))\n",
        "\n",
        "name_list = []\n",
        "for i in range(n):\n",
        "    name_list.append(class_list[i].name)\n",
        "name_list.sort()\n",
        "last_name = name_list[n - 1]\n",
        "for i in range(n):\n",
        "    if(class_list[i].name == last_name):\n",
        "        print(f'name {class_list[i].name}')\n",
        "        print(f'addr {class_list[i].code}')\n",
        "        print(f'city {class_list[i].loc}')\n",
        "        break"
      ],
      "metadata": {
        "id": "qM_5jT-BogWP"
      },
      "execution_count": null,
      "outputs": []
    },
    {
      "cell_type": "code",
      "source": [
        "# 예시 답안\n",
        "class Address:\n",
        "    def __init__(self, name, address, region):\n",
        "        self.name = name\n",
        "        self.address = address\n",
        "        self.region = region\n",
        "\n",
        "\n",
        "# 변수 선언 및 입력\n",
        "n = int(input())\n",
        "arr = [tuple(input().split()) for _ in range(n)]\n",
        "people = [Address(name, address, region) for name, address, region in arr]\n",
        "\n",
        "# 사전순으로 이름이 가장 느린 사람 찾기\n",
        "target_idx = 0\n",
        "for i, person in enumerate(people):\n",
        "    if person.name > people[target_idx].name:\n",
        "        target_idx = i\n",
        "\n",
        "# 결과 출력\n",
        "print(f\"name {people[target_idx].name}\")\n",
        "print(f\"addr {people[target_idx].address}\")\n",
        "print(f\"city {people[target_idx].region}\")"
      ],
      "metadata": {
        "id": "veixOzCnqiNt"
      },
      "execution_count": null,
      "outputs": []
    },
    {
      "cell_type": "markdown",
      "source": [
        "비오는 날\n",
        "- https://inha.codetree.ai/missions/5/problems/rainy-day/description"
      ],
      "metadata": {
        "id": "L6qQbDtiqg80"
      }
    },
    {
      "cell_type": "code",
      "source": [
        "class Data:\n",
        "    def __init__(self, day, date, weather):\n",
        "        self.day = day\n",
        "        self.date = date\n",
        "        self.weather = weather\n",
        "\n",
        "n = int(input())\n",
        "data_list = []\n",
        "\n",
        "for i in range(n):\n",
        "    day, date, weather = input().split()\n",
        "    if(weather == 'Rain'):\n",
        "        data_list.append(Data(day, date, weather))\n",
        "\n",
        "day_list = []\n",
        "\n",
        "for i in range(len(data_list)):\n",
        "    day_list.append(data_list[i].day)\n",
        "\n",
        "day_list.sort()\n",
        "day_val = day_list[0]\n",
        "\n",
        "for i in range(len(data_list)):\n",
        "    if(day_val == data_list[i].day):\n",
        "        print(f'{data_list[i].day} {data_list[i].date} {data_list[i].weather}')\n",
        "        break"
      ],
      "metadata": {
        "id": "nREV1OtlqsSB"
      },
      "execution_count": null,
      "outputs": []
    },
    {
      "cell_type": "markdown",
      "source": [
        "# 객체 정렬"
      ],
      "metadata": {
        "id": "E9vWi9gsRK9r"
      }
    },
    {
      "cell_type": "markdown",
      "source": [
        "키를 기준으로 정렬\n",
        "- https://inha.codetree.ai/missions/5/problems/sort-by-height/description"
      ],
      "metadata": {
        "id": "VymrWG-KRMQA"
      }
    },
    {
      "cell_type": "markdown",
      "source": [
        "lambda는 함수이지만 이름 없이 사용하는 함수\n",
        "- f = lambda x: x * 2\n",
        "- print(f(3)) # 6"
      ],
      "metadata": {
        "id": "k5cqjE_YSOb1"
      }
    },
    {
      "cell_type": "code",
      "source": [
        "class Info:\n",
        "    def __init__(self, name, height, weight):\n",
        "        self.name = name\n",
        "        self.height = height\n",
        "        self.weight = weight\n",
        "\n",
        "info = []\n",
        "n = int(input())\n",
        "for i in range(n):\n",
        "    name, height, weight = input().split()\n",
        "    height, weight = int(height), int(weight)\n",
        "    info.append(Info(name, height, weight))\n",
        "\n",
        "info.sort(key = lambda x: x.height)\n",
        "for data in info:\n",
        "    print(data.name, data.height, data.weight)"
      ],
      "metadata": {
        "id": "nucfuoxPRLzR"
      },
      "execution_count": null,
      "outputs": []
    },
    {
      "cell_type": "markdown",
      "source": [
        "국영수 순이지\n",
        "- https://inha.codetree.ai/missions/5/problems/korean-english-math-order/description"
      ],
      "metadata": {
        "id": "2J82QjLmSnfb"
      }
    },
    {
      "cell_type": "markdown",
      "source": [
        "여러 우선순위를 갖는 경우에는, lambda 함수의 반환값을 단일 값이 아닌, tuple값으로 정의"
      ],
      "metadata": {
        "id": "PSpDUtoRSowU"
      }
    },
    {
      "cell_type": "markdown",
      "source": [
        "tuple은 굉장히 특이한 특성을 가지고 있다. 2개의 원소로 이루어져 있는 tuple끼리 비교 연산을 하면, 첫 번째 원소를 기준으로 먼저 비교를 하고, 첫 번째 원소가 동일하다면 두 번째 원소를 기준으로 비교를 하게 된다."
      ],
      "metadata": {
        "id": "d12PvinaSt_K"
      }
    },
    {
      "cell_type": "code",
      "source": [
        "class Score:\n",
        "    def __init__(self, name, korean, english, math):\n",
        "        self.name = name\n",
        "        self.korean = korean\n",
        "        self.english = english\n",
        "        self.math = math\n",
        "\n",
        "n = int(input())\n",
        "score = []\n",
        "for i in range(n):\n",
        "    name, korean, english, math = input().split()\n",
        "    korean, english, math = int(korean), int(english), int(math)\n",
        "    score.append(Score(name, korean, english, math))\n",
        "\n",
        "score.sort(key = lambda x: (x.korean, x.english, x.math), reverse = True)\n",
        "\n",
        "for data in score:\n",
        "    print(data.name, data.korean, data.english, data.math)"
      ],
      "metadata": {
        "id": "XZB3CpuaSodq"
      },
      "execution_count": null,
      "outputs": []
    },
    {
      "cell_type": "markdown",
      "source": [
        "총점 비교\n",
        "- https://inha.codetree.ai/missions/5/problems/compare-total-points/description"
      ],
      "metadata": {
        "id": "KF_RHUvwT6RX"
      }
    },
    {
      "cell_type": "code",
      "source": [
        "class Score:\n",
        "    def __init__(self, name, c1, c2, c3):\n",
        "        self.name = name\n",
        "        self.c1 = c1\n",
        "        self.c2 = c2\n",
        "        self.c3 = c3\n",
        "\n",
        "n = int(input())\n",
        "score = []\n",
        "for i in range(n):\n",
        "    name, c1, c2, c3 = input().split()\n",
        "    c1, c2, c3 = int(c1), int(c2), int(c3)\n",
        "    score.append(Score(name, c1, c2, c3))\n",
        "\n",
        "score.sort(key = lambda x: (x.c1 + x.c2 + x.c3))\n",
        "\n",
        "for data in score:\n",
        "    print(data.name, data.c1, data.c2, data.c3)"
      ],
      "metadata": {
        "id": "hDFbKC9uT7gv"
      },
      "execution_count": null,
      "outputs": []
    },
    {
      "cell_type": "markdown",
      "source": [
        "줄 세우기\n",
        "- https://inha.codetree.ai/missions/5/problems/line-up-students/description"
      ],
      "metadata": {
        "id": "mNC581NjUYQQ"
      }
    },
    {
      "cell_type": "code",
      "source": [
        "class Student:\n",
        "    def __init__(self, height, weight, number):\n",
        "        self.height = height\n",
        "        self.weight = weight\n",
        "        self.number = number\n",
        "\n",
        "N = int(input())\n",
        "student = []\n",
        "for i in range(N, 0, -1):\n",
        "    height, weight = map(int, input().split())\n",
        "    student.append(Student(height, weight, i))\n",
        "\n",
        "student.sort(lambda x: (x.height, x.weight, x.number), reverse = True)\n",
        "\n",
        "for i in student:\n",
        "    print(i.height, i.weight, (N - i.number + 1))"
      ],
      "metadata": {
        "id": "kPU7WAfNUbjC"
      },
      "execution_count": null,
      "outputs": []
    },
    {
      "cell_type": "code",
      "source": [
        "# 예시 답안\n",
        "# 클래스 선언\n",
        "class Student:\n",
        "    def __init__(self, height, weight, number):\n",
        "        self.height, self.weight, self.number = height, weight, number\n",
        "\n",
        "\n",
        "# 변수 선언 및 입력\n",
        "n = int(input())\n",
        "students = []\n",
        "for i in range(1, n + 1):\n",
        "    height, weight = tuple(map(int, input().split()))\n",
        "    students.append(Student(height, weight, i))\n",
        "\n",
        "# Custom Comparator를 활용한 정렬\n",
        "students.sort(key=lambda x: (-x.height, -x.weight, x.number)) #\n",
        "\n",
        "# 출력\n",
        "for student in students:\n",
        "    print(student.height, student.weight, student.number)"
      ],
      "metadata": {
        "id": "xq18cSewWRNR"
      },
      "execution_count": null,
      "outputs": []
    },
    {
      "cell_type": "markdown",
      "source": [
        "개인정보\n",
        "- https://inha.codetree.ai/missions/5/problems/personal-info/description"
      ],
      "metadata": {
        "id": "JSms8n7GWi2X"
      }
    },
    {
      "cell_type": "code",
      "source": [
        "class Person:\n",
        "    def __init__(self, name, height, weight):\n",
        "        self.name = name\n",
        "        self.height = height\n",
        "        self.weight = weight\n",
        "\n",
        "n = 5\n",
        "person = []\n",
        "for i in range(n):\n",
        "    name, height, weight = input().split()\n",
        "    height, weight = int(height), float(weight)\n",
        "    person.append(Person(name, height, weight))\n",
        "\n",
        "person.sort(key = lambda x : x.name)\n",
        "print('name')\n",
        "for i in person:\n",
        "    print(i.name, i.height, i.weight)\n",
        "\n",
        "print()\n",
        "print('height')\n",
        "person.sort(key = lambda x : -x.height)\n",
        "for i in person:\n",
        "    print(i.name, i.height, i.weight)"
      ],
      "metadata": {
        "id": "m9QSnDpJWkO-"
      },
      "execution_count": null,
      "outputs": []
    },
    {
      "cell_type": "markdown",
      "source": [
        "키, 몸무게를 기준으로 정렬\n",
        "- https://inha.codetree.ai/missions/5/problems/sort-by-height-and-weight/description"
      ],
      "metadata": {
        "id": "AT-WmRIHXpoh"
      }
    },
    {
      "cell_type": "code",
      "source": [
        "class Person:\n",
        "    def __init__(self, name, height, weight):\n",
        "        self.name = name\n",
        "        self.height = height\n",
        "        self.weight = weight\n",
        "\n",
        "n = int(input())\n",
        "person = []\n",
        "for i in range(n):\n",
        "    name, height, weight = input().split()\n",
        "    height, weight = int(height), int(weight)\n",
        "    person.append(Person(name, height, weight))\n",
        "\n",
        "person.sort(key = lambda x: (x.height, -x.weight))\n",
        "for i in person:\n",
        "    print(i.name, i.height, i.weight)"
      ],
      "metadata": {
        "id": "-GYZldHDXr63"
      },
      "execution_count": null,
      "outputs": []
    },
    {
      "cell_type": "markdown",
      "source": [
        "원점으로부터의 거리\n",
        "- https://inha.codetree.ai/missions/5/problems/distance-from-origin/description"
      ],
      "metadata": {
        "id": "CxwpykTYYk2B"
      }
    },
    {
      "cell_type": "code",
      "source": [
        "class Point:\n",
        "    def __init__(self, x, y, number):\n",
        "        self.x = x\n",
        "        self.y = y\n",
        "        self.number = number\n",
        "\n",
        "N = int(input())\n",
        "point = []\n",
        "for i in range(1, N + 1):\n",
        "    x, y = map(int, input().split())\n",
        "    point.append(Point(x, y, i))\n",
        "\n",
        "point.sort(key = lambda x: (abs(x.x) + abs(x.y), x.number))\n",
        "\n",
        "for i in point:\n",
        "    print(i.number)"
      ],
      "metadata": {
        "id": "IoVAxg9FYmZh"
      },
      "execution_count": null,
      "outputs": []
    },
    {
      "cell_type": "markdown",
      "source": [
        "정렬된 숫자 위치 알아내기\n",
        "- https://inha.codetree.ai/missions/5/problems/indices-of-sorted-array/description"
      ],
      "metadata": {
        "id": "QEllUt1nZjfq"
      }
    },
    {
      "cell_type": "code",
      "source": [
        "class Number:\n",
        "    def __init__(self, number, first):\n",
        "        self.number = number\n",
        "        self.first = first\n",
        "        self.last = -1\n",
        "\n",
        "number = []\n",
        "N = int(input())\n",
        "num_list1 = list(map(int, input().split())) # 처음 입력받은 수열\n",
        "num_list2 = [] # 최종 수열\n",
        "for i in range(1, len(num_list1) + 1):\n",
        "    number.append(Number(num_list1[i - 1], i))\n",
        "\n",
        "# 이동한 위치를 저장하는 과정\n",
        "number.sort(key = lambda x: (x.number, x.first))\n",
        "for i in range(0, len(number)):\n",
        "    number[i].last = i + 1 # 이동한 위치를 last에 저장\n",
        "\n",
        "# 다시 입력으로 받은 순서대로 정렬 후 이동한 위치를 출력\n",
        "number.sort(key = lambda x : x.first)\n",
        "for i in number:\n",
        "    print(i.last, end = ' ')"
      ],
      "metadata": {
        "id": "WkHRRbZPZmTE"
      },
      "execution_count": null,
      "outputs": []
    },
    {
      "cell_type": "markdown",
      "source": [
        "줄 세우기 2\n",
        "- https://inha.codetree.ai/missions/5/problems/line-up-students-2/description"
      ],
      "metadata": {
        "id": "hZysnGi2dR8R"
      }
    },
    {
      "cell_type": "code",
      "source": [
        "class Student:\n",
        "    def __init__(self, height, weight, number):\n",
        "        self.height = height\n",
        "        self.weight = weight\n",
        "        self.number = number\n",
        "\n",
        "N = int(input())\n",
        "student = []\n",
        "for i in range(1, N + 1):\n",
        "    h, w = map(int, input().split())\n",
        "    student.append(Student(h, w, i))\n",
        "\n",
        "student.sort(key = lambda x: (x.height, -x.weight))\n",
        "for i in student:\n",
        "    print(i.height, i.weight, i.number)"
      ],
      "metadata": {
        "id": "EPYcIBMzdXPx"
      },
      "execution_count": null,
      "outputs": []
    }
  ]
}