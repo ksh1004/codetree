{
  "nbformat": 4,
  "nbformat_minor": 0,
  "metadata": {
    "colab": {
      "provenance": []
    },
    "kernelspec": {
      "name": "python3",
      "display_name": "Python 3"
    },
    "language_info": {
      "name": "python"
    }
  },
  "cells": [
    {
      "cell_type": "markdown",
      "source": [
        "# 일반 정렬"
      ],
      "metadata": {
        "id": "9Iv0XtcQvynE"
      }
    },
    {
      "cell_type": "markdown",
      "source": [
        "오름 내림차순 정렬\n",
        "- https://inha.codetree.ai/missions/5/problems/inc-dec-sorting/description"
      ],
      "metadata": {
        "id": "dRsQn72zv2WB"
      }
    },
    {
      "cell_type": "code",
      "execution_count": null,
      "metadata": {
        "id": "nQTHeI_0vttx"
      },
      "outputs": [],
      "source": [
        "n = int(input())\n",
        "num_list = list(map(int, input().split()))\n",
        "\n",
        "num_list.sort()\n",
        "for i in num_list:\n",
        "    print(i, end = ' ')\n",
        "\n",
        "print()\n",
        "\n",
        "num_list.sort(reverse=True)\n",
        "for i in num_list:\n",
        "    print(i, end = ' ')"
      ]
    },
    {
      "cell_type": "markdown",
      "source": [
        "문자열 정렬\n",
        "- https://inha.codetree.ai/missions/5/problems/string-sort/description"
      ],
      "metadata": {
        "id": "QW88guThxyW6"
      }
    },
    {
      "cell_type": "code",
      "source": [
        "s = input()\n",
        "str_list = []\n",
        "\n",
        "for i in range(len(s)):\n",
        "    str_list.append(s[i])\n",
        "\n",
        "str_list.sort()\n",
        "for i in str_list:\n",
        "    print(i, end = '')"
      ],
      "metadata": {
        "id": "Gb7QxIZQx1Lr"
      },
      "execution_count": null,
      "outputs": []
    },
    {
      "cell_type": "markdown",
      "source": [
        "단어 정렬\n",
        "- https://inha.codetree.ai/missions/5/problems/sorting-words/description"
      ],
      "metadata": {
        "id": "GRS-QGQYydsH"
      }
    },
    {
      "cell_type": "code",
      "source": [
        "n = int(input())\n",
        "str_list = []\n",
        "for i in range(n):\n",
        "    s = input()\n",
        "    str_list.append(s)\n",
        "\n",
        "str_list.sort()\n",
        "for i in str_list:\n",
        "    print(i)"
      ],
      "metadata": {
        "id": "RRQwzuyzyhmQ"
      },
      "execution_count": null,
      "outputs": []
    },
    {
      "cell_type": "markdown",
      "source": [
        "Top k 숫자 구하기\n",
        "- https://inha.codetree.ai/missions/5/problems/kth-number/description"
      ],
      "metadata": {
        "id": "rxnIzw1yu9V4"
      }
    },
    {
      "cell_type": "code",
      "source": [
        "N, k = map(int, input().split())\n",
        "num_list = list(map(int, input().split()))\n",
        "num_list.sort()\n",
        "print(num_list[k - 1])"
      ],
      "metadata": {
        "id": "qNehyiGou_rB"
      },
      "execution_count": null,
      "outputs": []
    },
    {
      "cell_type": "markdown",
      "source": [
        "두 개의 동일한 수열\n",
        "- https://inha.codetree.ai/missions/5/problems/two-equal-series/description"
      ],
      "metadata": {
        "id": "yAl0vtlfvJJe"
      }
    },
    {
      "cell_type": "code",
      "source": [
        "n = int(input())\n",
        "A = list(map(int, input().split()))\n",
        "B = list(map(int, input().split()))\n",
        "\n",
        "A.sort()\n",
        "B.sort()\n",
        "check_val = 1 # 같은 원소로 이루어져 있는지 판단하는 변수\n",
        "for i in range(n):\n",
        "    if(A[i] != B[i]): # 값이 다르면\n",
        "        check_val = 0\n",
        "        break\n",
        "\n",
        "if(check_val == 1):\n",
        "    print('Yes')\n",
        "else:\n",
        "    print('No')"
      ],
      "metadata": {
        "id": "JdUtDtpyvKgN"
      },
      "execution_count": null,
      "outputs": []
    },
    {
      "cell_type": "markdown",
      "source": [
        "2개씩 그룹짓기\n",
        "- https://inha.codetree.ai/missions/5/problems/group-of-pairs/description"
      ],
      "metadata": {
        "id": "96LPZJzcwlSO"
      }
    },
    {
      "cell_type": "code",
      "source": [
        "N = int(input())\n",
        "num_list = list(map(int, input().split()))\n",
        "num_list.sort()\n",
        "max_sum = -1\n",
        "\n",
        "for i in range(N):\n",
        "    num1 = num_list[i]\n",
        "    num2 = num_list[2 * N - (i + 1)]\n",
        "    if(num1 + num2 > max_sum):\n",
        "        max_sum = num1 + num2\n",
        "\n",
        "print(max_sum)"
      ],
      "metadata": {
        "id": "hylqTcpIwoHm"
      },
      "execution_count": null,
      "outputs": []
    },
    {
      "cell_type": "markdown",
      "source": [
        "순서를 바꾸었을 때 같은 단어인지 판별하기\n",
        "- https://inha.codetree.ai/missions/5/problems/determine-same-word/description"
      ],
      "metadata": {
        "id": "nd174Eljxert"
      }
    },
    {
      "cell_type": "code",
      "source": [
        "s1 = input()\n",
        "s2 = input()\n",
        "s1_list = []\n",
        "s2_list = []\n",
        "if(len(s1) != len(s2)):\n",
        "    print('No')\n",
        "else:\n",
        "    for i in range(len(s1)):\n",
        "        s1_list.append(s1[i])\n",
        "        s2_list.append(s2[i])\n",
        "    s1_list.sort()\n",
        "    s2_list.sort()\n",
        "    check_val = 1\n",
        "    for i in range(len(s1)):\n",
        "        if(s1_list[i] != s2_list[i]):\n",
        "            check_val = 0\n",
        "    if(check_val == 1):\n",
        "        print('Yes')\n",
        "    else:\n",
        "        print('No')"
      ],
      "metadata": {
        "id": "4B5REANJxhHu"
      },
      "execution_count": null,
      "outputs": []
    },
    {
      "cell_type": "code",
      "source": [
        "# 예시 답안\n",
        "str1 = input()\n",
        "str2 = input()\n",
        "\n",
        "# 각 문자열을 정렬했을 때 두 문자열이 일치하는지 비교합니다.\n",
        "print(\"Yes\" if sorted(str1) == sorted(str2) else \"No\")"
      ],
      "metadata": {
        "id": "f6Kszhk5yyMy"
      },
      "execution_count": null,
      "outputs": []
    },
    {
      "cell_type": "markdown",
      "source": [
        "k번째로 신기한 문자열\n",
        "- https://inha.codetree.ai/missions/5/problems/kth-special-string/description"
      ],
      "metadata": {
        "id": "cHlpTa83yxUT"
      }
    },
    {
      "cell_type": "code",
      "source": [
        "n, k, T = input().split()\n",
        "n, k = int(n), int(k)\n",
        "str_list = []\n",
        "\n",
        "for i in range(n):\n",
        "    s = input()\n",
        "    check_val = 1\n",
        "    if(len(s) < len(T)): # 문자열 T가 주어진 단어보다 길이가 더 길 경우는 비교할 필요가 없다\n",
        "        continue\n",
        "    for j in range(len(T)):\n",
        "        if(s[j] != T[j]):\n",
        "            check_val = 0\n",
        "    if(check_val == 1):\n",
        "        str_list.append(s)\n",
        "\n",
        "str_list.sort()\n",
        "print(str_list[k - 1])"
      ],
      "metadata": {
        "id": "3n51PHKFy3y5"
      },
      "execution_count": null,
      "outputs": []
    },
    {
      "cell_type": "markdown",
      "source": [
        "중앙값 계산 2\n",
        "- https://inha.codetree.ai/missions/5/problems/get-median-2/description"
      ],
      "metadata": {
        "id": "BnQUalmu1M01"
      }
    },
    {
      "cell_type": "code",
      "source": [
        "n = int(input())\n",
        "num_list = list(map(int, input().split()))\n",
        "mid_list = []\n",
        "for i in range(n):\n",
        "    mid_list.append(num_list[i])\n",
        "    if(i % 2 == 0):\n",
        "        mid_list.sort()\n",
        "        print(mid_list[i // 2], end = ' ')"
      ],
      "metadata": {
        "id": "0RTAk2hG1N4p"
      },
      "execution_count": null,
      "outputs": []
    },
    {
      "cell_type": "markdown",
      "source": [
        "# 객체"
      ],
      "metadata": {
        "id": "PMhjEDMEkVbQ"
      }
    },
    {
      "cell_type": "markdown",
      "source": [
        "007\n",
        "- https://inha.codetree.ai/missions/5/problems/007/description"
      ],
      "metadata": {
        "id": "6zgK08gGkWk2"
      }
    },
    {
      "cell_type": "markdown",
      "source": [
        "**객체 이름은 대문자로 시작(관습 상)**"
      ],
      "metadata": {
        "id": "w9Kg1c3FpABM"
      }
    },
    {
      "cell_type": "code",
      "source": [
        "# 객체\n",
        "class Cls:\n",
        "    def __init__(self, code, location, time):\n",
        "        self.code = code\n",
        "        self.location = location\n",
        "        self.time = time\n",
        "\n",
        "code, location, time = input().split()\n",
        "cls1 = Cls(code, location, time)\n",
        "print(f'secret code : {cls1.code}')\n",
        "print(f'meeting point : {cls1.location}')\n",
        "print(f'time : {cls1.time}')"
      ],
      "metadata": {
        "id": "ttU0iheJkY_4"
      },
      "execution_count": null,
      "outputs": []
    },
    {
      "cell_type": "markdown",
      "source": [
        "Next Level\n",
        "- https://inha.codetree.ai/missions/5/problems/next-level/description"
      ],
      "metadata": {
        "id": "mCztn-ZxlNe_"
      }
    },
    {
      "cell_type": "code",
      "source": [
        "class User:\n",
        "    def __init__(self, id_val = 'codetree', level = '10'):\n",
        "        self.id_val = id_val\n",
        "        self.level = level\n",
        "\n",
        "id_val, level = input().split()\n",
        "user1 = User()\n",
        "print(f'user {user1.id_val} lv {user1.level}')\n",
        "user1.id_val = id_val\n",
        "user1.level = level\n",
        "print(f'user {user1.id_val} lv {user1.level}')"
      ],
      "metadata": {
        "id": "uKUEQPOVmZNr"
      },
      "execution_count": null,
      "outputs": []
    },
    {
      "cell_type": "markdown",
      "source": [
        "코드네임\n",
        "- https://inha.codetree.ai/missions/5/problems/code-name/description"
      ],
      "metadata": {
        "id": "jPX_Dv1RmhWs"
      }
    },
    {
      "cell_type": "code",
      "source": [
        "class Agent:\n",
        "    def __init__(self, codename = '', score = 101):\n",
        "        self.codename = codename\n",
        "        self.score = score\n",
        "\n",
        "agent = Agent()\n",
        "for i in range(5):\n",
        "    codename, score = input().split()\n",
        "    score = int(score)\n",
        "    if(score < agent.score):\n",
        "        agent.codename = codename\n",
        "        agent.score = score\n",
        "\n",
        "print(f'{agent.codename} {agent.score}')"
      ],
      "metadata": {
        "id": "FqTeaHH1mhMi"
      },
      "execution_count": null,
      "outputs": []
    },
    {
      "cell_type": "markdown",
      "source": [
        "폭탄 해제\n",
        "- https://inha.codetree.ai/missions/5/problems/bomb-removal/description"
      ],
      "metadata": {
        "id": "NqJRifo0nhIQ"
      }
    },
    {
      "cell_type": "code",
      "source": [
        "class Bomb:\n",
        "    def __init__(self, code, color, time):\n",
        "        self.code = code\n",
        "        self.color = color\n",
        "        self.time = time\n",
        "\n",
        "code, color, time = input().split()\n",
        "bomb1 = Bomb(code, color, time)\n",
        "print(f'code : {bomb1.code}')\n",
        "print(f'color : {bomb1.color}')\n",
        "print(f'second : {bomb1.time}')"
      ],
      "metadata": {
        "id": "E6-1ConiniSK"
      },
      "execution_count": null,
      "outputs": []
    },
    {
      "cell_type": "markdown",
      "source": [
        "상품 코드\n",
        "- https://inha.codetree.ai/missions/5/problems/product-code/description"
      ],
      "metadata": {
        "id": "RTIXRLITn_pN"
      }
    },
    {
      "cell_type": "code",
      "source": [
        "class Code:\n",
        "    def __init__(self, name = 'codetree', code = '50'):\n",
        "        self.name = name\n",
        "        self.code = code\n",
        "\n",
        "name, code = input().split()\n",
        "code1 = Code()\n",
        "print(f'product {code1.code} is {code1.name}')\n",
        "code1.name = name\n",
        "code1.code = code\n",
        "print(f'product {code1.code} is {code1.name}')"
      ],
      "metadata": {
        "id": "9UUkUux2oBkE"
      },
      "execution_count": null,
      "outputs": []
    },
    {
      "cell_type": "markdown",
      "source": [
        "사는 지역\n",
        "- https://inha.codetree.ai/missions/5/problems/where-live/description"
      ],
      "metadata": {
        "id": "YWyRdKJuod4U"
      }
    },
    {
      "cell_type": "code",
      "source": [
        "class Info:\n",
        "    def __init__(self, name, code, loc):\n",
        "        self.name = name\n",
        "        self.code = code\n",
        "        self.loc = loc\n",
        "\n",
        "n = int(input())\n",
        "class_list = []\n",
        "for i in range(n):\n",
        "    name, code, loc = input().split()\n",
        "    class_list.append(Info(name, code, loc))\n",
        "\n",
        "name_list = []\n",
        "for i in range(n):\n",
        "    name_list.append(class_list[i].name)\n",
        "name_list.sort()\n",
        "last_name = name_list[n - 1]\n",
        "for i in range(n):\n",
        "    if(class_list[i].name == last_name):\n",
        "        print(f'name {class_list[i].name}')\n",
        "        print(f'addr {class_list[i].code}')\n",
        "        print(f'city {class_list[i].loc}')\n",
        "        break"
      ],
      "metadata": {
        "id": "qM_5jT-BogWP"
      },
      "execution_count": null,
      "outputs": []
    },
    {
      "cell_type": "code",
      "source": [
        "# 예시 답안\n",
        "class Address:\n",
        "    def __init__(self, name, address, region):\n",
        "        self.name = name\n",
        "        self.address = address\n",
        "        self.region = region\n",
        "\n",
        "\n",
        "# 변수 선언 및 입력\n",
        "n = int(input())\n",
        "arr = [tuple(input().split()) for _ in range(n)]\n",
        "people = [Address(name, address, region) for name, address, region in arr]\n",
        "\n",
        "# 사전순으로 이름이 가장 느린 사람 찾기\n",
        "target_idx = 0\n",
        "for i, person in enumerate(people):\n",
        "    if person.name > people[target_idx].name:\n",
        "        target_idx = i\n",
        "\n",
        "# 결과 출력\n",
        "print(f\"name {people[target_idx].name}\")\n",
        "print(f\"addr {people[target_idx].address}\")\n",
        "print(f\"city {people[target_idx].region}\")"
      ],
      "metadata": {
        "id": "veixOzCnqiNt"
      },
      "execution_count": null,
      "outputs": []
    },
    {
      "cell_type": "markdown",
      "source": [
        "비오는 날\n",
        "- https://inha.codetree.ai/missions/5/problems/rainy-day/description"
      ],
      "metadata": {
        "id": "L6qQbDtiqg80"
      }
    },
    {
      "cell_type": "code",
      "source": [
        "class Data:\n",
        "    def __init__(self, day, date, weather):\n",
        "        self.day = day\n",
        "        self.date = date\n",
        "        self.weather = weather\n",
        "\n",
        "n = int(input())\n",
        "data_list = []\n",
        "\n",
        "for i in range(n):\n",
        "    day, date, weather = input().split()\n",
        "    if(weather == 'Rain'):\n",
        "        data_list.append(Data(day, date, weather))\n",
        "\n",
        "day_list = []\n",
        "\n",
        "for i in range(len(data_list)):\n",
        "    day_list.append(data_list[i].day)\n",
        "\n",
        "day_list.sort()\n",
        "day_val = day_list[0]\n",
        "\n",
        "for i in range(len(data_list)):\n",
        "    if(day_val == data_list[i].day):\n",
        "        print(f'{data_list[i].day} {data_list[i].date} {data_list[i].weather}')\n",
        "        break"
      ],
      "metadata": {
        "id": "nREV1OtlqsSB"
      },
      "execution_count": null,
      "outputs": []
    }
  ]
}