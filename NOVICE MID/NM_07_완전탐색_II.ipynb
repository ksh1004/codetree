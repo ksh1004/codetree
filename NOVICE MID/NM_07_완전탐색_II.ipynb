{
  "nbformat": 4,
  "nbformat_minor": 0,
  "metadata": {
    "colab": {
      "provenance": []
    },
    "kernelspec": {
      "name": "python3",
      "display_name": "Python 3"
    },
    "language_info": {
      "name": "python"
    }
  },
  "cells": [
    {
      "cell_type": "markdown",
      "source": [
        "# 1. 물체 단위로 완전탐색"
      ],
      "metadata": {
        "id": "0rpEBisU3ZLs"
      }
    },
    {
      "cell_type": "markdown",
      "source": [
        "좌표평면 위의 특정 구역 2\n",
        "- https://inha.codetree.ai/ko/trails/complete/curated-cards/intro-specific-zone-above-the-2d-coordinate-2/description"
      ],
      "metadata": {
        "id": "cLI636m4d6-w"
      }
    },
    {
      "cell_type": "code",
      "execution_count": null,
      "metadata": {
        "id": "EX-KyYIOdyZ0"
      },
      "outputs": [],
      "source": [
        "N = int(input()) # 점의 갯수\n",
        "point_x_list = list() # x 좌표 값\n",
        "point_y_list = list() # y 좌표 값\n",
        "for i in range(N): # 각 점의 x, y좌표 입력\n",
        "    x, y = map(int, input().split())\n",
        "    point_x_list.append(x)\n",
        "    point_y_list.append(y)\n",
        "\n",
        "min_size = float('inf') # 직사각형의 넓이가 최소인 값\n",
        "for i in range(N):\n",
        "    num1, num2 = point_x_list[i], point_y_list[i]\n",
        "    del point_x_list[i] # i번째 x좌표 삭제\n",
        "    del point_y_list[i] # i번째 y좌표 삭제\n",
        "    min_x, min_y = min(point_x_list), min(point_y_list)\n",
        "    max_x, max_y = max(point_x_list), max(point_y_list)\n",
        "    size = (max_x - min_x) * (max_y - min_y)\n",
        "    min_size = min(min_size, size)\n",
        "    point_x_list.insert(i, num1) # x좌표값 복원\n",
        "    point_y_list.insert(i, num2) # y좌표값 복원\n",
        "\n",
        "# 출력\n",
        "print(min_size)"
      ]
    },
    {
      "cell_type": "markdown",
      "source": [
        "가장 가까운 두 점 사이의 거리\n",
        "- https://inha.codetree.ai/ko/trails/complete/curated-cards/intro-closest-pair-of-points/description"
      ],
      "metadata": {
        "id": "P-ntWQQOU1RI"
      }
    },
    {
      "cell_type": "code",
      "source": [
        "N = int(input()) # 점들의 갯수\n",
        "point_list = list() # 좌표들을 저장하는 리스트\n",
        "for i in range(N):\n",
        "    x, y = map(int, input().split())\n",
        "    point_list.append([x, y])\n",
        "min_dist = float('inf') # 가장 가까운 두 점 사이의 거리\n",
        "\n",
        "for i in range(N):\n",
        "    for j in range(i + 1, N):\n",
        "        x1, y1 = point_list[i][0], point_list[i][1]\n",
        "        x2, y2 = point_list[j][0], point_list[j][1]\n",
        "        dist = pow(abs(x1 - x2), 2) + pow(abs(y1 - y2), 2) # 두 점 사이의 거리\n",
        "        min_dist = min(min_dist, dist)\n",
        "\n",
        "# 출력\n",
        "print(min_dist)"
      ],
      "metadata": {
        "id": "lDWPSajwWjxc"
      },
      "execution_count": null,
      "outputs": []
    },
    {
      "cell_type": "markdown",
      "source": [
        "삼각형 만들기\n",
        "- https://inha.codetree.ai/ko/trails/complete/curated-cards/intro-create-triangle/description"
      ],
      "metadata": {
        "id": "xTgyhFkNWoIV"
      }
    },
    {
      "cell_type": "code",
      "source": [
        "N = int(input())\n",
        "points = set() # 점들을 저장할 집합 (중복 제거 & 빠른 탐색)\n",
        "\n",
        "for _ in range(N):\n",
        "    x, y = map(int, input().split())\n",
        "    points.add((x, y))\n",
        "\n",
        "max_area = 0  # 초기값 0 (삼각형을 만들 수 없을 수도 있음)\n",
        "\n",
        "# 두 개의 점 (x1, y1), (x2, y2)를 선택\n",
        "for (x1, y1) in points:\n",
        "    for (x2, y2) in points:\n",
        "        if x1 != x2 and y1 != y2:  # 서로 다른 x, y를 가지는 두 점만 고려\n",
        "            # 직각삼각형이면 x축 및 y축에 평행해야 한다.\n",
        "            # (x1, y2)이 있으면 y축에 평행, (x2, y1)이 있으면 x축에 평행\n",
        "            if (x1, y2) in points or (x2, y1) in points:  # 직각삼각형인지 확인\n",
        "                area = abs(x2 - x1) * abs(y2 - y1)  # 넓이 계산\n",
        "                max_area = max(max_area, area)\n",
        "\n",
        "print(max_area)"
      ],
      "metadata": {
        "id": "rnZP0eBbF88t"
      },
      "execution_count": null,
      "outputs": []
    },
    {
      "cell_type": "markdown",
      "source": [
        "운행 되고 있는 시간\n",
        "- https://inha.codetree.ai/ko/trails/complete/curated-cards/challenge-hours-in-service/description"
      ],
      "metadata": {
        "id": "kjNpe3FyH6HJ"
      }
    },
    {
      "cell_type": "code",
      "source": [
        "N = int(input())\n",
        "people_list = list() # 개발자가 일하는 시간\n",
        "time_list = [0] * 1001 # 일하는 시간값들을 저장하는 값\n",
        "max_time = 0 # 최대로 일하는 값\n",
        "\n",
        "for _ in range(N): # 개발자 일하는 시간 입력받기\n",
        "    A, B = map(int, input().split())\n",
        "    people_list.append([A, B])\n",
        "\n",
        "for i in range(N):\n",
        "    for j in range(N):\n",
        "        if(i == j): # 한 명의 개발자는 제외해야 하므로 i번째 개발자 제외\n",
        "            continue\n",
        "        x, y = people_list[j][0], people_list[j][1] # 개발자가 일하는 구간\n",
        "        for k in range(x, y): # [x, y) 구간만큼\n",
        "            time_list[k] = 1 # 일하는 시간을 1로\n",
        "    sum_val = sum(time_list) # 총 일하는 시간\n",
        "    max_time = max(max_time, sum_val)\n",
        "    time_list = [0] * 1001 # 일하는 시간 초기화\n",
        "\n",
        "print(max_time)"
      ],
      "metadata": {
        "id": "y-afSU7xOPKq"
      },
      "execution_count": null,
      "outputs": []
    },
    {
      "cell_type": "markdown",
      "source": [
        "겹치지 않는 선분 2\n",
        "- https://inha.codetree.ai/ko/trails/complete/curated-cards/challenge-line-segments-that-do-not-overlap-2/description"
      ],
      "metadata": {
        "id": "CP_uY-C_Xclg"
      }
    },
    {
      "cell_type": "code",
      "source": [
        "N = int(input())\n",
        "lines = list()\n",
        "sum_line = 0\n",
        "\n",
        "for _ in range(N):\n",
        "    x1, x2 = map(int, input().split())\n",
        "    lines.append([x1, x2])\n",
        "\n",
        "for i in range(N):\n",
        "    x1, x2 = lines[i][0], lines[i][1] # 첫 번째 선분\n",
        "    check_val = 1 # 선분이 안 겹치는 지 확인하는 값\n",
        "    for j in range(N):\n",
        "        if(i == j): # 같은 선분은 제외\n",
        "            continue\n",
        "        x3, x4 = lines[j][0], lines[j][1] # 두 번째 선분\n",
        "        # 선분이 겹치는 경우\n",
        "        # case 1. x1 < x3 이고, x2 > x4 일 때\n",
        "        # case 2. x1 > x3 이고, x2 < x4 일 때\n",
        "        if((x1 < x3 and x2 > x4) or (x1 > x3 and x2 < x4)): # 선분이 겹칠 때\n",
        "            check_val = 0 # 선분이 겹친다고 판단\n",
        "            break\n",
        "    if(check_val == 1): # 선분이 안 겹치면\n",
        "        sum_line += 1 # 안 겹치는 선분 수 증가\n",
        "\n",
        "print(sum_line)"
      ],
      "metadata": {
        "id": "ICYpUZfYXcxG"
      },
      "execution_count": null,
      "outputs": []
    },
    {
      "cell_type": "markdown",
      "source": [
        "스승의 은혜 2\n",
        "- https://inha.codetree.ai/ko/trails/complete/curated-cards/challenge-the-grace-form-teacher-2/description"
      ],
      "metadata": {
        "id": "ivUzZebYyGuY"
      }
    },
    {
      "cell_type": "code",
      "source": [
        "N, B = map(int, input().split())\n",
        "P = [int(input()) for _ in range(N)]\n",
        "P.sort() # P값이 가장 작은 값부터 정렬\n",
        "max_student = 0\n",
        "\n",
        "for i in range(N):\n",
        "    price = 0\n",
        "    num_student = 0\n",
        "    for j in range(N):\n",
        "        if(i == j):\n",
        "            price += P[j] / 2\n",
        "        else:\n",
        "            price += P[j]\n",
        "        if(price > B):\n",
        "            break\n",
        "        else:\n",
        "            num_student += 1\n",
        "    max_student = max(max_student, num_student)\n",
        "\n",
        "print(max_student)"
      ],
      "metadata": {
        "id": "-5IfhHYJyJNa"
      },
      "execution_count": null,
      "outputs": []
    },
    {
      "cell_type": "markdown",
      "source": [
        "상해버린 치즈\n",
        "- https://inha.codetree.ai/ko/trails/complete/curated-cards/challenge-rotten-cheese/description"
      ],
      "metadata": {
        "id": "zo6ukiXW2WM7"
      }
    },
    {
      "cell_type": "code",
      "source": [
        "# 클래스 선언\n",
        "class Info1:\n",
        "    def __init__(self, p, m, t):\n",
        "        self.p, self.m, self.t = p, m, t\n",
        "\n",
        "class Info2:\n",
        "    def __init__(self, p, t):\n",
        "        self.p, self.t = p, t\n",
        "\n",
        "# 변수 선언 및 입력\n",
        "n, m, d, s = tuple(map(int, input().split()))\n",
        "\n",
        "info1 = []\n",
        "for _ in range(d):\n",
        "    p, x, t = tuple(map(int, input().split()))\n",
        "    info1.append(Info1(p, x, t))\n",
        "\n",
        "info2 = []\n",
        "for _ in range(s):\n",
        "    p, t = tuple(map(int, input().split()))\n",
        "    info2.append(Info2(p, t))\n",
        "\n",
        "ans = 0\n",
        "\n",
        "# 하나의 치즈가 상했을 때 필요한 약의 수의 최댓값을 구합니다.\n",
        "for i in range(1, m + 1):\n",
        "    # i번째 치즈가 상했을 때 필요한 약의 수를 구합니다.\n",
        "\n",
        "    # 우선 i번째 치즈가 상했다고 가정할 때 모순이 발생하지 않는지 확인합니다.\n",
        "    # time배열을 만들어 각 사람이 언제 치즈를 먹었는지 저장합니다.\n",
        "    time = [0] * (n + 1)\n",
        "    for info in info1:\n",
        "        # i번째 치즈에 대한 정보가 아닌 경우 넘어갑니다.\n",
        "        if info.m != i:\n",
        "            continue\n",
        "\n",
        "        # person이 i번째 치즈를 처음 먹었거나\n",
        "        # 이전보다 더 빨리 먹게 된 경우 time배열을 갱신합니다.\n",
        "        person = info.p\n",
        "        if time[person] == 0:\n",
        "            time[person] = info.t\n",
        "        elif time[person] > info.t:\n",
        "            time[person] = info.t\n",
        "\n",
        "    # possible : i번째 치즈가 상했을 수 있으면 true, 아니면 false\n",
        "    possible = True\n",
        "\n",
        "    for info in info2:\n",
        "        # person이 i번째 치즈를 먹지 않았거나\n",
        "        # i번째 치즈를 먹은 시간보다 먼저 아픈 경우 모순이 생깁니다.\n",
        "        person = info.p\n",
        "        if time[person] == 0:\n",
        "            possible = False\n",
        "        if time[person] >= info.t:\n",
        "            possible = False\n",
        "\n",
        "    # 만약 i번째 치즈가 상했을 가능성이 있다면, 몇 개의 약이 필요한지 확인합니다.\n",
        "    pill = 0\n",
        "    if possible:\n",
        "        # 한번이라도 i번째 치즈를 먹은 적이 있다면, 약이 필요합니다.\n",
        "        for j in range(1, n + 1):\n",
        "            if time[j] != 0:\n",
        "                pill += 1\n",
        "\n",
        "    ans = max(ans, pill);\n",
        "\n",
        "# 출력\n",
        "print(ans)"
      ],
      "metadata": {
        "id": "t_JutOJP2Wd-"
      },
      "execution_count": null,
      "outputs": []
    },
    {
      "cell_type": "markdown",
      "source": [
        "개발자의 순위\n",
        "- https://inha.codetree.ai/ko/trails/complete/curated-cards/challenge-developers-rank/submissions?page=1&page_size=20"
      ],
      "metadata": {
        "id": "heJxC1yL2Wx2"
      }
    },
    {
      "cell_type": "code",
      "source": [
        "K, N = map(int, input().split())\n",
        "arr = [list(map(int, input().split())) for _ in range(K)]\n",
        "\n",
        "cnt = 0\n",
        "for i in range(1, N + 1): # 첫 번째 개발자 i\n",
        "    for j in range(1, N + 1): # 두 번째 개발자 j\n",
        "        if(i == j):\n",
        "            continue\n",
        "        check_num = 1 # 항상 우선순위가 앞서있는지 확인\n",
        "        for k in range(K):\n",
        "            if(arr[k].index(i) < arr[k].index(j)): # i 개발자가 j 개발자보다 우선인지\n",
        "                continue\n",
        "            else: # j 개발자가 i 개발자보다 우선순위가 있는 경우\n",
        "                check_num = 0 # 항상 우선순위가 앞서있지는 않음\n",
        "                break\n",
        "        if(check_num):\n",
        "            cnt += 1\n",
        "\n",
        "print(cnt)"
      ],
      "metadata": {
        "id": "Wqj4Dxol2XGd"
      },
      "execution_count": null,
      "outputs": []
    },
    {
      "cell_type": "markdown",
      "source": [
        "이상한 폭탄 2\n",
        "- https://inha.codetree.ai/ko/trails/complete/curated-cards/challenge-strange-bomb-2/description"
      ],
      "metadata": {
        "id": "bslA9RHJrd4-"
      }
    },
    {
      "cell_type": "code",
      "source": [
        "N, K = map(int, input().split())\n",
        "num = [int(input()) for _ in range(N)]\n",
        "\n",
        "max_num = -1\n",
        "for i in range(N):\n",
        "    # 거리를 정하기 위한 값\n",
        "    min_cnt = max(0, i - K) # 좌측 끝\n",
        "    max_cnt = min(N, i + K) # 우측 끝\n",
        "    for j in range(min_cnt, max_cnt):\n",
        "        if(i == j):\n",
        "            continue\n",
        "        if(num[j] == num[i]):\n",
        "            max_num = max(max_num, num[j])\n",
        "\n",
        "# 출력\n",
        "print(max_num)"
      ],
      "metadata": {
        "id": "62gYMUlLrihY"
      },
      "execution_count": null,
      "outputs": []
    },
    {
      "cell_type": "markdown",
      "source": [
        "선분 3개 지우기\n",
        "- https://inha.codetree.ai/ko/trails/complete/curated-cards/challenge-remove-three-segments/description"
      ],
      "metadata": {
        "id": "mZUBi-iYuIlm"
      }
    },
    {
      "cell_type": "code",
      "source": [
        "N = int(input())\n",
        "info = []\n",
        "for i in range(N):\n",
        "    a, b = map(int, input().split())\n",
        "    info.append([a, b])\n",
        "\n",
        "cnt = 0\n",
        "for i in range(N):\n",
        "    for j in range(i + 1, N):\n",
        "        for k in range(j + 1, N):\n",
        "            no_overlap = True\n",
        "            arr = [0] * 101 # a, b는 0보다 크거나 같고 100보다는 작거나 같다\n",
        "            # arr는 0~100 사이 선분이 포함되는 횟수\n",
        "            for x in range(N):\n",
        "                if(x == i or x == j or x == k):\n",
        "                    continue\n",
        "\n",
        "                for y in range(info[x][0], info[x][1] + 1):\n",
        "                    arr[y] += 1\n",
        "\n",
        "            for x in range(101):\n",
        "                if(arr[x] > 1):\n",
        "                    no_overlap = False\n",
        "\n",
        "            if(no_overlap):\n",
        "                cnt += 1\n",
        "\n",
        "print(cnt)"
      ],
      "metadata": {
        "id": "MpKNTRtNxX8r"
      },
      "execution_count": null,
      "outputs": []
    },
    {
      "cell_type": "markdown",
      "source": [
        "스승의 은혜 3\n",
        "- https://inha.codetree.ai/ko/trails/complete/curated-cards/test-the-grace-form-teacher-3/description"
      ],
      "metadata": {
        "id": "J7McvAQJxbIL"
      }
    },
    {
      "cell_type": "code",
      "source": [
        "N, B = map(int, input().split())\n",
        "gifts = [list(map(int, input().split())) for _ in range(N)]\n",
        "gifts.sort() # 선물 가격이 낮은 순으로 정렬\n",
        "\n",
        "max_cnt = 0\n",
        "for i in range(N):\n",
        "    price = 0\n",
        "    cnt = 0\n",
        "    price += gifts[i][0] // 2 + gifts[i][1] # 할인 쿠폰 사용 가격\n",
        "\n",
        "    if(price > B): # 할인 쿠폰 적용해도 예산 초과시\n",
        "        continue # 패스\n",
        "    cnt += 1\n",
        "    other = [] # 나머지 선물 값들을 저장할 리스트\n",
        "    for j in range(N):\n",
        "        if(i == j):\n",
        "            continue\n",
        "        other.append(gifts[j][0] + gifts[j][1])\n",
        "\n",
        "    other.sort() # 선물 값들을 정렬\n",
        "    for i in other:\n",
        "        price += i\n",
        "        if(price <= B): # 예산 초과가 아닌 경우\n",
        "            cnt += 1 # 추가\n",
        "        else: # 예산 초과시\n",
        "            break # 종료\n",
        "    max_cnt = max(max_cnt, cnt)\n",
        "\n",
        "# 출력\n",
        "print(max_cnt)"
      ],
      "metadata": {
        "id": "jOFTnt9sxekD"
      },
      "execution_count": null,
      "outputs": []
    },
    {
      "cell_type": "markdown",
      "source": [
        "# 2. 값을 기준으로 완전탐색"
      ],
      "metadata": {
        "id": "o04d6PZQ3ckK"
      }
    },
    {
      "cell_type": "markdown",
      "source": [
        "숫자들의 합 중 최대\n",
        "- https://inha.codetree.ai/ko/trails/complete/curated-cards/intro-maximum-of-sum-of-numbers/introduction"
      ],
      "metadata": {
        "id": "pssTAvhU3ftf"
      }
    },
    {
      "cell_type": "code",
      "source": [
        "X, Y = map(int, input().split())\n",
        "\n",
        "max_sum = 0\n",
        "# 숫자들의 합 중 최대를 구하기\n",
        "for i in range(X, Y + 1):\n",
        "    val = str(i) # i 값을 문자로 변환\n",
        "    i_sum = 0 # i의 숫자들의 합을 저장할 변수\n",
        "    for j in range(len(val)):\n",
        "        now_val = int(val[j])\n",
        "        i_sum += now_val\n",
        "    max_sum = max(max_sum, i_sum)\n",
        "# 출력\n",
        "print(max_sum)"
      ],
      "metadata": {
        "id": "Yb0zquKh3f9N"
      },
      "execution_count": null,
      "outputs": []
    },
    {
      "cell_type": "markdown",
      "source": [
        "데이터센터의 온도 조정 2\n",
        "- https://inha.codetree.ai/ko/trails/complete/curated-cards/intro-adjusting-the-temperature-of-the-data-center-2/description"
      ],
      "metadata": {
        "id": "qgYXLEs84zkx"
      }
    },
    {
      "cell_type": "code",
      "source": [
        "N, C, G, H = map(int, input().split())\n",
        "ranges = [list(map(int, input().split())) for _ in range(N)]\n",
        "\n",
        "max_sum = 0\n",
        "for i in range(0, 1001):\n",
        "    i_sum = 0\n",
        "    for j in range(N):\n",
        "        # Case 1. Ta보다 온도가 낮은 경우\n",
        "        if(i < ranges[j][0]):\n",
        "            i_sum += C\n",
        "        # Case 2. Ta보다 온도가 높거나 같고, Tb보다는 낮거나 같은 경우\n",
        "        elif(ranges[j][0] <= i and i <= ranges[j][1]):\n",
        "            i_sum += G\n",
        "        # Case 3. Tb보다 온도가 높은 경우\n",
        "        elif(ranges[j][1] < i):\n",
        "            i_sum += H\n",
        "    # 값 비교\n",
        "    max_sum = max(max_sum, i_sum)\n",
        "# 출력\n",
        "print(max_sum)"
      ],
      "metadata": {
        "id": "8OLDODRc8aj2"
      },
      "execution_count": null,
      "outputs": []
    },
    {
      "cell_type": "markdown",
      "source": [
        "흥미로운 숫자 2\n",
        "- https://inha.codetree.ai/ko/trails/complete/curated-cards/challenge-interesting-numbers-2/description"
      ],
      "metadata": {
        "id": "VdlKDMfX8gIZ"
      }
    },
    {
      "cell_type": "code",
      "source": [
        "X, Y = map(int, input().split())\n",
        "cnt = 0\n",
        "\n",
        "for i in range(X, Y + 1):\n",
        "    val = str(i)\n",
        "    first_val = val[0] # 첫 번째 자리의 문자 값\n",
        "    second_val = ''\n",
        "    first_cnt, second_cnt = 0, 0\n",
        "    check_val = 1\n",
        "    for j in range(len(val)):\n",
        "        if(first_val == val[j]):\n",
        "            first_cnt += 1\n",
        "        elif(second_val == ''):\n",
        "            second_val = val[j]\n",
        "            second_cnt += 1\n",
        "        elif(second_val == val[j]):\n",
        "            second_cnt += 1\n",
        "        else:\n",
        "            check_val = 0\n",
        "            break\n",
        "    if(check_val == 1) and ((first_cnt > 1 and second_cnt == 1)\n",
        "    or (first_cnt == 1 and second_cnt > 1)):\n",
        "        cnt += 1\n",
        "\n",
        "# 출력\n",
        "print(cnt)"
      ],
      "metadata": {
        "id": "4sWwr8QL8ftx"
      },
      "execution_count": null,
      "outputs": []
    },
    {
      "cell_type": "markdown",
      "source": [
        "등차수열\n",
        "- https://inha.codetree.ai/ko/trails/complete/curated-cards/challenge-arithmetic-sequence/description"
      ],
      "metadata": {
        "id": "Vg2pUI91dscb"
      }
    },
    {
      "cell_type": "code",
      "source": [
        "n = int(input())\n",
        "a = list(map(int, input().split()))\n",
        "\n",
        "total = 0\n",
        "\n",
        "for i in range(1, 101):\n",
        "    cnt = 0\n",
        "\n",
        "    for j in range(n):\n",
        "        for k in range(j + 1, n):\n",
        "            if(a[j] + a[k] == 2 * i):\n",
        "                cnt += 1\n",
        "\n",
        "    total = max(total, cnt)\n",
        "\n",
        "print(total)"
      ],
      "metadata": {
        "id": "feh1-b7Bdsrx"
      },
      "execution_count": null,
      "outputs": []
    },
    {
      "cell_type": "markdown",
      "source": [
        "빙산의 일각 2\n",
        "- https://inha.codetree.ai/ko/trails/complete/curated-cards/challenge-the-tip-of-the-iceberg-2/description"
      ],
      "metadata": {
        "id": "vU-r7SrBdv3K"
      }
    },
    {
      "cell_type": "code",
      "source": [
        "n = int(input())\n",
        "h = [int(input()) for _ in range(n)]\n",
        "\n",
        "max_cnt = 0\n",
        "for i in range(1, 1001):\n",
        "    cnt = 0\n",
        "    prev_val = 0 # 0이면 잠긴 상태, 1이면 안 잠긴 상태\n",
        "    for j in range(len(h)):\n",
        "        if j == 0: # 첫 번째 빙산\n",
        "            if(h[j] > i): # 안 잠기면\n",
        "                prev_val = 1 # 값을 1로\n",
        "                cnt += 1\n",
        "        else:\n",
        "            if(h[j] > i): # 안 잠기면\n",
        "                if(prev_val == 0): # 이전 값은 잠긴 상태였다면\n",
        "                    prev_val = 1\n",
        "                    cnt += 1\n",
        "                else:\n",
        "                    continue\n",
        "            else:\n",
        "                prev_val = 0\n",
        "    max_cnt = max(max_cnt, cnt)\n",
        "\n",
        "print(max_cnt)"
      ],
      "metadata": {
        "id": "IlHogeSsdy9X"
      },
      "execution_count": null,
      "outputs": []
    },
    {
      "cell_type": "markdown",
      "source": [
        "팰린드롬 수 찾기\n",
        "- https://inha.codetree.ai/ko/trails/complete/curated-cards/test-find-the-number-of-palindrome/description"
      ],
      "metadata": {
        "id": "GWtMuikZN9_M"
      }
    },
    {
      "cell_type": "code",
      "source": [
        "X, Y = map(int, input().split())\n",
        "cnt = 0\n",
        "for i in range(X, Y + 1):\n",
        "    num1 = str(i)\n",
        "    num2 = num1[::-1]\n",
        "    if(num1 == num2):\n",
        "        cnt += 1\n",
        "print(cnt)"
      ],
      "metadata": {
        "id": "Xcvjg5YEOAOK"
      },
      "execution_count": null,
      "outputs": []
    }
  ]
}