{
  "nbformat": 4,
  "nbformat_minor": 0,
  "metadata": {
    "colab": {
      "provenance": []
    },
    "kernelspec": {
      "name": "python3",
      "display_name": "Python 3"
    },
    "language_info": {
      "name": "python"
    }
  },
  "cells": [
    {
      "cell_type": "markdown",
      "source": [
        "좌표평면 위의 특정 구역 2\n",
        "- https://inha.codetree.ai/ko/trails/complete/curated-cards/intro-specific-zone-above-the-2d-coordinate-2/description"
      ],
      "metadata": {
        "id": "cLI636m4d6-w"
      }
    },
    {
      "cell_type": "code",
      "execution_count": null,
      "metadata": {
        "id": "EX-KyYIOdyZ0"
      },
      "outputs": [],
      "source": [
        "N = int(input()) # 점의 갯수\n",
        "point_x_list = list() # x 좌표 값\n",
        "point_y_list = list() # y 좌표 값\n",
        "for i in range(N): # 각 점의 x, y좌표 입력\n",
        "    x, y = map(int, input().split())\n",
        "    point_x_list.append(x)\n",
        "    point_y_list.append(y)\n",
        "\n",
        "min_size = float('inf') # 직사각형의 넓이가 최소인 값\n",
        "for i in range(N):\n",
        "    num1, num2 = point_x_list[i], point_y_list[i]\n",
        "    del point_x_list[i] # i번째 x좌표 삭제\n",
        "    del point_y_list[i] # i번째 y좌표 삭제\n",
        "    min_x, min_y = min(point_x_list), min(point_y_list)\n",
        "    max_x, max_y = max(point_x_list), max(point_y_list)\n",
        "    size = (max_x - min_x) * (max_y - min_y)\n",
        "    min_size = min(min_size, size)\n",
        "    point_x_list.insert(i, num1) # x좌표값 복원\n",
        "    point_y_list.insert(i, num2) # y좌표값 복원\n",
        "\n",
        "# 출력\n",
        "print(min_size)"
      ]
    },
    {
      "cell_type": "markdown",
      "source": [
        "가장 가까운 두 점 사이의 거리\n",
        "- https://inha.codetree.ai/ko/trails/complete/curated-cards/intro-closest-pair-of-points/description"
      ],
      "metadata": {
        "id": "P-ntWQQOU1RI"
      }
    },
    {
      "cell_type": "code",
      "source": [
        "N = int(input()) # 점들의 갯수\n",
        "point_list = list() # 좌표들을 저장하는 리스트\n",
        "for i in range(N):\n",
        "    x, y = map(int, input().split())\n",
        "    point_list.append([x, y])\n",
        "min_dist = float('inf') # 가장 가까운 두 점 사이의 거리\n",
        "\n",
        "for i in range(N):\n",
        "    for j in range(i + 1, N):\n",
        "        x1, y1 = point_list[i][0], point_list[i][1]\n",
        "        x2, y2 = point_list[j][0], point_list[j][1]\n",
        "        dist = pow(abs(x1 - x2), 2) + pow(abs(y1 - y2), 2) # 두 점 사이의 거리\n",
        "        min_dist = min(min_dist, dist)\n",
        "\n",
        "# 출력\n",
        "print(min_dist)"
      ],
      "metadata": {
        "id": "lDWPSajwWjxc"
      },
      "execution_count": null,
      "outputs": []
    },
    {
      "cell_type": "markdown",
      "source": [
        "삼각형 만들기\n",
        "- https://inha.codetree.ai/ko/trails/complete/curated-cards/intro-create-triangle/description"
      ],
      "metadata": {
        "id": "xTgyhFkNWoIV"
      }
    },
    {
      "cell_type": "code",
      "source": [
        "N = int(input())\n",
        "points = set() # 점들을 저장할 집합 (중복 제거 & 빠른 탐색)\n",
        "\n",
        "for _ in range(N):\n",
        "    x, y = map(int, input().split())\n",
        "    points.add((x, y))\n",
        "\n",
        "max_area = 0  # 초기값 0 (삼각형을 만들 수 없을 수도 있음)\n",
        "\n",
        "# 두 개의 점 (x1, y1), (x2, y2)를 선택\n",
        "for (x1, y1) in points:\n",
        "    for (x2, y2) in points:\n",
        "        if x1 != x2 and y1 != y2:  # 서로 다른 x, y를 가지는 두 점만 고려\n",
        "            # 직각삼각형이면 x축 및 y축에 평행해야 한다.\n",
        "            # (x1, y2)이 있으면 y축에 평행, (x2, y1)이 있으면 x축에 평행\n",
        "            if (x1, y2) in points or (x2, y1) in points:  # 직각삼각형인지 확인\n",
        "                area = abs(x2 - x1) * abs(y2 - y1)  # 넓이 계산\n",
        "                max_area = max(max_area, area)\n",
        "\n",
        "print(max_area)"
      ],
      "metadata": {
        "id": "rnZP0eBbF88t"
      },
      "execution_count": null,
      "outputs": []
    },
    {
      "cell_type": "markdown",
      "source": [
        "운행 되고 있는 시간\n",
        "- https://inha.codetree.ai/ko/trails/complete/curated-cards/challenge-hours-in-service/description"
      ],
      "metadata": {
        "id": "kjNpe3FyH6HJ"
      }
    },
    {
      "cell_type": "code",
      "source": [
        "N = int(input())\n",
        "people_list = list() # 개발자가 일하는 시간\n",
        "time_list = [0] * 1001 # 일하는 시간값들을 저장하는 값\n",
        "max_time = 0 # 최대로 일하는 값\n",
        "\n",
        "for _ in range(N): # 개발자 일하는 시간 입력받기\n",
        "    A, B = map(int, input().split())\n",
        "    people_list.append([A, B])\n",
        "\n",
        "for i in range(N):\n",
        "    for j in range(N):\n",
        "        if(i == j): # 한 명의 개발자는 제외해야 하므로 i번째 개발자 제외\n",
        "            continue\n",
        "        x, y = people_list[j][0], people_list[j][1] # 개발자가 일하는 구간\n",
        "        for k in range(x, y): # [x, y) 구간만큼\n",
        "            time_list[k] = 1 # 일하는 시간을 1로\n",
        "    sum_val = sum(time_list) # 총 일하는 시간\n",
        "    max_time = max(max_time, sum_val)\n",
        "    time_list = [0] * 1001 # 일하는 시간 초기화\n",
        "\n",
        "print(max_time)"
      ],
      "metadata": {
        "id": "y-afSU7xOPKq"
      },
      "execution_count": null,
      "outputs": []
    },
    {
      "cell_type": "markdown",
      "source": [
        "겹치지 않는 선분 2\n",
        "- https://inha.codetree.ai/ko/trails/complete/curated-cards/challenge-line-segments-that-do-not-overlap-2/description"
      ],
      "metadata": {
        "id": "CP_uY-C_Xclg"
      }
    },
    {
      "cell_type": "code",
      "source": [
        "N = int(input())\n",
        "lines = list()\n",
        "sum_line = 0\n",
        "\n",
        "for _ in range(N):\n",
        "    x1, x2 = map(int, input().split())\n",
        "    lines.append([x1, x2])\n",
        "\n",
        "for i in range(N):\n",
        "    x1, x2 = lines[i][0], lines[i][1] # 첫 번째 선분\n",
        "    check_val = 1 # 선분이 안 겹치는 지 확인하는 값\n",
        "    for j in range(N):\n",
        "        if(i == j): # 같은 선분은 제외\n",
        "            continue\n",
        "        x3, x4 = lines[j][0], lines[j][1] # 두 번째 선분\n",
        "        # 선분이 겹치는 경우\n",
        "        # case 1. x1 < x3 이고, x2 > x4 일 때\n",
        "        # case 2. x1 > x3 이고, x2 < x4 일 때\n",
        "        if((x1 < x3 and x2 > x4) or (x1 > x3 and x2 < x4)): # 선분이 겹칠 때\n",
        "            check_val = 0 # 선분이 겹친다고 판단\n",
        "            break\n",
        "    if(check_val == 1): # 선분이 안 겹치면\n",
        "        sum_line += 1 # 안 겹치는 선분 수 증가\n",
        "\n",
        "print(sum_line)"
      ],
      "metadata": {
        "id": "ICYpUZfYXcxG"
      },
      "execution_count": null,
      "outputs": []
    }
  ]
}