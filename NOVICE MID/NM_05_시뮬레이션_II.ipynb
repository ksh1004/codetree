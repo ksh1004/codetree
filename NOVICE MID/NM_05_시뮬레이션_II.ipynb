{
  "nbformat": 4,
  "nbformat_minor": 0,
  "metadata": {
    "colab": {
      "provenance": []
    },
    "kernelspec": {
      "name": "python3",
      "display_name": "Python 3"
    },
    "language_info": {
      "name": "python"
    }
  },
  "cells": [
    {
      "cell_type": "markdown",
      "source": [
        "# 최장 연속 부분 수열"
      ],
      "metadata": {
        "id": "vgpxlYcpdjNP"
      }
    },
    {
      "cell_type": "markdown",
      "source": [
        "연속되는 수 2\n",
        "- https://inha.codetree.ai/missions/5/problems/continuous-number2/description"
      ],
      "metadata": {
        "id": "uZzNxwoPdmQ3"
      }
    },
    {
      "cell_type": "code",
      "execution_count": null,
      "metadata": {
        "id": "nhELlQ0Xdgvj"
      },
      "outputs": [],
      "source": [
        "N = int(input())\n",
        "num_list = []\n",
        "for i in range(N):\n",
        "    num = int(input())\n",
        "    num_list.append(num)\n",
        "max_val = 0 # 횟수 최댓값\n",
        "val = 0 # 숫자값\n",
        "cnt = 0 # 횟수를 세는 변수\n",
        "# 연속 숫자 횟수 최댓값 구하기\n",
        "for i in range(len(num_list)):\n",
        "    if(i == 0): # 첫번째는 예외처리\n",
        "        val = num_list[i]\n",
        "        cnt += 1\n",
        "        if(i == len(num_list) - 1): # 만약 현재 값이 마지막 값이라면\n",
        "                if(max_val < cnt): # 현재의 횟수값이 max 값보다 크다면\n",
        "                    max_val = cnt # 현재값을 max 값으로\n",
        "    else:\n",
        "        if(num_list[i] == val): # 만약 직전 값과 현재 값이 동일한 숫자이면\n",
        "            cnt += 1 # 횟수 1 증가\n",
        "            if(i == len(num_list) - 1): # 만약 현재 값이 마지막 값이라면\n",
        "                if(max_val < cnt): # 현재의 횟수값이 max 값보다 크다면\n",
        "                    max_val = cnt # 현재값을 max 값으로\n",
        "        else:  # 만약 직전 값과 현재 값과 다른 숫자이면\n",
        "            if(max_val < cnt): # 현재의 횟수값이 max 값보다 크다면\n",
        "                max_val = cnt # 현재값을 max 값으로\n",
        "            cnt = 1 # 횟수 초기화\n",
        "            val = num_list[i] # 숫자값 최신화\n",
        "# 출력\n",
        "print(max_val)"
      ]
    },
    {
      "cell_type": "markdown",
      "source": [
        "연속되는 수 3\n",
        "- https://inha.codetree.ai/missions/5/problems/continuous-number3/description"
      ],
      "metadata": {
        "id": "iXfGeg_Jg38y"
      }
    },
    {
      "cell_type": "code",
      "source": [
        "N = int(input())\n",
        "num_list = []\n",
        "for i in range(N):\n",
        "    num = int(input())\n",
        "    num_list.append(num)\n",
        "# 연속 부분 수열 구하기\n",
        "max_val = 0 # 최대 길이\n",
        "cnt = 0 # 길이\n",
        "for i in range(len(num_list)):\n",
        "    if(i == 0): # 첫 번째 경우\n",
        "        cnt += 1\n",
        "        if(N == 1): # N 값이 1로 주어지면\n",
        "            max_val = cnt\n",
        "    else: # 첫 번째가 아닌 경우\n",
        "        last = num_list[i - 1] # 직전값\n",
        "        now = num_list[i] # 현재값\n",
        "        if((last < 0 and now < 0) or (last > 0 and now > 0)): # 같은 부호가 연속되면\n",
        "            cnt += 1\n",
        "            if(i == len(num_list) - 1):\n",
        "                if(max_val < cnt):\n",
        "                    max_val = cnt\n",
        "        else: # 연속이 아닌 경우\n",
        "            if(max_val < cnt):\n",
        "                max_val = cnt\n",
        "            cnt = 1\n",
        "# 출력\n",
        "print(max_val)"
      ],
      "metadata": {
        "id": "TR6m7CgGg6Tq"
      },
      "execution_count": null,
      "outputs": []
    },
    {
      "cell_type": "markdown",
      "source": [
        "연속되는 수 4\n",
        "- https://inha.codetree.ai/missions/5/problems/continuous-number4/description"
      ],
      "metadata": {
        "id": "TRv3mFAWiiRC"
      }
    },
    {
      "cell_type": "code",
      "source": [
        "N = int(input())\n",
        "num_list = []\n",
        "for i in range(N):\n",
        "    num = int(input())\n",
        "    num_list.append(num)\n",
        "max_val = 0\n",
        "cnt = 0\n",
        "for i in range(len(num_list)):\n",
        "    if(i == 0): # 첫 번째 숫자이면\n",
        "        cnt = 1\n",
        "        if(N == 1): # 1개의 숫자만 주어지면(즉, N이 1일 때)\n",
        "            max_val = cnt\n",
        "    else:\n",
        "        last = num_list[i - 1] # 직전값\n",
        "        now = num_list[i] # 현재값\n",
        "        if(last < now): # 증가하는 경우\n",
        "            cnt += 1\n",
        "            if(i == len(num_list) - 1): # 마지막일 때\n",
        "                max_val = max(cnt, max_val)\n",
        "        else: # 증가하지 않는 경우\n",
        "            max_val = max(cnt, max_val)\n",
        "            cnt = 1\n",
        "# 출력\n",
        "print(max_val)"
      ],
      "metadata": {
        "id": "ZdyaD-Lgijgr"
      },
      "execution_count": null,
      "outputs": []
    },
    {
      "cell_type": "markdown",
      "source": [
        "T를 초과하는 연속 부분 수열\n",
        "- https://inha.codetree.ai/missions/5/problems/subsequence-above-t/description"
      ],
      "metadata": {
        "id": "WBKr2Xh0jfDG"
      }
    },
    {
      "cell_type": "code",
      "source": [
        "n, t = map(int, input().split())\n",
        "num_list = list(map(int, input().split()))\n",
        "max_val = 0\n",
        "cnt = 0\n",
        "for i in range(len(num_list)):\n",
        "    if(i == 0): # 첫 번째 숫자이면\n",
        "        if(num_list[i] > t):\n",
        "            cnt += 1\n",
        "        if(n == 1): # 1개의 숫자만 주어지면(즉, N이 1일 때)\n",
        "            max_val = cnt\n",
        "    else:\n",
        "        if(num_list[i] > t): # 현재 값이 t보다 큰 경우\n",
        "            cnt += 1\n",
        "            if(i == len(num_list) - 1): # 마지막일 때\n",
        "                max_val = max(cnt, max_val)\n",
        "        else: # 현재 값이 t보다 크지 않은 경우\n",
        "            max_val = max(cnt, max_val)\n",
        "            cnt = 0\n",
        "# 출력\n",
        "print(max_val)"
      ],
      "metadata": {
        "id": "b0zcihonjhuC"
      },
      "execution_count": null,
      "outputs": []
    },
    {
      "cell_type": "markdown",
      "source": [
        "# 배열 기록"
      ],
      "metadata": {
        "id": "91uI4Uaqmvug"
      }
    },
    {
      "cell_type": "markdown",
      "source": [
        "만나는 그 순간\n",
        "- https://inha.codetree.ai/missions/5/problems/the-moment-we-meet/description"
      ],
      "metadata": {
        "id": "DzFF_J1hmwOz"
      }
    },
    {
      "cell_type": "code",
      "source": [
        "N, M = map(int, input().split())\n",
        "A, B = [], []\n",
        "# A 이동\n",
        "A.append(0) # 시작점 삽입\n",
        "for i in range(1, N + 1):\n",
        "    d, t = input().split()\n",
        "    t = int(t)\n",
        "    if(d == 'R'): # 오른쪽으로 이동할 경우\n",
        "        for j in range(t):\n",
        "            num = A[-1] + 1\n",
        "            A.append(num)\n",
        "    else: # 왼쪽으로 이동할 경우\n",
        "        for j in range(t):\n",
        "            num = A[-1] - 1\n",
        "            A.append(num)\n",
        "# B 이동\n",
        "B.append(0) # 시작점 삽입\n",
        "for i in range(1, M + 1):\n",
        "    d, t = input().split()\n",
        "    t = int(t)\n",
        "    if(d == 'R'): # 오른쪽으로 이동할 경우\n",
        "        for j in range(t):\n",
        "            num = B[-1] + 1\n",
        "            B.append(num)\n",
        "    else: # 왼쪽으로 이동할 경우\n",
        "        for j in range(t):\n",
        "            num = B[-1] - 1\n",
        "            B.append(num)\n",
        "idx = -1 # 최초로 만나는 인덱스\n",
        "for i in range(1, len(A)):\n",
        "    if(A[i] == B[i]): # 만약 최초로 만나는 경우\n",
        "        idx = i # 해당 인덱스 저장\n",
        "        break\n",
        "# 출력\n",
        "print(idx)"
      ],
      "metadata": {
        "id": "xruUeTy2mwl3"
      },
      "execution_count": null,
      "outputs": []
    },
    {
      "cell_type": "markdown",
      "source": [
        "벌금은 누구에게\n",
        "- https://inha.codetree.ai/missions/5/problems/who-will-pay/description"
      ],
      "metadata": {
        "id": "WfbIhZOIm2-H"
      }
    },
    {
      "cell_type": "code",
      "source": [
        "N, M, K = map(int, input().split())\n",
        "num_list = [[0 for _ in range(M + 1)] for _ in range(N + 1)]\n",
        "for i in range(1, M + 1):\n",
        "    num = int(input())\n",
        "    for j in range(1, N + 1):\n",
        "        if(j == num):\n",
        "            num_list[j][i] = num_list[j][i - 1] + 1\n",
        "        else:\n",
        "            num_list[j][i] = num_list[j][i - 1]\n",
        "# 최초의 벌금을 내는 학생 찾기\n",
        "idx = -1 # 해당 학생을 저장하는 인덱스\n",
        "for i in range(M + 1):\n",
        "    if(i < K):\n",
        "        continue\n",
        "    else:\n",
        "        for j in range(1, N + 1):\n",
        "            if(num_list[j][i] == K): # K 번 이상 벌칙을 받은 최초의 학생 발견시\n",
        "                idx = j # 해당 학생 인덱스로 저장\n",
        "                break\n",
        "    if(idx != -1): # 학생을 찾은 경우\n",
        "        break # for문 종료\n",
        "# 출력\n",
        "print(idx)"
      ],
      "metadata": {
        "id": "wP_DPX2bm0xf"
      },
      "execution_count": null,
      "outputs": []
    },
    {
      "cell_type": "markdown",
      "source": [
        "선두를 지켜라\n",
        "- https://inha.codetree.ai/missions/5/problems/keep-the-lead/description"
      ],
      "metadata": {
        "id": "PmQK4YIqlmzt"
      }
    },
    {
      "cell_type": "code",
      "source": [
        "N, M = map(int, input().split())\n",
        "A, B = [], []\n",
        "# A의 이동 계산\n",
        "A.append(0)\n",
        "for i in range(N):\n",
        "    v, t = map(int, input().split())\n",
        "    for j in range(t):\n",
        "        A.append(A[-1] + v)\n",
        "# B의 이동 계산\n",
        "B.append(0)\n",
        "for i in range(M):\n",
        "    v, t = map(int, input().split())\n",
        "    for j in range(t):\n",
        "        B.append(B[-1] + v)\n",
        "# 선두 횟수 계산\n",
        "cnt = 0 # 선두 횟수 저장\n",
        "val = '' # 선두를 나타내는 변수\n",
        "for i in range(1, len(A)):\n",
        "    if(i == 1):\n",
        "        if(A[i] >= B[i]): # A가 선두이면\n",
        "            val = 'A'\n",
        "        else:\n",
        "            val = 'B'\n",
        "    else:\n",
        "        if(A[i] >= B[i]): # A가 선두일 때\n",
        "            if(val != 'A'): # B가 선두였는데 A로 바뀌었으면\n",
        "                cnt += 1 # 선두 변경 횟수 증가\n",
        "                val = 'A' # 선두 변수 변경\n",
        "        else: # B가 선두일 때\n",
        "            if(val != 'B'): # A가 선두였는데 B로 바뀌었으면\n",
        "                cnt += 1 # 선두 변경 횟수 증가\n",
        "                val = 'B' # 선두 변수 변경\n",
        "# 출력\n",
        "print(cnt)"
      ],
      "metadata": {
        "id": "h5Zk9KcNlove"
      },
      "execution_count": null,
      "outputs": []
    },
    {
      "cell_type": "markdown",
      "source": [
        "좌우로 움직이는 로봇\n",
        "- https://inha.codetree.ai/missions/5/problems/robot-moving-from-side-to-side/description"
      ],
      "metadata": {
        "id": "d7T3Comxn73m"
      }
    },
    {
      "cell_type": "code",
      "source": [
        "n, m = map(int, input().split())\n",
        "A, B = [], []\n",
        "A.append(0)\n",
        "B.append(0)\n",
        "# A, B의 이동거리 계산\n",
        "for i in range(n):\n",
        "    t, d = input().split()\n",
        "    t = int(t)\n",
        "    for j in range(t):\n",
        "        if(d == 'L'):\n",
        "            A.append(A[-1] - 1)\n",
        "        else:\n",
        "            A.append(A[-1] + 1)\n",
        "for j in range(m):\n",
        "    t, d = input().split()\n",
        "    t = int(t)\n",
        "    for j in range(t):\n",
        "        if(d == 'L'):\n",
        "            B.append(B[-1] - 1)\n",
        "        else:\n",
        "            B.append(B[-1] + 1)\n",
        "# 이동 종료 이후, 다른 로봇이 다 움직일 때까지 같은 위치에 계속 머무르게 저장\n",
        "if(len(A) >= len(B)): # B는 다 이동했지만 A는 아직 남은 경우\n",
        "    num = len(A) - len(B)\n",
        "    for i in range(num):\n",
        "        B.append(B[-1])\n",
        "else: # A는 다 이동했지만 B는 아직 남은 경우\n",
        "    num = len(B) - len(A)\n",
        "    for i in range(num):\n",
        "        A.append(A[-1])\n",
        "# 횟수 계산\n",
        "cnt = 0\n",
        "for i in range(1, len(A)):\n",
        "    if(i == 1): # 첫 번째는 횟수에 포함시키지 않음\n",
        "        pass\n",
        "    else:\n",
        "        # 바로 직전에는 다른 위치에 있다가 그 다음 번에는 같은 위치인 경우\n",
        "        if((A[i - 1] != B[i - 1]) and (A[i] == B[i])):\n",
        "            cnt += 1\n",
        "# 출력\n",
        "print(cnt)"
      ],
      "metadata": {
        "id": "0mSq3XPpn-Ig"
      },
      "execution_count": null,
      "outputs": []
    },
    {
      "cell_type": "markdown",
      "source": [
        "악수와 전염병의 상관관계 2\n",
        "- https://inha.codetree.ai/missions/5/problems/correlation-between-shaking-hands-and-infectious-diseases2/description"
      ],
      "metadata": {
        "id": "EmDf0skpsWXd"
      }
    },
    {
      "cell_type": "code",
      "source": [
        "N, K, P, T = map(int, input().split())\n",
        "# 개발자 수 N, 악수 횟수 K, 감염된 개발자 번호 P, t초동안 하는 악수 횟수 T\n",
        "num_list = [[0 for _ in range(251)] for _ in range(N + 1)] # 감염 상태 저장\n",
        "cnt = [K] * (N + 1) # 악수 횟수 저장\n",
        "# 비감염 0, 감염(전염X) 1, 감염(전염O) 2\n",
        "info = [] # 악수정보 저장\n",
        "t_time = [] # 악수하는 시간(초) 저장\n",
        "for i in range(T):\n",
        "    t, x, y = map(int, input().split())\n",
        "    info.append([t, x, y])\n",
        "    t_time.append(t)\n",
        "info.sort() # t초 순으로 정렬\n",
        "for i in range(251):\n",
        "    # 악수가 시작되기 전이면\n",
        "    if(i < info[0][0]):\n",
        "        num_list[P][i] = 2 # 최초 감염된 개발자는 전염 가능한 상태로 저장\n",
        "    # 악수하는 상황이면\n",
        "    elif(i in t_time):\n",
        "        for j in range(len(info)):\n",
        "            if(i == info[j][0]):\n",
        "                x, y = info[j][1], info[j][2]\n",
        "        # x, y가 아닌 나머지 값들 업데이트\n",
        "        for j in range(1, N + 1):\n",
        "            if(j == x or j == y): # 악수 인원은\n",
        "                pass # pass 후 악수 반영\n",
        "            else: # 나머지 인원은\n",
        "                 num_list[j][i] = num_list[j][i - 1] # 지난 정보 가져오기\n",
        "        # x가 전염이 가능한 상태고 y는 아니라면\n",
        "        if((num_list[x][i - 1] == 2) and (num_list[y][i - 1] != 2)):\n",
        "            cnt[x] -= 1 # 악수 횟수 사용\n",
        "            # y가 비감염 상태였다면\n",
        "            if(num_list[y][i - 1] == 0):\n",
        "                num_list[y][i] = 2 # 전염 정보 저장\n",
        "            # y가 감염(전염 X) 상태였다면\n",
        "            elif(num_list[y][i - 1] == 1):\n",
        "                num_list[y][i] = 1 # 전염 정보 저장\n",
        "            if(cnt[x] > 0): # x가 전염 가능한 악수 횟수가 남아있으면\n",
        "                num_list[x][i] = 2 # 여전히 감염(전염 0)\n",
        "            else: # x가 더이상 전염은 불가하다면\n",
        "                num_list[x][i] = 1 # 감염(전염 X)로 전환\n",
        "        # y가 전염이 가능한 상태고 x는 아니라면\n",
        "        elif((num_list[x][i - 1] != 2) and (num_list[y][i - 1] == 2)):\n",
        "            cnt[y] -= 1 # 악수 횟수 사용\n",
        "            # x가 비감염 상태였다면\n",
        "            if(num_list[x][i - 1] == 0):\n",
        "                num_list[x][i] = 2 # 전염 정보 저장\n",
        "            # x가 감염(전염 X) 상태였다면\n",
        "            elif(num_list[x][i - 1] == 1):\n",
        "                num_list[x][i] = 1 # 전염 정보 저장\n",
        "            if(cnt[y] > 0): # y가 전염 가능한 악수 횟수가 남아있으면\n",
        "                num_list[y][i] = 2 # 여전히 감염(전염 0)\n",
        "            else: # y가 더이상 전염은 불가하다면\n",
        "                num_list[y][i] = 1 # 감염(전염 X)로 전환\n",
        "        # 둘 다 전염(감염 O) 상태이면\n",
        "        elif((num_list[x][i - 1] == 2) and (num_list[y][i - 1] == 2)):\n",
        "            cnt[x] -= 1\n",
        "            cnt[y] -= 1\n",
        "            # x, y 상태 업데이트\n",
        "            if(cnt[x] > 0): # x가 아직 전염이 가능하면\n",
        "                num_list[x][i] = 2\n",
        "            else: # x가 더이상 전염은 불가하면\n",
        "                num_list[x][i] = 1\n",
        "            if(cnt[y] > 0): # y가 아직 전염이 가능하면\n",
        "                num_list[y][i] = 2\n",
        "            else: # y가 더이상 전염은 불가하면\n",
        "                num_list[y][i] = 1\n",
        "        # x와 y 둘 다 전염이 안 되는 경우\n",
        "        else: # x, y 최신화\n",
        "            num_list[x][i] = num_list[x][i - 1]\n",
        "            num_list[y][i] = num_list[y][i - 1]\n",
        "    # 악수 하는 상황이 아니라면\n",
        "    else:\n",
        "        for j in range(1, N + 1):\n",
        "            num_list[j][i] = num_list[j][i - 1] # 지난 정보 가져오기\n",
        "# 출력\n",
        "for i in range(1, N + 1):\n",
        "    if(num_list[i][250] >= 1):\n",
        "        print(1, end = '')\n",
        "    else:\n",
        "        print(0, end = '')\n",
        "# 문제 참고사항\n",
        "# 최초 감염 시에만 전염력 존재, 이후 K번 악수를 다 하고나서 재감염 되더라도 전염성은 없음"
      ],
      "metadata": {
        "id": "_dA1LCJssZA6"
      },
      "execution_count": null,
      "outputs": []
    },
    {
      "cell_type": "code",
      "source": [
        "# 해설 답안\n",
        "# 클래스 선언\n",
        "class Shake:\n",
        "    def __init__(self, time, person1, person2):\n",
        "        self.time, self.person1, self.person2 = time, person1, person2\n",
        "\n",
        "# 변수 선언 및 입력\n",
        "n, k, p, t = tuple(map(int, input().split()))\n",
        "shakes = []\n",
        "for _ in range(t):\n",
        "    time, person1, person2 = tuple(map(int, input().split()))\n",
        "    shakes.append(Shake(time, person1, person2))\n",
        "\n",
        "shake_num = [0] * (n + 1)\n",
        "infected = [False] * (n + 1)\n",
        "\n",
        "infected[p] = True\n",
        "\n",
        "# Custom Comparator를 활용한 정렬\n",
        "shakes.sort(key = lambda x: x.time)\n",
        "\n",
        "# 각 악수 횟수를 세서,\n",
        "# K번 초과로 악수를 했을 시 전염시키지 않습니다.\n",
        "for shake in shakes:\n",
        "\ttarget1 = shake.person1\n",
        "\ttarget2 = shake.person2\n",
        "\n",
        "\t# 감염되어 있을 경우 악수 횟수를 증가시킵니다.\n",
        "\tif infected[target1]:\n",
        "\t\tshake_num[target1] += 1\n",
        "\tif infected[target2]:\n",
        "\t\tshake_num[target2] += 1\n",
        "\n",
        "\t# target1이 감염되어 있고 아직 K번 이하로 악수했다면 target2를 전염시킵니다.\n",
        "\tif shake_num[target1] <= k and infected[target1]:\n",
        "\t\tinfected[target2] = True\n",
        "\n",
        "\t# target2가 감염되어 있고 아직 K번 이하로 악수했다면 target1을 전염시킵니다.\n",
        "\tif shake_num[target2] <= k and infected[target2]:\n",
        "\t\tinfected[target1] = True\n",
        "\n",
        "for i in range(1, n + 1):\n",
        "\tif infected[i]:\n",
        "\t\tprint(1, end=\"\")\n",
        "\telse:\n",
        "\t\tprint(0, end=\"\")"
      ],
      "metadata": {
        "id": "rhaQnvEKH_uM"
      },
      "execution_count": null,
      "outputs": []
    },
    {
      "cell_type": "markdown",
      "source": [],
      "metadata": {
        "id": "LdwgKYnLH_a9"
      }
    }
  ]
}