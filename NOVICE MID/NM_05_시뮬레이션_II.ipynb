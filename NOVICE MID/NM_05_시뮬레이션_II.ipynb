{
  "nbformat": 4,
  "nbformat_minor": 0,
  "metadata": {
    "colab": {
      "provenance": []
    },
    "kernelspec": {
      "name": "python3",
      "display_name": "Python 3"
    },
    "language_info": {
      "name": "python"
    }
  },
  "cells": [
    {
      "cell_type": "markdown",
      "source": [
        "# 최장 연속 부분 수열"
      ],
      "metadata": {
        "id": "vgpxlYcpdjNP"
      }
    },
    {
      "cell_type": "markdown",
      "source": [
        "연속되는 수 2\n",
        "- https://inha.codetree.ai/missions/5/problems/continuous-number2/description"
      ],
      "metadata": {
        "id": "uZzNxwoPdmQ3"
      }
    },
    {
      "cell_type": "code",
      "execution_count": null,
      "metadata": {
        "id": "nhELlQ0Xdgvj"
      },
      "outputs": [],
      "source": [
        "N = int(input())\n",
        "num_list = []\n",
        "for i in range(N):\n",
        "    num = int(input())\n",
        "    num_list.append(num)\n",
        "max_val = 0 # 횟수 최댓값\n",
        "val = 0 # 숫자값\n",
        "cnt = 0 # 횟수를 세는 변수\n",
        "# 연속 숫자 횟수 최댓값 구하기\n",
        "for i in range(len(num_list)):\n",
        "    if(i == 0): # 첫번째는 예외처리\n",
        "        val = num_list[i]\n",
        "        cnt += 1\n",
        "        if(i == len(num_list) - 1): # 만약 현재 값이 마지막 값이라면\n",
        "                if(max_val < cnt): # 현재의 횟수값이 max 값보다 크다면\n",
        "                    max_val = cnt # 현재값을 max 값으로\n",
        "    else:\n",
        "        if(num_list[i] == val): # 만약 직전 값과 현재 값이 동일한 숫자이면\n",
        "            cnt += 1 # 횟수 1 증가\n",
        "            if(i == len(num_list) - 1): # 만약 현재 값이 마지막 값이라면\n",
        "                if(max_val < cnt): # 현재의 횟수값이 max 값보다 크다면\n",
        "                    max_val = cnt # 현재값을 max 값으로\n",
        "        else:  # 만약 직전 값과 현재 값과 다른 숫자이면\n",
        "            if(max_val < cnt): # 현재의 횟수값이 max 값보다 크다면\n",
        "                max_val = cnt # 현재값을 max 값으로\n",
        "            cnt = 1 # 횟수 초기화\n",
        "            val = num_list[i] # 숫자값 최신화\n",
        "# 출력\n",
        "print(max_val)"
      ]
    },
    {
      "cell_type": "markdown",
      "source": [
        "연속되는 수 3\n",
        "- https://inha.codetree.ai/missions/5/problems/continuous-number3/description"
      ],
      "metadata": {
        "id": "iXfGeg_Jg38y"
      }
    },
    {
      "cell_type": "code",
      "source": [
        "N = int(input())\n",
        "num_list = []\n",
        "for i in range(N):\n",
        "    num = int(input())\n",
        "    num_list.append(num)\n",
        "# 연속 부분 수열 구하기\n",
        "max_val = 0 # 최대 길이\n",
        "cnt = 0 # 길이\n",
        "for i in range(len(num_list)):\n",
        "    if(i == 0): # 첫 번째 경우\n",
        "        cnt += 1\n",
        "        if(N == 1): # N 값이 1로 주어지면\n",
        "            max_val = cnt\n",
        "    else: # 첫 번째가 아닌 경우\n",
        "        last = num_list[i - 1] # 직전값\n",
        "        now = num_list[i] # 현재값\n",
        "        if((last < 0 and now < 0) or (last > 0 and now > 0)): # 같은 부호가 연속되면\n",
        "            cnt += 1\n",
        "            if(i == len(num_list) - 1):\n",
        "                if(max_val < cnt):\n",
        "                    max_val = cnt\n",
        "        else: # 연속이 아닌 경우\n",
        "            if(max_val < cnt):\n",
        "                max_val = cnt\n",
        "            cnt = 1\n",
        "# 출력\n",
        "print(max_val)"
      ],
      "metadata": {
        "id": "TR6m7CgGg6Tq"
      },
      "execution_count": null,
      "outputs": []
    },
    {
      "cell_type": "markdown",
      "source": [
        "연속되는 수 4\n",
        "- https://inha.codetree.ai/missions/5/problems/continuous-number4/description"
      ],
      "metadata": {
        "id": "TRv3mFAWiiRC"
      }
    },
    {
      "cell_type": "code",
      "source": [
        "N = int(input())\n",
        "num_list = []\n",
        "for i in range(N):\n",
        "    num = int(input())\n",
        "    num_list.append(num)\n",
        "max_val = 0\n",
        "cnt = 0\n",
        "for i in range(len(num_list)):\n",
        "    if(i == 0): # 첫 번째 숫자이면\n",
        "        cnt = 1\n",
        "        if(N == 1): # 1개의 숫자만 주어지면(즉, N이 1일 때)\n",
        "            max_val = cnt\n",
        "    else:\n",
        "        last = num_list[i - 1] # 직전값\n",
        "        now = num_list[i] # 현재값\n",
        "        if(last < now): # 증가하는 경우\n",
        "            cnt += 1\n",
        "            if(i == len(num_list) - 1): # 마지막일 때\n",
        "                max_val = max(cnt, max_val)\n",
        "        else: # 증가하지 않는 경우\n",
        "            max_val = max(cnt, max_val)\n",
        "            cnt = 1\n",
        "# 출력\n",
        "print(max_val)"
      ],
      "metadata": {
        "id": "ZdyaD-Lgijgr"
      },
      "execution_count": null,
      "outputs": []
    },
    {
      "cell_type": "markdown",
      "source": [
        "T를 초과하는 연속 부분 수열\n",
        "- https://inha.codetree.ai/missions/5/problems/subsequence-above-t/description"
      ],
      "metadata": {
        "id": "WBKr2Xh0jfDG"
      }
    },
    {
      "cell_type": "code",
      "source": [
        "n, t = map(int, input().split())\n",
        "num_list = list(map(int, input().split()))\n",
        "max_val = 0\n",
        "cnt = 0\n",
        "for i in range(len(num_list)):\n",
        "    if(i == 0): # 첫 번째 숫자이면\n",
        "        if(num_list[i] > t):\n",
        "            cnt += 1\n",
        "        if(n == 1): # 1개의 숫자만 주어지면(즉, N이 1일 때)\n",
        "            max_val = cnt\n",
        "    else:\n",
        "        if(num_list[i] > t): # 현재 값이 t보다 큰 경우\n",
        "            cnt += 1\n",
        "            if(i == len(num_list) - 1): # 마지막일 때\n",
        "                max_val = max(cnt, max_val)\n",
        "        else: # 현재 값이 t보다 크지 않은 경우\n",
        "            max_val = max(cnt, max_val)\n",
        "            cnt = 0\n",
        "# 출력\n",
        "print(max_val)"
      ],
      "metadata": {
        "id": "b0zcihonjhuC"
      },
      "execution_count": null,
      "outputs": []
    },
    {
      "cell_type": "markdown",
      "source": [
        "# 배열 기록"
      ],
      "metadata": {
        "id": "91uI4Uaqmvug"
      }
    },
    {
      "cell_type": "markdown",
      "source": [
        "만나는 그 순간\n",
        "- https://inha.codetree.ai/missions/5/problems/the-moment-we-meet/description"
      ],
      "metadata": {
        "id": "DzFF_J1hmwOz"
      }
    },
    {
      "cell_type": "code",
      "source": [
        "N, M = map(int, input().split())\n",
        "A, B = [], []\n",
        "# A 이동\n",
        "A.append(0) # 시작점 삽입\n",
        "for i in range(1, N + 1):\n",
        "    d, t = input().split()\n",
        "    t = int(t)\n",
        "    if(d == 'R'): # 오른쪽으로 이동할 경우\n",
        "        for j in range(t):\n",
        "            num = A[-1] + 1\n",
        "            A.append(num)\n",
        "    else: # 왼쪽으로 이동할 경우\n",
        "        for j in range(t):\n",
        "            num = A[-1] - 1\n",
        "            A.append(num)\n",
        "# B 이동\n",
        "B.append(0) # 시작점 삽입\n",
        "for i in range(1, M + 1):\n",
        "    d, t = input().split()\n",
        "    t = int(t)\n",
        "    if(d == 'R'): # 오른쪽으로 이동할 경우\n",
        "        for j in range(t):\n",
        "            num = B[-1] + 1\n",
        "            B.append(num)\n",
        "    else: # 왼쪽으로 이동할 경우\n",
        "        for j in range(t):\n",
        "            num = B[-1] - 1\n",
        "            B.append(num)\n",
        "idx = -1 # 최초로 만나는 인덱스\n",
        "for i in range(1, len(A)):\n",
        "    if(A[i] == B[i]): # 만약 최초로 만나는 경우\n",
        "        idx = i # 해당 인덱스 저장\n",
        "        break\n",
        "# 출력\n",
        "print(idx)"
      ],
      "metadata": {
        "id": "xruUeTy2mwl3"
      },
      "execution_count": null,
      "outputs": []
    },
    {
      "cell_type": "markdown",
      "source": [
        "벌금은 누구에게\n",
        "- https://inha.codetree.ai/missions/5/problems/who-will-pay/description"
      ],
      "metadata": {
        "id": "WfbIhZOIm2-H"
      }
    },
    {
      "cell_type": "code",
      "source": [],
      "metadata": {
        "id": "wP_DPX2bm0xf"
      },
      "execution_count": null,
      "outputs": []
    }
  ]
}