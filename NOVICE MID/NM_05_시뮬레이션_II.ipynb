{
  "nbformat": 4,
  "nbformat_minor": 0,
  "metadata": {
    "colab": {
      "provenance": []
    },
    "kernelspec": {
      "name": "python3",
      "display_name": "Python 3"
    },
    "language_info": {
      "name": "python"
    }
  },
  "cells": [
    {
      "cell_type": "markdown",
      "source": [
        "# 최장 연속 부분 수열"
      ],
      "metadata": {
        "id": "vgpxlYcpdjNP"
      }
    },
    {
      "cell_type": "markdown",
      "source": [
        "연속되는 수 2\n",
        "- https://inha.codetree.ai/missions/5/problems/continuous-number2/description"
      ],
      "metadata": {
        "id": "uZzNxwoPdmQ3"
      }
    },
    {
      "cell_type": "code",
      "execution_count": null,
      "metadata": {
        "id": "nhELlQ0Xdgvj"
      },
      "outputs": [],
      "source": [
        "N = int(input())\n",
        "num_list = []\n",
        "for i in range(N):\n",
        "    num = int(input())\n",
        "    num_list.append(num)\n",
        "max_val = 0 # 횟수 최댓값\n",
        "val = 0 # 숫자값\n",
        "cnt = 0 # 횟수를 세는 변수\n",
        "# 연속 숫자 횟수 최댓값 구하기\n",
        "for i in range(len(num_list)):\n",
        "    if(i == 0): # 첫번째는 예외처리\n",
        "        val = num_list[i]\n",
        "        cnt += 1\n",
        "        if(i == len(num_list) - 1): # 만약 현재 값이 마지막 값이라면\n",
        "                if(max_val < cnt): # 현재의 횟수값이 max 값보다 크다면\n",
        "                    max_val = cnt # 현재값을 max 값으로\n",
        "    else:\n",
        "        if(num_list[i] == val): # 만약 직전 값과 현재 값이 동일한 숫자이면\n",
        "            cnt += 1 # 횟수 1 증가\n",
        "            if(i == len(num_list) - 1): # 만약 현재 값이 마지막 값이라면\n",
        "                if(max_val < cnt): # 현재의 횟수값이 max 값보다 크다면\n",
        "                    max_val = cnt # 현재값을 max 값으로\n",
        "        else:  # 만약 직전 값과 현재 값과 다른 숫자이면\n",
        "            if(max_val < cnt): # 현재의 횟수값이 max 값보다 크다면\n",
        "                max_val = cnt # 현재값을 max 값으로\n",
        "            cnt = 1 # 횟수 초기화\n",
        "            val = num_list[i] # 숫자값 최신화\n",
        "# 출력\n",
        "print(max_val)"
      ]
    },
    {
      "cell_type": "markdown",
      "source": [
        "연속되는 수 3\n",
        "- https://inha.codetree.ai/missions/5/problems/continuous-number3/description"
      ],
      "metadata": {
        "id": "iXfGeg_Jg38y"
      }
    },
    {
      "cell_type": "code",
      "source": [
        "N = int(input())\n",
        "num_list = []\n",
        "for i in range(N):\n",
        "    num = int(input())\n",
        "    num_list.append(num)\n",
        "# 연속 부분 수열 구하기\n",
        "max_val = 0 # 최대 길이\n",
        "cnt = 0 # 길이\n",
        "for i in range(len(num_list)):\n",
        "    if(i == 0): # 첫 번째 경우\n",
        "        cnt += 1\n",
        "        if(N == 1): # N 값이 1로 주어지면\n",
        "            max_val = cnt\n",
        "    else: # 첫 번째가 아닌 경우\n",
        "        last = num_list[i - 1] # 직전값\n",
        "        now = num_list[i] # 현재값\n",
        "        if((last < 0 and now < 0) or (last > 0 and now > 0)): # 같은 부호가 연속되면\n",
        "            cnt += 1\n",
        "            if(i == len(num_list) - 1):\n",
        "                if(max_val < cnt):\n",
        "                    max_val = cnt\n",
        "        else: # 연속이 아닌 경우\n",
        "            if(max_val < cnt):\n",
        "                max_val = cnt\n",
        "            cnt = 1\n",
        "# 출력\n",
        "print(max_val)"
      ],
      "metadata": {
        "id": "TR6m7CgGg6Tq"
      },
      "execution_count": null,
      "outputs": []
    },
    {
      "cell_type": "markdown",
      "source": [
        "연속되는 수 4\n",
        "- https://inha.codetree.ai/missions/5/problems/continuous-number4/description"
      ],
      "metadata": {
        "id": "TRv3mFAWiiRC"
      }
    },
    {
      "cell_type": "code",
      "source": [
        "N = int(input())\n",
        "num_list = []\n",
        "for i in range(N):\n",
        "    num = int(input())\n",
        "    num_list.append(num)\n",
        "max_val = 0\n",
        "cnt = 0\n",
        "for i in range(len(num_list)):\n",
        "    if(i == 0): # 첫 번째 숫자이면\n",
        "        cnt = 1\n",
        "        if(N == 1): # 1개의 숫자만 주어지면(즉, N이 1일 때)\n",
        "            max_val = cnt\n",
        "    else:\n",
        "        last = num_list[i - 1] # 직전값\n",
        "        now = num_list[i] # 현재값\n",
        "        if(last < now): # 증가하는 경우\n",
        "            cnt += 1\n",
        "            if(i == len(num_list) - 1): # 마지막일 때\n",
        "                max_val = max(cnt, max_val)\n",
        "        else: # 증가하지 않는 경우\n",
        "            max_val = max(cnt, max_val)\n",
        "            cnt = 1\n",
        "# 출력\n",
        "print(max_val)"
      ],
      "metadata": {
        "id": "ZdyaD-Lgijgr"
      },
      "execution_count": null,
      "outputs": []
    },
    {
      "cell_type": "markdown",
      "source": [
        "T를 초과하는 연속 부분 수열\n",
        "- https://inha.codetree.ai/missions/5/problems/subsequence-above-t/description"
      ],
      "metadata": {
        "id": "WBKr2Xh0jfDG"
      }
    },
    {
      "cell_type": "code",
      "source": [
        "n, t = map(int, input().split())\n",
        "num_list = list(map(int, input().split()))\n",
        "max_val = 0\n",
        "cnt = 0\n",
        "for i in range(len(num_list)):\n",
        "    if(i == 0): # 첫 번째 숫자이면\n",
        "        if(num_list[i] > t):\n",
        "            cnt += 1\n",
        "        if(n == 1): # 1개의 숫자만 주어지면(즉, N이 1일 때)\n",
        "            max_val = cnt\n",
        "    else:\n",
        "        if(num_list[i] > t): # 현재 값이 t보다 큰 경우\n",
        "            cnt += 1\n",
        "            if(i == len(num_list) - 1): # 마지막일 때\n",
        "                max_val = max(cnt, max_val)\n",
        "        else: # 현재 값이 t보다 크지 않은 경우\n",
        "            max_val = max(cnt, max_val)\n",
        "            cnt = 0\n",
        "# 출력\n",
        "print(max_val)"
      ],
      "metadata": {
        "id": "b0zcihonjhuC"
      },
      "execution_count": null,
      "outputs": []
    },
    {
      "cell_type": "markdown",
      "source": [
        "# 배열 기록"
      ],
      "metadata": {
        "id": "91uI4Uaqmvug"
      }
    },
    {
      "cell_type": "markdown",
      "source": [
        "만나는 그 순간\n",
        "- https://inha.codetree.ai/missions/5/problems/the-moment-we-meet/description"
      ],
      "metadata": {
        "id": "DzFF_J1hmwOz"
      }
    },
    {
      "cell_type": "code",
      "source": [
        "N, M = map(int, input().split())\n",
        "A, B = [], []\n",
        "# A 이동\n",
        "A.append(0) # 시작점 삽입\n",
        "for i in range(1, N + 1):\n",
        "    d, t = input().split()\n",
        "    t = int(t)\n",
        "    if(d == 'R'): # 오른쪽으로 이동할 경우\n",
        "        for j in range(t):\n",
        "            num = A[-1] + 1\n",
        "            A.append(num)\n",
        "    else: # 왼쪽으로 이동할 경우\n",
        "        for j in range(t):\n",
        "            num = A[-1] - 1\n",
        "            A.append(num)\n",
        "# B 이동\n",
        "B.append(0) # 시작점 삽입\n",
        "for i in range(1, M + 1):\n",
        "    d, t = input().split()\n",
        "    t = int(t)\n",
        "    if(d == 'R'): # 오른쪽으로 이동할 경우\n",
        "        for j in range(t):\n",
        "            num = B[-1] + 1\n",
        "            B.append(num)\n",
        "    else: # 왼쪽으로 이동할 경우\n",
        "        for j in range(t):\n",
        "            num = B[-1] - 1\n",
        "            B.append(num)\n",
        "idx = -1 # 최초로 만나는 인덱스\n",
        "for i in range(1, len(A)):\n",
        "    if(A[i] == B[i]): # 만약 최초로 만나는 경우\n",
        "        idx = i # 해당 인덱스 저장\n",
        "        break\n",
        "# 출력\n",
        "print(idx)"
      ],
      "metadata": {
        "id": "xruUeTy2mwl3"
      },
      "execution_count": null,
      "outputs": []
    },
    {
      "cell_type": "markdown",
      "source": [
        "벌금은 누구에게\n",
        "- https://inha.codetree.ai/missions/5/problems/who-will-pay/description"
      ],
      "metadata": {
        "id": "WfbIhZOIm2-H"
      }
    },
    {
      "cell_type": "code",
      "source": [
        "N, M, K = map(int, input().split())\n",
        "num_list = [[0 for _ in range(M + 1)] for _ in range(N + 1)]\n",
        "for i in range(1, M + 1):\n",
        "    num = int(input())\n",
        "    for j in range(1, N + 1):\n",
        "        if(j == num):\n",
        "            num_list[j][i] = num_list[j][i - 1] + 1\n",
        "        else:\n",
        "            num_list[j][i] = num_list[j][i - 1]\n",
        "# 최초의 벌금을 내는 학생 찾기\n",
        "idx = -1 # 해당 학생을 저장하는 인덱스\n",
        "for i in range(M + 1):\n",
        "    if(i < K):\n",
        "        continue\n",
        "    else:\n",
        "        for j in range(1, N + 1):\n",
        "            if(num_list[j][i] == K): # K 번 이상 벌칙을 받은 최초의 학생 발견시\n",
        "                idx = j # 해당 학생 인덱스로 저장\n",
        "                break\n",
        "    if(idx != -1): # 학생을 찾은 경우\n",
        "        break # for문 종료\n",
        "# 출력\n",
        "print(idx)"
      ],
      "metadata": {
        "id": "wP_DPX2bm0xf"
      },
      "execution_count": null,
      "outputs": []
    },
    {
      "cell_type": "markdown",
      "source": [
        "선두를 지켜라\n",
        "- https://inha.codetree.ai/missions/5/problems/keep-the-lead/description"
      ],
      "metadata": {
        "id": "PmQK4YIqlmzt"
      }
    },
    {
      "cell_type": "code",
      "source": [
        "N, M = map(int, input().split())\n",
        "A, B = [], []\n",
        "# A의 이동 계산\n",
        "A.append(0)\n",
        "for i in range(N):\n",
        "    v, t = map(int, input().split())\n",
        "    for j in range(t):\n",
        "        A.append(A[-1] + v)\n",
        "# B의 이동 계산\n",
        "B.append(0)\n",
        "for i in range(M):\n",
        "    v, t = map(int, input().split())\n",
        "    for j in range(t):\n",
        "        B.append(B[-1] + v)\n",
        "# 선두 횟수 계산\n",
        "cnt = 0 # 선두 횟수 저장\n",
        "val = '' # 선두를 나타내는 변수\n",
        "for i in range(1, len(A)):\n",
        "    if(i == 1):\n",
        "        if(A[i] >= B[i]): # A가 선두이면\n",
        "            val = 'A'\n",
        "        else:\n",
        "            val = 'B'\n",
        "    else:\n",
        "        if(A[i] >= B[i]): # A가 선두일 때\n",
        "            if(val != 'A'): # B가 선두였는데 A로 바뀌었으면\n",
        "                cnt += 1 # 선두 변경 횟수 증가\n",
        "                val = 'A' # 선두 변수 변경\n",
        "        else: # B가 선두일 때\n",
        "            if(val != 'B'): # A가 선두였는데 B로 바뀌었으면\n",
        "                cnt += 1 # 선두 변경 횟수 증가\n",
        "                val = 'B' # 선두 변수 변경\n",
        "# 출력\n",
        "print(cnt)"
      ],
      "metadata": {
        "id": "h5Zk9KcNlove"
      },
      "execution_count": null,
      "outputs": []
    },
    {
      "cell_type": "markdown",
      "source": [
        "좌우로 움직이는 로봇\n",
        "- https://inha.codetree.ai/missions/5/problems/robot-moving-from-side-to-side/description"
      ],
      "metadata": {
        "id": "d7T3Comxn73m"
      }
    },
    {
      "cell_type": "code",
      "source": [
        "n, m = map(int, input().split())\n",
        "A, B = [], []\n",
        "A.append(0)\n",
        "B.append(0)\n",
        "# A, B의 이동거리 계산\n",
        "for i in range(n):\n",
        "    t, d = input().split()\n",
        "    t = int(t)\n",
        "    for j in range(t):\n",
        "        if(d == 'L'):\n",
        "            A.append(A[-1] - 1)\n",
        "        else:\n",
        "            A.append(A[-1] + 1)\n",
        "for j in range(m):\n",
        "    t, d = input().split()\n",
        "    t = int(t)\n",
        "    for j in range(t):\n",
        "        if(d == 'L'):\n",
        "            B.append(B[-1] - 1)\n",
        "        else:\n",
        "            B.append(B[-1] + 1)\n",
        "# 이동 종료 이후, 다른 로봇이 다 움직일 때까지 같은 위치에 계속 머무르게 저장\n",
        "if(len(A) >= len(B)): # B는 다 이동했지만 A는 아직 남은 경우\n",
        "    num = len(A) - len(B)\n",
        "    for i in range(num):\n",
        "        B.append(B[-1])\n",
        "else: # A는 다 이동했지만 B는 아직 남은 경우\n",
        "    num = len(B) - len(A)\n",
        "    for i in range(num):\n",
        "        A.append(A[-1])\n",
        "# 횟수 계산\n",
        "cnt = 0\n",
        "for i in range(1, len(A)):\n",
        "    if(i == 1): # 첫 번째는 횟수에 포함시키지 않음\n",
        "        pass\n",
        "    else:\n",
        "        # 바로 직전에는 다른 위치에 있다가 그 다음 번에는 같은 위치인 경우\n",
        "        if((A[i - 1] != B[i - 1]) and (A[i] == B[i])):\n",
        "            cnt += 1\n",
        "# 출력\n",
        "print(cnt)"
      ],
      "metadata": {
        "id": "0mSq3XPpn-Ig"
      },
      "execution_count": null,
      "outputs": []
    },
    {
      "cell_type": "markdown",
      "source": [
        "악수와 전염병의 상관관계 2\n",
        "- https://inha.codetree.ai/missions/5/problems/correlation-between-shaking-hands-and-infectious-diseases2/description"
      ],
      "metadata": {
        "id": "EmDf0skpsWXd"
      }
    },
    {
      "cell_type": "code",
      "source": [
        "N, K, P, T = map(int, input().split())\n",
        "# 개발자 수 N, 악수 횟수 K, 감염된 개발자 번호 P, t초동안 하는 악수 횟수 T\n",
        "num_list = [[0 for _ in range(251)] for _ in range(N + 1)] # 감염 상태 저장\n",
        "cnt = [K] * (N + 1) # 악수 횟수 저장\n",
        "# 비감염 0, 감염(전염X) 1, 감염(전염O) 2\n",
        "info = [] # 악수정보 저장\n",
        "t_time = [] # 악수하는 시간(초) 저장\n",
        "for i in range(T):\n",
        "    t, x, y = map(int, input().split())\n",
        "    info.append([t, x, y])\n",
        "    t_time.append(t)\n",
        "info.sort() # t초 순으로 정렬\n",
        "for i in range(251):\n",
        "    # 악수가 시작되기 전이면\n",
        "    if(i < info[0][0]):\n",
        "        num_list[P][i] = 2 # 최초 감염된 개발자는 전염 가능한 상태로 저장\n",
        "    # 악수하는 상황이면\n",
        "    elif(i in t_time):\n",
        "        for j in range(len(info)):\n",
        "            if(i == info[j][0]):\n",
        "                x, y = info[j][1], info[j][2]\n",
        "        # x, y가 아닌 나머지 값들 업데이트\n",
        "        for j in range(1, N + 1):\n",
        "            if(j == x or j == y): # 악수 인원은\n",
        "                pass # pass 후 악수 반영\n",
        "            else: # 나머지 인원은\n",
        "                 num_list[j][i] = num_list[j][i - 1] # 지난 정보 가져오기\n",
        "        # x가 전염이 가능한 상태고 y는 아니라면\n",
        "        if((num_list[x][i - 1] == 2) and (num_list[y][i - 1] != 2)):\n",
        "            cnt[x] -= 1 # 악수 횟수 사용\n",
        "            # y가 비감염 상태였다면\n",
        "            if(num_list[y][i - 1] == 0):\n",
        "                num_list[y][i] = 2 # 전염 정보 저장\n",
        "            # y가 감염(전염 X) 상태였다면\n",
        "            elif(num_list[y][i - 1] == 1):\n",
        "                num_list[y][i] = 1 # 전염 정보 저장\n",
        "            if(cnt[x] > 0): # x가 전염 가능한 악수 횟수가 남아있으면\n",
        "                num_list[x][i] = 2 # 여전히 감염(전염 0)\n",
        "            else: # x가 더이상 전염은 불가하다면\n",
        "                num_list[x][i] = 1 # 감염(전염 X)로 전환\n",
        "        # y가 전염이 가능한 상태고 x는 아니라면\n",
        "        elif((num_list[x][i - 1] != 2) and (num_list[y][i - 1] == 2)):\n",
        "            cnt[y] -= 1 # 악수 횟수 사용\n",
        "            # x가 비감염 상태였다면\n",
        "            if(num_list[x][i - 1] == 0):\n",
        "                num_list[x][i] = 2 # 전염 정보 저장\n",
        "            # x가 감염(전염 X) 상태였다면\n",
        "            elif(num_list[x][i - 1] == 1):\n",
        "                num_list[x][i] = 1 # 전염 정보 저장\n",
        "            if(cnt[y] > 0): # y가 전염 가능한 악수 횟수가 남아있으면\n",
        "                num_list[y][i] = 2 # 여전히 감염(전염 0)\n",
        "            else: # y가 더이상 전염은 불가하다면\n",
        "                num_list[y][i] = 1 # 감염(전염 X)로 전환\n",
        "        # 둘 다 전염(감염 O) 상태이면\n",
        "        elif((num_list[x][i - 1] == 2) and (num_list[y][i - 1] == 2)):\n",
        "            cnt[x] -= 1\n",
        "            cnt[y] -= 1\n",
        "            # x, y 상태 업데이트\n",
        "            if(cnt[x] > 0): # x가 아직 전염이 가능하면\n",
        "                num_list[x][i] = 2\n",
        "            else: # x가 더이상 전염은 불가하면\n",
        "                num_list[x][i] = 1\n",
        "            if(cnt[y] > 0): # y가 아직 전염이 가능하면\n",
        "                num_list[y][i] = 2\n",
        "            else: # y가 더이상 전염은 불가하면\n",
        "                num_list[y][i] = 1\n",
        "        # x와 y 둘 다 전염이 안 되는 경우\n",
        "        else: # x, y 최신화\n",
        "            num_list[x][i] = num_list[x][i - 1]\n",
        "            num_list[y][i] = num_list[y][i - 1]\n",
        "    # 악수 하는 상황이 아니라면\n",
        "    else:\n",
        "        for j in range(1, N + 1):\n",
        "            num_list[j][i] = num_list[j][i - 1] # 지난 정보 가져오기\n",
        "# 출력\n",
        "for i in range(1, N + 1):\n",
        "    if(num_list[i][250] >= 1):\n",
        "        print(1, end = '')\n",
        "    else:\n",
        "        print(0, end = '')\n",
        "# 문제 참고사항\n",
        "# 최초 감염 시에만 전염력 존재, 이후 K번 악수를 다 하고나서 재감염 되더라도 전염성은 없음"
      ],
      "metadata": {
        "id": "_dA1LCJssZA6"
      },
      "execution_count": null,
      "outputs": []
    },
    {
      "cell_type": "code",
      "source": [
        "# 해설 답안\n",
        "# 클래스 선언\n",
        "class Shake:\n",
        "    def __init__(self, time, person1, person2):\n",
        "        self.time, self.person1, self.person2 = time, person1, person2\n",
        "\n",
        "# 변수 선언 및 입력\n",
        "n, k, p, t = tuple(map(int, input().split()))\n",
        "shakes = []\n",
        "for _ in range(t):\n",
        "    time, person1, person2 = tuple(map(int, input().split()))\n",
        "    shakes.append(Shake(time, person1, person2))\n",
        "\n",
        "shake_num = [0] * (n + 1)\n",
        "infected = [False] * (n + 1)\n",
        "\n",
        "infected[p] = True\n",
        "\n",
        "# Custom Comparator를 활용한 정렬\n",
        "shakes.sort(key = lambda x: x.time)\n",
        "\n",
        "# 각 악수 횟수를 세서,\n",
        "# K번 초과로 악수를 했을 시 전염시키지 않습니다.\n",
        "for shake in shakes:\n",
        "\ttarget1 = shake.person1\n",
        "\ttarget2 = shake.person2\n",
        "\n",
        "\t# 감염되어 있을 경우 악수 횟수를 증가시킵니다.\n",
        "\tif infected[target1]:\n",
        "\t\tshake_num[target1] += 1\n",
        "\tif infected[target2]:\n",
        "\t\tshake_num[target2] += 1\n",
        "\n",
        "\t# target1이 감염되어 있고 아직 K번 이하로 악수했다면 target2를 전염시킵니다.\n",
        "\tif shake_num[target1] <= k and infected[target1]:\n",
        "\t\tinfected[target2] = True\n",
        "\n",
        "\t# target2가 감염되어 있고 아직 K번 이하로 악수했다면 target1을 전염시킵니다.\n",
        "\tif shake_num[target2] <= k and infected[target2]:\n",
        "\t\tinfected[target1] = True\n",
        "\n",
        "for i in range(1, n + 1):\n",
        "\tif infected[i]:\n",
        "\t\tprint(1, end=\"\")\n",
        "\telse:\n",
        "\t\tprint(0, end=\"\")"
      ],
      "metadata": {
        "id": "rhaQnvEKH_uM"
      },
      "execution_count": null,
      "outputs": []
    },
    {
      "cell_type": "markdown",
      "source": [
        "선두를 지켜라 3\n",
        "- https://inha.codetree.ai/missions/5/problems/keep-the-lead-3/description"
      ],
      "metadata": {
        "id": "LdwgKYnLH_a9"
      }
    },
    {
      "cell_type": "code",
      "source": [
        "N, M = map(int, input().split())\n",
        "A, B = [], []\n",
        "# A의 이동 저장\n",
        "A.append(0)\n",
        "for i in range(N):\n",
        "    v, t = map(int, input().split())\n",
        "    for j in range(t):\n",
        "        A.append(A[-1] + v)\n",
        "# B의 이동 저장\n",
        "B.append(0)\n",
        "for i in range(M):\n",
        "    v, t = map(int, input().split())\n",
        "    for j in range(t):\n",
        "        B.append(B[-1] + v)\n",
        "# 횟수 계산\n",
        "cnt = 0\n",
        "val = ''\n",
        "for i in range(1, len(A)):\n",
        "    if(i == 1): # 첫 번째의 경우\n",
        "        cnt += 1 # 첫 번째 명예의 전당도 횟수에 포함\n",
        "        if(A[i] > B[i]): # A가 B보다 클 때\n",
        "            val = 'A'\n",
        "        elif(A[i] < B[i]): # B가 A보다 클 때\n",
        "            val = 'B'\n",
        "        else: # A와 B가 같을 때\n",
        "            val = 'AB'\n",
        "    else:\n",
        "        if(A[i] > B[i]): # A가 B보다 클 때\n",
        "            if(val != 'A'):\n",
        "                cnt += 1\n",
        "                val = 'A'\n",
        "        elif(A[i] < B[i]): # B가 A보다 클 때\n",
        "            if(val != 'B'):\n",
        "                cnt += 1\n",
        "                val = 'B'\n",
        "        else:\n",
        "            if(val != 'AB'): # A와 B가 같을 때\n",
        "                cnt += 1\n",
        "                val = 'AB'\n",
        "# 출력\n",
        "print(cnt)"
      ],
      "metadata": {
        "id": "HJ_Q0BFynMB3"
      },
      "execution_count": null,
      "outputs": []
    },
    {
      "cell_type": "markdown",
      "source": [
        "# dx dy technique"
      ],
      "metadata": {
        "id": "MhA-6a5TpzEy"
      }
    },
    {
      "cell_type": "markdown",
      "source": [
        "방향에 맞춰 이동\n",
        "- https://inha.codetree.ai/missions/5/problems/move-in-direction/description"
      ],
      "metadata": {
        "id": "rizKbx89pzi5"
      }
    },
    {
      "cell_type": "code",
      "source": [
        "N = int(input())\n",
        "x, y = 0, 0\n",
        "# 방향 계산\n",
        "for i in range(N):\n",
        "    d, v = input().split()\n",
        "    v = int(v)\n",
        "    if(d == 'W'):\n",
        "        x, y = x - v, y\n",
        "    elif(d == 'S'):\n",
        "        x, y = x, y - v\n",
        "    elif(d == 'N'):\n",
        "        x, y = x, y + v\n",
        "    elif(d == 'E'):\n",
        "        x, y = x + v, y\n",
        "# 출력\n",
        "print(x, y)"
      ],
      "metadata": {
        "id": "JfX4JPpqp1bJ"
      },
      "execution_count": null,
      "outputs": []
    },
    {
      "cell_type": "markdown",
      "source": [
        "문자에 따른 명령 2\n",
        "- https://inha.codetree.ai/missions/5/problems/text-based-commands2/submissions"
      ],
      "metadata": {
        "id": "wxqVf5gjtJgA"
      }
    },
    {
      "cell_type": "code",
      "source": [
        "s = input()\n",
        "dx, dy, direction = [0, -1, 0, 1], [1, 0, -1, 0], 0 # 북, 서, 남, 동 순서\n",
        "x, y = 0, 0\n",
        "for i in s:\n",
        "    if(i == 'L'):\n",
        "        if(direction == 0):\n",
        "            direction = 1\n",
        "        elif(direction == 1):\n",
        "            direction = 2\n",
        "        elif(direction == 2):\n",
        "            direction = 3\n",
        "        elif(direction == 3):\n",
        "            direction = 0\n",
        "    elif(i == 'R'):\n",
        "        if(direction == 0):\n",
        "            direction = 3\n",
        "        elif(direction == 1):\n",
        "            direction = 0\n",
        "        elif(direction == 2):\n",
        "            direction = 1\n",
        "        elif(direction == 3):\n",
        "            direction = 2\n",
        "    elif(i == 'F'):\n",
        "        x, y = x + dx[direction], y + dy[direction]\n",
        "# 출력\n",
        "print(x, y)"
      ],
      "metadata": {
        "id": "n-LwlLZptJwC"
      },
      "execution_count": null,
      "outputs": []
    },
    {
      "cell_type": "markdown",
      "source": [
        "1이 3개 이상 있는 위치\n",
        "- https://inha.codetree.ai/missions/5/problems/place-more-than-3-ones/description"
      ],
      "metadata": {
        "id": "f7HFIYiStNOh"
      }
    },
    {
      "cell_type": "code",
      "source": [
        "n = int(input())\n",
        "num_list = []\n",
        "# 격자 입력받기\n",
        "for i in range(n):\n",
        "    num = list(map(int, input().split()))\n",
        "    num_list.append(num)\n",
        "# 개수 세기\n",
        "cnt = 0 # 개수 변수\n",
        "dx, dy = [0, -1, 0, 1], [1, 0, -1, 0] # 북, 서, 남, 동 순서\n",
        "for i in range(n):\n",
        "    for j in range(n):\n",
        "        x, y = i, j\n",
        "        count = 0\n",
        "        for k in range(4):\n",
        "            nx, ny = i + dx[k], j + dy[k]\n",
        "            if(nx >= 0 and nx < n and ny >= 0 and ny < n): # 인접 칸이 격자 안에 들어오면\n",
        "                if(num_list[nx][ny] == 1):\n",
        "                    count += 1\n",
        "        if(count >= 3):\n",
        "            cnt += 1\n",
        "# 출력\n",
        "print(cnt)"
      ],
      "metadata": {
        "id": "ilik4RzbtMRp"
      },
      "execution_count": null,
      "outputs": []
    },
    {
      "cell_type": "markdown",
      "source": [
        "작은 구슬의 이동\n",
        "- https://inha.codetree.ai/missions/5/problems/small-marble-movement/description"
      ],
      "metadata": {
        "id": "QO1Fsffsv8Qq"
      }
    },
    {
      "cell_type": "markdown",
      "source": [
        "방향에 따라 움직이는 문제이므로, dx, dy 테크닉을 써볼 수 있다.\n",
        "단, 격자 끝에 도착하면 방향을 반대로 뒤집어 줘야 하기 때문에, dx, dy 정의시 다음과 같이 방향을 놓는 것이 좋다.\n",
        "0번과 3번(ex 남, 북)이 반대 방향이 되도록 하고, 1번과 2번(ex 서, 동)이 반대 방향이 되도록 dx, dy를 설정했기 때문에 **방향을 뒤집는 작업은 숫자 3에서 현재 방향 번호를 빼주면 된다.**"
      ],
      "metadata": {
        "id": "J64lv747w0KD"
      }
    },
    {
      "cell_type": "code",
      "source": [
        "n, t = map(int, input().split())\n",
        "r, c, d = input().split()\n",
        "r, c = int(r), int(c)\n",
        "dx, dy = [0, 1, -1, 0], [1, 0, 0, -1] # 북, 동, 서, 남 순서(남, 북이 서로 반대고, 서, 동이 서로 반대임)\n",
        "direction = -1 # 방향 설정 변수\n",
        "# 방향 설정\n",
        "if(d == 'U'): # 위 (격자에서는 위로 올라가는 것은 값이 줄어드는 것)\n",
        "    direction = 2\n",
        "elif(d == 'D'): # 아래 (격자에서는 아래로 내려가는 것은 값이 늘어나는 것)\n",
        "    direction = 1\n",
        "elif(d == 'R'): # 오른\n",
        "    direction = 0\n",
        "elif(d == 'L'): # 왼\n",
        "    direction = 3\n",
        "# 이동 계산\n",
        "for i in range(t):\n",
        "    nx, ny = r + dx[direction], c + dy[direction]\n",
        "    if(nx >= 1 and nx <= n and ny >= 1 and ny <= n): # 이동한 값이 격자 안이라면\n",
        "        r, c = nx, ny\n",
        "    else: # 이동한 값이 격자 밖이라면\n",
        "        direction = 3 - direction # 이동방향 반대방향으로 변경\n",
        "# 출력\n",
        "print(r, c)"
      ],
      "metadata": {
        "colab": {
          "base_uri": "https://localhost:8080/"
        },
        "id": "AcMHGYPbv9go",
        "outputId": "606b9947-7401-4f0f-f8bf-001e28ca1007"
      },
      "execution_count": null,
      "outputs": [
        {
          "output_type": "stream",
          "name": "stdout",
          "text": [
            "26 41\n",
            "8 3 D\n",
            "7 3 D\n",
            "6 3 D\n",
            "5 3 D\n",
            "4 3 D\n",
            "3 3 D\n",
            "2 3 D\n",
            "1 3 D\n",
            "1 3 D\n",
            "2 3 D\n",
            "3 3 D\n",
            "4 3 D\n",
            "5 3 D\n",
            "6 3 D\n",
            "7 3 D\n",
            "8 3 D\n",
            "9 3 D\n",
            "10 3 D\n",
            "11 3 D\n",
            "12 3 D\n",
            "13 3 D\n",
            "14 3 D\n",
            "15 3 D\n",
            "16 3 D\n",
            "17 3 D\n",
            "18 3 D\n",
            "19 3 D\n",
            "20 3 D\n",
            "21 3 D\n",
            "22 3 D\n",
            "23 3 D\n",
            "24 3 D\n",
            "25 3 D\n",
            "26 3 D\n",
            "26 3 D\n",
            "25 3 D\n",
            "24 3 D\n",
            "23 3 D\n",
            "22 3 D\n",
            "21 3 D\n",
            "20 3 D\n",
            "19 3 D\n",
            "19 3\n"
          ]
        }
      ]
    },
    {
      "cell_type": "code",
      "source": [
        "# 해설 코드 활용\n",
        "n, t = map(int, input().split())\n",
        "r, c, d = input().split()\n",
        "r, c = int(r), int(c)\n",
        "dx, dy = [0, 1, -1, 0], [1, 0, 0, -1] # 북, 동, 서, 남 순서(남, 북이 서로 반대고, 서, 동이 서로 반대임)\n",
        "mapper = {\n",
        "    'R': 0,\n",
        "    'D': 1,\n",
        "    'U': 2,\n",
        "    'L': 3\n",
        "}\n",
        "direction = mapper[d]\n",
        "for _ in range(t):\n",
        "    nx, ny = r + dx[direction], c + dy[direction]\n",
        "    if(1 <= nx and nx <= n and 1 <= ny and ny <= n):\n",
        "        r, c = nx, ny\n",
        "    else:\n",
        "        direction = 3 - direction\n",
        "# 출력\n",
        "print(r, c)"
      ],
      "metadata": {
        "id": "rbeNEk3i3iIA"
      },
      "execution_count": null,
      "outputs": []
    },
    {
      "cell_type": "markdown",
      "source": [
        "빙빙 돌며 숫자 사각형 채우기\n",
        "- https://inha.codetree.ai/missions/5/problems/snail-number-square/description"
      ],
      "metadata": {
        "id": "OjnEyfAiv91Z"
      }
    },
    {
      "cell_type": "code",
      "source": [
        "n, m = map(int, input().split())\n",
        "num_list = [[0 for _ in range(m)] for _ in range(n)] # n * m 사각형\n",
        "x, y = 0, 0\n",
        "num_list[x][y] = 1 # 초기값\n",
        "dx, dy = [0, 1, 0, -1], [1, 0, -1, 0] # 오른쪽, 아래, 왼쪽, 위 순서\n",
        "direction = 0\n",
        "for i in range(2, n * m + 1):\n",
        "    nx, ny = x + dx[direction], y + dy[direction]\n",
        "    # 격자 바깥인지 혹은 이미 해당 값이 있는지 확인\n",
        "    if((nx < 0 or nx >= n or ny < 0 or ny >= m) or (num_list[nx][ny] != 0)):\n",
        "        direction = (direction + 1) % 4\n",
        "    # 다음 위치로 이동(위의 nx, ny와 혼동하지 않도록 주의)\n",
        "    x, y = x + dx[direction], y + dy[direction]\n",
        "    num_list[x][y] = i\n",
        "# 출력\n",
        "for i in range(n):\n",
        "    for j in range(m):\n",
        "        print(num_list[i][j], end = ' ')\n",
        "    print()"
      ],
      "metadata": {
        "id": "e0kSIUCNv9lo"
      },
      "execution_count": null,
      "outputs": []
    },
    {
      "cell_type": "markdown",
      "source": [
        "되돌아오기\n",
        "- https://inha.codetree.ai/missions/5/problems/come-back/description"
      ],
      "metadata": {
        "id": "fKXc79GWFHkG"
      }
    },
    {
      "cell_type": "code",
      "source": [
        "N = int(input())\n",
        "x, y = 0, 0\n",
        "dx, dy, direction = [-1, 0, 0, 1], [0, -1, 1, 0], -1 # 서, 남, 북, 동 순서\n",
        "cnt = 0\n",
        "idx = -1\n",
        "for i in range(N):\n",
        "    v, t = input().split()\n",
        "    t = int(t)\n",
        "    if(v == 'W'):\n",
        "        direction = 0\n",
        "    elif(v == 'S'):\n",
        "        direction = 1\n",
        "    elif(v == 'N'):\n",
        "        direction = 2\n",
        "    elif(v == 'E'):\n",
        "        direction = 3\n",
        "    for j in range(t):\n",
        "        cnt += 1\n",
        "        x, y = x + dx[direction], y + dy[direction]\n",
        "        if(x == 0 and y == 0 and idx == -1): # idx == -1은, 처음으로 0으로 다시 돌아오는 경우만 저장하기 위해서\n",
        "            idx = cnt\n",
        "# 출력\n",
        "print(idx)"
      ],
      "metadata": {
        "colab": {
          "base_uri": "https://localhost:8080/"
        },
        "id": "CPwT_EyGFH0-",
        "outputId": "b9d2a56f-a5cc-4e18-f884-7258b0c88c7e"
      },
      "execution_count": null,
      "outputs": [
        {
          "output_type": "stream",
          "name": "stdout",
          "text": [
            "2\n",
            "E 1\n",
            "W 6\n",
            "2\n"
          ]
        }
      ]
    },
    {
      "cell_type": "markdown",
      "source": [
        "되돌아오기 2\n",
        "- https://inha.codetree.ai/missions/5/problems/come-back-2/description"
      ],
      "metadata": {
        "id": "dj-hLiNjHxY9"
      }
    },
    {
      "cell_type": "code",
      "source": [
        "s = input()\n",
        "x, y = 0, 0\n",
        "dx, dy, direction = [0, -1, 0, 1], [1, 0, -1, 0], 0 # 북, 서, 남, 동 순서\n",
        "cnt = 0 # 이동 시간\n",
        "idx = -1 # 처음으로 다시 돌아오는 시간 저장\n",
        "for i in s:\n",
        "    if(i == 'L'):\n",
        "        direction = (direction + 1) % 4\n",
        "        cnt += 1\n",
        "    elif(i == 'R'):\n",
        "        if(direction == 0):\n",
        "            direction = 3\n",
        "        else:\n",
        "            direction = direction - 1\n",
        "        cnt += 1\n",
        "    elif(i == 'F'):\n",
        "        cnt += 1\n",
        "        x, y = x + dx[direction], y + dy[direction]\n",
        "        if(idx == -1 and x == 0 and y == 0): # 처음으로 제자리에 돌아오는 경우\n",
        "            idx = cnt\n",
        "# 출력\n",
        "print(idx)"
      ],
      "metadata": {
        "id": "Fc7g5GLdHxqa"
      },
      "execution_count": null,
      "outputs": []
    },
    {
      "cell_type": "markdown",
      "source": [
        "격자 위의 편안한 상태\n",
        "- https://inha.codetree.ai/missions/5/problems/comfortable-state-on-the-grid/description"
      ],
      "metadata": {
        "id": "EoPCBHXOkuZ3"
      }
    },
    {
      "cell_type": "code",
      "source": [
        "N, M = map(int, input().split())\n",
        "num_list = [[0 for _ in range(N + 1)] for _ in range(N + 1)] # N * N 격자\n",
        "# 격자에서는 x가 행, y가 열이고, 남북 이동시 x가 1, -1만큼 변화, 동서 이동시 y가 1, -1만큼 변화\n",
        "dx, dy = [-1, 0, 1, 0], [0, -1, 0, 1] # 북, 서, 남, 동\n",
        "# 격자 색칠 및 편안한 상태(인접 칸이 칠해진 갯수가 정확히 3개)인지 확인\n",
        "for i in range(M):\n",
        "    r, c = map(int, input().split())\n",
        "    num_list[r][c] = 1\n",
        "    cnt = 0\n",
        "    for j in range(4):\n",
        "        nx, ny = r + dx[j], c + dy[j]\n",
        "        if(nx >= 1 and nx <= N and ny >= 1 and ny <= N): # 격자 안에 들어오는 경우\n",
        "            if(num_list[nx][ny] == 1): # 격자가 칠해져 있다면\n",
        "                cnt += 1 # cnt 1 증가\n",
        "    if(cnt == 3): # 인접한 칠해진 격자가 총 3개면\n",
        "        print(1)\n",
        "    else:\n",
        "        print(0)"
      ],
      "metadata": {
        "id": "8YpT6SJNkuyl"
      },
      "execution_count": null,
      "outputs": []
    },
    {
      "cell_type": "markdown",
      "source": [
        "거울에 레이저 쏘기 2\n",
        "- https://inha.codetree.ai/missions/5/problems/shoot-a-laser-in-the-mirror-2/description"
      ],
      "metadata": {
        "id": "uQ3m3YNFk02J"
      }
    },
    {
      "cell_type": "code",
      "source": [
        "N = int(input())\n",
        "dx, dy = [1, 0, -1, 0], [0, -1, 0, 1] # 남, 서, 북, 동\n",
        "# / 모양의 경우 0 <-> 1, 2 <-> 3으로 방향 전환\n",
        "# \\ 모양의 경우 0 <-> 3, 1 <-> 2로 방향 전환\n",
        "str_list = []\n",
        "# 맵 정보 입력\n",
        "for i in range(N):\n",
        "    s = input()\n",
        "    li = []\n",
        "    for j in s:\n",
        "        li.append(j)\n",
        "    str_list.append(li)\n",
        "K = int(input()) # 시작 번호\n",
        "# 레이저 쏘는 위치 계산\n",
        "x, y, direction = 0, 0, 0\n",
        "# 시작 위치 및 방향 계산\n",
        "def start_location(K): # 반환으로 x, y, direction\n",
        "    if(K <= N): # K <= N\n",
        "        return 0, K - 1, 0\n",
        "    elif(K <= 2 * N): # N < K <= 2 * N\n",
        "        return K - N - 1, N - 1, 1\n",
        "    elif(K <= 3 * N): # 2 * N < K <= 3 * N\n",
        "        return N - 1, N - (K - 2 * N), 2\n",
        "    else: # 3 * N < K\n",
        "        return N - (K - 3 * N), 0, 3\n",
        "# 범위함수\n",
        "def in_range(x, y):\n",
        "    return (0 <= x and x < N and 0 <= y and y < N)\n",
        "# 이동함수\n",
        "def move(x, y, direction):\n",
        "    nx, ny = x + dx[direction], y + dy[direction]\n",
        "    return nx, ny\n",
        "# 시뮬레이션 함수\n",
        "def simulate(x, y, direction):\n",
        "    cnt = 0 # 횟수 변수\n",
        "    while(in_range(x, y)): # 범위 안에 있을 때\n",
        "        if(str_list[x][y] == '/'): # / 모양의 경우 0 <-> 1, 2 <-> 3으로 방향 전환\n",
        "            # 방향 먼저 결정\n",
        "            if(direction == 0):\n",
        "                direction = 1\n",
        "            elif(direction == 1):\n",
        "                direction = 0\n",
        "            elif(direction == 2):\n",
        "                direction = 3\n",
        "            elif(direction == 3):\n",
        "                direction = 2\n",
        "            # 방향이 결정되고 나면, 이동\n",
        "            x, y = move(x, y, direction)\n",
        "            cnt += 1 # 이동 횟수 1 증가\n",
        "        else: # \\ 모양의 경우 0 <-> 3, 1 <-> 2로 방향 전환\n",
        "            # 방향 먼저 결정\n",
        "            direction = 3 - direction\n",
        "            # 방향이 결정되고 나면, 이동\n",
        "            x, y = move(x, y, direction)\n",
        "            cnt += 1 # 이동 횟수 1 증가\n",
        "    return cnt\n",
        "# 시뮬레이션 실행\n",
        "x, y, direction = start_location(K)\n",
        "cnt = simulate(x, y, direction)\n",
        "# 출력\n",
        "print(cnt)"
      ],
      "metadata": {
        "id": "Hzqqromuk2ef"
      },
      "execution_count": null,
      "outputs": []
    },
    {
      "cell_type": "markdown",
      "source": [
        "빙빙 돌며 숫자 사각형 채우기 2\n",
        "- https://inha.codetree.ai/missions/5/problems/snail-number-square-2/description"
      ],
      "metadata": {
        "id": "qFodEKlPBv_x"
      }
    },
    {
      "cell_type": "code",
      "source": [
        "n, m = map(int, input().split())\n",
        "num_list = [[0 for _ in range(m)] for _ in range(n)] # n * m 직사각형\n",
        "dx, dy = [1, 0, -1, 0], [0, 1, 0, -1] # 남, 동, 북, 서 순서\n",
        "# 범위함수\n",
        "def in_range(x, y):\n",
        "    return (0 <= x and x < n and 0 <= y and y < m)\n",
        "# 시뮬레이션 함수\n",
        "def simulate(x, y, direction):\n",
        "    for i in range(2, n * m + 1):\n",
        "        nx, ny = x + dx[direction], y + dy[direction]\n",
        "        if(in_range(nx, ny) and num_list[nx][ny] == 0): # 이동한 격자가 범위 안이고 아직 값이 안채워져 있으면\n",
        "            x, y = nx, ny\n",
        "            num_list[x][y] = i\n",
        "        else: # 이동한 격자가 범위 밖이면\n",
        "            direction = (direction + 1) % 4\n",
        "            nx, ny = x + dx[direction], y + dy[direction]\n",
        "            x, y = nx, ny\n",
        "            num_list[x][y] = i\n",
        "# 시뮬레이션 실행\n",
        "x, y, direction  = 0, 0, 0 # 초기값\n",
        "num_list[x][y] = 1\n",
        "simulate(x, y, direction) # 실행\n",
        "# 출력\n",
        "for i in range(n):\n",
        "    for j in range(m):\n",
        "        print(num_list[i][j], end = ' ')\n",
        "    print()"
      ],
      "metadata": {
        "id": "LODR_iaQBwRF"
      },
      "execution_count": null,
      "outputs": []
    },
    {
      "cell_type": "markdown",
      "source": [
        "빙빙 돌며 사각형 채우기\n",
        "- https://inha.codetree.ai/missions/5/problems/snail-alphabet-square/description"
      ],
      "metadata": {
        "id": "BGdWRpEpWQv6"
      }
    },
    {
      "cell_type": "code",
      "source": [
        "# ord('A') = 65, ord('Z') = 90\n",
        "n, m = map(int, input().split())\n",
        "str_list = [['-' for _ in range(m)] for _ in range(n)]\n",
        "dx, dy = [0, 1, 0, -1], [1, 0, -1, 0] # 동, 남, 서, 북 순서\n",
        "x, y, direction = 0, 0, 0\n",
        "# 범위함수\n",
        "def in_range(x, y):\n",
        "    return (0 <= x and x < n and 0 <= y and y < m)\n",
        "# 시뮬레이션 함수\n",
        "def simulate(x, y, direction):\n",
        "    s = 65\n",
        "    for i in range(2, n * m + 1):\n",
        "        nx, ny = x + dx[direction], y + dy[direction]\n",
        "        if(in_range(nx, ny) == 1 and str_list[nx][ny] == '-'): # 범위 안에 있고 초기화가 안되었다면\n",
        "            if(s == 90): # 만약 문자가 Z 이후이면\n",
        "                s = 65 # A로 초기화\n",
        "            else:\n",
        "                s += 1\n",
        "            str_list[nx][ny] = chr(s) # 문자 저장\n",
        "        else:\n",
        "            direction = (direction + 1) % 4 # 방향 전환\n",
        "            nx, ny = x + dx[direction], y + dy[direction]\n",
        "            if(s == 90): # 만약 문자가 Z 이후이면\n",
        "                s = 65 # A로 초기화\n",
        "            else:\n",
        "                s += 1\n",
        "            str_list[nx][ny] = chr(s) # 문자 저장\n",
        "        x, y = nx, ny # 위치 최신화\n",
        "# 함수 실행\n",
        "str_list[x][y] = 'A'\n",
        "simulate(x, y, direction)\n",
        "# 출력\n",
        "for i in range(n):\n",
        "    for j in range(m):\n",
        "        print(str_list[i][j], end = ' ')\n",
        "    print()"
      ],
      "metadata": {
        "id": "l29FEIvHWRCf"
      },
      "execution_count": null,
      "outputs": []
    },
    {
      "cell_type": "markdown",
      "source": [
        "가운데에서 시작하여 빙빙 돌기\n",
        "- https://inha.codetree.ai/missions/5/problems/snail-start-from-center/description"
      ],
      "metadata": {
        "id": "QAjNAv_XcqHZ"
      }
    },
    {
      "cell_type": "code",
      "source": [
        "n = int(input())\n",
        "num_list = [[0 for _ in range(n)] for _ in range(n)]\n",
        "dx, dy = [0, -1, 0, 1], [1, 0, -1, 0] # 동, 북, 서, 남 순서\n",
        "num = (n // 2) # 가운데 값 찾기\n",
        "x, y, direction = num, num, 0\n",
        "# 범위함수\n",
        "def in_range(x, y):\n",
        "    return (0 <= x and x < n and 0 <= y and y < n)\n",
        "# 시뮬레이션 함수\n",
        "# 처음에는 1씩 이동하다가 방향이 왼쪽 혹은 오른쪽으로 바뀔 때, 동일한 방향에 대해 이동거리가 1씩 늘어난다.\n",
        "# 단, 마지막 끝나는 부분은 그렇지 않다.\n",
        "def simulate(x, y, direction):\n",
        "    move = 1\n",
        "    i = 2\n",
        "    while(i <= n * n):\n",
        "        nx, ny = x + dx[direction], y + dy[direction]\n",
        "        # 이하 if문이나 else문에서 해당 방향으로 주어진 이동거리만큼 이동 후 방향 전환\n",
        "        if(i != 2 and (direction == 0 or direction == 2)): # 왼쪽 혹은 오른쪽으로 방향이 바뀐 경우\n",
        "            move += 1 # 이동거리 1 증가\n",
        "            for j in range(i, i + move): # 이동거리 만큼 for문\n",
        "                if(j <= n * n): # n * n 안의 값이면\n",
        "                    num_list[nx][ny] = j # 격자에 값 추가\n",
        "                    x, y = nx, ny # x, y 좌표 최신화\n",
        "                if(j != i + move - 1): # j for문에서 마지막 값이 아니면\n",
        "                    nx, ny = x + dx[direction], y + dy[direction] # nx, ny 새로 입력(num_list의 좌표가 for문에서 이동해야 하므로)\n",
        "        else: # i == 2 이거나 남, 북으로 이동 시\n",
        "            for j in range(i, i + move): # 이동거리 만큼 for문\n",
        "                if(j <= n * n): # n * n 안의 값이면\n",
        "                    num_list[nx][ny] = j # 격자에 값 추가\n",
        "                    x, y = nx, ny # x, y 좌표 최신화\n",
        "                if(j != i + move - 1): # j for문에서 마지막 값이 아니면\n",
        "                    nx, ny = x + dx[direction], y + dy[direction] # nx, ny 새로 입력(num_list의 좌표가 for문에서 이동해야 하므로)\n",
        "        i = i + move # i 값을 최신화(이동거리 만큼 추가)\n",
        "        direction = (direction + 1) % 4 # 방향 전환\n",
        "\n",
        "\n",
        "# 실행\n",
        "num_list[x][y] = 1 # 초기값\n",
        "simulate(x, y, direction) # 실행\n",
        "# 출력\n",
        "for i in range(n):\n",
        "    for j in range(n):\n",
        "        print(num_list[i][j], end = ' ')\n",
        "    print()"
      ],
      "metadata": {
        "id": "X-NbFNlicthn"
      },
      "execution_count": null,
      "outputs": []
    },
    {
      "cell_type": "markdown",
      "source": [
        "이동경로상에 있는 모든 숫자 더하기\n",
        "- https://inha.codetree.ai/missions/5/problems/add-all-the-numbers-on-the-path/description"
      ],
      "metadata": {
        "id": "xWiZMog5lcvM"
      }
    },
    {
      "cell_type": "code",
      "source": [
        "N, T = map(int, input().split())\n",
        "order_list = input()\n",
        "num_list = []\n",
        "for i in range(N):\n",
        "    num = list(map(int, input().split()))\n",
        "    num_list.append(num)\n",
        "dx, dy = [-1, 0, 1, 0], [0, -1, 0, 1] # 북, 서, 남, 동 순서\n",
        "x, y, direction = (N // 2),(N // 2), 0\n",
        "# L 이동(왼쪽으로 90도 전환)\n",
        "def L_move(direction):\n",
        "    direction = (direction + 1) % 4\n",
        "    return direction\n",
        "# R 이동(오른쪽으로 90도 전환)\n",
        "def R_move(direction):\n",
        "    if(direction == 0): # 방향이 북쪽일 때\n",
        "        direction = 3 # 동쪽으로 전환\n",
        "        return direction\n",
        "    else: # 방향이 북쪽이 아닐 경우\n",
        "        direction = direction - 1\n",
        "        return direction\n",
        "# 범위함수\n",
        "def in_range(x, y):\n",
        "    return (0 <= x and x < N and 0 <= y and y < N)\n",
        "# 시뮬레이션 함수\n",
        "def simulate(order_list, x, y, direction):\n",
        "    cnt = 0\n",
        "    cnt += num_list[x][y] # 처음 서 있는 위치의 값을 더한다.\n",
        "    for i in order_list:\n",
        "        if(i == 'L'):\n",
        "            direction = L_move(direction)\n",
        "        elif(i == 'R'):\n",
        "            direction = R_move(direction)\n",
        "        elif(i == 'F'):\n",
        "            nx, ny = x + dx[direction], y + dy[direction]\n",
        "            if(in_range(nx, ny) == 1): # 격자 안에 있는 경우\n",
        "                cnt += num_list[nx][ny] # 값 추가\n",
        "                x, y = nx, ny\n",
        "    return cnt\n",
        "# 실행\n",
        "val = simulate(order_list, x, y, direction)\n",
        "print(val)"
      ],
      "metadata": {
        "id": "HBynSMlplgJF"
      },
      "execution_count": null,
      "outputs": []
    }
  ]
}