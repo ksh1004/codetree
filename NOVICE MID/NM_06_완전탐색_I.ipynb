{
  "nbformat": 4,
  "nbformat_minor": 0,
  "metadata": {
    "colab": {
      "provenance": []
    },
    "kernelspec": {
      "name": "python3",
      "display_name": "Python 3"
    },
    "language_info": {
      "name": "python"
    }
  },
  "cells": [
    {
      "cell_type": "markdown",
      "source": [
        "# 자리 수 단위로 완전탐색"
      ],
      "metadata": {
        "id": "Zs_AcOAu4eNq"
      }
    },
    {
      "cell_type": "markdown",
      "source": [
        "모이자\n",
        "- https://inha.codetree.ai/missions/5/problems/gather/description"
      ],
      "metadata": {
        "id": "NdOXx1Js4gqF"
      }
    },
    {
      "cell_type": "code",
      "execution_count": null,
      "metadata": {
        "id": "7rx7Bv3A4aga"
      },
      "outputs": [],
      "source": [
        "n = int(input())\n",
        "num_list = list(map(int, input().split()))\n",
        "# 완전탐색\n",
        "min_val = 999999\n",
        "for i in range(len(num_list)):\n",
        "    idx = i\n",
        "    distance = 0\n",
        "    for j in range(len(num_list)):\n",
        "        distance += abs(j - idx) * num_list[j]\n",
        "    if(distance < min_val):\n",
        "        min_val = distance\n",
        "# 출력\n",
        "print(min_val)"
      ]
    },
    {
      "cell_type": "markdown",
      "source": [
        "괄호 쌍 만들어주기 3\n",
        "- https://inha.codetree.ai/missions/5/problems/pair-parentheses-3/description"
      ],
      "metadata": {
        "id": "-bhS7X8b4kbd"
      }
    },
    {
      "cell_type": "code",
      "source": [
        "A = input() # 문자열 A\n",
        "cnt = 0 # 횟수\n",
        "for i in range(len(A)):\n",
        "    if(A[i] == ')'):\n",
        "        continue\n",
        "    for j in range(i + 1, len(A)):\n",
        "        if(A[j] == ')'):\n",
        "            cnt += 1\n",
        "# 출력\n",
        "print(cnt)"
      ],
      "metadata": {
        "id": "bRuAiZWf4kze"
      },
      "execution_count": null,
      "outputs": []
    },
    {
      "cell_type": "markdown",
      "source": [
        "일렬로 서있는 소 2\n",
        "- https://inha.codetree.ai/missions/5/problems/cattle-in-a-rowing-up-2/description"
      ],
      "metadata": {
        "id": "uEk6-Z9f5nw0"
      }
    },
    {
      "cell_type": "code",
      "source": [
        "N = int(input())\n",
        "num_list = list(map(int, input().split()))\n",
        "cnt = 0\n",
        "\n",
        "for i in range(len(num_list)):\n",
        "    for j in range(i + 1, len(num_list)):\n",
        "        for k in range(j + 1, len(num_list)):\n",
        "            if(num_list[i] <= num_list[j] <= num_list[k]):\n",
        "                cnt += 1\n",
        "# 출력\n",
        "print(cnt)"
      ],
      "metadata": {
        "id": "4MSKooSe5qLP"
      },
      "execution_count": null,
      "outputs": []
    },
    {
      "cell_type": "markdown",
      "source": [
        "최고의 13위치\n",
        "- https://inha.codetree.ai/missions/5/problems/best-place-of-13/description"
      ],
      "metadata": {
        "id": "5q-4UFiF9HNM"
      }
    },
    {
      "cell_type": "code",
      "source": [
        "N = int(input())\n",
        "num_list = []\n",
        "# 격자 채우기\n",
        "for i in range(N):\n",
        "    num = list(map(int, input().split()))\n",
        "    num_list.append(num)\n",
        "max_cnt = 0 # 최댓값\n",
        "for i in range(N):\n",
        "    for j in range(N - 2):\n",
        "        max_cnt = max(max_cnt, num_list[i][j] + num_list[i][j + 1] + num_list[i][j + 2])\n",
        "# 출력\n",
        "print(max_cnt)"
      ],
      "metadata": {
        "id": "h5touKcU9Hr2"
      },
      "execution_count": null,
      "outputs": []
    },
    {
      "cell_type": "markdown",
      "source": [
        "체크판위에서 2\n",
        "- https://inha.codetree.ai/missions/5/problems/on-the-checkboard-2/description"
      ],
      "metadata": {
        "id": "49ZgIVk29L5-"
      }
    },
    {
      "cell_type": "code",
      "source": [
        "R, C = map(int, input().split())\n",
        "str_list = []\n",
        "# 격자 삽입\n",
        "for i in range(R):\n",
        "    s = list(input().split())\n",
        "    str_list.append(s)\n",
        "cnt = 0\n",
        "# 왼쪽 상단에서 출발, 오른쪽 하단에 도착\n",
        "for i in range(1,  R): # 첫 번째 하단 이동 계산\n",
        "    for j in range(1, C): # 첫 번째 우측 이동 계산\n",
        "        for k in range(i + 1, R - 1): # 두 번째 하단 이동 계산\n",
        "            for l in range(j + 1, C - 1): # 두 번째 우측 이동 계산\n",
        "                if(str_list[0][0] != str_list[i][j] and \\\n",
        "                str_list[i][j] != str_list[k][l] and \\\n",
        "                str_list[k][l] != str_list[R - 1][C - 1]):\n",
        "                    cnt += 1\n",
        "# 출력\n",
        "print(cnt)"
      ],
      "metadata": {
        "id": "yrFr3vWu9Ohc"
      },
      "execution_count": null,
      "outputs": []
    },
    {
      "cell_type": "markdown",
      "source": [
        "이상한 진수 2\n",
        "- https://inha.codetree.ai/missions/5/problems/awkward-digits-2/description"
      ],
      "metadata": {
        "id": "XAGbZyd3CJh5"
      }
    },
    {
      "cell_type": "code",
      "source": [
        "N = input()\n",
        "max_val = -1\n",
        "# 시뮬레이션\n",
        "for i in range(len(N)):\n",
        "    if(N[i] == '1'): # 1이면\n",
        "        num = '0b' + N[:i] + '0' + N[i + 1:] # 0으로\n",
        "        num = int(num, 2) # 10진수 변환\n",
        "        if(max_val < num):\n",
        "            max_val = num\n",
        "    else:\n",
        "        num = '0b' + N[:i] + '1' + N[i + 1:] # 0으로\n",
        "        num = int(num, 2) # 10진수 변환\n",
        "        if(max_val < num):\n",
        "            max_val = num\n",
        "# 출력\n",
        "print(max_val)"
      ],
      "metadata": {
        "id": "YXljzTVnCMng"
      },
      "execution_count": null,
      "outputs": []
    }
  ]
}