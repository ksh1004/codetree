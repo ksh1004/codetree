{
  "nbformat": 4,
  "nbformat_minor": 0,
  "metadata": {
    "colab": {
      "provenance": []
    },
    "kernelspec": {
      "name": "python3",
      "display_name": "Python 3"
    },
    "language_info": {
      "name": "python"
    }
  },
  "cells": [
    {
      "cell_type": "markdown",
      "source": [
        "# 자리 수 단위로 완전탐색"
      ],
      "metadata": {
        "id": "Zs_AcOAu4eNq"
      }
    },
    {
      "cell_type": "markdown",
      "source": [
        "모이자\n",
        "- https://inha.codetree.ai/missions/5/problems/gather/description"
      ],
      "metadata": {
        "id": "NdOXx1Js4gqF"
      }
    },
    {
      "cell_type": "code",
      "execution_count": null,
      "metadata": {
        "id": "7rx7Bv3A4aga"
      },
      "outputs": [],
      "source": [
        "n = int(input())\n",
        "num_list = list(map(int, input().split()))\n",
        "# 완전탐색\n",
        "min_val = 999999\n",
        "for i in range(len(num_list)):\n",
        "    idx = i\n",
        "    distance = 0\n",
        "    for j in range(len(num_list)):\n",
        "        distance += abs(j - idx) * num_list[j]\n",
        "    if(distance < min_val):\n",
        "        min_val = distance\n",
        "# 출력\n",
        "print(min_val)"
      ]
    },
    {
      "cell_type": "markdown",
      "source": [
        "괄호 쌍 만들어주기 3\n",
        "- https://inha.codetree.ai/missions/5/problems/pair-parentheses-3/description"
      ],
      "metadata": {
        "id": "-bhS7X8b4kbd"
      }
    },
    {
      "cell_type": "code",
      "source": [
        "A = input() # 문자열 A\n",
        "cnt = 0 # 횟수\n",
        "for i in range(len(A)):\n",
        "    if(A[i] == ')'):\n",
        "        continue\n",
        "    for j in range(i + 1, len(A)):\n",
        "        if(A[j] == ')'):\n",
        "            cnt += 1\n",
        "# 출력\n",
        "print(cnt)"
      ],
      "metadata": {
        "id": "bRuAiZWf4kze"
      },
      "execution_count": null,
      "outputs": []
    },
    {
      "cell_type": "markdown",
      "source": [
        "일렬로 서있는 소 2\n",
        "- https://inha.codetree.ai/missions/5/problems/cattle-in-a-rowing-up-2/description"
      ],
      "metadata": {
        "id": "uEk6-Z9f5nw0"
      }
    },
    {
      "cell_type": "code",
      "source": [
        "N = int(input())\n",
        "num_list = list(map(int, input().split()))\n",
        "cnt = 0\n",
        "\n",
        "for i in range(len(num_list)):\n",
        "    for j in range(i + 1, len(num_list)):\n",
        "        for k in range(j + 1, len(num_list)):\n",
        "            if(num_list[i] <= num_list[j] <= num_list[k]):\n",
        "                cnt += 1\n",
        "# 출력\n",
        "print(cnt)"
      ],
      "metadata": {
        "id": "4MSKooSe5qLP"
      },
      "execution_count": null,
      "outputs": []
    },
    {
      "cell_type": "markdown",
      "source": [
        "최고의 13위치\n",
        "- https://inha.codetree.ai/missions/5/problems/best-place-of-13/description"
      ],
      "metadata": {
        "id": "5q-4UFiF9HNM"
      }
    },
    {
      "cell_type": "code",
      "source": [
        "N = int(input())\n",
        "num_list = []\n",
        "# 격자 채우기\n",
        "for i in range(N):\n",
        "    num = list(map(int, input().split()))\n",
        "    num_list.append(num)\n",
        "max_cnt = 0 # 최댓값\n",
        "for i in range(N):\n",
        "    for j in range(N - 2):\n",
        "        max_cnt = max(max_cnt, num_list[i][j] + num_list[i][j + 1] + num_list[i][j + 2])\n",
        "# 출력\n",
        "print(max_cnt)"
      ],
      "metadata": {
        "id": "h5touKcU9Hr2"
      },
      "execution_count": null,
      "outputs": []
    },
    {
      "cell_type": "markdown",
      "source": [
        "체크판위에서 2\n",
        "- https://inha.codetree.ai/missions/5/problems/on-the-checkboard-2/description"
      ],
      "metadata": {
        "id": "49ZgIVk29L5-"
      }
    },
    {
      "cell_type": "code",
      "source": [
        "R, C = map(int, input().split())\n",
        "str_list = []\n",
        "# 격자 삽입\n",
        "for i in range(R):\n",
        "    s = list(input().split())\n",
        "    str_list.append(s)\n",
        "cnt = 0\n",
        "# 왼쪽 상단에서 출발, 오른쪽 하단에 도착\n",
        "for i in range(1,  R): # 첫 번째 하단 이동 계산\n",
        "    for j in range(1, C): # 첫 번째 우측 이동 계산\n",
        "        for k in range(i + 1, R - 1): # 두 번째 하단 이동 계산\n",
        "            for l in range(j + 1, C - 1): # 두 번째 우측 이동 계산\n",
        "                if(str_list[0][0] != str_list[i][j] and \\\n",
        "                str_list[i][j] != str_list[k][l] and \\\n",
        "                str_list[k][l] != str_list[R - 1][C - 1]):\n",
        "                    cnt += 1\n",
        "# 출력\n",
        "print(cnt)"
      ],
      "metadata": {
        "id": "yrFr3vWu9Ohc"
      },
      "execution_count": null,
      "outputs": []
    },
    {
      "cell_type": "markdown",
      "source": [
        "이상한 진수 2\n",
        "- https://inha.codetree.ai/missions/5/problems/awkward-digits-2/description"
      ],
      "metadata": {
        "id": "XAGbZyd3CJh5"
      }
    },
    {
      "cell_type": "code",
      "source": [
        "N = input()\n",
        "max_val = -1\n",
        "# 시뮬레이션\n",
        "for i in range(len(N)):\n",
        "    if(N[i] == '1'): # 1이면\n",
        "        num = '0b' + N[:i] + '0' + N[i + 1:] # 0으로\n",
        "        num = int(num, 2) # 10진수 변환\n",
        "        if(max_val < num):\n",
        "            max_val = num\n",
        "    else:\n",
        "        num = '0b' + N[:i] + '1' + N[i + 1:] # 0으로\n",
        "        num = int(num, 2) # 10진수 변환\n",
        "        if(max_val < num):\n",
        "            max_val = num\n",
        "# 출력\n",
        "print(max_val)"
      ],
      "metadata": {
        "id": "YXljzTVnCMng"
      },
      "execution_count": null,
      "outputs": []
    },
    {
      "cell_type": "markdown",
      "source": [
        "마라톤 중간에 택시타기 2\n",
        "- https://inha.codetree.ai/missions/5/problems/taking-a-taxi-in-the-middle-of-the-marathon-2/description"
      ],
      "metadata": {
        "id": "HPIfdG6J6MC7"
      }
    },
    {
      "cell_type": "code",
      "source": [
        "N = int(input())\n",
        "checkpoint = []\n",
        "# 체크포인트 좌표 입력\n",
        "for i in range(N):\n",
        "    x, y = map(int, input().split())\n",
        "    checkpoint.append([x, y])\n",
        "# 최소 거리 계산\n",
        "min_val = float(\"inf\")\n",
        "for i in range(1, N - 1): # 1번 체크포인트와 N번 체크포인트 일 때는 제외\n",
        "    x1, y1 = checkpoint[0][0], checkpoint[0][1] # 1번 체크포인트 기준\n",
        "    distance_total = 0 # 총 거리\n",
        "    for j in range(1, N): # 거리 계산 과정\n",
        "        if(i == j): # 건너뛸 체크포인트 번호일 경우\n",
        "            continue\n",
        "        x2, y2 = checkpoint[j][0], checkpoint[j][1]\n",
        "        distance = abs(x1 - x2) + abs(y1 - y2) # 거리 계산\n",
        "        distance_total += distance # 거리 추가\n",
        "        x1, y1 = x2, y2 # 좌표 최신화\n",
        "    if(distance_total < min_val):\n",
        "        min_val = distance_total\n",
        "# 출력\n",
        "print(min_val)"
      ],
      "metadata": {
        "id": "kmR0RcBk6OOp"
      },
      "execution_count": null,
      "outputs": []
    },
    {
      "cell_type": "markdown",
      "source": [
        "원 모양으로 되어있는 방\n",
        "- https://inha.codetree.ai/missions/5/problems/a-room-in-a-circle/description"
      ],
      "metadata": {
        "id": "zaOx17Io6Pab"
      }
    },
    {
      "cell_type": "code",
      "source": [
        "N = int(input())\n",
        "num_list = []\n",
        "# 인원 입력받기\n",
        "for i in range(N):\n",
        "    num = int(input())\n",
        "    num_list.append(num)\n",
        "# 최솟값 계산\n",
        "min_val = float('inf')\n",
        "for i in range(N):\n",
        "    distance_total = 0 # 총합 이동거리\n",
        "    distance_val = 0 # 방 사이 이동거리\n",
        "    for j in range(i, i + N):\n",
        "        idx = (j) % N # 해당 인덱스\n",
        "        distance = num_list[idx] * distance_val # 이동거리 계산\n",
        "        distance_total += distance # 총합에 추가\n",
        "        distance_val += 1\n",
        "    if(distance_total < min_val):\n",
        "        min_val = distance_total\n",
        "# 출력\n",
        "print(min_val)"
      ],
      "metadata": {
        "id": "YnkKTmbX6R9x"
      },
      "execution_count": null,
      "outputs": []
    },
    {
      "cell_type": "markdown",
      "source": [
        "괄호 쌍 만들어주기 2\n",
        "- https://inha.codetree.ai/missions/5/problems/pair-parentheses-2/description"
      ],
      "metadata": {
        "id": "UFgcFVMe8zro"
      }
    },
    {
      "cell_type": "code",
      "source": [
        "A = input()\n",
        "cnt = 0\n",
        "for i in range(len(A)):\n",
        "    if(A[i] == '('):\n",
        "       if(i != len(A) - 1 and A[i + 1] == '('):\n",
        "        for j in range(i + 2, len(A)):\n",
        "            if(j != len(A) - 1 and A[j] == ')'):\n",
        "                if(A[j + 1] == ')'):\n",
        "                    cnt += 1\n",
        "# 출력\n",
        "print(cnt)"
      ],
      "metadata": {
        "id": "hHtEkcCG81JC"
      },
      "execution_count": null,
      "outputs": []
    },
    {
      "cell_type": "markdown",
      "source": [
        "인접하지 않은 2개의 숫자\n",
        "- https://inha.codetree.ai/missions/5/problems/two-non-adjacent-numbers/description"
      ],
      "metadata": {
        "id": "OFrchTsU-kgS"
      }
    },
    {
      "cell_type": "code",
      "source": [
        "n = int(input())\n",
        "num_list = list(map(int, input().split()))\n",
        "max_val = -1\n",
        "# 최댓값 계산\n",
        "for i in range(0, n - 2):\n",
        "    for j in range(i + 2, n):\n",
        "        sum_val = num_list[i] + num_list[j]\n",
        "        if(max_val < sum_val):\n",
        "            max_val = sum_val\n",
        "# 출력\n",
        "print(max_val)"
      ],
      "metadata": {
        "id": "enhtk3fN-mSh"
      },
      "execution_count": null,
      "outputs": []
    },
    {
      "cell_type": "markdown",
      "source": [
        "씨 오 더블유 2\n",
        "- https://inha.codetree.ai/missions/5/problems/c-o-w-2/description"
      ],
      "metadata": {
        "id": "8AprwIsl_vA9"
      }
    },
    {
      "cell_type": "code",
      "source": [
        "N = int(input()) # 문자열 길이\n",
        "s = input() # 문자열\n",
        "cnt = 0\n",
        "# 문자열 갯수 계산\n",
        "for i in range(N):\n",
        "    if(s[i] == 'C'):\n",
        "        for j in range(i + 1, N):\n",
        "            if(s[j] == 'O'):\n",
        "                for k in range(j + 1, N):\n",
        "                    if(s[k] == 'W'):\n",
        "                        cnt += 1\n",
        "# 출력\n",
        "print(cnt)"
      ],
      "metadata": {
        "id": "Gn1MB8pH_xg3"
      },
      "execution_count": null,
      "outputs": []
    },
    {
      "cell_type": "markdown",
      "source": [
        "Carry 피하기 2\n",
        "- https://inha.codetree.ai/missions/5/problems/escaping-carry-2/description"
      ],
      "metadata": {
        "id": "qLM5pYkrEdzB"
      }
    },
    {
      "cell_type": "code",
      "source": [
        "n = int(input())\n",
        "num_list = []\n",
        "# 숫자 입력받기\n",
        "for i in range(n):\n",
        "    num = int(input())\n",
        "    num_list.append(num)\n",
        "# 계산\n",
        "max_val = -1\n",
        "for i in range(n):\n",
        "    for j in range(i + 1, n):\n",
        "        for k in range(j + 1, n):\n",
        "            # 3개의 숫자를 일단 문자형으로 변환\n",
        "            num1 = str(num_list[i])\n",
        "            num2 = str(num_list[j])\n",
        "            num3 = str(num_list[k])\n",
        "            num_len = max(len(num1), len(num2), len(num3)) # 숫자가 가장 긴 값의 길이\n",
        "            check_val = 0 # carry 여부를 확인\n",
        "            for l in range(-1, - num_len - 1, -1):\n",
        "                carry1, carry2, carry3 = 0, 0, 0\n",
        "                # 숫자 자릿수와 비교하여, 숫자가 존재하면 해당 값으로 업데이트\n",
        "                if(len(num1) >= abs(l)):\n",
        "                    carry1 = int(num1[l])\n",
        "                if(len(num2) >= abs(l)):\n",
        "                    carry2 = int(num2[l])\n",
        "                if(len(num3) >= abs(l)):\n",
        "                    carry3 = int(num3[l])\n",
        "                # carry 여부 확인\n",
        "                if(carry1 + carry2 + carry3 >= 10): # carry 발생 시\n",
        "                    check_val = 1 # check_val 업데이트\n",
        "                    break # for문 종료\n",
        "            if(check_val == 0): # carry가 아니면\n",
        "                sum_val = int(num1) + int(num2) + int(num3)\n",
        "                if(max_val < sum_val): # 최댓값 여부 확인\n",
        "                    max_val = sum_val\n",
        "# 출력\n",
        "print(max_val)"
      ],
      "metadata": {
        "id": "nr83obygEeCT"
      },
      "execution_count": null,
      "outputs": []
    },
    {
      "cell_type": "code",
      "source": [
        "# 해설 답안\n",
        "# 나머지를 계산하는 방식을 활용하기 (%)\n",
        "# 변수 선언 및 입력\n",
        "n = int(input())\n",
        "arr = [\n",
        "\tint(input())\n",
        "\tfor _ in range(n)\n",
        "]\n",
        "\n",
        "# 모든 쌍을 다 잡아봅니다.\n",
        "ans = -1\n",
        "for i in range(n):\n",
        "\tfor j in range(i + 1, n):\n",
        "\t\tfor k in range(j + 1, n):\n",
        "\t\t\tcarry = False\n",
        "\n",
        "\t\t\t# 일의 자리에서 carry가 발생하는 경우\n",
        "\t\t\tif arr[i] % 10 + arr[j] % 10 + arr[k] % 10 >= 10:\n",
        "\t\t\t\tcarry = True\n",
        "\n",
        "\t\t\t# 십의 자리에서 carry가 발생하는 경우\n",
        "\t\t\tif arr[i] % 100 // 10 + arr[j] % 100 // 10 + arr[k] % 100 // 10 >= 10:\n",
        "\t\t\t\tcarry = True\n",
        "\n",
        "\t\t\t# 백의 자리에서 carry가 발생하는 경우\n",
        "\t\t\tif arr[i] % 1000 // 100 + arr[j] % 1000 // 100 + arr[k] % 1000 // 100 >= 10:\n",
        "\t\t\t\tcarry = True\n",
        "\n",
        "\t\t\t# 천의 자리에서 carry가 발생하는 경우\n",
        "\t\t\tif arr[i] % 10000 // 1000 + arr[j] % 10000 // 1000 + arr[k] % 10000 // 1000 >= 10:\n",
        "\t\t\t\tcarry = True\n",
        "\n",
        "\t\t\tif carry == False:\n",
        "\t\t\t\tans = max(ans, arr[i] + arr[j] + arr[k]);\n",
        "\n",
        "print(ans)"
      ],
      "metadata": {
        "id": "S2_fRvxcEtAY"
      },
      "execution_count": null,
      "outputs": []
    },
    {
      "cell_type": "markdown",
      "source": [
        "오목\n",
        "- https://inha.codetree.ai/missions/5/problems/O-mok/description"
      ],
      "metadata": {
        "id": "Bng2XNLcOyJY"
      }
    },
    {
      "cell_type": "code",
      "source": [
        "import sys\n",
        "# 알이 놓이지 않는 자리 0, 검은알 1, 흰알 2\n",
        "num_list = [list(map(int, input().split())) for _ in range(19)] # 오목판 정보 입력\n",
        "# 범위 함수\n",
        "def in_range(x, y):\n",
        "    return (0 <= x and x < 19 and 0 <= y and y < 19)\n",
        "# 이동 방향(서남, 남, 남동, 동, 북동, 북, 북서, 서)\n",
        "dx, dy = [1, 1, 1, -1, -1, -1, 0, 0], [-1, 0, 1, -1, 0, 1, -1, 1]\n",
        "# 좌표에서 확인\n",
        "for i in range(19):\n",
        "    for j in range(19):\n",
        "        if(num_list[i][j] == 0): # 바둑 알이 없다면\n",
        "            continue\n",
        "\n",
        "        for k in range(8):\n",
        "            cnt = 1\n",
        "            cur_x = i # 현재 x\n",
        "            cur_y = j # 현재 y\n",
        "            while True:\n",
        "                nx = cur_x + dx[k]\n",
        "                ny = cur_y + dy[k]\n",
        "                if(in_range(nx, ny) == False): # 범위를 벗어나면\n",
        "                    break\n",
        "                if(num_list[nx][ny] != num_list[cur_x][cur_y]): # 바둑알이 다르면\n",
        "                    break\n",
        "                cnt += 1\n",
        "                cur_x = nx\n",
        "                cur_y = ny\n",
        "                if(cnt == 5): # 오목이 완성되면\n",
        "                    print(num_list[i][j])\n",
        "                    print(i + 2 * dx[k] + 1, j + 2 * dy[k] + 1)\n",
        "                    sys.exit()\n",
        "print(0)"
      ],
      "metadata": {
        "id": "1CH6bET6Ox8n"
      },
      "execution_count": null,
      "outputs": []
    }
  ]
}