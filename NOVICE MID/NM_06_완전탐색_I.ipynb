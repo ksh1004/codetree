{
  "nbformat": 4,
  "nbformat_minor": 0,
  "metadata": {
    "colab": {
      "provenance": []
    },
    "kernelspec": {
      "name": "python3",
      "display_name": "Python 3"
    },
    "language_info": {
      "name": "python"
    }
  },
  "cells": [
    {
      "cell_type": "markdown",
      "source": [
        "# 자리 수 단위로 완전탐색"
      ],
      "metadata": {
        "id": "YVULVAUJ3B1B"
      }
    },
    {
      "cell_type": "markdown",
      "source": [
        "모이자\n",
        "- https://inha.codetree.ai/missions/5/problems/gather/description"
      ],
      "metadata": {
        "id": "NdOXx1Js4gqF"
      }
    },
    {
      "cell_type": "code",
      "execution_count": null,
      "metadata": {
        "id": "7rx7Bv3A4aga"
      },
      "outputs": [],
      "source": [
        "n = int(input())\n",
        "num_list = list(map(int, input().split()))\n",
        "# 완전탐색\n",
        "min_val = 999999\n",
        "for i in range(len(num_list)):\n",
        "    idx = i\n",
        "    distance = 0\n",
        "    for j in range(len(num_list)):\n",
        "        distance += abs(j - idx) * num_list[j]\n",
        "    if(distance < min_val):\n",
        "        min_val = distance\n",
        "# 출력\n",
        "print(min_val)"
      ]
    },
    {
      "cell_type": "markdown",
      "source": [
        "괄호 쌍 만들어주기 3\n",
        "- https://inha.codetree.ai/missions/5/problems/pair-parentheses-3/description"
      ],
      "metadata": {
        "id": "-bhS7X8b4kbd"
      }
    },
    {
      "cell_type": "code",
      "source": [
        "A = input() # 문자열 A\n",
        "cnt = 0 # 횟수\n",
        "for i in range(len(A)):\n",
        "    if(A[i] == ')'):\n",
        "        continue\n",
        "    for j in range(i + 1, len(A)):\n",
        "        if(A[j] == ')'):\n",
        "            cnt += 1\n",
        "# 출력\n",
        "print(cnt)"
      ],
      "metadata": {
        "id": "bRuAiZWf4kze"
      },
      "execution_count": null,
      "outputs": []
    },
    {
      "cell_type": "markdown",
      "source": [
        "일렬로 서있는 소 2\n",
        "- https://inha.codetree.ai/missions/5/problems/cattle-in-a-rowing-up-2/description"
      ],
      "metadata": {
        "id": "uEk6-Z9f5nw0"
      }
    },
    {
      "cell_type": "code",
      "source": [
        "N = int(input())\n",
        "num_list = list(map(int, input().split()))\n",
        "cnt = 0\n",
        "\n",
        "for i in range(len(num_list)):\n",
        "    for j in range(i + 1, len(num_list)):\n",
        "        for k in range(j + 1, len(num_list)):\n",
        "            if(num_list[i] <= num_list[j] <= num_list[k]):\n",
        "                cnt += 1\n",
        "# 출력\n",
        "print(cnt)"
      ],
      "metadata": {
        "id": "4MSKooSe5qLP"
      },
      "execution_count": null,
      "outputs": []
    },
    {
      "cell_type": "markdown",
      "source": [
        "최고의 13위치\n",
        "- https://inha.codetree.ai/missions/5/problems/best-place-of-13/description"
      ],
      "metadata": {
        "id": "5q-4UFiF9HNM"
      }
    },
    {
      "cell_type": "code",
      "source": [
        "N = int(input())\n",
        "num_list = []\n",
        "# 격자 채우기\n",
        "for i in range(N):\n",
        "    num = list(map(int, input().split()))\n",
        "    num_list.append(num)\n",
        "max_cnt = 0 # 최댓값\n",
        "for i in range(N):\n",
        "    for j in range(N - 2):\n",
        "        max_cnt = max(max_cnt, num_list[i][j] + num_list[i][j + 1] + num_list[i][j + 2])\n",
        "# 출력\n",
        "print(max_cnt)"
      ],
      "metadata": {
        "id": "h5touKcU9Hr2"
      },
      "execution_count": null,
      "outputs": []
    },
    {
      "cell_type": "markdown",
      "source": [
        "체크판위에서 2\n",
        "- https://inha.codetree.ai/missions/5/problems/on-the-checkboard-2/description"
      ],
      "metadata": {
        "id": "49ZgIVk29L5-"
      }
    },
    {
      "cell_type": "code",
      "source": [
        "R, C = map(int, input().split())\n",
        "str_list = []\n",
        "# 격자 삽입\n",
        "for i in range(R):\n",
        "    s = list(input().split())\n",
        "    str_list.append(s)\n",
        "cnt = 0\n",
        "# 왼쪽 상단에서 출발, 오른쪽 하단에 도착\n",
        "for i in range(1,  R): # 첫 번째 하단 이동 계산\n",
        "    for j in range(1, C): # 첫 번째 우측 이동 계산\n",
        "        for k in range(i + 1, R - 1): # 두 번째 하단 이동 계산\n",
        "            for l in range(j + 1, C - 1): # 두 번째 우측 이동 계산\n",
        "                if(str_list[0][0] != str_list[i][j] and \\\n",
        "                str_list[i][j] != str_list[k][l] and \\\n",
        "                str_list[k][l] != str_list[R - 1][C - 1]):\n",
        "                    cnt += 1\n",
        "# 출력\n",
        "print(cnt)"
      ],
      "metadata": {
        "id": "yrFr3vWu9Ohc"
      },
      "execution_count": null,
      "outputs": []
    },
    {
      "cell_type": "markdown",
      "source": [
        "이상한 진수 2\n",
        "- https://inha.codetree.ai/missions/5/problems/awkward-digits-2/description"
      ],
      "metadata": {
        "id": "XAGbZyd3CJh5"
      }
    },
    {
      "cell_type": "code",
      "source": [
        "N = input()\n",
        "max_val = -1\n",
        "# 시뮬레이션\n",
        "for i in range(len(N)):\n",
        "    if(N[i] == '1'): # 1이면\n",
        "        num = '0b' + N[:i] + '0' + N[i + 1:] # 0으로\n",
        "        num = int(num, 2) # 10진수 변환\n",
        "        if(max_val < num):\n",
        "            max_val = num\n",
        "    else:\n",
        "        num = '0b' + N[:i] + '1' + N[i + 1:] # 0으로\n",
        "        num = int(num, 2) # 10진수 변환\n",
        "        if(max_val < num):\n",
        "            max_val = num\n",
        "# 출력\n",
        "print(max_val)"
      ],
      "metadata": {
        "id": "YXljzTVnCMng"
      },
      "execution_count": null,
      "outputs": []
    },
    {
      "cell_type": "markdown",
      "source": [
        "마라톤 중간에 택시타기 2\n",
        "- https://inha.codetree.ai/missions/5/problems/taking-a-taxi-in-the-middle-of-the-marathon-2/description"
      ],
      "metadata": {
        "id": "HPIfdG6J6MC7"
      }
    },
    {
      "cell_type": "code",
      "source": [
        "N = int(input())\n",
        "checkpoint = []\n",
        "# 체크포인트 좌표 입력\n",
        "for i in range(N):\n",
        "    x, y = map(int, input().split())\n",
        "    checkpoint.append([x, y])\n",
        "# 최소 거리 계산\n",
        "min_val = float(\"inf\")\n",
        "for i in range(1, N - 1): # 1번 체크포인트와 N번 체크포인트 일 때는 제외\n",
        "    x1, y1 = checkpoint[0][0], checkpoint[0][1] # 1번 체크포인트 기준\n",
        "    distance_total = 0 # 총 거리\n",
        "    for j in range(1, N): # 거리 계산 과정\n",
        "        if(i == j): # 건너뛸 체크포인트 번호일 경우\n",
        "            continue\n",
        "        x2, y2 = checkpoint[j][0], checkpoint[j][1]\n",
        "        distance = abs(x1 - x2) + abs(y1 - y2) # 거리 계산\n",
        "        distance_total += distance # 거리 추가\n",
        "        x1, y1 = x2, y2 # 좌표 최신화\n",
        "    if(distance_total < min_val):\n",
        "        min_val = distance_total\n",
        "# 출력\n",
        "print(min_val)"
      ],
      "metadata": {
        "id": "kmR0RcBk6OOp"
      },
      "execution_count": null,
      "outputs": []
    },
    {
      "cell_type": "markdown",
      "source": [
        "원 모양으로 되어있는 방\n",
        "- https://inha.codetree.ai/missions/5/problems/a-room-in-a-circle/description"
      ],
      "metadata": {
        "id": "zaOx17Io6Pab"
      }
    },
    {
      "cell_type": "code",
      "source": [
        "N = int(input())\n",
        "num_list = []\n",
        "# 인원 입력받기\n",
        "for i in range(N):\n",
        "    num = int(input())\n",
        "    num_list.append(num)\n",
        "# 최솟값 계산\n",
        "min_val = float('inf')\n",
        "for i in range(N):\n",
        "    distance_total = 0 # 총합 이동거리\n",
        "    distance_val = 0 # 방 사이 이동거리\n",
        "    for j in range(i, i + N):\n",
        "        idx = (j) % N # 해당 인덱스\n",
        "        distance = num_list[idx] * distance_val # 이동거리 계산\n",
        "        distance_total += distance # 총합에 추가\n",
        "        distance_val += 1\n",
        "    if(distance_total < min_val):\n",
        "        min_val = distance_total\n",
        "# 출력\n",
        "print(min_val)"
      ],
      "metadata": {
        "id": "YnkKTmbX6R9x"
      },
      "execution_count": null,
      "outputs": []
    },
    {
      "cell_type": "markdown",
      "source": [
        "괄호 쌍 만들어주기 2\n",
        "- https://inha.codetree.ai/missions/5/problems/pair-parentheses-2/description"
      ],
      "metadata": {
        "id": "UFgcFVMe8zro"
      }
    },
    {
      "cell_type": "code",
      "source": [
        "A = input()\n",
        "cnt = 0\n",
        "for i in range(len(A)):\n",
        "    if(A[i] == '('):\n",
        "       if(i != len(A) - 1 and A[i + 1] == '('):\n",
        "        for j in range(i + 2, len(A)):\n",
        "            if(j != len(A) - 1 and A[j] == ')'):\n",
        "                if(A[j + 1] == ')'):\n",
        "                    cnt += 1\n",
        "# 출력\n",
        "print(cnt)"
      ],
      "metadata": {
        "id": "hHtEkcCG81JC"
      },
      "execution_count": null,
      "outputs": []
    },
    {
      "cell_type": "markdown",
      "source": [
        "인접하지 않은 2개의 숫자\n",
        "- https://inha.codetree.ai/missions/5/problems/two-non-adjacent-numbers/description"
      ],
      "metadata": {
        "id": "OFrchTsU-kgS"
      }
    },
    {
      "cell_type": "code",
      "source": [
        "n = int(input())\n",
        "num_list = list(map(int, input().split()))\n",
        "max_val = -1\n",
        "# 최댓값 계산\n",
        "for i in range(0, n - 2):\n",
        "    for j in range(i + 2, n):\n",
        "        sum_val = num_list[i] + num_list[j]\n",
        "        if(max_val < sum_val):\n",
        "            max_val = sum_val\n",
        "# 출력\n",
        "print(max_val)"
      ],
      "metadata": {
        "id": "enhtk3fN-mSh"
      },
      "execution_count": null,
      "outputs": []
    },
    {
      "cell_type": "markdown",
      "source": [
        "씨 오 더블유 2\n",
        "- https://inha.codetree.ai/missions/5/problems/c-o-w-2/description"
      ],
      "metadata": {
        "id": "8AprwIsl_vA9"
      }
    },
    {
      "cell_type": "code",
      "source": [
        "N = int(input()) # 문자열 길이\n",
        "s = input() # 문자열\n",
        "cnt = 0\n",
        "# 문자열 갯수 계산\n",
        "for i in range(N):\n",
        "    if(s[i] == 'C'):\n",
        "        for j in range(i + 1, N):\n",
        "            if(s[j] == 'O'):\n",
        "                for k in range(j + 1, N):\n",
        "                    if(s[k] == 'W'):\n",
        "                        cnt += 1\n",
        "# 출력\n",
        "print(cnt)"
      ],
      "metadata": {
        "id": "Gn1MB8pH_xg3"
      },
      "execution_count": null,
      "outputs": []
    },
    {
      "cell_type": "markdown",
      "source": [
        "Carry 피하기 2\n",
        "- https://inha.codetree.ai/missions/5/problems/escaping-carry-2/description"
      ],
      "metadata": {
        "id": "qLM5pYkrEdzB"
      }
    },
    {
      "cell_type": "code",
      "source": [
        "n = int(input())\n",
        "num_list = []\n",
        "# 숫자 입력받기\n",
        "for i in range(n):\n",
        "    num = int(input())\n",
        "    num_list.append(num)\n",
        "# 계산\n",
        "max_val = -1\n",
        "for i in range(n):\n",
        "    for j in range(i + 1, n):\n",
        "        for k in range(j + 1, n):\n",
        "            # 3개의 숫자를 일단 문자형으로 변환\n",
        "            num1 = str(num_list[i])\n",
        "            num2 = str(num_list[j])\n",
        "            num3 = str(num_list[k])\n",
        "            num_len = max(len(num1), len(num2), len(num3)) # 숫자가 가장 긴 값의 길이\n",
        "            check_val = 0 # carry 여부를 확인\n",
        "            for l in range(-1, - num_len - 1, -1):\n",
        "                carry1, carry2, carry3 = 0, 0, 0\n",
        "                # 숫자 자릿수와 비교하여, 숫자가 존재하면 해당 값으로 업데이트\n",
        "                if(len(num1) >= abs(l)):\n",
        "                    carry1 = int(num1[l])\n",
        "                if(len(num2) >= abs(l)):\n",
        "                    carry2 = int(num2[l])\n",
        "                if(len(num3) >= abs(l)):\n",
        "                    carry3 = int(num3[l])\n",
        "                # carry 여부 확인\n",
        "                if(carry1 + carry2 + carry3 >= 10): # carry 발생 시\n",
        "                    check_val = 1 # check_val 업데이트\n",
        "                    break # for문 종료\n",
        "            if(check_val == 0): # carry가 아니면\n",
        "                sum_val = int(num1) + int(num2) + int(num3)\n",
        "                if(max_val < sum_val): # 최댓값 여부 확인\n",
        "                    max_val = sum_val\n",
        "# 출력\n",
        "print(max_val)"
      ],
      "metadata": {
        "id": "nr83obygEeCT"
      },
      "execution_count": null,
      "outputs": []
    },
    {
      "cell_type": "code",
      "source": [
        "# 해설 답안\n",
        "# 나머지를 계산하는 방식을 활용하기 (%)\n",
        "# 변수 선언 및 입력\n",
        "n = int(input())\n",
        "arr = [\n",
        "\tint(input())\n",
        "\tfor _ in range(n)\n",
        "]\n",
        "\n",
        "# 모든 쌍을 다 잡아봅니다.\n",
        "ans = -1\n",
        "for i in range(n):\n",
        "\tfor j in range(i + 1, n):\n",
        "\t\tfor k in range(j + 1, n):\n",
        "\t\t\tcarry = False\n",
        "\n",
        "\t\t\t# 일의 자리에서 carry가 발생하는 경우\n",
        "\t\t\tif arr[i] % 10 + arr[j] % 10 + arr[k] % 10 >= 10:\n",
        "\t\t\t\tcarry = True\n",
        "\n",
        "\t\t\t# 십의 자리에서 carry가 발생하는 경우\n",
        "\t\t\tif arr[i] % 100 // 10 + arr[j] % 100 // 10 + arr[k] % 100 // 10 >= 10:\n",
        "\t\t\t\tcarry = True\n",
        "\n",
        "\t\t\t# 백의 자리에서 carry가 발생하는 경우\n",
        "\t\t\tif arr[i] % 1000 // 100 + arr[j] % 1000 // 100 + arr[k] % 1000 // 100 >= 10:\n",
        "\t\t\t\tcarry = True\n",
        "\n",
        "\t\t\t# 천의 자리에서 carry가 발생하는 경우\n",
        "\t\t\tif arr[i] % 10000 // 1000 + arr[j] % 10000 // 1000 + arr[k] % 10000 // 1000 >= 10:\n",
        "\t\t\t\tcarry = True\n",
        "\n",
        "\t\t\tif carry == False:\n",
        "\t\t\t\tans = max(ans, arr[i] + arr[j] + arr[k]);\n",
        "\n",
        "print(ans)"
      ],
      "metadata": {
        "id": "S2_fRvxcEtAY"
      },
      "execution_count": null,
      "outputs": []
    },
    {
      "cell_type": "markdown",
      "source": [
        "오목\n",
        "- https://inha.codetree.ai/missions/5/problems/O-mok/description"
      ],
      "metadata": {
        "id": "Bng2XNLcOyJY"
      }
    },
    {
      "cell_type": "code",
      "source": [
        "import sys\n",
        "# 알이 놓이지 않는 자리 0, 검은알 1, 흰알 2\n",
        "num_list = [list(map(int, input().split())) for _ in range(19)] # 오목판 정보 입력\n",
        "# 범위 함수\n",
        "def in_range(x, y):\n",
        "    return (0 <= x and x < 19 and 0 <= y and y < 19)\n",
        "# 이동 방향(서남, 남, 남동, 동, 북동, 북, 북서, 서)\n",
        "dx, dy = [1, 1, 1, -1, -1, -1, 0, 0], [-1, 0, 1, -1, 0, 1, -1, 1]\n",
        "# 좌표에서 확인\n",
        "for i in range(19):\n",
        "    for j in range(19):\n",
        "        if(num_list[i][j] == 0): # 바둑 알이 없다면\n",
        "            continue\n",
        "\n",
        "        for k in range(8):\n",
        "            cnt = 1\n",
        "            cur_x = i # 현재 x\n",
        "            cur_y = j # 현재 y\n",
        "            while True:\n",
        "                nx = cur_x + dx[k]\n",
        "                ny = cur_y + dy[k]\n",
        "                if(in_range(nx, ny) == False): # 범위를 벗어나면\n",
        "                    break\n",
        "                if(num_list[nx][ny] != num_list[cur_x][cur_y]): # 바둑알이 다르면\n",
        "                    break\n",
        "                cnt += 1\n",
        "                cur_x = nx\n",
        "                cur_y = ny\n",
        "                if(cnt == 5): # 오목이 완성되면\n",
        "                    print(num_list[i][j])\n",
        "                    print(i + 2 * dx[k] + 1, j + 2 * dy[k] + 1)\n",
        "                    sys.exit()\n",
        "print(0)"
      ],
      "metadata": {
        "id": "1CH6bET6Ox8n"
      },
      "execution_count": null,
      "outputs": []
    },
    {
      "cell_type": "markdown",
      "source": [
        "숨은 단어 찾기 2\n",
        "- https://inha.codetree.ai/missions/5/problems/find-hidden-words-2/description"
      ],
      "metadata": {
        "id": "8CT1BRwSFlFo"
      }
    },
    {
      "cell_type": "code",
      "source": [
        "N, M = map(int, input().split())\n",
        "arr = []\n",
        "# 문자열 격자 삽입\n",
        "for i in range(N):\n",
        "    s = input()\n",
        "    arr.append(s)\n",
        "# 범위함수\n",
        "def in_range(x, y):\n",
        "    return (0 <= x and x < N and 0 <= y and y < M)\n",
        "# 북, 북서, 서, 남서, 남, 남동, 동, 북동\n",
        "dx, dy = [-1, -1, 0, 1, 1, 1, 0, -1], [0, -1, -1, -1, 0, 1, 1, 1]\n",
        "cnt = 0\n",
        "# 탐색\n",
        "for i in range(N):\n",
        "    for j in range(M):\n",
        "        if(arr[i][j] != 'L'): # L이 아니면\n",
        "            continue\n",
        "        # L이면 탐색 시작\n",
        "        for k in range(8):\n",
        "            idx = 1\n",
        "            cur_x = i\n",
        "            cur_y = j\n",
        "            while True:\n",
        "                nx = cur_x + dx[k]\n",
        "                ny = cur_y + dy[k]\n",
        "                if(in_range(nx, ny) == False): # 격자 범위를 벗어나면\n",
        "                    break\n",
        "                if(arr[nx][ny] != 'E'): # E가 아니면\n",
        "                    break\n",
        "                idx += 1 # 횟수 증가\n",
        "                # 좌표 최신화\n",
        "                cur_x = nx\n",
        "                cur_y = ny\n",
        "                if(idx == 3): # 'LEE'가 완성되면\n",
        "                    cnt += 1\n",
        "                    break\n",
        "# 출력\n",
        "print(cnt)"
      ],
      "metadata": {
        "id": "Vh4fA3szFlV5"
      },
      "execution_count": null,
      "outputs": []
    },
    {
      "cell_type": "markdown",
      "source": [
        "최고의 13위치 2\n",
        "- https://inha.codetree.ai/missions/5/problems/best-place-of-13-2/description"
      ],
      "metadata": {
        "id": "GqC58h34FoMI"
      }
    },
    {
      "cell_type": "code",
      "source": [
        "N = int(input())\n",
        "arr = []\n",
        "# 격자 정보 저장\n",
        "for i in range(N):\n",
        "    num = list(map(int, input().split()))\n",
        "    arr.append(num)\n",
        "# 동전 최대 개수 계산\n",
        "max_val = -1\n",
        "for i in range(N): # 첫 번째의 x좌표\n",
        "    for j in range(N - 2): # 첫 번째의 y좌표\n",
        "        for k in range(i, N): # 두 번째의 x좌표\n",
        "            for l in range(N - 2): # 두 번째의 y좌표\n",
        "                if(i == k): # 두 격자가 같은 행이면\n",
        "                    for x in range(j + 3, N - 2):\n",
        "                        num1 = arr[i][j] + arr[i][j + 1] + arr[i][j + 2]\n",
        "                        num2 = arr[k][x] + arr[k][x + 1] + arr[k][x + 2]\n",
        "                        max_val = max(max_val, num1 + num2)\n",
        "                else: # 두 격자가 다른 열이면\n",
        "                    num1 = arr[i][j] + arr[i][j + 1] + arr[i][j + 2]\n",
        "                    num2 = arr[k][l] + arr[k][l + 1] + arr[k][l + 2]\n",
        "                    max_val = max(max_val, num1 + num2)\n",
        "# 출력\n",
        "print(max_val)"
      ],
      "metadata": {
        "id": "GkesQvdVFqqZ"
      },
      "execution_count": null,
      "outputs": []
    },
    {
      "cell_type": "code",
      "source": [
        "# 해설 답안\n",
        "# 변수 선언 및 입력\n",
        "n = int(input())\n",
        "arr = [\n",
        "    list(map(int, input().split()))\n",
        "    for _ in range(n)\n",
        "]\n",
        "\n",
        "# Step 1.\n",
        "# 첫 번째 격자를 놓습니다. (i , j)\n",
        "max_cnt = 0\n",
        "for i in range(n):\n",
        "    # 격자를 벗어나지 않을 범위로만 잡습니다.\n",
        "    for j in range(n - 2):\n",
        "        # 두 번째 격자를 놓습니다. (k , l)\n",
        "        for k in range(n):\n",
        "            # 격자를 벗어나지 않을 범위로만 잡습니다.\n",
        "            for l in range(n - 2):\n",
        "                # Step2. 두 격자가 겹치는 경우에는 가짓수로 세지 않습니다.\n",
        "                if i == k and abs(j - l) <= 2:\n",
        "                        continue\n",
        "\n",
        "                # Step 3. 두 격자가 겹치지 않는 경우에 대해 동전 수를 세어 갱신해줍니다.\n",
        "                cnt1 = arr[i][j] + arr[i][j + 1] + arr[i][j + 2]\n",
        "                cnt2 = arr[k][l] + arr[k][l + 1] + arr[k][l + 2]\n",
        "                max_cnt = max(max_cnt, cnt1 + cnt2)\n",
        "\n",
        "print(max_cnt)"
      ],
      "metadata": {
        "id": "HCJkdOrBPvww"
      },
      "execution_count": null,
      "outputs": []
    },
    {
      "cell_type": "markdown",
      "source": [
        "특정 수와 근접한 합\n",
        "- https://inha.codetree.ai/missions/5/problems/sum-close-to-particular-number/description"
      ],
      "metadata": {
        "id": "G2LNg6FFPvdn"
      }
    },
    {
      "cell_type": "code",
      "source": [
        "N, S = map(int, input().split())\n",
        "num_list = list(map(int, input().split()))\n",
        "val = float('inf') # 가장 가까운 수\n",
        "temp = 0 # 2개의 수를 제외한 N - 2 개의 수들의 합\n",
        "for i in range(N): # 첫번째 제외하는 수의 인덱스\n",
        "    for j in range(i + 1, N): # 두번째 제외하는 수의 인덱스\n",
        "        temp = 0 # 초기화\n",
        "        for k in range(N): # 순회\n",
        "            if(k == i or k == j): # 제외해야 하는 수라면\n",
        "                continue # 더하지 않고 진행\n",
        "            else:\n",
        "                temp += num_list[k]\n",
        "        # 판단\n",
        "        if(abs(S - temp) < val): # val 값보다 S - temp의 절댓값이 작으면\n",
        "            val = abs(S - temp)\n",
        "# 출력\n",
        "print(val)"
      ],
      "metadata": {
        "id": "akYZpNvsPzYb"
      },
      "execution_count": null,
      "outputs": []
    },
    {
      "cell_type": "markdown",
      "source": [
        "# 구간 단위로 완전탐색"
      ],
      "metadata": {
        "id": "C7qT4Kax152O"
      }
    },
    {
      "cell_type": "markdown",
      "source": [
        "구간 단위로 완전탐색을 진행하는 경우에는, **구간의 시작 지점을 기준**으로 진행하는 것이 좋다.\n",
        "\n",
        "이때 유의해야 할 점은, 구간이 수열의 범위를 벗어나서는 안된다는 것입니다.\n",
        "따라서 i는 n - k까지만 진행해야 한다.\n",
        "\n",
        "\n",
        "* i가 정확히 n - k까지 돌아야 하는지, n - k 전까지 돌아야 하는지는 항상 헷갈리는 부분 중 하나이다. 이런 경우에는 k가 1인 경우를 생각해보면 된다.\n",
        "k가 1이라면 모든 원소를 다 살펴봐야 하므로 모든 구간 0부터 n - 1까지 전부 돌아야 한다. 따라서 n - k까지 꼭 확인해야 함을 확신할 수 있다.\n"
      ],
      "metadata": {
        "id": "cnUgN_Dk2D8_"
      }
    },
    {
      "cell_type": "markdown",
      "source": [
        "구간 중 최대 합\n",
        "- https://inha.codetree.ai/missions/5/problems/max-sum-of-subarray/introduction"
      ],
      "metadata": {
        "id": "YNfNVJGI1-V4"
      }
    },
    {
      "cell_type": "code",
      "source": [
        "n, k = map(int, input().split())\n",
        "num_list = list(map(int, input().split()))\n",
        "max_val = -1\n",
        "for i in range(n - k + 1): # 0 부터 n - k 까지\n",
        "    temp = 0\n",
        "    for j in range(i, i + k): # 연속하는 k개의 숫자 합산\n",
        "        temp += num_list[j]\n",
        "    if(max_val < temp): # 기존의 최댓값보다 크면\n",
        "        max_val = temp # 현재 값으로 최댓값 변경\n",
        "# 출력\n",
        "print(max_val)"
      ],
      "metadata": {
        "id": "6Lmp7LE-2ttR"
      },
      "execution_count": null,
      "outputs": []
    },
    {
      "cell_type": "markdown",
      "source": [
        "G or H 3\n",
        "- https://inha.codetree.ai/missions/5/problems/G-or-H-3/description"
      ],
      "metadata": {
        "id": "Z_-TFODq6siE"
      }
    },
    {
      "cell_type": "code",
      "source": [
        "N, K = map(int, input().split())\n",
        "num_list = [0] * 10001\n",
        "for i in range(N): # 배열에 값 기록\n",
        "    loc, info = input().split()\n",
        "    loc = int(loc)\n",
        "    if(info == 'G'):\n",
        "        num_list[loc] = 1\n",
        "    elif(info == 'H'):\n",
        "        num_list[loc] = 2\n",
        "# 최댓값 계산\n",
        "max_val = -1\n",
        "for i in range(1, 10001 - K): # 1부터 10001 - K + 1 까지\n",
        "    temp = 0\n",
        "    for j in range(i, i + K + 1): # i부터 i + K 까지 합산\n",
        "        temp += num_list[j]\n",
        "    if(max_val < temp):\n",
        "        max_val = temp\n",
        "# 출력\n",
        "print(max_val)"
      ],
      "metadata": {
        "id": "ty7EhUHl6s8F"
      },
      "execution_count": null,
      "outputs": []
    },
    {
      "cell_type": "markdown",
      "source": [
        "특정 구간의 원소 평균값\n",
        "- https://inha.codetree.ai/missions/5/problems/elemental-mean-value-for-a-particular-interval/description"
      ],
      "metadata": {
        "id": "TVquIV5q6vZa"
      }
    },
    {
      "cell_type": "code",
      "source": [
        "N = int(input())\n",
        "num_list = list(map(int, input().split()))\n",
        "cnt = 0 # 횟수\n",
        "for i in range(N): # 구간의 시작 인덱스\n",
        "    for j in range(i, N): # 구간의 끝 인덱스\n",
        "        temp = 0 # 현재 구간 합\n",
        "        temp_cnt = 0 # 구간의 크기\n",
        "        for k in range(i, j + 1):\n",
        "            temp += num_list[k] # 구간 값 추가\n",
        "            temp_cnt += 1 # 크기 1 증가\n",
        "        temp_avg = temp / temp_cnt # 구간의 평균값\n",
        "        check = False\n",
        "        for k in range(i, j + 1):\n",
        "            if(temp_avg == num_list[k]): # 구간 평균값이 구간 내 원소값과 동일하면\n",
        "                check = True\n",
        "        if(check == True):\n",
        "            cnt += 1\n",
        "# 출력\n",
        "print(cnt)"
      ],
      "metadata": {
        "id": "EOABtbFj6vQM"
      },
      "execution_count": null,
      "outputs": []
    }
  ]
}