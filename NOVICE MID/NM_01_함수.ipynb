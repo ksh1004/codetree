{
  "nbformat": 4,
  "nbformat_minor": 0,
  "metadata": {
    "colab": {
      "provenance": []
    },
    "kernelspec": {
      "name": "python3",
      "display_name": "Python 3"
    },
    "language_info": {
      "name": "python"
    }
  },
  "cells": [
    {
      "cell_type": "markdown",
      "source": [
        "# 값을 반환하지 않는 함수"
      ],
      "metadata": {
        "id": "XDjiug28CWER"
      }
    },
    {
      "cell_type": "markdown",
      "source": [
        "별 찍는 것을 5번 반복하기\n",
        "- https://inha.codetree.ai/missions/5/problems/repeat-shooting-the-stars-five-times/description"
      ],
      "metadata": {
        "id": "aYZ6WPJeCa2q"
      }
    },
    {
      "cell_type": "code",
      "execution_count": null,
      "metadata": {
        "id": "q0Pv7MUfCVcz"
      },
      "outputs": [],
      "source": [
        "def star_10():\n",
        "    print('**********')\n",
        "\n",
        "for _ in range(5):\n",
        "    star_10()"
      ]
    },
    {
      "cell_type": "markdown",
      "source": [
        "반복 출력하기\n",
        "- https://inha.codetree.ai/missions/5/problems/repeated-output/description"
      ],
      "metadata": {
        "id": "eS4KG8W-C-aa"
      }
    },
    {
      "cell_type": "code",
      "source": [
        "N = int(input())\n",
        "\n",
        "def pr(num):\n",
        "    for _ in range(num):\n",
        "        print('12345^&*()_')\n",
        "\n",
        "pr(N)"
      ],
      "metadata": {
        "id": "-KGyQ1GAC_-S"
      },
      "execution_count": null,
      "outputs": []
    },
    {
      "cell_type": "markdown",
      "source": [
        "함수를 이용해 직사각형 만들기\n",
        "- https://inha.codetree.ai/missions/5/problems/create-a-rectangle-using-a-function/description"
      ],
      "metadata": {
        "id": "oblewx6qDRbB"
      }
    },
    {
      "cell_type": "code",
      "source": [
        "n, m = map(int, input().split())\n",
        "\n",
        "def square(n, m):\n",
        "    for i in range(n):\n",
        "        print('1' * m)\n",
        "\n",
        "square(n, m)"
      ],
      "metadata": {
        "id": "Kkv5rmnADUiz"
      },
      "execution_count": null,
      "outputs": []
    },
    {
      "cell_type": "markdown",
      "source": [
        "숫자로 이루어진 사각형\n",
        "- https://inha.codetree.ai/missions/5/problems/rectangle-with-a-number/description"
      ],
      "metadata": {
        "id": "M67KL3L0Doan"
      }
    },
    {
      "cell_type": "code",
      "source": [
        "N = int(input())\n",
        "\n",
        "def square(n):\n",
        "    cnt = 1\n",
        "    for i in range(n):\n",
        "        for j in range(n):\n",
        "            print(cnt, end = ' ')\n",
        "            cnt += 1\n",
        "            if(cnt == 10):\n",
        "                cnt = 1\n",
        "        print()\n",
        "\n",
        "square(N)"
      ],
      "metadata": {
        "id": "JDI5p-EQDtHb"
      },
      "execution_count": null,
      "outputs": []
    },
    {
      "cell_type": "markdown",
      "source": [
        "출력결과 80\n",
        "- https://inha.codetree.ai/missions/5/problems/reading-k201835/description"
      ],
      "metadata": {
        "id": "vtLmDxugEFxx"
      }
    },
    {
      "cell_type": "code",
      "source": [
        "def draw(n):\n",
        "    for i in range(1, n+1, 1):\n",
        "        for j in range(1, n+1):\n",
        "            if i == 1 or i == n or j == 1 or j == n or j == i or j == n - i + 1:\n",
        "                print('*', end='')\n",
        "            else:\n",
        "                 print(' ', end='')\n",
        "        print()\n",
        "# 출력결과\n",
        "*****\n",
        "** **\n",
        "* * *\n",
        "** **\n",
        "*****"
      ],
      "metadata": {
        "id": "KP15nb2IEG87"
      },
      "execution_count": null,
      "outputs": []
    },
    {
      "cell_type": "markdown",
      "source": [
        "최대공약수 구하기\n",
        "- https://inha.codetree.ai/missions/5/problems/find-the-greatest-common-divisor/description"
      ],
      "metadata": {
        "id": "FDxByaDyEf9V"
      }
    },
    {
      "cell_type": "code",
      "source": [
        "n, m = map(int, input().split())\n",
        "\n",
        "def gcd(n, m):\n",
        "    r = 0\n",
        "    gcd_val = 1\n",
        "    # 유클리드 호제법 사용\n",
        "    # 큰 값을 작은 값으로 나눈 후, 몫의 값에 따라 판단\n",
        "    # 몫이 0이 아니면, 큰 값에 작은 값을 넣고, 작은 값에는 나머지 값을 넣고 반복\n",
        "    # 몫이 0이면, 나머지 값이 최대공약수\n",
        "    if(n >= m): # n이 클 때\n",
        "        while(1):\n",
        "            r = n % m # 몫 r\n",
        "            if(r != 0): # 몫이 0이 아니면\n",
        "                n = m # n 값에 m 대입\n",
        "                m = r # m 값에 r 대입\n",
        "            if(r == 0): # 몫이 0이면\n",
        "                gcd_val = m # 최대공약수는 m\n",
        "                break # while문 종료\n",
        "    else: # m이 클 때\n",
        "        while(1):\n",
        "            r = m % n # 몫 r\n",
        "            if(r != 0): #  몫이 0이 아니면\n",
        "                m = n # m 값에 n 대입\n",
        "                n = r # n 값에 r 대입\n",
        "            if(r == 0): # 몫이 0이면\n",
        "                gcd_val = n # 최대공약수는n\n",
        "                break # while문 종료\n",
        "    # 출력\n",
        "    print(gcd_val)\n",
        "\n",
        "gcd(n, m)"
      ],
      "metadata": {
        "id": "PuXbfeclEi4W"
      },
      "execution_count": null,
      "outputs": []
    },
    {
      "cell_type": "markdown",
      "source": [
        "출력결과 72\n",
        "- https://inha.codetree.ai/missions/5/problems/reading-k201827/description"
      ],
      "metadata": {
        "id": "O4JK_5cxHnq8"
      }
    },
    {
      "cell_type": "code",
      "source": [
        "def f(a, b):\n",
        "    d = 0; e = 17\n",
        "    c = a + 5\n",
        "    if a + b < c:\n",
        "        if a == b:\n",
        "            print(\"Lee\")\n",
        "\n",
        "f(3, 3)\n",
        "# 출력결과\n",
        "# Lee"
      ],
      "metadata": {
        "id": "9MoksJk0HpIj"
      },
      "execution_count": null,
      "outputs": []
    },
    {
      "cell_type": "markdown",
      "source": [
        "출력결과 20\n",
        "- https://inha.codetree.ai/missions/5/problems/reading-k201544/description"
      ],
      "metadata": {
        "id": "6TpDa83KH0k7"
      }
    },
    {
      "cell_type": "code",
      "source": [
        "_list = [[2, 0, 1, 5],\n",
        "         [0, 4, 1, 1],\n",
        "         [1, 4, 0, 0]]\n",
        "\n",
        "def f(b):\n",
        "    for i in range(4):\n",
        "        _list[b][i] = _list[(b + 1) % 3][(i + 1) % 4]\n",
        "\n",
        "f(1)\n",
        "f(2)\n",
        "f(0)\n",
        "result = 0\n",
        "\n",
        "for i in range(3):\n",
        "    result += _list[i][(i + 1) % 4]\n",
        "print(result)\n",
        "# 출력결과\n",
        "# 2"
      ],
      "metadata": {
        "id": "QfNgU9HXH1z4"
      },
      "execution_count": null,
      "outputs": []
    },
    {
      "cell_type": "markdown",
      "source": [
        "최소공배수 구하기\n",
        "- https://inha.codetree.ai/missions/5/problems/find-the-least-common-multiple/description"
      ],
      "metadata": {
        "id": "Be5TYPmnH9HS"
      }
    },
    {
      "cell_type": "code",
      "source": [
        "n, m = map(int, input().split())\n",
        "\n",
        "def gcd(n, m): # 최대공약수 함수\n",
        "    r = 0\n",
        "    gcd_val = 1\n",
        "    # 유클리드 호제법 사용\n",
        "    # 큰 값을 작은 값으로 나눈 후, 몫의 값에 따라 판단\n",
        "    # 몫이 0이 아니면, 큰 값에 작은 값을 넣고, 작은 값에는 나머지 값을 넣고 반복\n",
        "    # 몫이 0이면, 나머지 값이 최대공약수\n",
        "    if(n >= m): # n이 클 때\n",
        "        while(1):\n",
        "            r = n % m # 몫 r\n",
        "            if(r != 0): # 몫이 0이 아니면\n",
        "                n = m # n 값에 m 대입\n",
        "                m = r # m 값에 r 대입\n",
        "            if(r == 0): # 몫이 0이면\n",
        "                gcd_val = m # 최대공약수는 m\n",
        "                break # while문 종료\n",
        "    else: # m이 클 때\n",
        "        while(1):\n",
        "            r = m % n # 몫 r\n",
        "            if(r != 0): #  몫이 0이 아니면\n",
        "                m = n # m 값에 n 대입\n",
        "                n = r # n 값에 r 대입\n",
        "            if(r == 0): # 몫이 0이면\n",
        "                gcd_val = n # 최대공약수는n\n",
        "                break # while문 종료\n",
        "    return gcd_val\n",
        "\n",
        "def lcm(n, m): # 최소공배수 함수\n",
        "    # 최소공배수는 두 수를 곱한 후 최대공약수로 나누면 된다.\n",
        "    lcm = (n * m) // gcd(n, m)\n",
        "    print(lcm)\n",
        "\n",
        "lcm(n, m)"
      ],
      "metadata": {
        "id": "_4fikEFfH-aP"
      },
      "execution_count": null,
      "outputs": []
    },
    {
      "cell_type": "markdown",
      "source": [
        "# 값을 반환하는 함수"
      ],
      "metadata": {
        "id": "ojoiD7nESnz_"
      }
    },
    {
      "cell_type": "markdown",
      "source": [
        "1부터 특정 수까지의 합\n",
        "- https://inha.codetree.ai/missions/5/problems/sum-from-1-to-a-certain-number/description"
      ],
      "metadata": {
        "id": "D4Vua2LqSomj"
      }
    },
    {
      "cell_type": "code",
      "source": [
        "N = int(input())\n",
        "\n",
        "def sum(N):\n",
        "    cnt = 0\n",
        "    for i in range(1, N + 1):\n",
        "        cnt += i\n",
        "    cnt = cnt // 10\n",
        "    return cnt\n",
        "\n",
        "print(sum(N))"
      ],
      "metadata": {
        "id": "_FEzVX3ISqoc"
      },
      "execution_count": null,
      "outputs": []
    },
    {
      "cell_type": "markdown",
      "source": [
        "정수의 최솟값\n",
        "- https://inha.codetree.ai/missions/5/problems/minimum-value-of-an-integer/description"
      ],
      "metadata": {
        "id": "KMRoA2g4S7n9"
      }
    },
    {
      "cell_type": "code",
      "source": [
        "a, b, c = map(int, input().split())\n",
        "\n",
        "def min_val(a, b, c):\n",
        "    num_list = [a, b, c]\n",
        "    return min(num_list)\n",
        "\n",
        "print(min_val(a, b, c))"
      ],
      "metadata": {
        "id": "jYLJDlmJS-TA"
      },
      "execution_count": null,
      "outputs": []
    },
    {
      "cell_type": "markdown",
      "source": [
        "짝수이면서 합이 5인 배수인 수\n",
        "- https://inha.codetree.ai/missions/5/problems/an-even-number-with-a-multiple-of-5-in-the-sum/description"
      ],
      "metadata": {
        "id": "VgO211idTXuo"
      }
    },
    {
      "cell_type": "code",
      "source": [
        "n = int(input())\n",
        "\n",
        "def check(n):\n",
        "    if(n % 2 == 0): # 짝수면\n",
        "        num = 0\n",
        "        n_str = str(n)\n",
        "        for i in range(len(n_str)):\n",
        "            num += int(n_str[i])\n",
        "        if(num % 5 == 0):\n",
        "            return 1\n",
        "        else:\n",
        "            return 0\n",
        "    else:\n",
        "        return 0\n",
        "\n",
        "if(check(n) == 1):\n",
        "    print('Yes')\n",
        "else:\n",
        "    print('No')"
      ],
      "metadata": {
        "id": "SC07jIw7Taq9"
      },
      "execution_count": null,
      "outputs": []
    },
    {
      "cell_type": "markdown",
      "source": [
        "함수를 이용한 369 게임\n",
        "- https://inha.codetree.ai/missions/5/problems/369-games-using-functions/description"
      ],
      "metadata": {
        "id": "9pcO9OT_UGdW"
      }
    },
    {
      "cell_type": "code",
      "source": [
        "a, b = map(int, input().split())\n",
        "\n",
        "def play_369(a, b):\n",
        "    cnt = 0\n",
        "    for i in range(a, b + 1):\n",
        "        if(i % 3 == 0):\n",
        "            cnt += 1\n",
        "        else:\n",
        "            i_str = str(i)\n",
        "            for i in range(len(i_str)):\n",
        "                if(i_str[i] == '3' or i_str[i] == '6' or i_str[i] == '9'):\n",
        "                    cnt += 1\n",
        "                    break\n",
        "    return cnt\n",
        "\n",
        "print(play_369(a, b))"
      ],
      "metadata": {
        "id": "z5-4VLmRUHmI"
      },
      "execution_count": null,
      "outputs": []
    },
    {
      "cell_type": "markdown",
      "source": [
        "함수를 이용한 소수 판별\n",
        "- https://inha.codetree.ai/missions/5/problems/decimal-decisions-using-functions/description"
      ],
      "metadata": {
        "id": "aajJy_cRWIvL"
      }
    },
    {
      "cell_type": "code",
      "source": [
        "a, b = map(int, input().split())\n",
        "\n",
        "def prime(n):\n",
        "    if(n == 1):\n",
        "        return False\n",
        "\n",
        "    for i in range(2, n):\n",
        "        if(n % i == 0):\n",
        "            return False\n",
        "\n",
        "    return True\n",
        "\n",
        "sum_val = 0\n",
        "for i in range(a, b + 1):\n",
        "    if(prime(i)):\n",
        "        sum_val += i\n",
        "\n",
        "print(sum_val)"
      ],
      "metadata": {
        "id": "aM69bSgTWLgI"
      },
      "execution_count": null,
      "outputs": []
    },
    {
      "cell_type": "markdown",
      "source": [
        "함수를 이용한 윤년 판별\n",
        "- https://inha.codetree.ai/missions/5/problems/tell-the-function-using-a-leap-year/description"
      ],
      "metadata": {
        "id": "QKl_YEOtaBnG"
      }
    },
    {
      "cell_type": "code",
      "source": [
        "y = int(input())\n",
        "\n",
        "def check_year(y):\n",
        "    if(y % 4 == 0):\n",
        "        if(y % 100 == 0):\n",
        "            if(y % 400 == 0):\n",
        "                return 1\n",
        "            else:\n",
        "                return 0\n",
        "        else:\n",
        "            return 1\n",
        "    else:\n",
        "        return 0\n",
        "\n",
        "if(check_year(y)):\n",
        "    print('true')\n",
        "else:\n",
        "    print('false')"
      ],
      "metadata": {
        "id": "zRBYyXRKaCuv"
      },
      "execution_count": null,
      "outputs": []
    },
    {
      "cell_type": "markdown",
      "source": [
        "출력결과 14\n",
        "- https://inha.codetree.ai/missions/5/problems/reading-k201534/description"
      ],
      "metadata": {
        "id": "axik5jsnaz_9"
      }
    },
    {
      "cell_type": "code",
      "source": [
        "def f(x):\n",
        "    return int((x / 2.5) * 3)\n",
        "# 출력결과\n",
        "# 14"
      ],
      "metadata": {
        "id": "lw2m9l7na3k-"
      },
      "execution_count": null,
      "outputs": []
    }
  ]
}