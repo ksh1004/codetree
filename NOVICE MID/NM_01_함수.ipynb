{
  "nbformat": 4,
  "nbformat_minor": 0,
  "metadata": {
    "colab": {
      "provenance": []
    },
    "kernelspec": {
      "name": "python3",
      "display_name": "Python 3"
    },
    "language_info": {
      "name": "python"
    }
  },
  "cells": [
    {
      "cell_type": "markdown",
      "source": [
        "# 값을 반환하지 않는 함수"
      ],
      "metadata": {
        "id": "XDjiug28CWER"
      }
    },
    {
      "cell_type": "markdown",
      "source": [
        "별 찍는 것을 5번 반복하기\n",
        "- https://inha.codetree.ai/missions/5/problems/repeat-shooting-the-stars-five-times/description"
      ],
      "metadata": {
        "id": "aYZ6WPJeCa2q"
      }
    },
    {
      "cell_type": "code",
      "execution_count": null,
      "metadata": {
        "id": "q0Pv7MUfCVcz"
      },
      "outputs": [],
      "source": [
        "def star_10():\n",
        "    print('**********')\n",
        "\n",
        "for _ in range(5):\n",
        "    star_10()"
      ]
    },
    {
      "cell_type": "markdown",
      "source": [
        "반복 출력하기\n",
        "- https://inha.codetree.ai/missions/5/problems/repeated-output/description"
      ],
      "metadata": {
        "id": "eS4KG8W-C-aa"
      }
    },
    {
      "cell_type": "code",
      "source": [
        "N = int(input())\n",
        "\n",
        "def pr(num):\n",
        "    for _ in range(num):\n",
        "        print('12345^&*()_')\n",
        "\n",
        "pr(N)"
      ],
      "metadata": {
        "id": "-KGyQ1GAC_-S"
      },
      "execution_count": null,
      "outputs": []
    },
    {
      "cell_type": "markdown",
      "source": [
        "함수를 이용해 직사각형 만들기\n",
        "- https://inha.codetree.ai/missions/5/problems/create-a-rectangle-using-a-function/description"
      ],
      "metadata": {
        "id": "oblewx6qDRbB"
      }
    },
    {
      "cell_type": "code",
      "source": [
        "n, m = map(int, input().split())\n",
        "\n",
        "def square(n, m):\n",
        "    for i in range(n):\n",
        "        print('1' * m)\n",
        "\n",
        "square(n, m)"
      ],
      "metadata": {
        "id": "Kkv5rmnADUiz"
      },
      "execution_count": null,
      "outputs": []
    },
    {
      "cell_type": "markdown",
      "source": [
        "숫자로 이루어진 사각형\n",
        "- https://inha.codetree.ai/missions/5/problems/rectangle-with-a-number/description"
      ],
      "metadata": {
        "id": "M67KL3L0Doan"
      }
    },
    {
      "cell_type": "code",
      "source": [
        "N = int(input())\n",
        "\n",
        "def square(n):\n",
        "    cnt = 1\n",
        "    for i in range(n):\n",
        "        for j in range(n):\n",
        "            print(cnt, end = ' ')\n",
        "            cnt += 1\n",
        "            if(cnt == 10):\n",
        "                cnt = 1\n",
        "        print()\n",
        "\n",
        "square(N)"
      ],
      "metadata": {
        "id": "JDI5p-EQDtHb"
      },
      "execution_count": null,
      "outputs": []
    },
    {
      "cell_type": "markdown",
      "source": [
        "출력결과 80\n",
        "- https://inha.codetree.ai/missions/5/problems/reading-k201835/description"
      ],
      "metadata": {
        "id": "vtLmDxugEFxx"
      }
    },
    {
      "cell_type": "code",
      "source": [
        "def draw(n):\n",
        "    for i in range(1, n+1, 1):\n",
        "        for j in range(1, n+1):\n",
        "            if i == 1 or i == n or j == 1 or j == n or j == i or j == n - i + 1:\n",
        "                print('*', end='')\n",
        "            else:\n",
        "                 print(' ', end='')\n",
        "        print()\n",
        "# 출력결과\n",
        "*****\n",
        "** **\n",
        "* * *\n",
        "** **\n",
        "*****"
      ],
      "metadata": {
        "id": "KP15nb2IEG87"
      },
      "execution_count": null,
      "outputs": []
    },
    {
      "cell_type": "markdown",
      "source": [
        "최대공약수 구하기\n",
        "- https://inha.codetree.ai/missions/5/problems/find-the-greatest-common-divisor/description"
      ],
      "metadata": {
        "id": "FDxByaDyEf9V"
      }
    },
    {
      "cell_type": "code",
      "source": [
        "n, m = map(int, input().split())\n",
        "\n",
        "def gcd(n, m):\n",
        "    r = 0\n",
        "    gcd_val = 1\n",
        "    # 유클리드 호제법 사용\n",
        "    # 큰 값을 작은 값으로 나눈 후, 몫의 값에 따라 판단\n",
        "    # 몫이 0이 아니면, 큰 값에 작은 값을 넣고, 작은 값에는 나머지 값을 넣고 반복\n",
        "    # 몫이 0이면, 나머지 값이 최대공약수\n",
        "    if(n >= m): # n이 클 때\n",
        "        while(1):\n",
        "            r = n % m # 몫 r\n",
        "            if(r != 0): # 몫이 0이 아니면\n",
        "                n = m # n 값에 m 대입\n",
        "                m = r # m 값에 r 대입\n",
        "            if(r == 0): # 몫이 0이면\n",
        "                gcd_val = m # 최대공약수는 m\n",
        "                break # while문 종료\n",
        "    else: # m이 클 때\n",
        "        while(1):\n",
        "            r = m % n # 몫 r\n",
        "            if(r != 0): #  몫이 0이 아니면\n",
        "                m = n # m 값에 n 대입\n",
        "                n = r # n 값에 r 대입\n",
        "            if(r == 0): # 몫이 0이면\n",
        "                gcd_val = n # 최대공약수는n\n",
        "                break # while문 종료\n",
        "    # 출력\n",
        "    print(gcd_val)\n",
        "\n",
        "gcd(n, m)"
      ],
      "metadata": {
        "id": "PuXbfeclEi4W"
      },
      "execution_count": null,
      "outputs": []
    },
    {
      "cell_type": "markdown",
      "source": [
        "출력결과 72\n",
        "- https://inha.codetree.ai/missions/5/problems/reading-k201827/description"
      ],
      "metadata": {
        "id": "O4JK_5cxHnq8"
      }
    },
    {
      "cell_type": "code",
      "source": [
        "def f(a, b):\n",
        "    d = 0; e = 17\n",
        "    c = a + 5\n",
        "    if a + b < c:\n",
        "        if a == b:\n",
        "            print(\"Lee\")\n",
        "\n",
        "f(3, 3)\n",
        "# 출력결과\n",
        "# Lee"
      ],
      "metadata": {
        "id": "9MoksJk0HpIj"
      },
      "execution_count": null,
      "outputs": []
    },
    {
      "cell_type": "markdown",
      "source": [
        "출력결과 20\n",
        "- https://inha.codetree.ai/missions/5/problems/reading-k201544/description"
      ],
      "metadata": {
        "id": "6TpDa83KH0k7"
      }
    },
    {
      "cell_type": "code",
      "source": [
        "_list = [[2, 0, 1, 5],\n",
        "         [0, 4, 1, 1],\n",
        "         [1, 4, 0, 0]]\n",
        "\n",
        "def f(b):\n",
        "    for i in range(4):\n",
        "        _list[b][i] = _list[(b + 1) % 3][(i + 1) % 4]\n",
        "\n",
        "f(1)\n",
        "f(2)\n",
        "f(0)\n",
        "result = 0\n",
        "\n",
        "for i in range(3):\n",
        "    result += _list[i][(i + 1) % 4]\n",
        "print(result)\n",
        "# 출력결과\n",
        "# 2"
      ],
      "metadata": {
        "id": "QfNgU9HXH1z4"
      },
      "execution_count": null,
      "outputs": []
    },
    {
      "cell_type": "markdown",
      "source": [
        "최소공배수 구하기\n",
        "- https://inha.codetree.ai/missions/5/problems/find-the-least-common-multiple/description"
      ],
      "metadata": {
        "id": "Be5TYPmnH9HS"
      }
    },
    {
      "cell_type": "code",
      "source": [
        "n, m = map(int, input().split())\n",
        "\n",
        "def gcd(n, m): # 최대공약수 함수\n",
        "    r = 0\n",
        "    gcd_val = 1\n",
        "    # 유클리드 호제법 사용\n",
        "    # 큰 값을 작은 값으로 나눈 후, 몫의 값에 따라 판단\n",
        "    # 몫이 0이 아니면, 큰 값에 작은 값을 넣고, 작은 값에는 나머지 값을 넣고 반복\n",
        "    # 몫이 0이면, 나머지 값이 최대공약수\n",
        "    if(n >= m): # n이 클 때\n",
        "        while(1):\n",
        "            r = n % m # 몫 r\n",
        "            if(r != 0): # 몫이 0이 아니면\n",
        "                n = m # n 값에 m 대입\n",
        "                m = r # m 값에 r 대입\n",
        "            if(r == 0): # 몫이 0이면\n",
        "                gcd_val = m # 최대공약수는 m\n",
        "                break # while문 종료\n",
        "    else: # m이 클 때\n",
        "        while(1):\n",
        "            r = m % n # 몫 r\n",
        "            if(r != 0): #  몫이 0이 아니면\n",
        "                m = n # m 값에 n 대입\n",
        "                n = r # n 값에 r 대입\n",
        "            if(r == 0): # 몫이 0이면\n",
        "                gcd_val = n # 최대공약수는n\n",
        "                break # while문 종료\n",
        "    return gcd_val\n",
        "\n",
        "def lcm(n, m): # 최소공배수 함수\n",
        "    # 최소공배수는 두 수를 곱한 후 최대공약수로 나누면 된다.\n",
        "    lcm = (n * m) // gcd(n, m)\n",
        "    print(lcm)\n",
        "\n",
        "lcm(n, m)"
      ],
      "metadata": {
        "id": "_4fikEFfH-aP"
      },
      "execution_count": null,
      "outputs": []
    },
    {
      "cell_type": "markdown",
      "source": [
        "# 값을 반환하는 함수"
      ],
      "metadata": {
        "id": "ojoiD7nESnz_"
      }
    },
    {
      "cell_type": "markdown",
      "source": [
        "1부터 특정 수까지의 합\n",
        "- https://inha.codetree.ai/missions/5/problems/sum-from-1-to-a-certain-number/description"
      ],
      "metadata": {
        "id": "D4Vua2LqSomj"
      }
    },
    {
      "cell_type": "code",
      "source": [
        "N = int(input())\n",
        "\n",
        "def sum(N):\n",
        "    cnt = 0\n",
        "    for i in range(1, N + 1):\n",
        "        cnt += i\n",
        "    cnt = cnt // 10\n",
        "    return cnt\n",
        "\n",
        "print(sum(N))"
      ],
      "metadata": {
        "id": "_FEzVX3ISqoc"
      },
      "execution_count": null,
      "outputs": []
    },
    {
      "cell_type": "markdown",
      "source": [
        "정수의 최솟값\n",
        "- https://inha.codetree.ai/missions/5/problems/minimum-value-of-an-integer/description"
      ],
      "metadata": {
        "id": "KMRoA2g4S7n9"
      }
    },
    {
      "cell_type": "code",
      "source": [
        "a, b, c = map(int, input().split())\n",
        "\n",
        "def min_val(a, b, c):\n",
        "    num_list = [a, b, c]\n",
        "    return min(num_list)\n",
        "\n",
        "print(min_val(a, b, c))"
      ],
      "metadata": {
        "id": "jYLJDlmJS-TA"
      },
      "execution_count": null,
      "outputs": []
    },
    {
      "cell_type": "markdown",
      "source": [
        "짝수이면서 합이 5인 배수인 수\n",
        "- https://inha.codetree.ai/missions/5/problems/an-even-number-with-a-multiple-of-5-in-the-sum/description"
      ],
      "metadata": {
        "id": "VgO211idTXuo"
      }
    },
    {
      "cell_type": "code",
      "source": [
        "n = int(input())\n",
        "\n",
        "def check(n):\n",
        "    if(n % 2 == 0): # 짝수면\n",
        "        num = 0\n",
        "        n_str = str(n)\n",
        "        for i in range(len(n_str)):\n",
        "            num += int(n_str[i])\n",
        "        if(num % 5 == 0):\n",
        "            return 1\n",
        "        else:\n",
        "            return 0\n",
        "    else:\n",
        "        return 0\n",
        "\n",
        "if(check(n) == 1):\n",
        "    print('Yes')\n",
        "else:\n",
        "    print('No')"
      ],
      "metadata": {
        "id": "SC07jIw7Taq9"
      },
      "execution_count": null,
      "outputs": []
    },
    {
      "cell_type": "markdown",
      "source": [
        "함수를 이용한 369 게임\n",
        "- https://inha.codetree.ai/missions/5/problems/369-games-using-functions/description"
      ],
      "metadata": {
        "id": "9pcO9OT_UGdW"
      }
    },
    {
      "cell_type": "code",
      "source": [
        "a, b = map(int, input().split())\n",
        "\n",
        "def play_369(a, b):\n",
        "    cnt = 0\n",
        "    for i in range(a, b + 1):\n",
        "        if(i % 3 == 0):\n",
        "            cnt += 1\n",
        "        else:\n",
        "            i_str = str(i)\n",
        "            for i in range(len(i_str)):\n",
        "                if(i_str[i] == '3' or i_str[i] == '6' or i_str[i] == '9'):\n",
        "                    cnt += 1\n",
        "                    break\n",
        "    return cnt\n",
        "\n",
        "print(play_369(a, b))"
      ],
      "metadata": {
        "id": "z5-4VLmRUHmI"
      },
      "execution_count": null,
      "outputs": []
    },
    {
      "cell_type": "markdown",
      "source": [
        "함수를 이용한 소수 판별\n",
        "- https://inha.codetree.ai/missions/5/problems/decimal-decisions-using-functions/description"
      ],
      "metadata": {
        "id": "aajJy_cRWIvL"
      }
    },
    {
      "cell_type": "code",
      "source": [
        "a, b = map(int, input().split())\n",
        "\n",
        "def prime(n):\n",
        "    if(n == 1):\n",
        "        return False\n",
        "\n",
        "    for i in range(2, n):\n",
        "        if(n % i == 0):\n",
        "            return False\n",
        "\n",
        "    return True\n",
        "\n",
        "sum_val = 0\n",
        "for i in range(a, b + 1):\n",
        "    if(prime(i)):\n",
        "        sum_val += i\n",
        "\n",
        "print(sum_val)"
      ],
      "metadata": {
        "id": "aM69bSgTWLgI"
      },
      "execution_count": null,
      "outputs": []
    },
    {
      "cell_type": "markdown",
      "source": [
        "함수를 이용한 윤년 판별\n",
        "- https://inha.codetree.ai/missions/5/problems/tell-the-function-using-a-leap-year/description"
      ],
      "metadata": {
        "id": "QKl_YEOtaBnG"
      }
    },
    {
      "cell_type": "code",
      "source": [
        "y = int(input())\n",
        "\n",
        "def check_year(y):\n",
        "    if(y % 4 == 0):\n",
        "        if(y % 100 == 0):\n",
        "            if(y % 400 == 0):\n",
        "                return 1\n",
        "            else:\n",
        "                return 0\n",
        "        else:\n",
        "            return 1\n",
        "    else:\n",
        "        return 0\n",
        "\n",
        "if(check_year(y)):\n",
        "    print('true')\n",
        "else:\n",
        "    print('false')"
      ],
      "metadata": {
        "id": "zRBYyXRKaCuv"
      },
      "execution_count": null,
      "outputs": []
    },
    {
      "cell_type": "markdown",
      "source": [
        "출력결과 14\n",
        "- https://inha.codetree.ai/missions/5/problems/reading-k201534/description"
      ],
      "metadata": {
        "id": "axik5jsnaz_9"
      }
    },
    {
      "cell_type": "code",
      "source": [
        "def f(x):\n",
        "    return int((x / 2.5) * 3)\n",
        "# 출력결과\n",
        "# 14"
      ],
      "metadata": {
        "id": "lw2m9l7na3k-"
      },
      "execution_count": null,
      "outputs": []
    },
    {
      "cell_type": "markdown",
      "source": [
        "출력결과 46\n",
        "- https://inha.codetree.ai/missions/5/problems/reading-k201720/description"
      ],
      "metadata": {
        "id": "ZCpATHLqjRr3"
      }
    },
    {
      "cell_type": "code",
      "source": [
        "def f(x):\n",
        "    cnt = 0\n",
        "    while x % 2 == 0:\n",
        "        x /= 2\n",
        "        cnt += 1\n",
        "    return cnt\n",
        "# 출력결과\n",
        "# 4"
      ],
      "metadata": {
        "id": "-3iernmejUM_"
      },
      "execution_count": null,
      "outputs": []
    },
    {
      "cell_type": "markdown",
      "source": [
        "출력결과 83\n",
        "- https://inha.codetree.ai/missions/5/problems/reading-k201840/description"
      ],
      "metadata": {
        "id": "BYtZSn1KjVzx"
      }
    },
    {
      "cell_type": "code",
      "source": [
        "def f(n):\n",
        "    s = 0\n",
        "    for i in range(0, n, 2):\n",
        "        for j in range(0, i, 2):\n",
        "            s += i + j\n",
        "    return s\n",
        "# 출력결과\n",
        "# 80"
      ],
      "metadata": {
        "id": "bpgsKQvTjib9"
      },
      "execution_count": null,
      "outputs": []
    },
    {
      "cell_type": "markdown",
      "source": [
        "출력결과 51\n",
        "- https://inha.codetree.ai/missions/5/problems/reading-k201727/description"
      ],
      "metadata": {
        "id": "TCkxVPLtjqPB"
      }
    },
    {
      "cell_type": "code",
      "source": [
        "def Lee(x):\n",
        "    trigger = 10\n",
        "    while x:\n",
        "        if x % 10 > trigger:\n",
        "            return 0\n",
        "        trigger = x % 10\n",
        "        x /= 10\n",
        "    return 1\n",
        "# 출력결과\n",
        "# 1"
      ],
      "metadata": {
        "id": "RYWkHBobjvpE"
      },
      "execution_count": null,
      "outputs": []
    },
    {
      "cell_type": "markdown",
      "source": [
        "출력결과 56\n",
        "- https://inha.codetree.ai/missions/5/problems/reading-k201732/description"
      ],
      "metadata": {
        "id": "rplzV2Gfj8zo"
      }
    },
    {
      "cell_type": "code",
      "source": [
        "def f(n):\n",
        "    a = [1, 1, 2, 3, 2, 1, 4, 1, 1, 1, 2, 4, 2, 3, 4]\n",
        "    idx = 0\n",
        "\n",
        "    while n < 15:\n",
        "        n += a[n]\n",
        "        idx += 1\n",
        "    return idx\n",
        "# 출력결과\n",
        "# 4"
      ],
      "metadata": {
        "id": "1tHFBcDzkDj2"
      },
      "execution_count": null,
      "outputs": []
    },
    {
      "cell_type": "markdown",
      "source": [
        "두 수의 거듭제곱\n",
        "- https://inha.codetree.ai/missions/5/problems/two-numbers-of-squares/description"
      ],
      "metadata": {
        "id": "_awhGN34kqCi"
      }
    },
    {
      "cell_type": "code",
      "source": [
        "a, b = map(int, input().split())\n",
        "\n",
        "def pow_val(a, b):\n",
        "    return a ** b\n",
        "\n",
        "print(pow_val(a, b))"
      ],
      "metadata": {
        "id": "xRTla2A9krL6"
      },
      "execution_count": null,
      "outputs": []
    },
    {
      "cell_type": "markdown",
      "source": [
        "출력결과 22\n",
        "- https://inha.codetree.ai/missions/5/problems/reading-k201547/description"
      ],
      "metadata": {
        "id": "K_zzIUYelCe1"
      }
    },
    {
      "cell_type": "code",
      "source": [
        "def f(x, y):\n",
        "    return 2 * y - x\n",
        "\n",
        "x = 1\n",
        "for i in range(6):\n",
        "    x = f(x, -i)\n",
        "    x = f(x, i)\n",
        "\n",
        "print(x)\n",
        "\n",
        "# 출력결과\n",
        "# 61"
      ],
      "metadata": {
        "id": "7fdsfjqplFbz"
      },
      "execution_count": null,
      "outputs": []
    },
    {
      "cell_type": "markdown",
      "source": [
        "출력결과 66\n",
        "- https://inha.codetree.ai/missions/5/problems/reading-k201820/description"
      ],
      "metadata": {
        "id": "r3F1CYgxlRIx"
      }
    },
    {
      "cell_type": "code",
      "source": [
        "def f(x, y, z):\n",
        "    if (x > y):\n",
        "        if (x > z):\n",
        "            return x\n",
        "        else:\n",
        "            return z\n",
        "    else:\n",
        "        if (y > z):\n",
        "            return y\n",
        "        else:\n",
        "            return z\n",
        "\n",
        "print(f(2, 3, 4), f(4, 3, 2), f(3, 2, 4))\n",
        "# 출력결과\n",
        "# 4 4 4"
      ],
      "metadata": {
        "id": "_Lk57F4YlVGh"
      },
      "execution_count": null,
      "outputs": []
    },
    {
      "cell_type": "markdown",
      "source": [
        "사칙연산 함수\n",
        "- https://inha.codetree.ai/missions/5/problems/quadratic-operations-function/description"
      ],
      "metadata": {
        "id": "AP4LjLM8lZDB"
      }
    },
    {
      "cell_type": "code",
      "source": [
        "a, o, c = input().split()\n",
        "a, c = int(a), int(c)\n",
        "\n",
        "def calculate(num1, o, num2):\n",
        "    if(o == '+'):\n",
        "        print(f'{num1} + {num2} = {num1 + num2}')\n",
        "    elif(o == '-'):\n",
        "        print(f'{num1} - {num2} = {num1 - num2}')\n",
        "    elif(o == '/'):\n",
        "        print(f'{num1} / {num2} = {num1 // num2}')\n",
        "    elif(o == '*'):\n",
        "        print(f'{num1} * {num2} = {num1 * num2}')\n",
        "    else:\n",
        "        print('False')\n",
        "\n",
        "calculate(a, o, c)"
      ],
      "metadata": {
        "id": "2JB9xN4Elbeo"
      },
      "execution_count": null,
      "outputs": []
    },
    {
      "cell_type": "markdown",
      "source": [
        "함수를 이용한 온전수 판별\n",
        "- https://inha.codetree.ai/missions/5/problems/determining-the-whole-number-using-a-function/description"
      ],
      "metadata": {
        "id": "45T6hMufRqbx"
      }
    },
    {
      "cell_type": "code",
      "source": [
        "a, b = map(int, input().split())\n",
        "\n",
        "def num(num1, num2):\n",
        "    cnt = 0\n",
        "    for i in range(num1, num2 + 1):\n",
        "        if(i % 2 != 0 and (i % 3 != 0 or i % 9 == 0)):\n",
        "            str_i = str(i)\n",
        "            if(str_i[-1] != '5'):\n",
        "                cnt += 1\n",
        "    return cnt\n",
        "\n",
        "print(num(a, b))"
      ],
      "metadata": {
        "id": "qJpAxvQDRuJH"
      },
      "execution_count": null,
      "outputs": []
    },
    {
      "cell_type": "markdown",
      "source": [
        "함수를 이용한 합과 소수 판별\n",
        "- https://inha.codetree.ai/missions/5/problems/use-functions-to-determine-sums-and-decimals/description"
      ],
      "metadata": {
        "id": "aFYPDDuJSdNP"
      }
    },
    {
      "cell_type": "code",
      "source": [
        "a, b = map(int, input().split())\n",
        "\n",
        "def func1(num1, num2):\n",
        "    cnt = 0\n",
        "    for i in range(num1, num2 + 1):\n",
        "        prime_check = 1\n",
        "        for j in range(2, i):\n",
        "            if(i % j == 0):\n",
        "                prime_check = 0\n",
        "                break\n",
        "        if(prime_check == 1):\n",
        "            str_i = str(i)\n",
        "            sum_val = 0\n",
        "            for j in range(len(str_i)):\n",
        "                sum_val += int(str_i[j])\n",
        "            if(sum_val % 2 == 0):\n",
        "                cnt += 1\n",
        "    return cnt\n",
        "\n",
        "print(func1(a, b))"
      ],
      "metadata": {
        "id": "9t16gO4ESfs3"
      },
      "execution_count": null,
      "outputs": []
    },
    {
      "cell_type": "markdown",
      "source": [
        "출력결과 67\n",
        "- https://inha.codetree.ai/missions/5/problems/reading-k201821/description"
      ],
      "metadata": {
        "id": "a6FfkOfNT4tX"
      }
    },
    {
      "cell_type": "code",
      "source": [
        "def f(n):\n",
        "    if (n < 2):\n",
        "        return 0\n",
        "    for d in range(n - 1, 1, -1):\n",
        "        if n % d == 0:\n",
        "            return 0\n",
        "    return 1\n",
        "\n",
        "print(f(1), f(11), f(21), f(31))\n",
        "\n",
        "# 출력결과\n",
        "# 0 1 0 1"
      ],
      "metadata": {
        "id": "_2zY3bTLT6FB"
      },
      "execution_count": null,
      "outputs": []
    },
    {
      "cell_type": "markdown",
      "source": [
        "함수를 이용한 연속부분수열 여부 판단하기\n",
        "- https://inha.codetree.ai/missions/5/problems/to-determine-whether-a-continuous-subsequence-is-made-using-a-function/description"
      ],
      "metadata": {
        "id": "9ex8RE_MdGgB"
      }
    },
    {
      "cell_type": "code",
      "source": [
        "# 예시 답안\n",
        "n1, n2 = map(int, input().split())\n",
        "\n",
        "a = list(map(int, input().split()))\n",
        "b = list(map(int, input().split()))\n",
        "\n",
        "\n",
        "# n번째 인덱스부터 시작하는 n2길이의 a수열과 b수열이 완전히 일치하는지 확인\n",
        "def is_same(n):\n",
        "    for i in range(n2):\n",
        "        if a[i + n] != b[i]:\n",
        "            return False\n",
        "\n",
        "    return True\n",
        "\n",
        "\n",
        "# b가 a의 연속부분수열인지 확인\n",
        "def is_subsequence():\n",
        "    for i in range(n1 - n2 + 1):\n",
        "        if is_same(i):\n",
        "            return True\n",
        "\n",
        "    return False\n",
        "\n",
        "\n",
        "if is_subsequence():\n",
        "    print(\"Yes\")\n",
        "else:\n",
        "    print(\"No\")"
      ],
      "metadata": {
        "id": "5l0UuwDgdGxj"
      },
      "execution_count": null,
      "outputs": []
    },
    {
      "cell_type": "markdown",
      "source": [
        "2021년 날짜의 유무\n",
        "- https://inha.codetree.ai/missions/5/problems/with-or-without-2021/description"
      ],
      "metadata": {
        "id": "YeHovuMsdJkm"
      }
    },
    {
      "cell_type": "code",
      "source": [
        "M, D = map(int, input().split())\n",
        "\n",
        "def day(Month, Day):\n",
        "    month_day_value = [0, 31, 28, 31, 30, 31, 30, 31, 31, 30, 31, 30, 31] # 인덱스를 맞추기 위한 0 추가\n",
        "    if(Month > 12):\n",
        "        return 0\n",
        "    else:\n",
        "        if(Day <= month_day_value[Month]):\n",
        "            return 1\n",
        "        else:\n",
        "            return 0\n",
        "\n",
        "if(day(M, D) == 1):\n",
        "    print('Yes')\n",
        "else:\n",
        "    print('No')"
      ],
      "metadata": {
        "id": "BziZOQIvdQgA"
      },
      "execution_count": null,
      "outputs": []
    },
    {
      "cell_type": "markdown",
      "source": [
        "그 계절, 그 날\n",
        "- https://inha.codetree.ai/missions/5/problems/that-season-that-day/description"
      ],
      "metadata": {
        "id": "zvMhsEDGgWRq"
      }
    },
    {
      "cell_type": "code",
      "source": [
        "Y, M, D = map(int, input().split())\n",
        "\n",
        "def day_season(Year, Month, Day):\n",
        "    month_day_value = [0, 31, 28, 31, 30, 31, 30, 31, 31, 30, 31, 30, 31] # 인덱스를 맞추기 위한 0 추가\n",
        "    month_season_value = [0, 'Winter', 'Winter', 'Spring', 'Spring', 'Spring', 'Summer', 'Summer', 'Summer', 'Fall', 'Fall', 'Fall', 'Winer'] # 인덱스를 맞추기 위한 0 추가\n",
        "    # 윤년인 경우((4의 배수 & 100의 배수가 아님) 또는 (4의 배수 & 100의 배수 & 400의 배수))\n",
        "    if((Year % 4 == 0 and Year % 100 != 0) or (Year % 4 == 0 and Year % 100 == 0 and Year % 400 == 0)):\n",
        "        month_day_value[2] = 29\n",
        "        if(Day > month_day_value[Month]): # 만약 Year해 Month월 Day일이 없다면\n",
        "            return -1 # -1 반환\n",
        "        else: # 만약 Year해 Month월 Day일이 있다면\n",
        "            return month_season_value[Month] # 계절 반환\n",
        "    # 윤년이 아닌 경우\n",
        "    else:\n",
        "        if(Day > month_day_value[Month]): # 만약 Year해 Month월 Day일이 없다면\n",
        "            return -1 # -1 반환\n",
        "        else: # 만약 Year해 Month월 Day일이 있다면\n",
        "            return month_season_value[Month] # 계절 반환\n",
        "\n",
        "print(day_season(Y, M, D))"
      ],
      "metadata": {
        "id": "XPyR09JNgZbz"
      },
      "execution_count": null,
      "outputs": []
    },
    {
      "cell_type": "markdown",
      "source": [
        "# Call by value / Call by reference"
      ],
      "metadata": {
        "id": "gA0rty0KGq9H"
      }
    },
    {
      "cell_type": "markdown",
      "source": [
        "두 정수 값 교환하기\n",
        "- https://inha.codetree.ai/missions/5/problems/to-exchange-two-integer-values/description"
      ],
      "metadata": {
        "id": "ucEUpf2LGs0E"
      }
    },
    {
      "cell_type": "code",
      "source": [
        "n, m = map(int, input().split())\n",
        "\n",
        "def swap(num1, num2):\n",
        "    temp = num1\n",
        "    num1 = num2\n",
        "    num2 = temp\n",
        "    return num1, num2\n",
        "\n",
        "n, m = swap(n, m)\n",
        "print(n, m)"
      ],
      "metadata": {
        "id": "h2VvOp7xGujV"
      },
      "execution_count": null,
      "outputs": []
    },
    {
      "cell_type": "markdown",
      "source": [
        "짝수만 2로 나누기\n",
        "- https://inha.codetree.ai/missions/5/problems/divide-even-numbers-by-2/description"
      ],
      "metadata": {
        "id": "YWw0yf0JH2DU"
      }
    },
    {
      "cell_type": "code",
      "source": [
        "N = int(input())\n",
        "\n",
        "def func(N):\n",
        "    num_input_list = list(map(int, input().split()))\n",
        "    num_output_list = []\n",
        "    for i in range(N):\n",
        "        if(num_input_list[i] % 2 == 0):\n",
        "            num_output_list.append(num_input_list[i] // 2)\n",
        "        else:\n",
        "            num_output_list.append(num_input_list[i])\n",
        "\n",
        "    for i in num_output_list:\n",
        "        print(i, end = ' ')\n",
        "\n",
        "func(N)"
      ],
      "metadata": {
        "id": "OhLuuKoTH6DH"
      },
      "execution_count": null,
      "outputs": []
    },
    {
      "cell_type": "markdown",
      "source": [
        "palindrome 여부 판단하기\n",
        "- https://inha.codetree.ai/missions/5/problems/determine-whether-palindrome-is-present/description"
      ],
      "metadata": {
        "id": "EJiR3VlnI7Ly"
      }
    },
    {
      "cell_type": "code",
      "source": [
        "A = input()\n",
        "\n",
        "def func(s):\n",
        "    check_num = 0\n",
        "    for i in range(len(s)):\n",
        "        if(s[i] != s[len(s) - 1 - i]):\n",
        "            break\n",
        "        else:\n",
        "            if(i == len(s) - 1):\n",
        "                check_num = 1\n",
        "    return check_num\n",
        "\n",
        "if(func(A) == 1):\n",
        "    print('Yes')\n",
        "else:\n",
        "    print('No')"
      ],
      "metadata": {
        "id": "HumwQvMFI9ra"
      },
      "execution_count": null,
      "outputs": []
    },
    {
      "cell_type": "markdown",
      "source": [
        "출력결과 75\n",
        "- https://inha.codetree.ai/missions/5/problems/reading-k201830/description"
      ],
      "metadata": {
        "id": "Vs4wxH9bJt3k"
      }
    },
    {
      "cell_type": "code",
      "source": [
        "def swap(a, b):\n",
        "    tmp = a\n",
        "    a = b; b = tmp\n",
        "    print('{}, {}, '.format(a, b), end='')\n",
        "\n",
        "a = 2;b = 3\n",
        "swap(a, b)\n",
        "print('{}, {}'.format(a, b))\n",
        "\n",
        "# 출력결과\n",
        "# 3, 2, 2, 3"
      ],
      "metadata": {
        "id": "aZPqBJBPJvTj"
      },
      "execution_count": null,
      "outputs": []
    },
    {
      "cell_type": "markdown",
      "source": [
        "두 정수에 대한 연산값\n",
        "- https://inha.codetree.ai/missions/5/problems/operational-values-for-two-integers/description"
      ],
      "metadata": {
        "id": "1mzg23PkJ61J"
      }
    },
    {
      "cell_type": "code",
      "source": [
        "a, b = map(int, input().split())\n",
        "\n",
        "def func(num1, num2):\n",
        "    max_val = max(num1, num2)\n",
        "    min_val = min(num1, num2)\n",
        "    if(num1 == max_val):\n",
        "        num1 += 25\n",
        "        num2 *= 2\n",
        "        return num1, num2\n",
        "    else:\n",
        "        num1 *= 2\n",
        "        num2 += 25\n",
        "        return num1, num2\n",
        "\n",
        "n1, n2 = func(a, b)\n",
        "print(n1, n2)"
      ],
      "metadata": {
        "id": "MKTxF6GSJ74f"
      },
      "execution_count": null,
      "outputs": []
    },
    {
      "cell_type": "markdown",
      "source": [
        "절댓값으로 변경\n",
        "- https://inha.codetree.ai/missions/5/problems/find-the-absolute-value/description"
      ],
      "metadata": {
        "id": "3W0GPU4eKgso"
      }
    },
    {
      "cell_type": "code",
      "source": [
        "N = int(input())\n",
        "num_list = list(map(int, input().split()))\n",
        "\n",
        "def abs_func(num_list):\n",
        "    for i in num_list:\n",
        "        print(abs(i), end = ' ')\n",
        "    print()\n",
        "\n",
        "abs_func(num_list)"
      ],
      "metadata": {
        "id": "jQME50nlLLCE"
      },
      "execution_count": null,
      "outputs": []
    },
    {
      "cell_type": "markdown",
      "source": [
        "출력결과 65\n",
        "- https://inha.codetree.ai/missions/5/problems/reading-k201819/description"
      ],
      "metadata": {
        "id": "Rnry7fgaLg5j"
      }
    },
    {
      "cell_type": "code",
      "source": [
        "def f(n, a):\n",
        "    t = 0\n",
        "    while (n > 0):\n",
        "        t = n % 10\n",
        "        a[t] = a[t] + 1\n",
        "        n //= 10\n",
        "\n",
        "a = [0, 1, 2, 0]\n",
        "f(1202, a)\n",
        "print(a[2])\n",
        "\n",
        "# 출력결과\n",
        "# 4"
      ],
      "metadata": {
        "id": "KGEV_zeILkRC"
      },
      "execution_count": null,
      "outputs": []
    },
    {
      "cell_type": "markdown",
      "source": [
        "2개 이상의 알파벳\n",
        "- https://inha.codetree.ai/missions/5/problems/more-than-one-alphabet/description"
      ],
      "metadata": {
        "id": "PxAo6o0tLpjJ"
      }
    },
    {
      "cell_type": "code",
      "source": [
        "A = input()\n",
        "\n",
        "def func(s):\n",
        "    s1 = s[0]\n",
        "    if(len(s) == 1):\n",
        "        return 0\n",
        "    else:\n",
        "        for i in range(1, len(s)):\n",
        "            if(s1 != s[i]):\n",
        "                return 1\n",
        "            else:\n",
        "                if(i == len(s) - 1):\n",
        "                    return 0\n",
        "\n",
        "if(func(A) == 1):\n",
        "    print('Yes')\n",
        "else:\n",
        "    print('No')"
      ],
      "metadata": {
        "id": "GhN9xKanLr2h"
      },
      "execution_count": null,
      "outputs": []
    },
    {
      "cell_type": "markdown",
      "source": [
        "두 정수에 대한 연산값 2\n",
        "- https://inha.codetree.ai/missions/5/problems/operational-values-for-two-integers-2/description"
      ],
      "metadata": {
        "id": "DrvySirVNOxD"
      }
    },
    {
      "cell_type": "code",
      "source": [
        "a, b = map(int, input().split())\n",
        "\n",
        "def func(num1, num2):\n",
        "    if(num1 == max(num1, num2)):\n",
        "        num1 *= 2\n",
        "        num2 += 10\n",
        "    else:\n",
        "        num1 += 10\n",
        "        num2 *= 2\n",
        "\n",
        "    return num1, num2\n",
        "\n",
        "num1, num2 = func(a, b)\n",
        "print(num1, num2)"
      ],
      "metadata": {
        "id": "eLDr-oBoNRax"
      },
      "execution_count": null,
      "outputs": []
    },
    {
      "cell_type": "markdown",
      "source": [
        "# 변수의 영역"
      ],
      "metadata": {
        "id": "a3nnuRf50R9a"
      }
    },
    {
      "cell_type": "markdown",
      "source": [
        "함수를 이용한 부분 문자열의 위치 구하기\n",
        "- https://inha.codetree.ai/missions/5/problems/find-the-location-of-a-substring-using-a-function/description"
      ],
      "metadata": {
        "id": "9tut0EUO0M3w"
      }
    },
    {
      "cell_type": "code",
      "source": [
        "input_s = input()\n",
        "purpose = input()\n",
        "\n",
        "def func(input_s, purpose):\n",
        "    idx = -1\n",
        "    seq = 0\n",
        "    for i in range(len(input_s)):\n",
        "        if(seq == 0 and input_s[i] == purpose[seq]): # 첫 문자열이 같은 경우\n",
        "            idx = i\n",
        "            seq += 1 # seq 1 증가\n",
        "            if(seq == len(purpose)): # 만약 seq 값과 입력 문자열이 같다면(즉, 목적 문자열이 존재하면)\n",
        "                break\n",
        "            if(i == len(input_s) - 1 and seq < len(purpose)): # 끝까지 비교했는데 목적 문자열이 존재하지 않으면\n",
        "                idx = -1\n",
        "        elif(input_s[i] == purpose[seq]): # 이후 문자열이 같은 경우\n",
        "            seq += 1 # seq 1 증가\n",
        "            if(seq == len(purpose)): # 만약 seq 값과 입력 문자열이 같다면(즉, 목적 문자열이 존재하면)\n",
        "                break\n",
        "            if(i == len(input_s) - 1 and seq < len(purpose)): # 끝까지 비교했는데 목적 문자열이 존재하지 않으면\n",
        "                idx = -1\n",
        "        else: # 문자열이 다른 경우\n",
        "            seq = 0\n",
        "            if(input_s[i] == purpose[seq]): # 첫 목적 문자가 해당 문자열과 같은 경우\n",
        "                idx = i # 인덱스 재설정\n",
        "                seq += 1\n",
        "            if(seq == len(purpose)): # 만약 인덱스 값과 입력 문자열이 같다면(즉, 목적 문자열 길이가 1이고 존재하면)\n",
        "                break\n",
        "            if(i == len(input_s) - 1 and seq < len(purpose)): # 끝까지 비교했는데 목적 문자열이 존재하지 않으면\n",
        "                idx = -1\n",
        "    return idx\n",
        "\n",
        "print(func(input_s, purpose))"
      ],
      "metadata": {
        "id": "WLtwSn-f0OYC"
      },
      "execution_count": null,
      "outputs": []
    },
    {
      "cell_type": "markdown",
      "source": [
        "출력결과 84\n",
        "- https://inha.codetree.ai/missions/5/problems/reading-84/description"
      ],
      "metadata": {
        "id": "L22nGa0k3rb6"
      }
    },
    {
      "cell_type": "code",
      "source": [
        "# 코드 1\n",
        "product = 1\n",
        "\n",
        "def f(n):\n",
        "    for i in range(1, n + 1):\n",
        "        product *= i\n",
        "\n",
        "f(5)\n",
        "\n",
        "print(product)\n",
        "\n",
        "# 코드 2\n",
        "arr = [1, 2, 3, 4, 5]\n",
        "\n",
        "def f(n):\n",
        "    product = 1\n",
        "    for i in range(n):\n",
        "        product *= arr[i]\n",
        "    return product\n",
        "\n",
        "print(f(5))\n",
        "\n",
        "\n",
        "# 출력결과\n",
        "# 코드 1은 에러 발생, 코드 2는 120"
      ],
      "metadata": {
        "id": "HLPVgNrL3uPy"
      },
      "execution_count": null,
      "outputs": []
    },
    {
      "cell_type": "markdown",
      "source": [
        "출력결과 85\n",
        "- https://inha.codetree.ai/missions/5/problems/reading-85/description"
      ],
      "metadata": {
        "id": "OFeKe7Ch38ga"
      }
    },
    {
      "cell_type": "code",
      "source": [
        "num = 5\n",
        "\n",
        "def g():\n",
        "    print(num, end=\" \")\n",
        "\n",
        "def f():\n",
        "    num = 9\n",
        "    while num < 8:\n",
        "        num += 1\n",
        "    print(num, end=\" \")\n",
        "    g()\n",
        "\n",
        "f()\n",
        "\n",
        "print(num, end=\" \")\n",
        "\n",
        "# 출력결과\n",
        "# 9 5 5"
      ],
      "metadata": {
        "id": "AbwWoU7-3_Gz"
      },
      "execution_count": null,
      "outputs": []
    },
    {
      "cell_type": "markdown",
      "source": [
        "나누고 빼면서 합하기\n",
        "- https://inha.codetree.ai/missions/5/problems/divide-and-subtract-and-add-up/description"
      ],
      "metadata": {
        "id": "U3Bxl7KA4F2C"
      }
    },
    {
      "cell_type": "code",
      "source": [
        "n, m = map(int, input().split())\n",
        "A = list(map(int, input().split()))\n",
        "\n",
        "def func(num, num_list):\n",
        "    sum_val = 0 # m번째 원소를 계속 더해 출력하는 값\n",
        "    idx_list = [] # m번째 원소를 저장하는 리스트\n",
        "    idx_list.append(num)\n",
        "    while(num != 1): # num이 1이 될 때까지 값을 구하기\n",
        "        if(num % 2 == 0): # 짝수면\n",
        "            num //= 2 # 나누기 2\n",
        "        else: # 홀수면\n",
        "            num -= 1 # 빼기 1\n",
        "        idx_list.append(num)\n",
        "    for i in range(len(idx_list)):\n",
        "        sum_val += num_list[idx_list[i] - 1] # sum_val에 더하기\n",
        "    return sum_val\n",
        "\n",
        "print(func(m, A))"
      ],
      "metadata": {
        "id": "IGEV98oa4H-5"
      },
      "execution_count": null,
      "outputs": []
    },
    {
      "cell_type": "markdown",
      "source": [
        "출력결과 87\n",
        "- https://inha.codetree.ai/missions/5/problems/reading-87/description"
      ],
      "metadata": {
        "id": "YgkaEovw6fih"
      }
    },
    {
      "cell_type": "code",
      "source": [
        "num = 5\n",
        "\n",
        "def g():\n",
        "    global num\n",
        "    print(num, end=\" \")\n",
        "    num += 9\n",
        "\n",
        "def f():\n",
        "    num = 7\n",
        "    print(num, end=\" \")\n",
        "    num += 2\n",
        "\n",
        "g()\n",
        "f()\n",
        "g()\n",
        "\n",
        "# 출력결과\n",
        "# 5 7 14"
      ],
      "metadata": {
        "id": "QKv3zC076iJr"
      },
      "execution_count": null,
      "outputs": []
    },
    {
      "cell_type": "markdown",
      "source": [
        "출력결과 86\n",
        "- https://inha.codetree.ai/missions/5/problems/reading-86/description"
      ],
      "metadata": {
        "id": "WburpqdX6ntC"
      }
    },
    {
      "cell_type": "code",
      "source": [
        "num = 5\n",
        "\n",
        "def g():\n",
        "    print(num, end=\" \")\n",
        "\n",
        "def f():\n",
        "    global num\n",
        "    num = 9\n",
        "    while num < 8:\n",
        "        num += 1\n",
        "    print(num, end=\" \")\n",
        "    g()\n",
        "\n",
        "f()\n",
        "\n",
        "print(num, end=\" \")\n",
        "\n",
        "# 출력결과\n",
        "# 9 9 9"
      ],
      "metadata": {
        "id": "rCVeBnle6psH"
      },
      "execution_count": null,
      "outputs": []
    },
    {
      "cell_type": "markdown",
      "source": [
        "특정 구간의 합\n",
        "- https://inha.codetree.ai/missions/5/problems/sum-of-specific-intervals/description"
      ],
      "metadata": {
        "id": "gx6ni7-G6xji"
      }
    },
    {
      "cell_type": "code",
      "source": [
        "n, m = map(int, input().split())\n",
        "num_list = list(map(int, input().split()))\n",
        "\n",
        "def func(m):\n",
        "    for i in range(m):\n",
        "        sum_val = 0\n",
        "        a1, a2 = map(int, input().split())\n",
        "        for j in range(a1 - 1, a2):\n",
        "            sum_val += num_list[j]\n",
        "        print(sum_val)\n",
        "\n",
        "func(m)"
      ],
      "metadata": {
        "id": "njiCjKE56ykV"
      },
      "execution_count": null,
      "outputs": []
    }
  ]
}